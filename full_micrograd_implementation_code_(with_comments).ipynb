{
  "nbformat": 4,
  "nbformat_minor": 0,
  "metadata": {
    "colab": {
      "provenance": []
    },
    "kernelspec": {
      "name": "python3",
      "display_name": "Python 3"
    },
    "language_info": {
      "name": "python"
    }
  },
  "cells": [
    {
      "cell_type": "code",
      "execution_count": 1,
      "metadata": {
        "id": "tIMJzEkWdeZD"
      },
      "outputs": [],
      "source": [
        "import math\n",
        "import numpy as np\n",
        "import matplotlib.pyplot as plt\n",
        "%matplotlib inline"
      ]
    },
    {
      "cell_type": "code",
      "source": [
        "#defining a basic function( parabolic function )\n",
        "def f(x):\n",
        "  return 3*x**2 - 4*x + 5"
      ],
      "metadata": {
        "id": "ta_YKgjIhr37"
      },
      "execution_count": 2,
      "outputs": []
    },
    {
      "cell_type": "code",
      "source": [
        "f(3.0)"
      ],
      "metadata": {
        "colab": {
          "base_uri": "https://localhost:8080/"
        },
        "id": "Q-GwskhsiDem",
        "outputId": "a0a15e95-acc1-4040-c456-60c2539cfe5a"
      },
      "execution_count": 3,
      "outputs": [
        {
          "output_type": "execute_result",
          "data": {
            "text/plain": [
              "20.0"
            ]
          },
          "metadata": {},
          "execution_count": 3
        }
      ]
    },
    {
      "cell_type": "code",
      "source": [
        "#defining an array\n",
        "xs = np.arange(-5,5,0.25)\n",
        "ys = f(xs)\n",
        "ys"
      ],
      "metadata": {
        "colab": {
          "base_uri": "https://localhost:8080/"
        },
        "id": "2NMFDY03iZ2_",
        "outputId": "5a3d8246-820d-4231-84e5-ecedddb814f6"
      },
      "execution_count": 4,
      "outputs": [
        {
          "output_type": "execute_result",
          "data": {
            "text/plain": [
              "array([100.    ,  91.6875,  83.75  ,  76.1875,  69.    ,  62.1875,\n",
              "        55.75  ,  49.6875,  44.    ,  38.6875,  33.75  ,  29.1875,\n",
              "        25.    ,  21.1875,  17.75  ,  14.6875,  12.    ,   9.6875,\n",
              "         7.75  ,   6.1875,   5.    ,   4.1875,   3.75  ,   3.6875,\n",
              "         4.    ,   4.6875,   5.75  ,   7.1875,   9.    ,  11.1875,\n",
              "        13.75  ,  16.6875,  20.    ,  23.6875,  27.75  ,  32.1875,\n",
              "        37.    ,  42.1875,  47.75  ,  53.6875])"
            ]
          },
          "metadata": {},
          "execution_count": 4
        }
      ]
    },
    {
      "cell_type": "code",
      "source": [
        "#plotting the basic function f\n",
        "plt.plot(xs,ys)"
      ],
      "metadata": {
        "colab": {
          "base_uri": "https://localhost:8080/",
          "height": 282
        },
        "id": "klpdSES5i0wz",
        "outputId": "6035e485-48fa-462d-9f3a-4edee1af2d3e"
      },
      "execution_count": 5,
      "outputs": [
        {
          "output_type": "execute_result",
          "data": {
            "text/plain": [
              "[<matplotlib.lines.Line2D at 0x7f5f300e3fa0>]"
            ]
          },
          "metadata": {},
          "execution_count": 5
        },
        {
          "output_type": "display_data",
          "data": {
            "text/plain": [
              "<Figure size 432x288 with 1 Axes>"
            ],
            "image/png": "[encoded data removed]"
          },
          "metadata": {
            "needs_background": "light"
          }
        }
      ]
    },
    {
      "cell_type": "markdown",
      "source": [
        "Visualizing derivative which basically with intuition means by what value and whether positive and negative the value of y will change when x is just very slightly bumped. This is basically dericative of x and the value of y will change according to slope of the graph of the function."
      ],
      "metadata": {
        "id": "HlSGO3j2kKuq"
      }
    },
    {
      "cell_type": "code",
      "source": [
        "x = 3.0\n",
        "f(x)"
      ],
      "metadata": {
        "colab": {
          "base_uri": "https://localhost:8080/"
        },
        "id": "0hgtjRYujbzv",
        "outputId": "507c9569-e68f-4c0f-85a2-bb432bf442a7"
      },
      "execution_count": 6,
      "outputs": [
        {
          "output_type": "execute_result",
          "data": {
            "text/plain": [
              "20.0"
            ]
          },
          "metadata": {},
          "execution_count": 6
        }
      ]
    },
    {
      "cell_type": "code",
      "source": [
        "h = 0.001\n",
        "x = 3.0\n",
        "f(x + h)"
      ],
      "metadata": {
        "colab": {
          "base_uri": "https://localhost:8080/"
        },
        "id": "xDuiNJ0Jk9o3",
        "outputId": "74e76a7c-0ebc-4a2d-cb2c-770d0c1f2ee4"
      },
      "execution_count": 7,
      "outputs": [
        {
          "output_type": "execute_result",
          "data": {
            "text/plain": [
              "20.014003000000002"
            ]
          },
          "metadata": {},
          "execution_count": 7
        }
      ]
    },
    {
      "cell_type": "code",
      "source": [
        "(f(x + h) - f(x))/h"
      ],
      "metadata": {
        "colab": {
          "base_uri": "https://localhost:8080/"
        },
        "id": "n0SsQPdVlDfo",
        "outputId": "3d0f08b7-7e75-42a9-89c7-eaaa3c8f246b"
      },
      "execution_count": 8,
      "outputs": [
        {
          "output_type": "execute_result",
          "data": {
            "text/plain": [
              "14.00300000000243"
            ]
          },
          "metadata": {},
          "execution_count": 8
        }
      ]
    },
    {
      "cell_type": "code",
      "source": [
        "#at -3.0 the change or the slope will be negative\n",
        "h = 0.0001\n",
        "x = -3.0\n",
        "(f(x + h) - f(x))/h"
      ],
      "metadata": {
        "colab": {
          "base_uri": "https://localhost:8080/"
        },
        "id": "91QauRdClPaF",
        "outputId": "9c481a72-e54d-4939-d746-7efdbe33b9df"
      },
      "execution_count": 9,
      "outputs": [
        {
          "output_type": "execute_result",
          "data": {
            "text/plain": [
              "-21.999700000066014"
            ]
          },
          "metadata": {},
          "execution_count": 9
        }
      ]
    },
    {
      "cell_type": "code",
      "source": [
        "#when slope is zero at x = 2/3 even a slight bump will x , value of y remains constant\n",
        "h = 0.0001\n",
        "x = 2/3\n",
        "(f(x+h) - f(x))/h"
      ],
      "metadata": {
        "colab": {
          "base_uri": "https://localhost:8080/"
        },
        "id": "GiKxM1OLltga",
        "outputId": "826fb309-5897-4406-d3cc-4044b6f0b9fd"
      },
      "execution_count": 10,
      "outputs": [
        {
          "output_type": "execute_result",
          "data": {
            "text/plain": [
              "0.0002999999981767587"
            ]
          },
          "metadata": {},
          "execution_count": 10
        }
      ]
    },
    {
      "cell_type": "code",
      "source": [
        "#getting more complex example\n",
        "a = 2.0\n",
        "b = -3.0\n",
        "c = 10.0\n",
        "d = a*b + c\n",
        "print(d)"
      ],
      "metadata": {
        "colab": {
          "base_uri": "https://localhost:8080/"
        },
        "id": "c37gZKPqmPAx",
        "outputId": "569288eb-1459-4769-86a9-ce627480949d"
      },
      "execution_count": 11,
      "outputs": [
        {
          "output_type": "stream",
          "name": "stdout",
          "text": [
            "4.0\n"
          ]
        }
      ]
    },
    {
      "cell_type": "code",
      "source": [
        "h = 0.0001\n",
        "\n",
        "#inputs or the point \n",
        "a = 2.0\n",
        "b = -3.0\n",
        "c = 10.0\n",
        "\n",
        "d1 = a*b + c\n",
        "a += h\n",
        "d2 = a*b + c\n",
        "print('d1' , d1)\n",
        "print('d2' , d2)\n",
        "print('slope', (d2 - d1) / h)\n"
      ],
      "metadata": {
        "colab": {
          "base_uri": "https://localhost:8080/"
        },
        "id": "apOyvhxNm69a",
        "outputId": "96056b21-8901-491e-bf45-e30221eb8f4b"
      },
      "execution_count": 12,
      "outputs": [
        {
          "output_type": "stream",
          "name": "stdout",
          "text": [
            "d1 4.0\n",
            "d2 3.999699999999999\n",
            "slope -3.000000000010772\n"
          ]
        }
      ]
    },
    {
      "cell_type": "code",
      "source": [
        "h = 0.0001\n",
        "\n",
        "#inputs or the point \n",
        "a = 2.0\n",
        "b = -3.0\n",
        "c = 10.0\n",
        "\n",
        "d1 = a*b + c\n",
        "b += h\n",
        "d2 = a*b + c\n",
        "print('d1' , d1)\n",
        "print('d2' , d2)\n",
        "print('slope', (d2 - d1) / h)\n",
        "\n",
        "#differentiating wrt b will give exactly a so 2"
      ],
      "metadata": {
        "colab": {
          "base_uri": "https://localhost:8080/"
        },
        "id": "QYlINzeWomeC",
        "outputId": "199fba19-097d-4588-aa8f-6b7976eacc2d"
      },
      "execution_count": 13,
      "outputs": [
        {
          "output_type": "stream",
          "name": "stdout",
          "text": [
            "d1 4.0\n",
            "d2 4.0002\n",
            "slope 2.0000000000042206\n"
          ]
        }
      ]
    },
    {
      "cell_type": "code",
      "source": [
        "h = 0.0001\n",
        "\n",
        "#inputs or the point \n",
        "a = 2.0\n",
        "b = -3.0\n",
        "c = 10.0\n",
        "\n",
        "d1 = a*b + c\n",
        "b += h\n",
        "d2 = a*b + c\n",
        "print('d1' , d1)\n",
        "print('d2' , d2)\n",
        "print('slope', (d2 - d1) / h)\n",
        "\n",
        "#differentiating wrt b will give exactly c so how many change of c will be exactly the change therefore wrt c slope will be 1"
      ],
      "metadata": {
        "colab": {
          "base_uri": "https://localhost:8080/"
        },
        "id": "BoF30nVMpo50",
        "outputId": "5e4d6047-59c0-414f-f3cb-8396f7d668bc"
      },
      "execution_count": 14,
      "outputs": [
        {
          "output_type": "stream",
          "name": "stdout",
          "text": [
            "d1 4.0\n",
            "d2 4.0002\n",
            "slope 2.0000000000042206\n"
          ]
        }
      ]
    },
    {
      "cell_type": "code",
      "source": [
        "class Value:\n",
        "  def __init__(self,data , _children = () , _op = \"\" , label = ''):\n",
        "    self.data = data\n",
        "    self._prev = set(_children)\n",
        "    self.grad = 0.0\n",
        "    self._backward = lambda : None\n",
        "    self._op = _op\n",
        "    self.label = label\n",
        "  \n",
        "  def __repr__(self):\n",
        "    return f\"Value( data = {self.data})\"\n",
        "  \n",
        "  def __add__(self , other):\n",
        "    other = other if isinstance(other, Value) else Value(other) # to make a + 2 work\n",
        "    out =  Value((self.data + other.data) , (self , other) , '+')\n",
        "    def _backward():\n",
        "      self.grad += 1.0 * out.grad\n",
        "      other.grad += 1.0 * out.grad\n",
        "    out._backward = _backward\n",
        "    return out\n",
        "  \n",
        "  def __neg__(self):\n",
        "    return self * -1\n",
        "    \n",
        "  def __sub__(self ,other):\n",
        "    return self + (-other)\n",
        "  \n",
        "  def __mul__(self, other):\n",
        "    other = other if isinstance(other, Value) else Value(other)\n",
        "    out =  Value((self.data * other.data) , (self , other) , '*')\n",
        "    def _backward():\n",
        "      self.grad += other.data * out.grad #local derivative * the out.grad(global derivative with respect to the output(or the loss fn))\n",
        "      other.grad += self.data * out.grad # same - local derivative * the global derivative \n",
        "    out._backward = _backward\n",
        "    return out\n",
        "\n",
        "  def __rmul__(self , other):\n",
        "    return self * other\n",
        "  \n",
        "  def __pow__(self,other):\n",
        "    assert isinstance(other , (int , float))\n",
        "    out = Value(self.data**other , (self,) , f'**{other}')\n",
        "\n",
        "    def _backward():\n",
        "      self.grad += other * (self.data ** (other - 1)) * out.grad\n",
        "    out._backward = _backward\n",
        "    return out\n",
        "\n",
        "  def __truediv__(self,other):\n",
        "    return self * (other**-1)\n",
        "  \n",
        "  def tanh(self):\n",
        "    t = x = self.data\n",
        "    t = (math.exp(2*x) - 1)/(math.exp(2*x) + 1)\n",
        "    out = Value(t , (self, ) , 'tanh')#only one children\n",
        "    def _backward():\n",
        "      self.grad += (1-t**2) * out.grad\n",
        "    out._backward = _backward\n",
        "    return out\n",
        "  \n",
        "  def exp(self):\n",
        "    x = self.data\n",
        "    out = Value(math.exp(x) , (self,) , 'exp')\n",
        "    \n",
        "    def _backward():\n",
        "      self.grad += out.data * out.grad\n",
        "    out._backward = _backward \n",
        "    return out\n",
        "\n",
        "  def backward(self):\n",
        "    \n",
        "    topo = []\n",
        "    visited = set()\n",
        "    def build_topo(v):\n",
        "      if v not in visited:\n",
        "        visited.add(v)\n",
        "        for child in v._prev:\n",
        "          build_topo(child)\n",
        "        topo.append(v)\n",
        "    build_topo(self)\n",
        "    \n",
        "    self.grad = 1.0\n",
        "    for node in reversed(topo):\n",
        "      node._backward()"
      ],
      "metadata": {
        "id": "0uNCcDRHp9ab"
      },
      "execution_count": 15,
      "outputs": []
    },
    {
      "cell_type": "code",
      "source": [
        "a = Value(3.0)\n",
        "b = Value(2.0)\n",
        "a/b # doesn't work right now\n",
        "#a/b = a * (1/b) = a * (b**-1)\n",
        "a - b"
      ],
      "metadata": {
        "colab": {
          "base_uri": "https://localhost:8080/"
        },
        "id": "WdgrNnNOCged",
        "outputId": "ad0ae51f-751d-4a83-84dd-4e61febfa1a4"
      },
      "execution_count": 16,
      "outputs": [
        {
          "output_type": "execute_result",
          "data": {
            "text/plain": [
              "Value( data = 1.0)"
            ]
          },
          "metadata": {},
          "execution_count": 16
        }
      ]
    },
    {
      "cell_type": "code",
      "source": [
        "a = Value(2.0)\n",
        "2 * a"
      ],
      "metadata": {
        "colab": {
          "base_uri": "https://localhost:8080/"
        },
        "id": "UWkCJGsFZ5EB",
        "outputId": "b6bac719-9fab-4cec-d879-bc610ea4c4f7"
      },
      "execution_count": 17,
      "outputs": [
        {
          "output_type": "execute_result",
          "data": {
            "text/plain": [
              "Value( data = 4.0)"
            ]
          },
          "metadata": {},
          "execution_count": 17
        }
      ]
    },
    {
      "cell_type": "code",
      "source": [
        "a = Value(2.0 , label = 'a')\n",
        "b = Value(-3.0, label = ' b')\n",
        "c = Value(10.0, label = ' c')\n",
        "e = a*b ; e.label = 'e'\n",
        "d = e + c ; d.label = 'd'\n",
        "f = Value(-2.0 , label = 'f')\n",
        "L = f * d ; L.label = 'L'"
      ],
      "metadata": {
        "id": "Wg-NamJhr8bI"
      },
      "execution_count": 18,
      "outputs": []
    },
    {
      "cell_type": "code",
      "source": [
        "L"
      ],
      "metadata": {
        "colab": {
          "base_uri": "https://localhost:8080/"
        },
        "id": "h3leh-vbsBFP",
        "outputId": "6f246d27-33e9-4028-98e2-bbed1c655634"
      },
      "execution_count": 19,
      "outputs": [
        {
          "output_type": "execute_result",
          "data": {
            "text/plain": [
              "Value( data = -8.0)"
            ]
          },
          "metadata": {},
          "execution_count": 19
        }
      ]
    },
    {
      "cell_type": "code",
      "source": [
        "L.label ,L._prev"
      ],
      "metadata": {
        "colab": {
          "base_uri": "https://localhost:8080/"
        },
        "id": "75bmzh6Buy0t",
        "outputId": "45f7cf18-a40a-44b9-ff92-39ee3e6bd499"
      },
      "execution_count": 20,
      "outputs": [
        {
          "output_type": "execute_result",
          "data": {
            "text/plain": [
              "('L', {Value( data = -2.0), Value( data = 4.0)})"
            ]
          },
          "metadata": {},
          "execution_count": 20
        }
      ]
    },
    {
      "cell_type": "code",
      "source": [
        "from graphviz import Digraph\n",
        "\n",
        "def trace(root):\n",
        "  # builds a set of all nodes and edges in a graph\n",
        "  nodes, edges = set(), set()\n",
        "  def build(v):\n",
        "    if v not in nodes:\n",
        "      nodes.add(v)\n",
        "      for child in v._prev:\n",
        "        edges.add((child, v))\n",
        "        build(child)\n",
        "  build(root)\n",
        "  return nodes, edges\n",
        "\n",
        "def draw_dot(root):\n",
        "  dot = Digraph(format='svg', graph_attr={'rankdir': 'LR'}) # LR = left to right\n",
        "  \n",
        "  nodes, edges = trace(root)\n",
        "  for n in nodes:\n",
        "    uid = str(id(n))\n",
        "    # for any value in the graph, create a rectangular ('record') node for it\n",
        "    dot.node(name = uid, label = \"{ %s | data %.4f | grad %.4f }\" % (n.label, n.data, n.grad), shape='record')\n",
        "    if n._op:\n",
        "      # if this value is a result of some operation, create an op node for it\n",
        "      dot.node(name = uid + n._op, label = n._op)\n",
        "      # and connect this node to it\n",
        "      dot.edge(uid + n._op, uid)\n",
        "\n",
        "  for n1, n2 in edges:\n",
        "    # connect n1 to the op node of n2\n",
        "    dot.edge(str(id(n1)), str(id(n2)) + n2._op)\n",
        "\n",
        "  return dot"
      ],
      "metadata": {
        "id": "JNqfM62xv5T9"
      },
      "execution_count": 21,
      "outputs": []
    },
    {
      "cell_type": "code",
      "source": [
        "draw_dot(L)"
      ],
      "metadata": {
        "colab": {
          "base_uri": "https://localhost:8080/",
          "height": 249
        },
        "id": "ToO60-_YxdAs",
        "outputId": "03c2910f-0852-4aac-f6d8-6455031fb8cd"
      },
      "execution_count": 22,
      "outputs": [
        {
          "output_type": "execute_result",
          "data": {
            "text/plain": [
              "<graphviz.dot.Digraph at 0x7f5f21fab580>"
            ],
            "image/svg+xml": "<?xml version=\"1.0\" encoding=\"UTF-8\" standalone=\"no\"?>\n<!DOCTYPE svg PUBLIC \"-//W3C//DTD SVG 1.1//EN\"\n \"http://www.w3.org/Graphics/SVG/1.1/DTD/svg11.dtd\">\n<!-- Generated by graphviz version 2.43.0 (0)\n -->\n<!-- Title: %3 Pages: 1 -->\n<svg width=\"1148pt\" height=\"156pt\"\n viewBox=\"0.00 0.00 1148.00 156.00\" xmlns=\"http://www.w3.org/2000/svg\" xmlns:xlink=\"http://www.w3.org/1999/xlink\">\n<g id=\"graph0\" class=\"graph\" transform=\"scale(1 1) rotate(0) translate(4 152)\">\n<title>%3</title>\n<polygon fill=\"white\" stroke=\"transparent\" points=\"-4,4 -4,-152 1144,-152 1144,4 -4,4\"/>\n<!-- 140046568594544 -->\n<g id=\"node1\" class=\"node\">\n<title>140046568594544</title>\n<polygon fill=\"none\" stroke=\"black\" points=\"0,-111.5 0,-147.5 190,-147.5 190,-111.5 0,-111.5\"/>\n<text text-anchor=\"middle\" x=\"11.5\" y=\"-125.8\" font-family=\"Times,serif\" font-size=\"14.00\">b</text>\n<polyline fill=\"none\" stroke=\"black\" points=\"23,-111.5 23,-147.5 \"/>\n<text text-anchor=\"middle\" x=\"65.5\" y=\"-125.8\" font-family=\"Times,serif\" font-size=\"14.00\">data &#45;3.0000</text>\n<polyline fill=\"none\" stroke=\"black\" points=\"108,-111.5 108,-147.5 \"/>\n<text text-anchor=\"middle\" x=\"149\" y=\"-125.8\" font-family=\"Times,serif\" font-size=\"14.00\">grad 0.0000</text>\n</g>\n<!-- 140046568594880* -->\n<g id=\"node10\" class=\"node\">\n<title>140046568594880*</title>\n<ellipse fill=\"none\" stroke=\"black\" cx=\"253\" cy=\"-101.5\" rx=\"27\" ry=\"18\"/>\n<text text-anchor=\"middle\" x=\"253\" y=\"-97.8\" font-family=\"Times,serif\" font-size=\"14.00\">*</text>\n</g>\n<!-- 140046568594544&#45;&gt;140046568594880* -->\n<g id=\"edge9\" class=\"edge\">\n<title>140046568594544&#45;&gt;140046568594880*</title>\n<path fill=\"none\" stroke=\"black\" d=\"M190.34,-112.57C199.62,-110.9 208.58,-109.29 216.66,-107.84\"/>\n<polygon fill=\"black\" stroke=\"black\" points=\"217.49,-111.25 226.72,-106.04 216.26,-104.36 217.49,-111.25\"/>\n</g>\n<!-- 140046568595120 -->\n<g id=\"node2\" class=\"node\">\n<title>140046568595120</title>\n<polygon fill=\"none\" stroke=\"black\" points=\"635.5,-55.5 635.5,-91.5 820.5,-91.5 820.5,-55.5 635.5,-55.5\"/>\n<text text-anchor=\"middle\" x=\"647\" y=\"-69.8\" font-family=\"Times,serif\" font-size=\"14.00\">d</text>\n<polyline fill=\"none\" stroke=\"black\" points=\"658.5,-55.5 658.5,-91.5 \"/>\n<text text-anchor=\"middle\" x=\"698.5\" y=\"-69.8\" font-family=\"Times,serif\" font-size=\"14.00\">data 4.0000</text>\n<polyline fill=\"none\" stroke=\"black\" points=\"738.5,-55.5 738.5,-91.5 \"/>\n<text text-anchor=\"middle\" x=\"779.5\" y=\"-69.8\" font-family=\"Times,serif\" font-size=\"14.00\">grad 0.0000</text>\n</g>\n<!-- 140046568895200* -->\n<g id=\"node6\" class=\"node\">\n<title>140046568895200*</title>\n<ellipse fill=\"none\" stroke=\"black\" cx=\"885\" cy=\"-45.5\" rx=\"27\" ry=\"18\"/>\n<text text-anchor=\"middle\" x=\"885\" y=\"-41.8\" font-family=\"Times,serif\" font-size=\"14.00\">*</text>\n</g>\n<!-- 140046568595120&#45;&gt;140046568895200* -->\n<g id=\"edge8\" class=\"edge\">\n<title>140046568595120&#45;&gt;140046568895200*</title>\n<path fill=\"none\" stroke=\"black\" d=\"M820.51,-56.97C830.48,-55.17 840.13,-53.42 848.77,-51.86\"/>\n<polygon fill=\"black\" stroke=\"black\" points=\"849.55,-55.28 858.77,-50.06 848.3,-48.39 849.55,-55.28\"/>\n</g>\n<!-- 140046568595120+ -->\n<g id=\"node3\" class=\"node\">\n<title>140046568595120+</title>\n<ellipse fill=\"none\" stroke=\"black\" cx=\"571\" cy=\"-73.5\" rx=\"27\" ry=\"18\"/>\n<text text-anchor=\"middle\" x=\"571\" y=\"-69.8\" font-family=\"Times,serif\" font-size=\"14.00\">+</text>\n</g>\n<!-- 140046568595120+&#45;&gt;140046568595120 -->\n<g id=\"edge1\" class=\"edge\">\n<title>140046568595120+&#45;&gt;140046568595120</title>\n<path fill=\"none\" stroke=\"black\" d=\"M598.29,-73.5C606.26,-73.5 615.54,-73.5 625.39,-73.5\"/>\n<polygon fill=\"black\" stroke=\"black\" points=\"625.41,-77 635.41,-73.5 625.41,-70 625.41,-77\"/>\n</g>\n<!-- 140046568594640 -->\n<g id=\"node4\" class=\"node\">\n<title>140046568594640</title>\n<polygon fill=\"none\" stroke=\"black\" points=\"2.5,-56.5 2.5,-92.5 187.5,-92.5 187.5,-56.5 2.5,-56.5\"/>\n<text text-anchor=\"middle\" x=\"14\" y=\"-70.8\" font-family=\"Times,serif\" font-size=\"14.00\">a</text>\n<polyline fill=\"none\" stroke=\"black\" points=\"25.5,-56.5 25.5,-92.5 \"/>\n<text text-anchor=\"middle\" x=\"65.5\" y=\"-70.8\" font-family=\"Times,serif\" font-size=\"14.00\">data 2.0000</text>\n<polyline fill=\"none\" stroke=\"black\" points=\"105.5,-56.5 105.5,-92.5 \"/>\n<text text-anchor=\"middle\" x=\"146.5\" y=\"-70.8\" font-family=\"Times,serif\" font-size=\"14.00\">grad 0.0000</text>\n</g>\n<!-- 140046568594640&#45;&gt;140046568594880* -->\n<g id=\"edge7\" class=\"edge\">\n<title>140046568594640&#45;&gt;140046568594880*</title>\n<path fill=\"none\" stroke=\"black\" d=\"M187.65,-90.36C197.94,-92.14 207.91,-93.87 216.81,-95.41\"/>\n<polygon fill=\"black\" stroke=\"black\" points=\"216.26,-98.87 226.71,-97.12 217.45,-91.97 216.26,-98.87\"/>\n</g>\n<!-- 140046568895200 -->\n<g id=\"node5\" class=\"node\">\n<title>140046568895200</title>\n<polygon fill=\"none\" stroke=\"black\" points=\"948,-27.5 948,-63.5 1140,-63.5 1140,-27.5 948,-27.5\"/>\n<text text-anchor=\"middle\" x=\"960.5\" y=\"-41.8\" font-family=\"Times,serif\" font-size=\"14.00\">L</text>\n<polyline fill=\"none\" stroke=\"black\" points=\"973,-27.5 973,-63.5 \"/>\n<text text-anchor=\"middle\" x=\"1015.5\" y=\"-41.8\" font-family=\"Times,serif\" font-size=\"14.00\">data &#45;8.0000</text>\n<polyline fill=\"none\" stroke=\"black\" points=\"1058,-27.5 1058,-63.5 \"/>\n<text text-anchor=\"middle\" x=\"1099\" y=\"-41.8\" font-family=\"Times,serif\" font-size=\"14.00\">grad 0.0000</text>\n</g>\n<!-- 140046568895200*&#45;&gt;140046568895200 -->\n<g id=\"edge2\" class=\"edge\">\n<title>140046568895200*&#45;&gt;140046568895200</title>\n<path fill=\"none\" stroke=\"black\" d=\"M912.28,-45.5C919.78,-45.5 928.44,-45.5 937.67,-45.5\"/>\n<polygon fill=\"black\" stroke=\"black\" points=\"937.87,-49 947.87,-45.5 937.87,-42 937.87,-49\"/>\n</g>\n<!-- 140046568594688 -->\n<g id=\"node7\" class=\"node\">\n<title>140046568594688</title>\n<polygon fill=\"none\" stroke=\"black\" points=\"316,-28.5 316,-64.5 508,-64.5 508,-28.5 316,-28.5\"/>\n<text text-anchor=\"middle\" x=\"327.5\" y=\"-42.8\" font-family=\"Times,serif\" font-size=\"14.00\">c</text>\n<polyline fill=\"none\" stroke=\"black\" points=\"339,-28.5 339,-64.5 \"/>\n<text text-anchor=\"middle\" x=\"382.5\" y=\"-42.8\" font-family=\"Times,serif\" font-size=\"14.00\">data 10.0000</text>\n<polyline fill=\"none\" stroke=\"black\" points=\"426,-28.5 426,-64.5 \"/>\n<text text-anchor=\"middle\" x=\"467\" y=\"-42.8\" font-family=\"Times,serif\" font-size=\"14.00\">grad 0.0000</text>\n</g>\n<!-- 140046568594688&#45;&gt;140046568595120+ -->\n<g id=\"edge4\" class=\"edge\">\n<title>140046568594688&#45;&gt;140046568595120+</title>\n<path fill=\"none\" stroke=\"black\" d=\"M508.4,-62.91C517.69,-64.5 526.64,-66.04 534.71,-67.43\"/>\n<polygon fill=\"black\" stroke=\"black\" points=\"534.32,-70.91 544.76,-69.16 535.5,-64.02 534.32,-70.91\"/>\n</g>\n<!-- 140046568593728 -->\n<g id=\"node8\" class=\"node\">\n<title>140046568593728</title>\n<polygon fill=\"none\" stroke=\"black\" points=\"634,-0.5 634,-36.5 822,-36.5 822,-0.5 634,-0.5\"/>\n<text text-anchor=\"middle\" x=\"644.5\" y=\"-14.8\" font-family=\"Times,serif\" font-size=\"14.00\">f</text>\n<polyline fill=\"none\" stroke=\"black\" points=\"655,-0.5 655,-36.5 \"/>\n<text text-anchor=\"middle\" x=\"697.5\" y=\"-14.8\" font-family=\"Times,serif\" font-size=\"14.00\">data &#45;2.0000</text>\n<polyline fill=\"none\" stroke=\"black\" points=\"740,-0.5 740,-36.5 \"/>\n<text text-anchor=\"middle\" x=\"781\" y=\"-14.8\" font-family=\"Times,serif\" font-size=\"14.00\">grad 0.0000</text>\n</g>\n<!-- 140046568593728&#45;&gt;140046568895200* -->\n<g id=\"edge6\" class=\"edge\">\n<title>140046568593728&#45;&gt;140046568895200*</title>\n<path fill=\"none\" stroke=\"black\" d=\"M822.29,-34.75C831.57,-36.37 840.52,-37.93 848.61,-39.33\"/>\n<polygon fill=\"black\" stroke=\"black\" points=\"848.22,-42.82 858.68,-41.09 849.42,-35.92 848.22,-42.82\"/>\n</g>\n<!-- 140046568594880 -->\n<g id=\"node9\" class=\"node\">\n<title>140046568594880</title>\n<polygon fill=\"none\" stroke=\"black\" points=\"317,-83.5 317,-119.5 507,-119.5 507,-83.5 317,-83.5\"/>\n<text text-anchor=\"middle\" x=\"328.5\" y=\"-97.8\" font-family=\"Times,serif\" font-size=\"14.00\">e</text>\n<polyline fill=\"none\" stroke=\"black\" points=\"340,-83.5 340,-119.5 \"/>\n<text text-anchor=\"middle\" x=\"382.5\" y=\"-97.8\" font-family=\"Times,serif\" font-size=\"14.00\">data &#45;6.0000</text>\n<polyline fill=\"none\" stroke=\"black\" points=\"425,-83.5 425,-119.5 \"/>\n<text text-anchor=\"middle\" x=\"466\" y=\"-97.8\" font-family=\"Times,serif\" font-size=\"14.00\">grad 0.0000</text>\n</g>\n<!-- 140046568594880&#45;&gt;140046568595120+ -->\n<g id=\"edge5\" class=\"edge\">\n<title>140046568594880&#45;&gt;140046568595120+</title>\n<path fill=\"none\" stroke=\"black\" d=\"M507.05,-84.73C516.89,-82.97 526.39,-81.28 534.9,-79.76\"/>\n<polygon fill=\"black\" stroke=\"black\" points=\"535.52,-83.2 544.75,-78 534.29,-76.31 535.52,-83.2\"/>\n</g>\n<!-- 140046568594880*&#45;&gt;140046568594880 -->\n<g id=\"edge3\" class=\"edge\">\n<title>140046568594880*&#45;&gt;140046568594880</title>\n<path fill=\"none\" stroke=\"black\" d=\"M280.28,-101.5C288.05,-101.5 297.08,-101.5 306.68,-101.5\"/>\n<polygon fill=\"black\" stroke=\"black\" points=\"306.88,-105 316.88,-101.5 306.88,-98 306.88,-105\"/>\n</g>\n</g>\n</svg>\n"
          },
          "metadata": {},
          "execution_count": 22
        }
      ]
    },
    {
      "cell_type": "code",
      "source": [
        "\"\"\" performing one single step of computation\n",
        "    requires nudging the leaf nodes in the direction of their\n",
        "    gradients.\n",
        "    We only use the leaf nodes and nudge them only because they\n",
        "    are the only ones we have control over.In this case the \n",
        "    leaf nodes are as follows - a,b,c,f,\n",
        "    What will hapenn is that in the next forward computation\n",
        "    using these nudged values , computing the final answer of L will\n",
        "    result in the UPWARD MOVING OF THE NEGATIVE VALUE OF L.\n",
        "    This means that Loss of the loss function will decrease. \"\"\"\n",
        "\n",
        "#nudging\n",
        "a.data += 0.01 * a.grad\n",
        "b.data += 0.01 * b.grad\n",
        "c.data += 0.01 * c.grad\n",
        "f.data += 0.01 * f.grad\n",
        "\n",
        "#forward computation\n",
        "e = a * b\n",
        "d = e + c\n",
        "L = d * f\n",
        "print(L.data) #reduced loss"
      ],
      "metadata": {
        "colab": {
          "base_uri": "https://localhost:8080/"
        },
        "id": "KGsZxFbKC1u8",
        "outputId": "2d35fde0-8a9a-4e47-980b-5ed1cfc6deab"
      },
      "execution_count": 23,
      "outputs": [
        {
          "output_type": "stream",
          "name": "stdout",
          "text": [
            "-8.0\n"
          ]
        }
      ]
    },
    {
      "cell_type": "code",
      "source": [
        "b.grad = 2.0 * -2.0"
      ],
      "metadata": {
        "id": "ZiRRnf9w_oXL"
      },
      "execution_count": 24,
      "outputs": []
    },
    {
      "cell_type": "code",
      "source": [
        "# dL/de = dL/dd * dd/de = d.grad\n",
        "# d = e + c\n",
        "# dd/de = 1.0\n",
        "#local gradient in a massive graph will be will be just c and e computation gives d\n",
        "#therefore they will be knowing there effects ( dd/ dc) and (dd/ de) on d"
      ],
      "metadata": {
        "id": "6pBusu-27YES"
      },
      "execution_count": 25,
      "outputs": []
    },
    {
      "cell_type": "code",
      "source": [
        "def lol():\n",
        "  h = 0.0001\n",
        "  a = Value(2.0 , label = 'a')\n",
        "  b = Value(-3.0, label = ' b')\n",
        "  c = Value(10.0, label = ' c')\n",
        "  e = a*b ; e.label = 'e'\n",
        "  d = e + c ; d.label = 'd'\n",
        "  f = Value(-2.0 , label = 'f')\n",
        "  L = f * d ; L.label = 'L'\n",
        "  L1 = L.data\n",
        "\n",
        "  a = Value(2.0 , label = 'a')\n",
        "  b = Value(-3.0 + h, label = ' b')\n",
        "  c = Value(10.0, label = ' c')\n",
        "  e = a*b ; e.label = 'e'\n",
        "  d = e + c ; d.label = 'd'\n",
        "  f = Value(-2.0 , label = 'f')\n",
        "  L = f * d ; L.label = 'L'\n",
        "  L2 = L.data\n",
        "\n",
        "  print((L2 - L1)/h)\n"
      ],
      "metadata": {
        "id": "DDWk4Ft2xlGH"
      },
      "execution_count": 26,
      "outputs": []
    },
    {
      "cell_type": "code",
      "source": [
        "lol()"
      ],
      "metadata": {
        "colab": {
          "base_uri": "https://localhost:8080/"
        },
        "id": "Jv4ZILan6wxj",
        "outputId": "6f53c659-1577-49b7-98ee-fd4b82f636cd"
      },
      "execution_count": 27,
      "outputs": [
        {
          "output_type": "stream",
          "name": "stdout",
          "text": [
            "-4.000000000008441\n"
          ]
        }
      ]
    },
    {
      "cell_type": "code",
      "source": [
        "#inputs\n",
        "x1 = Value( 2.0, label = 'x1')\n",
        "x2 = Value( 0.0, label = 'x2')\n",
        "#weights\n",
        "w1 = Value( -3.0, label = 'w1')\n",
        "w2 = Value( 1.0 , label = 'w2')\n",
        "#bias\n",
        "b = Value(6.8813735870195432 ,label = 'b')\n",
        "x1w1 = x1*w1 ; x1w1.label = 'x1w1'\n",
        "x2w2 = x2*w2 ; x2w2.label = 'x2w2'\n",
        "\n",
        "x1w1x2w2 = x1w1+x2w2; x1w1x2w2.label = 'x1w1x2w2'\n",
        "n = x1w1x2w2 + b ; n.label = 'n'\n",
        "o = n.tanh() ; o.label = 'o'\n"
      ],
      "metadata": {
        "id": "lbOzm_Gb6x66"
      },
      "execution_count": 28,
      "outputs": []
    },
    {
      "cell_type": "code",
      "source": [
        "draw_dot(o)"
      ],
      "metadata": {
        "colab": {
          "base_uri": "https://localhost:8080/",
          "height": 321
        },
        "id": "1i1cnyH9LA0u",
        "outputId": "427913fa-4875-4879-fd09-bbf5be78ba67"
      },
      "execution_count": 29,
      "outputs": [
        {
          "output_type": "execute_result",
          "data": {
            "text/plain": [
              "<graphviz.dot.Digraph at 0x7f5f21fa2f70>"
            ],
            "image/svg+xml": "<?xml version=\"1.0\" encoding=\"UTF-8\" standalone=\"no\"?>\n<!DOCTYPE svg PUBLIC \"-//W3C//DTD SVG 1.1//EN\"\n \"http://www.w3.org/Graphics/SVG/1.1/DTD/svg11.dtd\">\n<!-- Generated by graphviz version 2.43.0 (0)\n -->\n<!-- Title: %3 Pages: 1 -->\n<svg width=\"1540pt\" height=\"210pt\"\n viewBox=\"0.00 0.00 1540.00 210.00\" xmlns=\"http://www.w3.org/2000/svg\" xmlns:xlink=\"http://www.w3.org/1999/xlink\">\n<g id=\"graph0\" class=\"graph\" transform=\"scale(1 1) rotate(0) translate(4 206)\">\n<title>%3</title>\n<polygon fill=\"white\" stroke=\"transparent\" points=\"-4,4 -4,-206 1536,-206 1536,4 -4,4\"/>\n<!-- 140046568371200 -->\n<g id=\"node1\" class=\"node\">\n<title>140046568371200</title>\n<polygon fill=\"none\" stroke=\"black\" points=\"666,-82.5 666,-118.5 910,-118.5 910,-82.5 666,-82.5\"/>\n<text text-anchor=\"middle\" x=\"704.5\" y=\"-96.8\" font-family=\"Times,serif\" font-size=\"14.00\">x1w1x2w2</text>\n<polyline fill=\"none\" stroke=\"black\" points=\"743,-82.5 743,-118.5 \"/>\n<text text-anchor=\"middle\" x=\"785.5\" y=\"-96.8\" font-family=\"Times,serif\" font-size=\"14.00\">data &#45;6.0000</text>\n<polyline fill=\"none\" stroke=\"black\" points=\"828,-82.5 828,-118.5 \"/>\n<text text-anchor=\"middle\" x=\"869\" y=\"-96.8\" font-family=\"Times,serif\" font-size=\"14.00\">grad 0.0000</text>\n</g>\n<!-- 140046568371536+ -->\n<g id=\"node12\" class=\"node\">\n<title>140046568371536+</title>\n<ellipse fill=\"none\" stroke=\"black\" cx=\"973\" cy=\"-127.5\" rx=\"27\" ry=\"18\"/>\n<text text-anchor=\"middle\" x=\"973\" y=\"-123.8\" font-family=\"Times,serif\" font-size=\"14.00\">+</text>\n</g>\n<!-- 140046568371200&#45;&gt;140046568371536+ -->\n<g id=\"edge10\" class=\"edge\">\n<title>140046568371200&#45;&gt;140046568371536+</title>\n<path fill=\"none\" stroke=\"black\" d=\"M910.04,-118.36C919.47,-119.75 928.43,-121.07 936.46,-122.26\"/>\n<polygon fill=\"black\" stroke=\"black\" points=\"936.03,-125.73 946.43,-123.73 937.05,-118.81 936.03,-125.73\"/>\n</g>\n<!-- 140046568371200+ -->\n<g id=\"node2\" class=\"node\">\n<title>140046568371200+</title>\n<ellipse fill=\"none\" stroke=\"black\" cx=\"603\" cy=\"-100.5\" rx=\"27\" ry=\"18\"/>\n<text text-anchor=\"middle\" x=\"603\" y=\"-96.8\" font-family=\"Times,serif\" font-size=\"14.00\">+</text>\n</g>\n<!-- 140046568371200+&#45;&gt;140046568371200 -->\n<g id=\"edge1\" class=\"edge\">\n<title>140046568371200+&#45;&gt;140046568371200</title>\n<path fill=\"none\" stroke=\"black\" d=\"M630.22,-100.5C637.7,-100.5 646.4,-100.5 655.79,-100.5\"/>\n<polygon fill=\"black\" stroke=\"black\" points=\"655.8,-104 665.8,-100.5 655.8,-97 655.8,-104\"/>\n</g>\n<!-- 140046568698928 -->\n<g id=\"node3\" class=\"node\">\n<title>140046568698928</title>\n<polygon fill=\"none\" stroke=\"black\" points=\"695.5,-137.5 695.5,-173.5 880.5,-173.5 880.5,-137.5 695.5,-137.5\"/>\n<text text-anchor=\"middle\" x=\"707\" y=\"-151.8\" font-family=\"Times,serif\" font-size=\"14.00\">b</text>\n<polyline fill=\"none\" stroke=\"black\" points=\"718.5,-137.5 718.5,-173.5 \"/>\n<text text-anchor=\"middle\" x=\"758.5\" y=\"-151.8\" font-family=\"Times,serif\" font-size=\"14.00\">data 6.8814</text>\n<polyline fill=\"none\" stroke=\"black\" points=\"798.5,-137.5 798.5,-173.5 \"/>\n<text text-anchor=\"middle\" x=\"839.5\" y=\"-151.8\" font-family=\"Times,serif\" font-size=\"14.00\">grad 0.0000</text>\n</g>\n<!-- 140046568698928&#45;&gt;140046568371536+ -->\n<g id=\"edge7\" class=\"edge\">\n<title>140046568698928&#45;&gt;140046568371536+</title>\n<path fill=\"none\" stroke=\"black\" d=\"M880.77,-141.46C900.52,-138.44 920.26,-135.42 936.29,-132.96\"/>\n<polygon fill=\"black\" stroke=\"black\" points=\"936.9,-136.41 946.26,-131.44 935.85,-129.49 936.9,-136.41\"/>\n</g>\n<!-- 140046568370768 -->\n<g id=\"node4\" class=\"node\">\n<title>140046568370768</title>\n<polygon fill=\"none\" stroke=\"black\" points=\"328.5,-110.5 328.5,-146.5 537.5,-146.5 537.5,-110.5 328.5,-110.5\"/>\n<text text-anchor=\"middle\" x=\"352\" y=\"-124.8\" font-family=\"Times,serif\" font-size=\"14.00\">x2w2</text>\n<polyline fill=\"none\" stroke=\"black\" points=\"375.5,-110.5 375.5,-146.5 \"/>\n<text text-anchor=\"middle\" x=\"415.5\" y=\"-124.8\" font-family=\"Times,serif\" font-size=\"14.00\">data 0.0000</text>\n<polyline fill=\"none\" stroke=\"black\" points=\"455.5,-110.5 455.5,-146.5 \"/>\n<text text-anchor=\"middle\" x=\"496.5\" y=\"-124.8\" font-family=\"Times,serif\" font-size=\"14.00\">grad 0.0000</text>\n</g>\n<!-- 140046568370768&#45;&gt;140046568371200+ -->\n<g id=\"edge11\" class=\"edge\">\n<title>140046568370768&#45;&gt;140046568371200+</title>\n<path fill=\"none\" stroke=\"black\" d=\"M537.53,-111.25C547.8,-109.53 557.66,-107.89 566.45,-106.43\"/>\n<polygon fill=\"black\" stroke=\"black\" points=\"567.3,-109.83 576.59,-104.74 566.15,-102.93 567.3,-109.83\"/>\n</g>\n<!-- 140046568370768* -->\n<g id=\"node5\" class=\"node\">\n<title>140046568370768*</title>\n<ellipse fill=\"none\" stroke=\"black\" cx=\"263\" cy=\"-128.5\" rx=\"27\" ry=\"18\"/>\n<text text-anchor=\"middle\" x=\"263\" y=\"-124.8\" font-family=\"Times,serif\" font-size=\"14.00\">*</text>\n</g>\n<!-- 140046568370768*&#45;&gt;140046568370768 -->\n<g id=\"edge2\" class=\"edge\">\n<title>140046568370768*&#45;&gt;140046568370768</title>\n<path fill=\"none\" stroke=\"black\" d=\"M290.25,-128.5C298.43,-128.5 308.03,-128.5 318.31,-128.5\"/>\n<polygon fill=\"black\" stroke=\"black\" points=\"318.35,-132 328.35,-128.5 318.35,-125 318.35,-132\"/>\n</g>\n<!-- 140046568700512 -->\n<g id=\"node6\" class=\"node\">\n<title>140046568700512</title>\n<polygon fill=\"none\" stroke=\"black\" points=\"4,-55.5 4,-91.5 196,-91.5 196,-55.5 4,-55.5\"/>\n<text text-anchor=\"middle\" x=\"19\" y=\"-69.8\" font-family=\"Times,serif\" font-size=\"14.00\">x1</text>\n<polyline fill=\"none\" stroke=\"black\" points=\"34,-55.5 34,-91.5 \"/>\n<text text-anchor=\"middle\" x=\"74\" y=\"-69.8\" font-family=\"Times,serif\" font-size=\"14.00\">data 2.0000</text>\n<polyline fill=\"none\" stroke=\"black\" points=\"114,-55.5 114,-91.5 \"/>\n<text text-anchor=\"middle\" x=\"155\" y=\"-69.8\" font-family=\"Times,serif\" font-size=\"14.00\">grad 0.0000</text>\n</g>\n<!-- 140046568370288* -->\n<g id=\"node10\" class=\"node\">\n<title>140046568370288*</title>\n<ellipse fill=\"none\" stroke=\"black\" cx=\"263\" cy=\"-73.5\" rx=\"27\" ry=\"18\"/>\n<text text-anchor=\"middle\" x=\"263\" y=\"-69.8\" font-family=\"Times,serif\" font-size=\"14.00\">*</text>\n</g>\n<!-- 140046568700512&#45;&gt;140046568370288* -->\n<g id=\"edge8\" class=\"edge\">\n<title>140046568700512&#45;&gt;140046568370288*</title>\n<path fill=\"none\" stroke=\"black\" d=\"M196.05,-73.5C206.52,-73.5 216.65,-73.5 225.71,-73.5\"/>\n<polygon fill=\"black\" stroke=\"black\" points=\"225.79,-77 235.79,-73.5 225.79,-70 225.79,-77\"/>\n</g>\n<!-- 140046568371824 -->\n<g id=\"node7\" class=\"node\">\n<title>140046568371824</title>\n<polygon fill=\"none\" stroke=\"black\" points=\"1347,-109.5 1347,-145.5 1532,-145.5 1532,-109.5 1347,-109.5\"/>\n<text text-anchor=\"middle\" x=\"1358.5\" y=\"-123.8\" font-family=\"Times,serif\" font-size=\"14.00\">o</text>\n<polyline fill=\"none\" stroke=\"black\" points=\"1370,-109.5 1370,-145.5 \"/>\n<text text-anchor=\"middle\" x=\"1410\" y=\"-123.8\" font-family=\"Times,serif\" font-size=\"14.00\">data 0.7071</text>\n<polyline fill=\"none\" stroke=\"black\" points=\"1450,-109.5 1450,-145.5 \"/>\n<text text-anchor=\"middle\" x=\"1491\" y=\"-123.8\" font-family=\"Times,serif\" font-size=\"14.00\">grad 0.0000</text>\n</g>\n<!-- 140046568371824tanh -->\n<g id=\"node8\" class=\"node\">\n<title>140046568371824tanh</title>\n<ellipse fill=\"none\" stroke=\"black\" cx=\"1284\" cy=\"-127.5\" rx=\"27\" ry=\"18\"/>\n<text text-anchor=\"middle\" x=\"1284\" y=\"-123.8\" font-family=\"Times,serif\" font-size=\"14.00\">tanh</text>\n</g>\n<!-- 140046568371824tanh&#45;&gt;140046568371824 -->\n<g id=\"edge3\" class=\"edge\">\n<title>140046568371824tanh&#45;&gt;140046568371824</title>\n<path fill=\"none\" stroke=\"black\" d=\"M1311.04,-127.5C1318.58,-127.5 1327.3,-127.5 1336.57,-127.5\"/>\n<polygon fill=\"black\" stroke=\"black\" points=\"1336.81,-131 1346.81,-127.5 1336.81,-124 1336.81,-131\"/>\n</g>\n<!-- 140046568370288 -->\n<g id=\"node9\" class=\"node\">\n<title>140046568370288</title>\n<polygon fill=\"none\" stroke=\"black\" points=\"326,-55.5 326,-91.5 540,-91.5 540,-55.5 326,-55.5\"/>\n<text text-anchor=\"middle\" x=\"349.5\" y=\"-69.8\" font-family=\"Times,serif\" font-size=\"14.00\">x1w1</text>\n<polyline fill=\"none\" stroke=\"black\" points=\"373,-55.5 373,-91.5 \"/>\n<text text-anchor=\"middle\" x=\"415.5\" y=\"-69.8\" font-family=\"Times,serif\" font-size=\"14.00\">data &#45;6.0000</text>\n<polyline fill=\"none\" stroke=\"black\" points=\"458,-55.5 458,-91.5 \"/>\n<text text-anchor=\"middle\" x=\"499\" y=\"-69.8\" font-family=\"Times,serif\" font-size=\"14.00\">grad 0.0000</text>\n</g>\n<!-- 140046568370288&#45;&gt;140046568371200+ -->\n<g id=\"edge13\" class=\"edge\">\n<title>140046568370288&#45;&gt;140046568371200+</title>\n<path fill=\"none\" stroke=\"black\" d=\"M540.4,-90.6C549.72,-92.1 558.65,-93.53 566.68,-94.82\"/>\n<polygon fill=\"black\" stroke=\"black\" points=\"566.24,-98.3 576.66,-96.43 567.35,-91.39 566.24,-98.3\"/>\n</g>\n<!-- 140046568370288*&#45;&gt;140046568370288 -->\n<g id=\"edge4\" class=\"edge\">\n<title>140046568370288*&#45;&gt;140046568370288</title>\n<path fill=\"none\" stroke=\"black\" d=\"M290.25,-73.5C297.7,-73.5 306.34,-73.5 315.59,-73.5\"/>\n<polygon fill=\"black\" stroke=\"black\" points=\"315.84,-77 325.84,-73.5 315.84,-70 315.84,-77\"/>\n</g>\n<!-- 140046568371536 -->\n<g id=\"node11\" class=\"node\">\n<title>140046568371536</title>\n<polygon fill=\"none\" stroke=\"black\" points=\"1036,-109.5 1036,-145.5 1221,-145.5 1221,-109.5 1036,-109.5\"/>\n<text text-anchor=\"middle\" x=\"1047.5\" y=\"-123.8\" font-family=\"Times,serif\" font-size=\"14.00\">n</text>\n<polyline fill=\"none\" stroke=\"black\" points=\"1059,-109.5 1059,-145.5 \"/>\n<text text-anchor=\"middle\" x=\"1099\" y=\"-123.8\" font-family=\"Times,serif\" font-size=\"14.00\">data 0.8814</text>\n<polyline fill=\"none\" stroke=\"black\" points=\"1139,-109.5 1139,-145.5 \"/>\n<text text-anchor=\"middle\" x=\"1180\" y=\"-123.8\" font-family=\"Times,serif\" font-size=\"14.00\">grad 0.0000</text>\n</g>\n<!-- 140046568371536&#45;&gt;140046568371824tanh -->\n<g id=\"edge6\" class=\"edge\">\n<title>140046568371536&#45;&gt;140046568371824tanh</title>\n<path fill=\"none\" stroke=\"black\" d=\"M1221.01,-127.5C1230.01,-127.5 1238.74,-127.5 1246.66,-127.5\"/>\n<polygon fill=\"black\" stroke=\"black\" points=\"1246.91,-131 1256.91,-127.5 1246.91,-124 1246.91,-131\"/>\n</g>\n<!-- 140046568371536+&#45;&gt;140046568371536 -->\n<g id=\"edge5\" class=\"edge\">\n<title>140046568371536+&#45;&gt;140046568371536</title>\n<path fill=\"none\" stroke=\"black\" d=\"M1000.04,-127.5C1007.58,-127.5 1016.3,-127.5 1025.57,-127.5\"/>\n<polygon fill=\"black\" stroke=\"black\" points=\"1025.81,-131 1035.81,-127.5 1025.81,-124 1025.81,-131\"/>\n</g>\n<!-- 140046568699792 -->\n<g id=\"node13\" class=\"node\">\n<title>140046568699792</title>\n<polygon fill=\"none\" stroke=\"black\" points=\"4,-165.5 4,-201.5 196,-201.5 196,-165.5 4,-165.5\"/>\n<text text-anchor=\"middle\" x=\"19\" y=\"-179.8\" font-family=\"Times,serif\" font-size=\"14.00\">x2</text>\n<polyline fill=\"none\" stroke=\"black\" points=\"34,-165.5 34,-201.5 \"/>\n<text text-anchor=\"middle\" x=\"74\" y=\"-179.8\" font-family=\"Times,serif\" font-size=\"14.00\">data 0.0000</text>\n<polyline fill=\"none\" stroke=\"black\" points=\"114,-165.5 114,-201.5 \"/>\n<text text-anchor=\"middle\" x=\"155\" y=\"-179.8\" font-family=\"Times,serif\" font-size=\"14.00\">grad 0.0000</text>\n</g>\n<!-- 140046568699792&#45;&gt;140046568370768* -->\n<g id=\"edge12\" class=\"edge\">\n<title>140046568699792&#45;&gt;140046568370768*</title>\n<path fill=\"none\" stroke=\"black\" d=\"M172.53,-165.44C181.84,-162.67 191.2,-159.67 200,-156.5 210.53,-152.71 221.75,-147.9 231.72,-143.33\"/>\n<polygon fill=\"black\" stroke=\"black\" points=\"233.25,-146.48 240.82,-139.07 230.28,-140.14 233.25,-146.48\"/>\n</g>\n<!-- 140046568698304 -->\n<g id=\"node14\" class=\"node\">\n<title>140046568698304</title>\n<polygon fill=\"none\" stroke=\"black\" points=\"2.5,-110.5 2.5,-146.5 197.5,-146.5 197.5,-110.5 2.5,-110.5\"/>\n<text text-anchor=\"middle\" x=\"19\" y=\"-124.8\" font-family=\"Times,serif\" font-size=\"14.00\">w2</text>\n<polyline fill=\"none\" stroke=\"black\" points=\"35.5,-110.5 35.5,-146.5 \"/>\n<text text-anchor=\"middle\" x=\"75.5\" y=\"-124.8\" font-family=\"Times,serif\" font-size=\"14.00\">data 1.0000</text>\n<polyline fill=\"none\" stroke=\"black\" points=\"115.5,-110.5 115.5,-146.5 \"/>\n<text text-anchor=\"middle\" x=\"156.5\" y=\"-124.8\" font-family=\"Times,serif\" font-size=\"14.00\">grad 0.0000</text>\n</g>\n<!-- 140046568698304&#45;&gt;140046568370768* -->\n<g id=\"edge9\" class=\"edge\">\n<title>140046568698304&#45;&gt;140046568370768*</title>\n<path fill=\"none\" stroke=\"black\" d=\"M197.91,-128.5C207.65,-128.5 217.05,-128.5 225.52,-128.5\"/>\n<polygon fill=\"black\" stroke=\"black\" points=\"225.7,-132 235.7,-128.5 225.7,-125 225.7,-132\"/>\n</g>\n<!-- 140046568701904 -->\n<g id=\"node15\" class=\"node\">\n<title>140046568701904</title>\n<polygon fill=\"none\" stroke=\"black\" points=\"0,-0.5 0,-36.5 200,-36.5 200,-0.5 0,-0.5\"/>\n<text text-anchor=\"middle\" x=\"16.5\" y=\"-14.8\" font-family=\"Times,serif\" font-size=\"14.00\">w1</text>\n<polyline fill=\"none\" stroke=\"black\" points=\"33,-0.5 33,-36.5 \"/>\n<text text-anchor=\"middle\" x=\"75.5\" y=\"-14.8\" font-family=\"Times,serif\" font-size=\"14.00\">data &#45;3.0000</text>\n<polyline fill=\"none\" stroke=\"black\" points=\"118,-0.5 118,-36.5 \"/>\n<text text-anchor=\"middle\" x=\"159\" y=\"-14.8\" font-family=\"Times,serif\" font-size=\"14.00\">grad 0.0000</text>\n</g>\n<!-- 140046568701904&#45;&gt;140046568370288* -->\n<g id=\"edge14\" class=\"edge\">\n<title>140046568701904&#45;&gt;140046568370288*</title>\n<path fill=\"none\" stroke=\"black\" d=\"M169.28,-36.5C179.65,-39.61 190.16,-42.98 200,-46.5 210.28,-50.17 221.28,-54.74 231.11,-59.07\"/>\n<polygon fill=\"black\" stroke=\"black\" points=\"229.93,-62.37 240.48,-63.27 232.79,-55.99 229.93,-62.37\"/>\n</g>\n</g>\n</svg>\n"
          },
          "metadata": {},
          "execution_count": 29
        }
      ]
    },
    {
      "cell_type": "code",
      "source": [
        "#setting the base case manually\n",
        "o.grad = 1.0\n",
        "#then flowing the backpropagations\n",
        "o._backward()"
      ],
      "metadata": {
        "id": "avVRIAS9Stgi"
      },
      "execution_count": 30,
      "outputs": []
    },
    {
      "cell_type": "code",
      "source": [
        "#then flowing the gradients of n to its two children(x1w1x2w2 and b)\n",
        "n._backward()"
      ],
      "metadata": {
        "id": "fWVgYn27TJky"
      },
      "execution_count": 31,
      "outputs": []
    },
    {
      "cell_type": "code",
      "source": [
        "#we can do the b._backward but as its the leaf node therefore it will not have any backward children....so by default the b._backward will \n",
        "#be initialized by lambda : NONE (no function)\n",
        "b._backward()"
      ],
      "metadata": {
        "id": "Hd1usKNnTVy0"
      },
      "execution_count": 32,
      "outputs": []
    },
    {
      "cell_type": "code",
      "source": [
        "#similarly for x1w1x2w2\n",
        "x1w1x2w2._backward()"
      ],
      "metadata": {
        "id": "x_dSSgAXTWDX"
      },
      "execution_count": 33,
      "outputs": []
    },
    {
      "cell_type": "code",
      "source": [
        "#for x1w1\n",
        "x1w1._backward()"
      ],
      "metadata": {
        "id": "WMMTdg1OUa0x"
      },
      "execution_count": 34,
      "outputs": []
    },
    {
      "cell_type": "code",
      "source": [
        "#for x2w2\n",
        "x2w2._backward()"
      ],
      "metadata": {
        "id": "EJE-wclKUbCb"
      },
      "execution_count": 35,
      "outputs": []
    },
    {
      "cell_type": "code",
      "source": [
        "#now the problem is that we are doing all this manually therefore we will define the function to this all automatically\n",
        "#for this we will lay out the graph nodes such that we will have the forward value means the data of that node computed\n",
        "#one way to do this is to lay all the graphs in topological order and we do this by topological sort \n",
        "\n",
        "# topo = []\n",
        "# visited = set()\n",
        "# def build_topo(v):\n",
        "#   if v not in visited:\n",
        "#     visited.add(v)\n",
        "#     for child in v._prev:\n",
        "#       build_topo(child)\n",
        "#     topo.append(v)\n",
        "# build_topo(o)\n",
        "# topo"
      ],
      "metadata": {
        "id": "QjmL3fo6UrDG"
      },
      "execution_count": 36,
      "outputs": []
    },
    {
      "cell_type": "code",
      "source": [
        "#we just need to do this in the reverse order we call the nodes and then set the gradients for each Value object or each node in nn\n",
        "# o.grad = 1.0\n",
        "# for node in reversed(topo):\n",
        "#   node._backward()"
      ],
      "metadata": {
        "id": "k8EE3wuLWLen"
      },
      "execution_count": 37,
      "outputs": []
    },
    {
      "cell_type": "code",
      "source": [
        "\"\"\" now we just need to take these above code functions\n",
        "    and put them in the Value class and define them in \n",
        "    the backward function \"\"\"\n",
        "#calling out the function\n",
        "o.backward()"
      ],
      "metadata": {
        "id": "Slp0X8WRWuSN"
      },
      "execution_count": 38,
      "outputs": []
    },
    {
      "cell_type": "code",
      "source": [
        "w1.grad = x1.data * x1w1.grad\n",
        "x1.grad = w1.data * x1w1.grad"
      ],
      "metadata": {
        "id": "Eof9uDgIMifB"
      },
      "execution_count": 39,
      "outputs": []
    },
    {
      "cell_type": "code",
      "source": [
        "x2.grad = w2.data * x2w2.grad\n",
        "w2.grad = x2.data * x2w2.grad"
      ],
      "metadata": {
        "id": "NgCZR0S5MJec"
      },
      "execution_count": 40,
      "outputs": []
    },
    {
      "cell_type": "code",
      "source": [
        "x1w1.grad = 0.5\n",
        "x2w2.grad = 0.5"
      ],
      "metadata": {
        "id": "yv1xHNqYLQP4"
      },
      "execution_count": 41,
      "outputs": []
    },
    {
      "cell_type": "code",
      "source": [
        "x1w1x2w2.grad = 0.5\n",
        "b.grad = 0.5"
      ],
      "metadata": {
        "id": "-gZbITkaLFgh"
      },
      "execution_count": 42,
      "outputs": []
    },
    {
      "cell_type": "code",
      "source": [
        "o.grad = 1.0\n",
        "n.grad = 0.5"
      ],
      "metadata": {
        "id": "e7MrYXv1LKPN"
      },
      "execution_count": 43,
      "outputs": []
    },
    {
      "cell_type": "code",
      "source": [
        "1 - (o.data)**2"
      ],
      "metadata": {
        "colab": {
          "base_uri": "https://localhost:8080/"
        },
        "id": "i0-n7jL8JhnF",
        "outputId": "a2419fe1-7390-44bb-9f56-e17d1ed15534"
      },
      "execution_count": 44,
      "outputs": [
        {
          "output_type": "execute_result",
          "data": {
            "text/plain": [
              "0.4999999999999999"
            ]
          },
          "metadata": {},
          "execution_count": 44
        }
      ]
    },
    {
      "cell_type": "code",
      "source": [
        "#now there is a bug in this , lets see the bug \n",
        "a = Value(3.0 , label = 'a')\n",
        "b = a + a ; b.label = 'b'\n",
        "b.backward()\n",
        "draw_dot(b)"
      ],
      "metadata": {
        "colab": {
          "base_uri": "https://localhost:8080/",
          "height": 81
        },
        "id": "qOa9RDGXKWIQ",
        "outputId": "c342eebd-87d9-4990-c70c-3bf071793d3f"
      },
      "execution_count": 45,
      "outputs": [
        {
          "output_type": "execute_result",
          "data": {
            "text/plain": [
              "<graphviz.dot.Digraph at 0x7f5f21f60880>"
            ],
            "image/svg+xml": "<?xml version=\"1.0\" encoding=\"UTF-8\" standalone=\"no\"?>\n<!DOCTYPE svg PUBLIC \"-//W3C//DTD SVG 1.1//EN\"\n \"http://www.w3.org/Graphics/SVG/1.1/DTD/svg11.dtd\">\n<!-- Generated by graphviz version 2.43.0 (0)\n -->\n<!-- Title: %3 Pages: 1 -->\n<svg width=\"504pt\" height=\"45pt\"\n viewBox=\"0.00 0.00 504.00 45.00\" xmlns=\"http://www.w3.org/2000/svg\" xmlns:xlink=\"http://www.w3.org/1999/xlink\">\n<g id=\"graph0\" class=\"graph\" transform=\"scale(1 1) rotate(0) translate(4 41)\">\n<title>%3</title>\n<polygon fill=\"white\" stroke=\"transparent\" points=\"-4,4 -4,-41 500,-41 500,4 -4,4\"/>\n<!-- 140046568392976 -->\n<g id=\"node1\" class=\"node\">\n<title>140046568392976</title>\n<polygon fill=\"none\" stroke=\"black\" points=\"311,-0.5 311,-36.5 496,-36.5 496,-0.5 311,-0.5\"/>\n<text text-anchor=\"middle\" x=\"322.5\" y=\"-14.8\" font-family=\"Times,serif\" font-size=\"14.00\">b</text>\n<polyline fill=\"none\" stroke=\"black\" points=\"334,-0.5 334,-36.5 \"/>\n<text text-anchor=\"middle\" x=\"374\" y=\"-14.8\" font-family=\"Times,serif\" font-size=\"14.00\">data 6.0000</text>\n<polyline fill=\"none\" stroke=\"black\" points=\"414,-0.5 414,-36.5 \"/>\n<text text-anchor=\"middle\" x=\"455\" y=\"-14.8\" font-family=\"Times,serif\" font-size=\"14.00\">grad 1.0000</text>\n</g>\n<!-- 140046568392976+ -->\n<g id=\"node2\" class=\"node\">\n<title>140046568392976+</title>\n<ellipse fill=\"none\" stroke=\"black\" cx=\"248\" cy=\"-18.5\" rx=\"27\" ry=\"18\"/>\n<text text-anchor=\"middle\" x=\"248\" y=\"-14.8\" font-family=\"Times,serif\" font-size=\"14.00\">+</text>\n</g>\n<!-- 140046568392976+&#45;&gt;140046568392976 -->\n<g id=\"edge1\" class=\"edge\">\n<title>140046568392976+&#45;&gt;140046568392976</title>\n<path fill=\"none\" stroke=\"black\" d=\"M275.04,-18.5C282.58,-18.5 291.3,-18.5 300.57,-18.5\"/>\n<polygon fill=\"black\" stroke=\"black\" points=\"300.81,-22 310.81,-18.5 300.81,-15 300.81,-22\"/>\n</g>\n<!-- 140046568392784 -->\n<g id=\"node3\" class=\"node\">\n<title>140046568392784</title>\n<polygon fill=\"none\" stroke=\"black\" points=\"0,-0.5 0,-36.5 185,-36.5 185,-0.5 0,-0.5\"/>\n<text text-anchor=\"middle\" x=\"11.5\" y=\"-14.8\" font-family=\"Times,serif\" font-size=\"14.00\">a</text>\n<polyline fill=\"none\" stroke=\"black\" points=\"23,-0.5 23,-36.5 \"/>\n<text text-anchor=\"middle\" x=\"63\" y=\"-14.8\" font-family=\"Times,serif\" font-size=\"14.00\">data 3.0000</text>\n<polyline fill=\"none\" stroke=\"black\" points=\"103,-0.5 103,-36.5 \"/>\n<text text-anchor=\"middle\" x=\"144\" y=\"-14.8\" font-family=\"Times,serif\" font-size=\"14.00\">grad 2.0000</text>\n</g>\n<!-- 140046568392784&#45;&gt;140046568392976+ -->\n<g id=\"edge2\" class=\"edge\">\n<title>140046568392784&#45;&gt;140046568392976+</title>\n<path fill=\"none\" stroke=\"black\" d=\"M185.01,-18.5C194.01,-18.5 202.74,-18.5 210.66,-18.5\"/>\n<polygon fill=\"black\" stroke=\"black\" points=\"210.91,-22 220.91,-18.5 210.91,-15 210.91,-22\"/>\n</g>\n</g>\n</svg>\n"
          },
          "metadata": {},
          "execution_count": 45
        }
      ]
    },
    {
      "cell_type": "code",
      "source": [
        "#as we can see above, if we see the derivative of db/da should have been 2 , there is pointer on top of each\n",
        "#therefore a.grad should have been 2 rather than 1\n",
        "#Let's see another example of this where our one node is being used multiple times\n",
        "\n",
        "a = Value(-2.0 , label = 'a')\n",
        "b = Value(3.0 , label = 'b')\n",
        "d = a*b ; d.label = 'd'\n",
        "e = a*b ; e.label = 'e'\n",
        "f = d*e ; f.label = 'f'\n",
        "f.backward()\n",
        "draw_dot(f)\n"
      ],
      "metadata": {
        "colab": {
          "base_uri": "https://localhost:8080/",
          "height": 155
        },
        "id": "ITRtjfxZhU8v",
        "outputId": "83ff0764-417e-412e-9dca-7d1ef41877ff"
      },
      "execution_count": 46,
      "outputs": [
        {
          "output_type": "execute_result",
          "data": {
            "text/plain": [
              "<graphviz.dot.Digraph at 0x7f5f21f6a2e0>"
            ],
            "image/svg+xml": "<?xml version=\"1.0\" encoding=\"UTF-8\" standalone=\"no\"?>\n<!DOCTYPE svg PUBLIC \"-//W3C//DTD SVG 1.1//EN\"\n \"http://www.w3.org/Graphics/SVG/1.1/DTD/svg11.dtd\">\n<!-- Generated by graphviz version 2.43.0 (0)\n -->\n<!-- Title: %3 Pages: 1 -->\n<svg width=\"845pt\" height=\"100pt\"\n viewBox=\"0.00 0.00 845.00 100.00\" xmlns=\"http://www.w3.org/2000/svg\" xmlns:xlink=\"http://www.w3.org/1999/xlink\">\n<g id=\"graph0\" class=\"graph\" transform=\"scale(1 1) rotate(0) translate(4 96)\">\n<title>%3</title>\n<polygon fill=\"white\" stroke=\"transparent\" points=\"-4,4 -4,-96 841,-96 841,4 -4,4\"/>\n<!-- 140046568432688 -->\n<g id=\"node1\" class=\"node\">\n<title>140046568432688</title>\n<polygon fill=\"none\" stroke=\"black\" points=\"327,-55.5 327,-91.5 521,-91.5 521,-55.5 327,-55.5\"/>\n<text text-anchor=\"middle\" x=\"338.5\" y=\"-69.8\" font-family=\"Times,serif\" font-size=\"14.00\">e</text>\n<polyline fill=\"none\" stroke=\"black\" points=\"350,-55.5 350,-91.5 \"/>\n<text text-anchor=\"middle\" x=\"392.5\" y=\"-69.8\" font-family=\"Times,serif\" font-size=\"14.00\">data &#45;6.0000</text>\n<polyline fill=\"none\" stroke=\"black\" points=\"435,-55.5 435,-91.5 \"/>\n<text text-anchor=\"middle\" x=\"478\" y=\"-69.8\" font-family=\"Times,serif\" font-size=\"14.00\">grad &#45;6.0000</text>\n</g>\n<!-- 140046568432976* -->\n<g id=\"node7\" class=\"node\">\n<title>140046568432976*</title>\n<ellipse fill=\"none\" stroke=\"black\" cx=\"584\" cy=\"-45.5\" rx=\"27\" ry=\"18\"/>\n<text text-anchor=\"middle\" x=\"584\" y=\"-41.8\" font-family=\"Times,serif\" font-size=\"14.00\">*</text>\n</g>\n<!-- 140046568432688&#45;&gt;140046568432976* -->\n<g id=\"edge7\" class=\"edge\">\n<title>140046568432688&#45;&gt;140046568432976*</title>\n<path fill=\"none\" stroke=\"black\" d=\"M521.01,-56.49C530.35,-54.83 539.37,-53.23 547.49,-51.79\"/>\n<polygon fill=\"black\" stroke=\"black\" points=\"548.37,-55.19 557.6,-50 547.15,-48.3 548.37,-55.19\"/>\n</g>\n<!-- 140046568432688* -->\n<g id=\"node2\" class=\"node\">\n<title>140046568432688*</title>\n<ellipse fill=\"none\" stroke=\"black\" cx=\"264\" cy=\"-73.5\" rx=\"27\" ry=\"18\"/>\n<text text-anchor=\"middle\" x=\"264\" y=\"-69.8\" font-family=\"Times,serif\" font-size=\"14.00\">*</text>\n</g>\n<!-- 140046568432688*&#45;&gt;140046568432688 -->\n<g id=\"edge1\" class=\"edge\">\n<title>140046568432688*&#45;&gt;140046568432688</title>\n<path fill=\"none\" stroke=\"black\" d=\"M291.09,-73.5C298.62,-73.5 307.34,-73.5 316.63,-73.5\"/>\n<polygon fill=\"black\" stroke=\"black\" points=\"316.92,-77 326.92,-73.5 316.92,-70 316.92,-77\"/>\n</g>\n<!-- 140046568432208 -->\n<g id=\"node3\" class=\"node\">\n<title>140046568432208</title>\n<polygon fill=\"none\" stroke=\"black\" points=\"0,-55.5 0,-91.5 201,-91.5 201,-55.5 0,-55.5\"/>\n<text text-anchor=\"middle\" x=\"11.5\" y=\"-69.8\" font-family=\"Times,serif\" font-size=\"14.00\">a</text>\n<polyline fill=\"none\" stroke=\"black\" points=\"23,-55.5 23,-91.5 \"/>\n<text text-anchor=\"middle\" x=\"65.5\" y=\"-69.8\" font-family=\"Times,serif\" font-size=\"14.00\">data &#45;2.0000</text>\n<polyline fill=\"none\" stroke=\"black\" points=\"108,-55.5 108,-91.5 \"/>\n<text text-anchor=\"middle\" x=\"154.5\" y=\"-69.8\" font-family=\"Times,serif\" font-size=\"14.00\">grad &#45;36.0000</text>\n</g>\n<!-- 140046568432208&#45;&gt;140046568432688* -->\n<g id=\"edge4\" class=\"edge\">\n<title>140046568432208&#45;&gt;140046568432688*</title>\n<path fill=\"none\" stroke=\"black\" d=\"M201.02,-73.5C210.04,-73.5 218.72,-73.5 226.59,-73.5\"/>\n<polygon fill=\"black\" stroke=\"black\" points=\"226.77,-77 236.77,-73.5 226.77,-70 226.77,-77\"/>\n</g>\n<!-- 140046568432448* -->\n<g id=\"node5\" class=\"node\">\n<title>140046568432448*</title>\n<ellipse fill=\"none\" stroke=\"black\" cx=\"264\" cy=\"-18.5\" rx=\"27\" ry=\"18\"/>\n<text text-anchor=\"middle\" x=\"264\" y=\"-14.8\" font-family=\"Times,serif\" font-size=\"14.00\">*</text>\n</g>\n<!-- 140046568432208&#45;&gt;140046568432448* -->\n<g id=\"edge8\" class=\"edge\">\n<title>140046568432208&#45;&gt;140046568432448*</title>\n<path fill=\"none\" stroke=\"black\" d=\"M173.4,-55.46C182.75,-52.68 192.16,-49.67 201,-46.5 211.53,-42.72 222.76,-37.9 232.72,-33.34\"/>\n<polygon fill=\"black\" stroke=\"black\" points=\"234.25,-36.48 241.83,-29.07 231.29,-30.14 234.25,-36.48\"/>\n</g>\n<!-- 140046568432448 -->\n<g id=\"node4\" class=\"node\">\n<title>140046568432448</title>\n<polygon fill=\"none\" stroke=\"black\" points=\"327,-0.5 327,-36.5 521,-36.5 521,-0.5 327,-0.5\"/>\n<text text-anchor=\"middle\" x=\"338.5\" y=\"-14.8\" font-family=\"Times,serif\" font-size=\"14.00\">d</text>\n<polyline fill=\"none\" stroke=\"black\" points=\"350,-0.5 350,-36.5 \"/>\n<text text-anchor=\"middle\" x=\"392.5\" y=\"-14.8\" font-family=\"Times,serif\" font-size=\"14.00\">data &#45;6.0000</text>\n<polyline fill=\"none\" stroke=\"black\" points=\"435,-0.5 435,-36.5 \"/>\n<text text-anchor=\"middle\" x=\"478\" y=\"-14.8\" font-family=\"Times,serif\" font-size=\"14.00\">grad &#45;6.0000</text>\n</g>\n<!-- 140046568432448&#45;&gt;140046568432976* -->\n<g id=\"edge5\" class=\"edge\">\n<title>140046568432448&#45;&gt;140046568432976*</title>\n<path fill=\"none\" stroke=\"black\" d=\"M521.01,-34.91C530.35,-36.5 539.37,-38.04 547.49,-39.43\"/>\n<polygon fill=\"black\" stroke=\"black\" points=\"547.16,-42.93 557.6,-41.16 548.34,-36.03 547.16,-42.93\"/>\n</g>\n<!-- 140046568432448*&#45;&gt;140046568432448 -->\n<g id=\"edge2\" class=\"edge\">\n<title>140046568432448*&#45;&gt;140046568432448</title>\n<path fill=\"none\" stroke=\"black\" d=\"M291.09,-18.5C298.62,-18.5 307.34,-18.5 316.63,-18.5\"/>\n<polygon fill=\"black\" stroke=\"black\" points=\"316.92,-22 326.92,-18.5 316.92,-15 316.92,-22\"/>\n</g>\n<!-- 140046568432976 -->\n<g id=\"node6\" class=\"node\">\n<title>140046568432976</title>\n<polygon fill=\"none\" stroke=\"black\" points=\"647,-27.5 647,-63.5 837,-63.5 837,-27.5 647,-27.5\"/>\n<text text-anchor=\"middle\" x=\"657.5\" y=\"-41.8\" font-family=\"Times,serif\" font-size=\"14.00\">f</text>\n<polyline fill=\"none\" stroke=\"black\" points=\"668,-27.5 668,-63.5 \"/>\n<text text-anchor=\"middle\" x=\"711.5\" y=\"-41.8\" font-family=\"Times,serif\" font-size=\"14.00\">data 36.0000</text>\n<polyline fill=\"none\" stroke=\"black\" points=\"755,-27.5 755,-63.5 \"/>\n<text text-anchor=\"middle\" x=\"796\" y=\"-41.8\" font-family=\"Times,serif\" font-size=\"14.00\">grad 1.0000</text>\n</g>\n<!-- 140046568432976*&#45;&gt;140046568432976 -->\n<g id=\"edge3\" class=\"edge\">\n<title>140046568432976*&#45;&gt;140046568432976</title>\n<path fill=\"none\" stroke=\"black\" d=\"M611.11,-45.5C618.63,-45.5 627.32,-45.5 636.58,-45.5\"/>\n<polygon fill=\"black\" stroke=\"black\" points=\"636.81,-49 646.81,-45.5 636.81,-42 636.81,-49\"/>\n</g>\n<!-- 140046568432064 -->\n<g id=\"node8\" class=\"node\">\n<title>140046568432064</title>\n<polygon fill=\"none\" stroke=\"black\" points=\"4.5,-0.5 4.5,-36.5 196.5,-36.5 196.5,-0.5 4.5,-0.5\"/>\n<text text-anchor=\"middle\" x=\"16\" y=\"-14.8\" font-family=\"Times,serif\" font-size=\"14.00\">b</text>\n<polyline fill=\"none\" stroke=\"black\" points=\"27.5,-0.5 27.5,-36.5 \"/>\n<text text-anchor=\"middle\" x=\"67.5\" y=\"-14.8\" font-family=\"Times,serif\" font-size=\"14.00\">data 3.0000</text>\n<polyline fill=\"none\" stroke=\"black\" points=\"107.5,-0.5 107.5,-36.5 \"/>\n<text text-anchor=\"middle\" x=\"152\" y=\"-14.8\" font-family=\"Times,serif\" font-size=\"14.00\">grad 24.0000</text>\n</g>\n<!-- 140046568432064&#45;&gt;140046568432688* -->\n<g id=\"edge9\" class=\"edge\">\n<title>140046568432064&#45;&gt;140046568432688*</title>\n<path fill=\"none\" stroke=\"black\" d=\"M170.4,-36.57C180.73,-39.66 191.2,-43 201,-46.5 211.28,-50.17 222.28,-54.73 232.11,-59.06\"/>\n<polygon fill=\"black\" stroke=\"black\" points=\"230.93,-62.37 241.48,-63.27 233.79,-55.98 230.93,-62.37\"/>\n</g>\n<!-- 140046568432064&#45;&gt;140046568432448* -->\n<g id=\"edge6\" class=\"edge\">\n<title>140046568432064&#45;&gt;140046568432448*</title>\n<path fill=\"none\" stroke=\"black\" d=\"M196.85,-18.5C207.35,-18.5 217.51,-18.5 226.59,-18.5\"/>\n<polygon fill=\"black\" stroke=\"black\" points=\"226.71,-22 236.71,-18.5 226.71,-15 226.71,-22\"/>\n</g>\n</g>\n</svg>\n"
          },
          "metadata": {},
          "execution_count": 46
        }
      ]
    },
    {
      "cell_type": "code",
      "source": [
        "#each node or variable is being used multiple times therefore in the above case it is being overwrited\n",
        "#therefore in the multivariate case of the chain rule , we should not be setting the gradients \n",
        "#but the solution to this is that we should be accumulating the gradients\n",
        "\n",
        "#.... let's do this in the above class\n",
        "\n",
        "a = Value(-2.0 , label = 'a')\n",
        "b = Value(3.0 , label = 'b')\n",
        "d = a*b ; d.label = 'd'\n",
        "e = a*b ; e.label = 'e'\n",
        "f = d*e ; f.label = 'f'\n",
        "f.backward()\n",
        "draw_dot(f)"
      ],
      "metadata": {
        "colab": {
          "base_uri": "https://localhost:8080/",
          "height": 155
        },
        "id": "T0RoWGv4hWBC",
        "outputId": "418a0536-b5ec-48f0-f449-9e9d33f6230a"
      },
      "execution_count": 47,
      "outputs": [
        {
          "output_type": "execute_result",
          "data": {
            "text/plain": [
              "<graphviz.dot.Digraph at 0x7f5f21f6adf0>"
            ],
            "image/svg+xml": "<?xml version=\"1.0\" encoding=\"UTF-8\" standalone=\"no\"?>\n<!DOCTYPE svg PUBLIC \"-//W3C//DTD SVG 1.1//EN\"\n \"http://www.w3.org/Graphics/SVG/1.1/DTD/svg11.dtd\">\n<!-- Generated by graphviz version 2.43.0 (0)\n -->\n<!-- Title: %3 Pages: 1 -->\n<svg width=\"845pt\" height=\"100pt\"\n viewBox=\"0.00 0.00 845.00 100.00\" xmlns=\"http://www.w3.org/2000/svg\" xmlns:xlink=\"http://www.w3.org/1999/xlink\">\n<g id=\"graph0\" class=\"graph\" transform=\"scale(1 1) rotate(0) translate(4 96)\">\n<title>%3</title>\n<polygon fill=\"white\" stroke=\"transparent\" points=\"-4,4 -4,-96 841,-96 841,4 -4,4\"/>\n<!-- 140046568434848 -->\n<g id=\"node1\" class=\"node\">\n<title>140046568434848</title>\n<polygon fill=\"none\" stroke=\"black\" points=\"4.5,-55.5 4.5,-91.5 196.5,-91.5 196.5,-55.5 4.5,-55.5\"/>\n<text text-anchor=\"middle\" x=\"16\" y=\"-69.8\" font-family=\"Times,serif\" font-size=\"14.00\">b</text>\n<polyline fill=\"none\" stroke=\"black\" points=\"27.5,-55.5 27.5,-91.5 \"/>\n<text text-anchor=\"middle\" x=\"67.5\" y=\"-69.8\" font-family=\"Times,serif\" font-size=\"14.00\">data 3.0000</text>\n<polyline fill=\"none\" stroke=\"black\" points=\"107.5,-55.5 107.5,-91.5 \"/>\n<text text-anchor=\"middle\" x=\"152\" y=\"-69.8\" font-family=\"Times,serif\" font-size=\"14.00\">grad 24.0000</text>\n</g>\n<!-- 140046568435376* -->\n<g id=\"node3\" class=\"node\">\n<title>140046568435376*</title>\n<ellipse fill=\"none\" stroke=\"black\" cx=\"264\" cy=\"-73.5\" rx=\"27\" ry=\"18\"/>\n<text text-anchor=\"middle\" x=\"264\" y=\"-69.8\" font-family=\"Times,serif\" font-size=\"14.00\">*</text>\n</g>\n<!-- 140046568434848&#45;&gt;140046568435376* -->\n<g id=\"edge8\" class=\"edge\">\n<title>140046568434848&#45;&gt;140046568435376*</title>\n<path fill=\"none\" stroke=\"black\" d=\"M196.85,-73.5C207.35,-73.5 217.51,-73.5 226.59,-73.5\"/>\n<polygon fill=\"black\" stroke=\"black\" points=\"226.71,-77 236.71,-73.5 226.71,-70 226.71,-77\"/>\n</g>\n<!-- 140046568435520* -->\n<g id=\"node7\" class=\"node\">\n<title>140046568435520*</title>\n<ellipse fill=\"none\" stroke=\"black\" cx=\"264\" cy=\"-18.5\" rx=\"27\" ry=\"18\"/>\n<text text-anchor=\"middle\" x=\"264\" y=\"-14.8\" font-family=\"Times,serif\" font-size=\"14.00\">*</text>\n</g>\n<!-- 140046568434848&#45;&gt;140046568435520* -->\n<g id=\"edge4\" class=\"edge\">\n<title>140046568434848&#45;&gt;140046568435520*</title>\n<path fill=\"none\" stroke=\"black\" d=\"M173.4,-55.46C182.75,-52.68 192.16,-49.67 201,-46.5 211.53,-42.72 222.76,-37.9 232.72,-33.34\"/>\n<polygon fill=\"black\" stroke=\"black\" points=\"234.25,-36.48 241.83,-29.07 231.29,-30.14 234.25,-36.48\"/>\n</g>\n<!-- 140046568435376 -->\n<g id=\"node2\" class=\"node\">\n<title>140046568435376</title>\n<polygon fill=\"none\" stroke=\"black\" points=\"327,-55.5 327,-91.5 521,-91.5 521,-55.5 327,-55.5\"/>\n<text text-anchor=\"middle\" x=\"338.5\" y=\"-69.8\" font-family=\"Times,serif\" font-size=\"14.00\">e</text>\n<polyline fill=\"none\" stroke=\"black\" points=\"350,-55.5 350,-91.5 \"/>\n<text text-anchor=\"middle\" x=\"392.5\" y=\"-69.8\" font-family=\"Times,serif\" font-size=\"14.00\">data &#45;6.0000</text>\n<polyline fill=\"none\" stroke=\"black\" points=\"435,-55.5 435,-91.5 \"/>\n<text text-anchor=\"middle\" x=\"478\" y=\"-69.8\" font-family=\"Times,serif\" font-size=\"14.00\">grad &#45;6.0000</text>\n</g>\n<!-- 140046568460544* -->\n<g id=\"node5\" class=\"node\">\n<title>140046568460544*</title>\n<ellipse fill=\"none\" stroke=\"black\" cx=\"584\" cy=\"-45.5\" rx=\"27\" ry=\"18\"/>\n<text text-anchor=\"middle\" x=\"584\" y=\"-41.8\" font-family=\"Times,serif\" font-size=\"14.00\">*</text>\n</g>\n<!-- 140046568435376&#45;&gt;140046568460544* -->\n<g id=\"edge7\" class=\"edge\">\n<title>140046568435376&#45;&gt;140046568460544*</title>\n<path fill=\"none\" stroke=\"black\" d=\"M521.01,-56.49C530.35,-54.83 539.37,-53.23 547.49,-51.79\"/>\n<polygon fill=\"black\" stroke=\"black\" points=\"548.37,-55.19 557.6,-50 547.15,-48.3 548.37,-55.19\"/>\n</g>\n<!-- 140046568435376*&#45;&gt;140046568435376 -->\n<g id=\"edge1\" class=\"edge\">\n<title>140046568435376*&#45;&gt;140046568435376</title>\n<path fill=\"none\" stroke=\"black\" d=\"M291.09,-73.5C298.62,-73.5 307.34,-73.5 316.63,-73.5\"/>\n<polygon fill=\"black\" stroke=\"black\" points=\"316.92,-77 326.92,-73.5 316.92,-70 316.92,-77\"/>\n</g>\n<!-- 140046568460544 -->\n<g id=\"node4\" class=\"node\">\n<title>140046568460544</title>\n<polygon fill=\"none\" stroke=\"black\" points=\"647,-27.5 647,-63.5 837,-63.5 837,-27.5 647,-27.5\"/>\n<text text-anchor=\"middle\" x=\"657.5\" y=\"-41.8\" font-family=\"Times,serif\" font-size=\"14.00\">f</text>\n<polyline fill=\"none\" stroke=\"black\" points=\"668,-27.5 668,-63.5 \"/>\n<text text-anchor=\"middle\" x=\"711.5\" y=\"-41.8\" font-family=\"Times,serif\" font-size=\"14.00\">data 36.0000</text>\n<polyline fill=\"none\" stroke=\"black\" points=\"755,-27.5 755,-63.5 \"/>\n<text text-anchor=\"middle\" x=\"796\" y=\"-41.8\" font-family=\"Times,serif\" font-size=\"14.00\">grad 1.0000</text>\n</g>\n<!-- 140046568460544*&#45;&gt;140046568460544 -->\n<g id=\"edge2\" class=\"edge\">\n<title>140046568460544*&#45;&gt;140046568460544</title>\n<path fill=\"none\" stroke=\"black\" d=\"M611.11,-45.5C618.63,-45.5 627.32,-45.5 636.58,-45.5\"/>\n<polygon fill=\"black\" stroke=\"black\" points=\"636.81,-49 646.81,-45.5 636.81,-42 636.81,-49\"/>\n</g>\n<!-- 140046568435520 -->\n<g id=\"node6\" class=\"node\">\n<title>140046568435520</title>\n<polygon fill=\"none\" stroke=\"black\" points=\"327,-0.5 327,-36.5 521,-36.5 521,-0.5 327,-0.5\"/>\n<text text-anchor=\"middle\" x=\"338.5\" y=\"-14.8\" font-family=\"Times,serif\" font-size=\"14.00\">d</text>\n<polyline fill=\"none\" stroke=\"black\" points=\"350,-0.5 350,-36.5 \"/>\n<text text-anchor=\"middle\" x=\"392.5\" y=\"-14.8\" font-family=\"Times,serif\" font-size=\"14.00\">data &#45;6.0000</text>\n<polyline fill=\"none\" stroke=\"black\" points=\"435,-0.5 435,-36.5 \"/>\n<text text-anchor=\"middle\" x=\"478\" y=\"-14.8\" font-family=\"Times,serif\" font-size=\"14.00\">grad &#45;6.0000</text>\n</g>\n<!-- 140046568435520&#45;&gt;140046568460544* -->\n<g id=\"edge6\" class=\"edge\">\n<title>140046568435520&#45;&gt;140046568460544*</title>\n<path fill=\"none\" stroke=\"black\" d=\"M521.01,-34.91C530.35,-36.5 539.37,-38.04 547.49,-39.43\"/>\n<polygon fill=\"black\" stroke=\"black\" points=\"547.16,-42.93 557.6,-41.16 548.34,-36.03 547.16,-42.93\"/>\n</g>\n<!-- 140046568435520*&#45;&gt;140046568435520 -->\n<g id=\"edge3\" class=\"edge\">\n<title>140046568435520*&#45;&gt;140046568435520</title>\n<path fill=\"none\" stroke=\"black\" d=\"M291.09,-18.5C298.62,-18.5 307.34,-18.5 316.63,-18.5\"/>\n<polygon fill=\"black\" stroke=\"black\" points=\"316.92,-22 326.92,-18.5 316.92,-15 316.92,-22\"/>\n</g>\n<!-- 140046568435040 -->\n<g id=\"node8\" class=\"node\">\n<title>140046568435040</title>\n<polygon fill=\"none\" stroke=\"black\" points=\"0,-0.5 0,-36.5 201,-36.5 201,-0.5 0,-0.5\"/>\n<text text-anchor=\"middle\" x=\"11.5\" y=\"-14.8\" font-family=\"Times,serif\" font-size=\"14.00\">a</text>\n<polyline fill=\"none\" stroke=\"black\" points=\"23,-0.5 23,-36.5 \"/>\n<text text-anchor=\"middle\" x=\"65.5\" y=\"-14.8\" font-family=\"Times,serif\" font-size=\"14.00\">data &#45;2.0000</text>\n<polyline fill=\"none\" stroke=\"black\" points=\"108,-0.5 108,-36.5 \"/>\n<text text-anchor=\"middle\" x=\"154.5\" y=\"-14.8\" font-family=\"Times,serif\" font-size=\"14.00\">grad &#45;36.0000</text>\n</g>\n<!-- 140046568435040&#45;&gt;140046568435376* -->\n<g id=\"edge9\" class=\"edge\">\n<title>140046568435040&#45;&gt;140046568435376*</title>\n<path fill=\"none\" stroke=\"black\" d=\"M170.4,-36.57C180.73,-39.66 191.2,-43 201,-46.5 211.28,-50.17 222.28,-54.73 232.11,-59.06\"/>\n<polygon fill=\"black\" stroke=\"black\" points=\"230.93,-62.37 241.48,-63.27 233.79,-55.98 230.93,-62.37\"/>\n</g>\n<!-- 140046568435040&#45;&gt;140046568435520* -->\n<g id=\"edge5\" class=\"edge\">\n<title>140046568435040&#45;&gt;140046568435520*</title>\n<path fill=\"none\" stroke=\"black\" d=\"M201.02,-18.5C210.04,-18.5 218.72,-18.5 226.59,-18.5\"/>\n<polygon fill=\"black\" stroke=\"black\" points=\"226.77,-22 236.77,-18.5 226.77,-15 226.77,-22\"/>\n</g>\n</g>\n</svg>\n"
          },
          "metadata": {},
          "execution_count": 47
        }
      ]
    },
    {
      "cell_type": "code",
      "source": [
        "#as we can see as we accumulate the gradients, they are correctly being accumalted in the local grad instead\n",
        "#of just being overwrited"
      ],
      "metadata": {
        "id": "Qe0Ly8eD_IEF"
      },
      "execution_count": 48,
      "outputs": []
    },
    {
      "cell_type": "code",
      "source": [
        "\"\"\" we have opened the tanh function instead of tanh , now we can use exponential form of tanh \"\"\"\n",
        "#inputs\n",
        "x1 = Value( 2.0, label = 'x1')\n",
        "x2 = Value( 0.0, label = 'x2')\n",
        "#weights\n",
        "w1 = Value( -3.0, label = 'w1')\n",
        "w2 = Value( 1.0 , label = 'w2')\n",
        "#bias\n",
        "b = Value(6.8813735870195432 ,label = 'b')\n",
        "x1w1 = x1*w1 ; x1w1.label = 'x1w1'\n",
        "x2w2 = x2*w2 ; x2w2.label = 'x2w2'\n",
        "\n",
        "x1w1x2w2 = x1w1+x2w2; x1w1x2w2.label = 'x1w1x2w2'\n",
        "n = x1w1x2w2 + b ; n.label = 'n'\n",
        "#-------\n",
        "e = (2*n).exp()\n",
        "o = (e - 1)/ (e+ 1)\n",
        "#-------\n",
        "#o = n.tanh() ; o.label = 'o'\n"
      ],
      "metadata": {
        "id": "dIZbx2Hm_IrY"
      },
      "execution_count": 49,
      "outputs": []
    },
    {
      "cell_type": "code",
      "source": [
        "o.backward()"
      ],
      "metadata": {
        "id": "z1e_fTLY_I4G"
      },
      "execution_count": 50,
      "outputs": []
    },
    {
      "cell_type": "code",
      "source": [
        "draw_dot(o) #we should be getting the same results as before"
      ],
      "metadata": {
        "colab": {
          "base_uri": "https://localhost:8080/",
          "height": 321
        },
        "id": "UKkqiqcD_Jrl",
        "outputId": "ea939c48-c1b2-461a-ba01-224a90d27f1f"
      },
      "execution_count": 51,
      "outputs": [
        {
          "output_type": "execute_result",
          "data": {
            "text/plain": [
              "<graphviz.dot.Digraph at 0x7f5f21f713a0>"
            ],
            "image/svg+xml": "<?xml version=\"1.0\" encoding=\"UTF-8\" standalone=\"no\"?>\n<!DOCTYPE svg PUBLIC \"-//W3C//DTD SVG 1.1//EN\"\n \"http://www.w3.org/Graphics/SVG/1.1/DTD/svg11.dtd\">\n<!-- Generated by graphviz version 2.43.0 (0)\n -->\n<!-- Title: %3 Pages: 1 -->\n<svg width=\"2906pt\" height=\"210pt\"\n viewBox=\"0.00 0.00 2906.00 210.00\" xmlns=\"http://www.w3.org/2000/svg\" xmlns:xlink=\"http://www.w3.org/1999/xlink\">\n<g id=\"graph0\" class=\"graph\" transform=\"scale(1 1) rotate(0) translate(4 206)\">\n<title>%3</title>\n<polygon fill=\"white\" stroke=\"transparent\" points=\"-4,4 -4,-206 2902,-206 2902,4 -4,4\"/>\n<!-- 140046568482320 -->\n<g id=\"node1\" class=\"node\">\n<title>140046568482320</title>\n<polygon fill=\"none\" stroke=\"black\" points=\"2190,-53.5 2190,-89.5 2372,-89.5 2372,-53.5 2190,-53.5\"/>\n<text text-anchor=\"middle\" x=\"2200\" y=\"-67.8\" font-family=\"Times,serif\" font-size=\"14.00\"> </text>\n<polyline fill=\"none\" stroke=\"black\" points=\"2210,-53.5 2210,-89.5 \"/>\n<text text-anchor=\"middle\" x=\"2250\" y=\"-67.8\" font-family=\"Times,serif\" font-size=\"14.00\">data 4.8284</text>\n<polyline fill=\"none\" stroke=\"black\" points=\"2290,-53.5 2290,-89.5 \"/>\n<text text-anchor=\"middle\" x=\"2331\" y=\"-67.8\" font-family=\"Times,serif\" font-size=\"14.00\">grad 0.1464</text>\n</g>\n<!-- 140046568482896* -->\n<g id=\"node7\" class=\"node\">\n<title>140046568482896*</title>\n<ellipse fill=\"none\" stroke=\"black\" cx=\"2653\" cy=\"-98.5\" rx=\"27\" ry=\"18\"/>\n<text text-anchor=\"middle\" x=\"2653\" y=\"-94.8\" font-family=\"Times,serif\" font-size=\"14.00\">*</text>\n</g>\n<!-- 140046568482320&#45;&gt;140046568482896* -->\n<g id=\"edge13\" class=\"edge\">\n<title>140046568482320&#45;&gt;140046568482896*</title>\n<path fill=\"none\" stroke=\"black\" d=\"M2372.04,-78.07C2450.41,-83.79 2559.98,-91.79 2615.96,-95.87\"/>\n<polygon fill=\"black\" stroke=\"black\" points=\"2615.87,-99.37 2626.1,-96.61 2616.38,-92.39 2615.87,-99.37\"/>\n</g>\n<!-- 140046568482320+ -->\n<g id=\"node2\" class=\"node\">\n<title>140046568482320+</title>\n<ellipse fill=\"none\" stroke=\"black\" cx=\"1905\" cy=\"-71.5\" rx=\"27\" ry=\"18\"/>\n<text text-anchor=\"middle\" x=\"1905\" y=\"-67.8\" font-family=\"Times,serif\" font-size=\"14.00\">+</text>\n</g>\n<!-- 140046568482320+&#45;&gt;140046568482320 -->\n<g id=\"edge1\" class=\"edge\">\n<title>140046568482320+&#45;&gt;140046568482320</title>\n<path fill=\"none\" stroke=\"black\" d=\"M1932,-71.5C1982.46,-71.5 2096.06,-71.5 2179.81,-71.5\"/>\n<polygon fill=\"black\" stroke=\"black\" points=\"2179.87,-75 2189.87,-71.5 2179.87,-68 2179.87,-75\"/>\n</g>\n<!-- 140046568481312 -->\n<g id=\"node3\" class=\"node\">\n<title>140046568481312</title>\n<polygon fill=\"none\" stroke=\"black\" points=\"666,-82.5 666,-118.5 910,-118.5 910,-82.5 666,-82.5\"/>\n<text text-anchor=\"middle\" x=\"704.5\" y=\"-96.8\" font-family=\"Times,serif\" font-size=\"14.00\">x1w1x2w2</text>\n<polyline fill=\"none\" stroke=\"black\" points=\"743,-82.5 743,-118.5 \"/>\n<text text-anchor=\"middle\" x=\"785.5\" y=\"-96.8\" font-family=\"Times,serif\" font-size=\"14.00\">data &#45;6.0000</text>\n<polyline fill=\"none\" stroke=\"black\" points=\"828,-82.5 828,-118.5 \"/>\n<text text-anchor=\"middle\" x=\"869\" y=\"-96.8\" font-family=\"Times,serif\" font-size=\"14.00\">grad 0.5000</text>\n</g>\n<!-- 140046568481648+ -->\n<g id=\"node22\" class=\"node\">\n<title>140046568481648+</title>\n<ellipse fill=\"none\" stroke=\"black\" cx=\"973\" cy=\"-72.5\" rx=\"27\" ry=\"18\"/>\n<text text-anchor=\"middle\" x=\"973\" y=\"-68.8\" font-family=\"Times,serif\" font-size=\"14.00\">+</text>\n</g>\n<!-- 140046568481312&#45;&gt;140046568481648+ -->\n<g id=\"edge21\" class=\"edge\">\n<title>140046568481312&#45;&gt;140046568481648+</title>\n<path fill=\"none\" stroke=\"black\" d=\"M906.71,-82.49C917.38,-80.86 927.53,-79.3 936.51,-77.93\"/>\n<polygon fill=\"black\" stroke=\"black\" points=\"937.13,-81.38 946.48,-76.4 936.07,-74.46 937.13,-81.38\"/>\n</g>\n<!-- 140046568481312+ -->\n<g id=\"node4\" class=\"node\">\n<title>140046568481312+</title>\n<ellipse fill=\"none\" stroke=\"black\" cx=\"603\" cy=\"-100.5\" rx=\"27\" ry=\"18\"/>\n<text text-anchor=\"middle\" x=\"603\" y=\"-96.8\" font-family=\"Times,serif\" font-size=\"14.00\">+</text>\n</g>\n<!-- 140046568481312+&#45;&gt;140046568481312 -->\n<g id=\"edge2\" class=\"edge\">\n<title>140046568481312+&#45;&gt;140046568481312</title>\n<path fill=\"none\" stroke=\"black\" d=\"M630.22,-100.5C637.7,-100.5 646.4,-100.5 655.79,-100.5\"/>\n<polygon fill=\"black\" stroke=\"black\" points=\"655.8,-104 665.8,-100.5 655.8,-97 655.8,-104\"/>\n</g>\n<!-- 140046568481840 -->\n<g id=\"node5\" class=\"node\">\n<title>140046568481840</title>\n<polygon fill=\"none\" stroke=\"black\" points=\"1037.5,-109.5 1037.5,-145.5 1219.5,-145.5 1219.5,-109.5 1037.5,-109.5\"/>\n<text text-anchor=\"middle\" x=\"1047.5\" y=\"-123.8\" font-family=\"Times,serif\" font-size=\"14.00\"> </text>\n<polyline fill=\"none\" stroke=\"black\" points=\"1057.5,-109.5 1057.5,-145.5 \"/>\n<text text-anchor=\"middle\" x=\"1097.5\" y=\"-123.8\" font-family=\"Times,serif\" font-size=\"14.00\">data 2.0000</text>\n<polyline fill=\"none\" stroke=\"black\" points=\"1137.5,-109.5 1137.5,-145.5 \"/>\n<text text-anchor=\"middle\" x=\"1178.5\" y=\"-123.8\" font-family=\"Times,serif\" font-size=\"14.00\">grad 0.2203</text>\n</g>\n<!-- 140046568481936* -->\n<g id=\"node10\" class=\"node\">\n<title>140046568481936*</title>\n<ellipse fill=\"none\" stroke=\"black\" cx=\"1284\" cy=\"-99.5\" rx=\"27\" ry=\"18\"/>\n<text text-anchor=\"middle\" x=\"1284\" y=\"-95.8\" font-family=\"Times,serif\" font-size=\"14.00\">*</text>\n</g>\n<!-- 140046568481840&#45;&gt;140046568481936* -->\n<g id=\"edge28\" class=\"edge\">\n<title>140046568481840&#45;&gt;140046568481936*</title>\n<path fill=\"none\" stroke=\"black\" d=\"M1219.68,-111.05C1229.61,-109.24 1239.23,-107.48 1247.84,-105.91\"/>\n<polygon fill=\"black\" stroke=\"black\" points=\"1248.6,-109.33 1257.81,-104.09 1247.35,-102.45 1248.6,-109.33\"/>\n</g>\n<!-- 140046568482896 -->\n<g id=\"node6\" class=\"node\">\n<title>140046568482896</title>\n<polygon fill=\"none\" stroke=\"black\" points=\"2716,-80.5 2716,-116.5 2898,-116.5 2898,-80.5 2716,-80.5\"/>\n<text text-anchor=\"middle\" x=\"2726\" y=\"-94.8\" font-family=\"Times,serif\" font-size=\"14.00\"> </text>\n<polyline fill=\"none\" stroke=\"black\" points=\"2736,-80.5 2736,-116.5 \"/>\n<text text-anchor=\"middle\" x=\"2776\" y=\"-94.8\" font-family=\"Times,serif\" font-size=\"14.00\">data 0.7071</text>\n<polyline fill=\"none\" stroke=\"black\" points=\"2816,-80.5 2816,-116.5 \"/>\n<text text-anchor=\"middle\" x=\"2857\" y=\"-94.8\" font-family=\"Times,serif\" font-size=\"14.00\">grad 1.0000</text>\n</g>\n<!-- 140046568482896*&#45;&gt;140046568482896 -->\n<g id=\"edge3\" class=\"edge\">\n<title>140046568482896*&#45;&gt;140046568482896</title>\n<path fill=\"none\" stroke=\"black\" d=\"M2680.13,-98.5C2687.67,-98.5 2696.39,-98.5 2705.64,-98.5\"/>\n<polygon fill=\"black\" stroke=\"black\" points=\"2705.87,-102 2715.87,-98.5 2705.87,-95 2705.87,-102\"/>\n</g>\n<!-- 140046568463952 -->\n<g id=\"node8\" class=\"node\">\n<title>140046568463952</title>\n<polygon fill=\"none\" stroke=\"black\" points=\"2.5,-165.5 2.5,-201.5 197.5,-201.5 197.5,-165.5 2.5,-165.5\"/>\n<text text-anchor=\"middle\" x=\"19\" y=\"-179.8\" font-family=\"Times,serif\" font-size=\"14.00\">w2</text>\n<polyline fill=\"none\" stroke=\"black\" points=\"35.5,-165.5 35.5,-201.5 \"/>\n<text text-anchor=\"middle\" x=\"75.5\" y=\"-179.8\" font-family=\"Times,serif\" font-size=\"14.00\">data 1.0000</text>\n<polyline fill=\"none\" stroke=\"black\" points=\"115.5,-165.5 115.5,-201.5 \"/>\n<text text-anchor=\"middle\" x=\"156.5\" y=\"-179.8\" font-family=\"Times,serif\" font-size=\"14.00\">grad 0.0000</text>\n</g>\n<!-- 140046568480976* -->\n<g id=\"node15\" class=\"node\">\n<title>140046568480976*</title>\n<ellipse fill=\"none\" stroke=\"black\" cx=\"263\" cy=\"-128.5\" rx=\"27\" ry=\"18\"/>\n<text text-anchor=\"middle\" x=\"263\" y=\"-124.8\" font-family=\"Times,serif\" font-size=\"14.00\">*</text>\n</g>\n<!-- 140046568463952&#45;&gt;140046568480976* -->\n<g id=\"edge26\" class=\"edge\">\n<title>140046568463952&#45;&gt;140046568480976*</title>\n<path fill=\"none\" stroke=\"black\" d=\"M172.53,-165.44C181.84,-162.67 191.2,-159.67 200,-156.5 210.53,-152.71 221.75,-147.9 231.72,-143.33\"/>\n<polygon fill=\"black\" stroke=\"black\" points=\"233.25,-146.48 240.82,-139.07 230.28,-140.14 233.25,-146.48\"/>\n</g>\n<!-- 140046568481936 -->\n<g id=\"node9\" class=\"node\">\n<title>140046568481936</title>\n<polygon fill=\"none\" stroke=\"black\" points=\"1347,-81.5 1347,-117.5 1529,-117.5 1529,-81.5 1347,-81.5\"/>\n<text text-anchor=\"middle\" x=\"1357\" y=\"-95.8\" font-family=\"Times,serif\" font-size=\"14.00\"> </text>\n<polyline fill=\"none\" stroke=\"black\" points=\"1367,-81.5 1367,-117.5 \"/>\n<text text-anchor=\"middle\" x=\"1407\" y=\"-95.8\" font-family=\"Times,serif\" font-size=\"14.00\">data 1.7627</text>\n<polyline fill=\"none\" stroke=\"black\" points=\"1447,-81.5 1447,-117.5 \"/>\n<text text-anchor=\"middle\" x=\"1488\" y=\"-95.8\" font-family=\"Times,serif\" font-size=\"14.00\">grad 0.2500</text>\n</g>\n<!-- 140046568482080exp -->\n<g id=\"node20\" class=\"node\">\n<title>140046568482080exp</title>\n<ellipse fill=\"none\" stroke=\"black\" cx=\"1592\" cy=\"-99.5\" rx=\"27\" ry=\"18\"/>\n<text text-anchor=\"middle\" x=\"1592\" y=\"-95.8\" font-family=\"Times,serif\" font-size=\"14.00\">exp</text>\n</g>\n<!-- 140046568481936&#45;&gt;140046568482080exp -->\n<g id=\"edge14\" class=\"edge\">\n<title>140046568481936&#45;&gt;140046568482080exp</title>\n<path fill=\"none\" stroke=\"black\" d=\"M1529.18,-99.5C1538.14,-99.5 1546.83,-99.5 1554.73,-99.5\"/>\n<polygon fill=\"black\" stroke=\"black\" points=\"1554.96,-103 1564.96,-99.5 1554.96,-96 1554.96,-103\"/>\n</g>\n<!-- 140046568481936*&#45;&gt;140046568481936 -->\n<g id=\"edge4\" class=\"edge\">\n<title>140046568481936*&#45;&gt;140046568481936</title>\n<path fill=\"none\" stroke=\"black\" d=\"M1311.13,-99.5C1318.67,-99.5 1327.39,-99.5 1336.64,-99.5\"/>\n<polygon fill=\"black\" stroke=\"black\" points=\"1336.87,-103 1346.87,-99.5 1336.87,-96 1336.87,-103\"/>\n</g>\n<!-- 140046568482272 -->\n<g id=\"node11\" class=\"node\">\n<title>140046568482272</title>\n<polygon fill=\"none\" stroke=\"black\" points=\"1655,-26.5 1655,-62.5 1842,-62.5 1842,-26.5 1655,-26.5\"/>\n<text text-anchor=\"middle\" x=\"1665\" y=\"-40.8\" font-family=\"Times,serif\" font-size=\"14.00\"> </text>\n<polyline fill=\"none\" stroke=\"black\" points=\"1675,-26.5 1675,-62.5 \"/>\n<text text-anchor=\"middle\" x=\"1717.5\" y=\"-40.8\" font-family=\"Times,serif\" font-size=\"14.00\">data &#45;1.0000</text>\n<polyline fill=\"none\" stroke=\"black\" points=\"1760,-26.5 1760,-62.5 \"/>\n<text text-anchor=\"middle\" x=\"1801\" y=\"-40.8\" font-family=\"Times,serif\" font-size=\"14.00\">grad 0.1464</text>\n</g>\n<!-- 140046568482272&#45;&gt;140046568482320+ -->\n<g id=\"edge11\" class=\"edge\">\n<title>140046568482272&#45;&gt;140046568482320+</title>\n<path fill=\"none\" stroke=\"black\" d=\"M1842.05,-60.67C1851.34,-62.3 1860.33,-63.87 1868.44,-65.29\"/>\n<polygon fill=\"black\" stroke=\"black\" points=\"1868.1,-68.78 1878.55,-67.05 1869.3,-61.88 1868.1,-68.78\"/>\n</g>\n<!-- 140046568463040 -->\n<g id=\"node12\" class=\"node\">\n<title>140046568463040</title>\n<polygon fill=\"none\" stroke=\"black\" points=\"4,-110.5 4,-146.5 196,-146.5 196,-110.5 4,-110.5\"/>\n<text text-anchor=\"middle\" x=\"19\" y=\"-124.8\" font-family=\"Times,serif\" font-size=\"14.00\">x2</text>\n<polyline fill=\"none\" stroke=\"black\" points=\"34,-110.5 34,-146.5 \"/>\n<text text-anchor=\"middle\" x=\"74\" y=\"-124.8\" font-family=\"Times,serif\" font-size=\"14.00\">data 0.0000</text>\n<polyline fill=\"none\" stroke=\"black\" points=\"114,-110.5 114,-146.5 \"/>\n<text text-anchor=\"middle\" x=\"155\" y=\"-124.8\" font-family=\"Times,serif\" font-size=\"14.00\">grad 0.5000</text>\n</g>\n<!-- 140046568463040&#45;&gt;140046568480976* -->\n<g id=\"edge12\" class=\"edge\">\n<title>140046568463040&#45;&gt;140046568480976*</title>\n<path fill=\"none\" stroke=\"black\" d=\"M196.05,-128.5C206.52,-128.5 216.65,-128.5 225.71,-128.5\"/>\n<polygon fill=\"black\" stroke=\"black\" points=\"225.79,-132 235.79,-128.5 225.79,-125 225.79,-132\"/>\n</g>\n<!-- 140046568462032 -->\n<g id=\"node13\" class=\"node\">\n<title>140046568462032</title>\n<polygon fill=\"none\" stroke=\"black\" points=\"2,-55.5 2,-91.5 198,-91.5 198,-55.5 2,-55.5\"/>\n<text text-anchor=\"middle\" x=\"17\" y=\"-69.8\" font-family=\"Times,serif\" font-size=\"14.00\">x1</text>\n<polyline fill=\"none\" stroke=\"black\" points=\"32,-55.5 32,-91.5 \"/>\n<text text-anchor=\"middle\" x=\"72\" y=\"-69.8\" font-family=\"Times,serif\" font-size=\"14.00\">data 2.0000</text>\n<polyline fill=\"none\" stroke=\"black\" points=\"112,-55.5 112,-91.5 \"/>\n<text text-anchor=\"middle\" x=\"155\" y=\"-69.8\" font-family=\"Times,serif\" font-size=\"14.00\">grad &#45;1.5000</text>\n</g>\n<!-- 140046568464288* -->\n<g id=\"node26\" class=\"node\">\n<title>140046568464288*</title>\n<ellipse fill=\"none\" stroke=\"black\" cx=\"263\" cy=\"-73.5\" rx=\"27\" ry=\"18\"/>\n<text text-anchor=\"middle\" x=\"263\" y=\"-69.8\" font-family=\"Times,serif\" font-size=\"14.00\">*</text>\n</g>\n<!-- 140046568462032&#45;&gt;140046568464288* -->\n<g id=\"edge22\" class=\"edge\">\n<title>140046568462032&#45;&gt;140046568464288*</title>\n<path fill=\"none\" stroke=\"black\" d=\"M198.37,-73.5C208.05,-73.5 217.4,-73.5 225.8,-73.5\"/>\n<polygon fill=\"black\" stroke=\"black\" points=\"225.91,-77 235.91,-73.5 225.91,-70 225.91,-77\"/>\n</g>\n<!-- 140046568480976 -->\n<g id=\"node14\" class=\"node\">\n<title>140046568480976</title>\n<polygon fill=\"none\" stroke=\"black\" points=\"328.5,-110.5 328.5,-146.5 537.5,-146.5 537.5,-110.5 328.5,-110.5\"/>\n<text text-anchor=\"middle\" x=\"352\" y=\"-124.8\" font-family=\"Times,serif\" font-size=\"14.00\">x2w2</text>\n<polyline fill=\"none\" stroke=\"black\" points=\"375.5,-110.5 375.5,-146.5 \"/>\n<text text-anchor=\"middle\" x=\"415.5\" y=\"-124.8\" font-family=\"Times,serif\" font-size=\"14.00\">data 0.0000</text>\n<polyline fill=\"none\" stroke=\"black\" points=\"455.5,-110.5 455.5,-146.5 \"/>\n<text text-anchor=\"middle\" x=\"496.5\" y=\"-124.8\" font-family=\"Times,serif\" font-size=\"14.00\">grad 0.5000</text>\n</g>\n<!-- 140046568480976&#45;&gt;140046568481312+ -->\n<g id=\"edge16\" class=\"edge\">\n<title>140046568480976&#45;&gt;140046568481312+</title>\n<path fill=\"none\" stroke=\"black\" d=\"M537.53,-111.25C547.8,-109.53 557.66,-107.89 566.45,-106.43\"/>\n<polygon fill=\"black\" stroke=\"black\" points=\"567.3,-109.83 576.59,-104.74 566.15,-102.93 567.3,-109.83\"/>\n</g>\n<!-- 140046568480976*&#45;&gt;140046568480976 -->\n<g id=\"edge5\" class=\"edge\">\n<title>140046568480976*&#45;&gt;140046568480976</title>\n<path fill=\"none\" stroke=\"black\" d=\"M290.25,-128.5C298.43,-128.5 308.03,-128.5 318.31,-128.5\"/>\n<polygon fill=\"black\" stroke=\"black\" points=\"318.35,-132 328.35,-128.5 318.35,-125 318.35,-132\"/>\n</g>\n<!-- 140046568482512 -->\n<g id=\"node16\" class=\"node\">\n<title>140046568482512</title>\n<polygon fill=\"none\" stroke=\"black\" points=\"1655.5,-136.5 1655.5,-172.5 1841.5,-172.5 1841.5,-136.5 1655.5,-136.5\"/>\n<text text-anchor=\"middle\" x=\"1665.5\" y=\"-150.8\" font-family=\"Times,serif\" font-size=\"14.00\"> </text>\n<polyline fill=\"none\" stroke=\"black\" points=\"1675.5,-136.5 1675.5,-172.5 \"/>\n<text text-anchor=\"middle\" x=\"1715.5\" y=\"-150.8\" font-family=\"Times,serif\" font-size=\"14.00\">data 1.0000</text>\n<polyline fill=\"none\" stroke=\"black\" points=\"1755.5,-136.5 1755.5,-172.5 \"/>\n<text text-anchor=\"middle\" x=\"1798.5\" y=\"-150.8\" font-family=\"Times,serif\" font-size=\"14.00\">grad &#45;0.1036</text>\n</g>\n<!-- 140046568482560+ -->\n<g id=\"node18\" class=\"node\">\n<title>140046568482560+</title>\n<ellipse fill=\"none\" stroke=\"black\" cx=\"1905\" cy=\"-126.5\" rx=\"27\" ry=\"18\"/>\n<text text-anchor=\"middle\" x=\"1905\" y=\"-122.8\" font-family=\"Times,serif\" font-size=\"14.00\">+</text>\n</g>\n<!-- 140046568482512&#45;&gt;140046568482560+ -->\n<g id=\"edge25\" class=\"edge\">\n<title>140046568482512&#45;&gt;140046568482560+</title>\n<path fill=\"none\" stroke=\"black\" d=\"M1841.6,-137.81C1851.15,-136.08 1860.37,-134.41 1868.68,-132.9\"/>\n<polygon fill=\"black\" stroke=\"black\" points=\"1869.43,-136.32 1878.65,-131.09 1868.18,-129.43 1869.43,-136.32\"/>\n</g>\n<!-- 140046568482560 -->\n<g id=\"node17\" class=\"node\">\n<title>140046568482560</title>\n<polygon fill=\"none\" stroke=\"black\" points=\"1968,-108.5 1968,-144.5 2154,-144.5 2154,-108.5 1968,-108.5\"/>\n<text text-anchor=\"middle\" x=\"1978\" y=\"-122.8\" font-family=\"Times,serif\" font-size=\"14.00\"> </text>\n<polyline fill=\"none\" stroke=\"black\" points=\"1988,-108.5 1988,-144.5 \"/>\n<text text-anchor=\"middle\" x=\"2028\" y=\"-122.8\" font-family=\"Times,serif\" font-size=\"14.00\">data 6.8284</text>\n<polyline fill=\"none\" stroke=\"black\" points=\"2068,-108.5 2068,-144.5 \"/>\n<text text-anchor=\"middle\" x=\"2111\" y=\"-122.8\" font-family=\"Times,serif\" font-size=\"14.00\">grad &#45;0.1036</text>\n</g>\n<!-- 140046568482704**&#45;1 -->\n<g id=\"node24\" class=\"node\">\n<title>140046568482704**&#45;1</title>\n<ellipse fill=\"none\" stroke=\"black\" cx=\"2281\" cy=\"-126.5\" rx=\"27\" ry=\"18\"/>\n<text text-anchor=\"middle\" x=\"2281\" y=\"-122.8\" font-family=\"Times,serif\" font-size=\"14.00\">**&#45;1</text>\n</g>\n<!-- 140046568482560&#45;&gt;140046568482704**&#45;1 -->\n<g id=\"edge17\" class=\"edge\">\n<title>140046568482560&#45;&gt;140046568482704**&#45;1</title>\n<path fill=\"none\" stroke=\"black\" d=\"M2154.14,-126.5C2185.72,-126.5 2219.24,-126.5 2243.74,-126.5\"/>\n<polygon fill=\"black\" stroke=\"black\" points=\"2243.98,-130 2253.98,-126.5 2243.98,-123 2243.98,-130\"/>\n</g>\n<!-- 140046568482560+&#45;&gt;140046568482560 -->\n<g id=\"edge6\" class=\"edge\">\n<title>140046568482560+&#45;&gt;140046568482560</title>\n<path fill=\"none\" stroke=\"black\" d=\"M1932.12,-126.5C1939.62,-126.5 1948.29,-126.5 1957.5,-126.5\"/>\n<polygon fill=\"black\" stroke=\"black\" points=\"1957.69,-130 1967.69,-126.5 1957.69,-123 1957.69,-130\"/>\n</g>\n<!-- 140046568482080 -->\n<g id=\"node19\" class=\"node\">\n<title>140046568482080</title>\n<polygon fill=\"none\" stroke=\"black\" points=\"1657.5,-81.5 1657.5,-117.5 1839.5,-117.5 1839.5,-81.5 1657.5,-81.5\"/>\n<text text-anchor=\"middle\" x=\"1667.5\" y=\"-95.8\" font-family=\"Times,serif\" font-size=\"14.00\"> </text>\n<polyline fill=\"none\" stroke=\"black\" points=\"1677.5,-81.5 1677.5,-117.5 \"/>\n<text text-anchor=\"middle\" x=\"1717.5\" y=\"-95.8\" font-family=\"Times,serif\" font-size=\"14.00\">data 5.8284</text>\n<polyline fill=\"none\" stroke=\"black\" points=\"1757.5,-81.5 1757.5,-117.5 \"/>\n<text text-anchor=\"middle\" x=\"1798.5\" y=\"-95.8\" font-family=\"Times,serif\" font-size=\"14.00\">grad 0.0429</text>\n</g>\n<!-- 140046568482080&#45;&gt;140046568482320+ -->\n<g id=\"edge24\" class=\"edge\">\n<title>140046568482080&#45;&gt;140046568482320+</title>\n<path fill=\"none\" stroke=\"black\" d=\"M1839.82,-83.13C1850.07,-81.27 1860.01,-79.47 1868.88,-77.87\"/>\n<polygon fill=\"black\" stroke=\"black\" points=\"1869.54,-81.3 1878.75,-76.08 1868.29,-74.42 1869.54,-81.3\"/>\n</g>\n<!-- 140046568482080&#45;&gt;140046568482560+ -->\n<g id=\"edge18\" class=\"edge\">\n<title>140046568482080&#45;&gt;140046568482560+</title>\n<path fill=\"none\" stroke=\"black\" d=\"M1839.82,-115.28C1850.07,-117.08 1860.01,-118.81 1868.88,-120.36\"/>\n<polygon fill=\"black\" stroke=\"black\" points=\"1868.3,-123.81 1878.75,-122.09 1869.5,-116.92 1868.3,-123.81\"/>\n</g>\n<!-- 140046568482080exp&#45;&gt;140046568482080 -->\n<g id=\"edge7\" class=\"edge\">\n<title>140046568482080exp&#45;&gt;140046568482080</title>\n<path fill=\"none\" stroke=\"black\" d=\"M1619.21,-99.5C1627.34,-99.5 1636.85,-99.5 1646.94,-99.5\"/>\n<polygon fill=\"black\" stroke=\"black\" points=\"1647.19,-103 1657.19,-99.5 1647.19,-96 1647.19,-103\"/>\n</g>\n<!-- 140046568481648 -->\n<g id=\"node21\" class=\"node\">\n<title>140046568481648</title>\n<polygon fill=\"none\" stroke=\"black\" points=\"1036,-54.5 1036,-90.5 1221,-90.5 1221,-54.5 1036,-54.5\"/>\n<text text-anchor=\"middle\" x=\"1047.5\" y=\"-68.8\" font-family=\"Times,serif\" font-size=\"14.00\">n</text>\n<polyline fill=\"none\" stroke=\"black\" points=\"1059,-54.5 1059,-90.5 \"/>\n<text text-anchor=\"middle\" x=\"1099\" y=\"-68.8\" font-family=\"Times,serif\" font-size=\"14.00\">data 0.8814</text>\n<polyline fill=\"none\" stroke=\"black\" points=\"1139,-54.5 1139,-90.5 \"/>\n<text text-anchor=\"middle\" x=\"1180\" y=\"-68.8\" font-family=\"Times,serif\" font-size=\"14.00\">grad 0.5000</text>\n</g>\n<!-- 140046568481648&#45;&gt;140046568481936* -->\n<g id=\"edge27\" class=\"edge\">\n<title>140046568481648&#45;&gt;140046568481936*</title>\n<path fill=\"none\" stroke=\"black\" d=\"M1221.01,-88.6C1230.49,-90.26 1239.66,-91.88 1247.9,-93.33\"/>\n<polygon fill=\"black\" stroke=\"black\" points=\"1247.36,-96.78 1257.81,-95.07 1248.57,-89.89 1247.36,-96.78\"/>\n</g>\n<!-- 140046568481648+&#45;&gt;140046568481648 -->\n<g id=\"edge8\" class=\"edge\">\n<title>140046568481648+&#45;&gt;140046568481648</title>\n<path fill=\"none\" stroke=\"black\" d=\"M1000.04,-72.5C1007.58,-72.5 1016.3,-72.5 1025.57,-72.5\"/>\n<polygon fill=\"black\" stroke=\"black\" points=\"1025.81,-76 1035.81,-72.5 1025.81,-69 1025.81,-76\"/>\n</g>\n<!-- 140046568482704 -->\n<g id=\"node23\" class=\"node\">\n<title>140046568482704</title>\n<polygon fill=\"none\" stroke=\"black\" points=\"2408,-106.5 2408,-142.5 2590,-142.5 2590,-106.5 2408,-106.5\"/>\n<text text-anchor=\"middle\" x=\"2418\" y=\"-120.8\" font-family=\"Times,serif\" font-size=\"14.00\"> </text>\n<polyline fill=\"none\" stroke=\"black\" points=\"2428,-106.5 2428,-142.5 \"/>\n<text text-anchor=\"middle\" x=\"2468\" y=\"-120.8\" font-family=\"Times,serif\" font-size=\"14.00\">data 0.1464</text>\n<polyline fill=\"none\" stroke=\"black\" points=\"2508,-106.5 2508,-142.5 \"/>\n<text text-anchor=\"middle\" x=\"2549\" y=\"-120.8\" font-family=\"Times,serif\" font-size=\"14.00\">grad 4.8284</text>\n</g>\n<!-- 140046568482704&#45;&gt;140046568482896* -->\n<g id=\"edge19\" class=\"edge\">\n<title>140046568482704&#45;&gt;140046568482896*</title>\n<path fill=\"none\" stroke=\"black\" d=\"M2590.18,-109.08C2599.42,-107.49 2608.38,-105.96 2616.47,-104.58\"/>\n<polygon fill=\"black\" stroke=\"black\" points=\"2617.29,-107.99 2626.56,-102.85 2616.11,-101.09 2617.29,-107.99\"/>\n</g>\n<!-- 140046568482704**&#45;1&#45;&gt;140046568482704 -->\n<g id=\"edge9\" class=\"edge\">\n<title>140046568482704**&#45;1&#45;&gt;140046568482704</title>\n<path fill=\"none\" stroke=\"black\" d=\"M2308.05,-126.26C2330.53,-126.05 2364.48,-125.74 2397.5,-125.43\"/>\n<polygon fill=\"black\" stroke=\"black\" points=\"2397.74,-128.93 2407.7,-125.34 2397.67,-121.93 2397.74,-128.93\"/>\n</g>\n<!-- 140046568464288 -->\n<g id=\"node25\" class=\"node\">\n<title>140046568464288</title>\n<polygon fill=\"none\" stroke=\"black\" points=\"326,-55.5 326,-91.5 540,-91.5 540,-55.5 326,-55.5\"/>\n<text text-anchor=\"middle\" x=\"349.5\" y=\"-69.8\" font-family=\"Times,serif\" font-size=\"14.00\">x1w1</text>\n<polyline fill=\"none\" stroke=\"black\" points=\"373,-55.5 373,-91.5 \"/>\n<text text-anchor=\"middle\" x=\"415.5\" y=\"-69.8\" font-family=\"Times,serif\" font-size=\"14.00\">data &#45;6.0000</text>\n<polyline fill=\"none\" stroke=\"black\" points=\"458,-55.5 458,-91.5 \"/>\n<text text-anchor=\"middle\" x=\"499\" y=\"-69.8\" font-family=\"Times,serif\" font-size=\"14.00\">grad 0.5000</text>\n</g>\n<!-- 140046568464288&#45;&gt;140046568481312+ -->\n<g id=\"edge15\" class=\"edge\">\n<title>140046568464288&#45;&gt;140046568481312+</title>\n<path fill=\"none\" stroke=\"black\" d=\"M540.4,-90.6C549.72,-92.1 558.65,-93.53 566.68,-94.82\"/>\n<polygon fill=\"black\" stroke=\"black\" points=\"566.24,-98.3 576.66,-96.43 567.35,-91.39 566.24,-98.3\"/>\n</g>\n<!-- 140046568464288*&#45;&gt;140046568464288 -->\n<g id=\"edge10\" class=\"edge\">\n<title>140046568464288*&#45;&gt;140046568464288</title>\n<path fill=\"none\" stroke=\"black\" d=\"M290.25,-73.5C297.7,-73.5 306.34,-73.5 315.59,-73.5\"/>\n<polygon fill=\"black\" stroke=\"black\" points=\"315.84,-77 325.84,-73.5 315.84,-70 315.84,-77\"/>\n</g>\n<!-- 140046568463808 -->\n<g id=\"node27\" class=\"node\">\n<title>140046568463808</title>\n<polygon fill=\"none\" stroke=\"black\" points=\"0,-0.5 0,-36.5 200,-36.5 200,-0.5 0,-0.5\"/>\n<text text-anchor=\"middle\" x=\"16.5\" y=\"-14.8\" font-family=\"Times,serif\" font-size=\"14.00\">w1</text>\n<polyline fill=\"none\" stroke=\"black\" points=\"33,-0.5 33,-36.5 \"/>\n<text text-anchor=\"middle\" x=\"75.5\" y=\"-14.8\" font-family=\"Times,serif\" font-size=\"14.00\">data &#45;3.0000</text>\n<polyline fill=\"none\" stroke=\"black\" points=\"118,-0.5 118,-36.5 \"/>\n<text text-anchor=\"middle\" x=\"159\" y=\"-14.8\" font-family=\"Times,serif\" font-size=\"14.00\">grad 1.0000</text>\n</g>\n<!-- 140046568463808&#45;&gt;140046568464288* -->\n<g id=\"edge20\" class=\"edge\">\n<title>140046568463808&#45;&gt;140046568464288*</title>\n<path fill=\"none\" stroke=\"black\" d=\"M172.53,-36.56C181.84,-39.33 191.2,-42.33 200,-45.5 210.53,-49.29 221.75,-54.1 231.72,-58.67\"/>\n<polygon fill=\"black\" stroke=\"black\" points=\"230.28,-61.86 240.82,-62.93 233.25,-55.52 230.28,-61.86\"/>\n</g>\n<!-- 140046568463328 -->\n<g id=\"node28\" class=\"node\">\n<title>140046568463328</title>\n<polygon fill=\"none\" stroke=\"black\" points=\"695.5,-27.5 695.5,-63.5 880.5,-63.5 880.5,-27.5 695.5,-27.5\"/>\n<text text-anchor=\"middle\" x=\"707\" y=\"-41.8\" font-family=\"Times,serif\" font-size=\"14.00\">b</text>\n<polyline fill=\"none\" stroke=\"black\" points=\"718.5,-27.5 718.5,-63.5 \"/>\n<text text-anchor=\"middle\" x=\"758.5\" y=\"-41.8\" font-family=\"Times,serif\" font-size=\"14.00\">data 6.8814</text>\n<polyline fill=\"none\" stroke=\"black\" points=\"798.5,-27.5 798.5,-63.5 \"/>\n<text text-anchor=\"middle\" x=\"839.5\" y=\"-41.8\" font-family=\"Times,serif\" font-size=\"14.00\">grad 0.5000</text>\n</g>\n<!-- 140046568463328&#45;&gt;140046568481648+ -->\n<g id=\"edge23\" class=\"edge\">\n<title>140046568463328&#45;&gt;140046568481648+</title>\n<path fill=\"none\" stroke=\"black\" d=\"M880.77,-59.04C900.52,-61.95 920.26,-64.87 936.29,-67.23\"/>\n<polygon fill=\"black\" stroke=\"black\" points=\"935.86,-70.71 946.26,-68.7 936.88,-63.78 935.86,-70.71\"/>\n</g>\n</g>\n</svg>\n"
          },
          "metadata": {},
          "execution_count": 51
        }
      ]
    },
    {
      "cell_type": "code",
      "source": [
        "#doing the same things by PyTorch\n",
        "import torch\n",
        "torch.__version__"
      ],
      "metadata": {
        "colab": {
          "base_uri": "https://localhost:8080/",
          "height": 35
        },
        "id": "0K5fQYUf_J_Y",
        "outputId": "6978402e-5bb8-4308-8bc6-1d8518fc3cc5"
      },
      "execution_count": 52,
      "outputs": [
        {
          "output_type": "execute_result",
          "data": {
            "text/plain": [
              "'1.13.1+cu116'"
            ],
            "application/vnd.google.colaboratory.intrinsic+json": {
              "type": "string"
            }
          },
          "metadata": {},
          "execution_count": 52
        }
      ]
    },
    {
      "cell_type": "code",
      "source": [
        "x1 = torch.Tensor([2.0]).double()  ; x1.requires_grad = True#by default single precision in python so converting it into double prec.\n",
        "x2 = torch.Tensor([1.0]).double() ; x2.requires_grad = True #cause leaf nodes , therfore by default PyTorch doesn't require grad in leaf nodes cause of efficiency\n",
        "w1 = torch.Tensor([-3.0]).double()  ; w1.requires_grad = True\n",
        "w2 = torch.Tensor([1.0]).double()  ; w2.requires_grad = True\n",
        "b = torch.Tensor([6.8813735870195432]).double()  ; b.requires_grad = True\n",
        "n = x1*w1 + x2*w2 + b\n",
        "l = torch.tanh(n)\n",
        "print(l.data.item())\n",
        "l.backward()\n",
        "\n",
        "print('------')\n",
        "print('x1' , x1.grad.item())\n",
        "print('x2', x2.grad.item())\n",
        "print('w1' , w1.grad.item())\n",
        "print('w2' , w2.grad.item())"
      ],
      "metadata": {
        "colab": {
          "base_uri": "https://localhost:8080/"
        },
        "id": "xHcVMu4A_Kfn",
        "outputId": "9d228455-ecb2-4644-ebb2-429c6af62f3d"
      },
      "execution_count": 53,
      "outputs": [
        {
          "output_type": "stream",
          "name": "stdout",
          "text": [
            "0.9546141103528835\n",
            "------\n",
            "x1 -0.2661357009455185\n",
            "x2 0.08871190031517284\n",
            "w1 0.17742380063034568\n",
            "w2 0.08871190031517284\n"
          ]
        }
      ]
    },
    {
      "cell_type": "code",
      "source": [
        "first = x1*w1"
      ],
      "metadata": {
        "id": "0MRrmbID_KtS"
      },
      "execution_count": 54,
      "outputs": []
    },
    {
      "cell_type": "code",
      "source": [
        "second = x2*w2"
      ],
      "metadata": {
        "id": "41ijlHVw_K4M"
      },
      "execution_count": 55,
      "outputs": []
    },
    {
      "cell_type": "code",
      "source": [
        "torch.tanh((first + second) + b)"
      ],
      "metadata": {
        "id": "HFyu61wB_LEO",
        "colab": {
          "base_uri": "https://localhost:8080/"
        },
        "outputId": "7259598d-1da3-4c9e-fc28-96ea340e8935"
      },
      "execution_count": 56,
      "outputs": [
        {
          "output_type": "execute_result",
          "data": {
            "text/plain": [
              "tensor([0.9546], dtype=torch.float64, grad_fn=<TanhBackward0>)"
            ]
          },
          "metadata": {},
          "execution_count": 56
        }
      ]
    },
    {
      "cell_type": "markdown",
      "source": [
        "Let's Make the PyTorch Library for the Multilayer Perceptron using Classes for Micrograd"
      ],
      "metadata": {
        "id": "CSe6qjaQia8F"
      }
    },
    {
      "cell_type": "code",
      "source": [
        "import random\n",
        "\n",
        "class Neuron:\n",
        "  def __init__(self , nin):\n",
        "    #nin : number of inputs\n",
        "    self.w = [Value(random.uniform(-1,1)) for _ in range(nin)]\n",
        "    self.b = Value(random.uniform(-1,1))\n",
        "  \n",
        "  def __call__(self, x):\n",
        "    #w.x + b\n",
        "    # print(list(zip(self.w , x)))\n",
        "    act = sum((wi*xi for wi, xi in zip(self.w, x)), self.b)\n",
        "    out = act.tanh()\n",
        "    return out\n",
        "  \n",
        "  def parameters(self):\n",
        "    return self.w + [self.b]\n",
        "\n",
        "class Layer:\n",
        "  def __init__(self , nin , nout):\n",
        "    self.neurons = [Neuron(nin) for _ in range(nout)]\n",
        "\n",
        "  def __call__(self , x):\n",
        "    outs = [n(x) for n in self.neurons]\n",
        "    return outs[0] if(len(outs)) == 1 else outs\n",
        "\n",
        "  def parameters(self):\n",
        "    return [p for neuron in self.neurons for p in neuron.parameters()]\n",
        "\n",
        "class MLP:\n",
        "  def __init__(self , nin, nouts): #nouts is now the list of all the neurons in the layers except input layer\n",
        "    sz = [nin] + nouts\n",
        "    self.layers = [Layer(sz[i] , sz[i+1]) for i in range(len(nouts))]\n",
        "\n",
        "  def __call__(self , x):\n",
        "    for layer in self.layers:\n",
        "      x = layer(x)\n",
        "    return x\n",
        "\n",
        "  def parameters(self):\n",
        "    return [p for layer in self.layers for p in layer.parameters()]\n",
        "\n"
      ],
      "metadata": {
        "id": "Ttcyz0RxM4BN"
      },
      "execution_count": 92,
      "outputs": []
    },
    {
      "cell_type": "code",
      "source": [
        "x = [2.0 , 3.0 , -1.0]\n",
        "n = MLP(3 , [4,4,1])\n",
        "n(x)"
      ],
      "metadata": {
        "colab": {
          "base_uri": "https://localhost:8080/"
        },
        "id": "CS92VgAMLh4i",
        "outputId": "281e6275-d5cc-4e5d-fde1-820294136d93"
      },
      "execution_count": 96,
      "outputs": [
        {
          "output_type": "execute_result",
          "data": {
            "text/plain": [
              "Value( data = 0.7800871807028732)"
            ]
          },
          "metadata": {},
          "execution_count": 96
        }
      ]
    },
    {
      "cell_type": "code",
      "source": [
        "draw_dot(n(x))"
      ],
      "metadata": {
        "colab": {
          "base_uri": "https://localhost:8080/",
          "height": 1000
        },
        "id": "6AJ4JiDsrOOF",
        "outputId": "dd454819-a636-4415-a4ec-31ae07859277"
      },
      "execution_count": 72,
      "outputs": [
        {
          "output_type": "execute_result",
          "data": {
            "text/plain": [
              "<graphviz.dot.Digraph at 0x7f5e931ccca0>"
            ],
            "image/svg+xml": "<?xml version=\"1.0\" encoding=\"UTF-8\" standalone=\"no\"?>\n<!DOCTYPE svg PUBLIC \"-//W3C//DTD SVG 1.1//EN\"\n \"http://www.w3.org/Graphics/SVG/1.1/DTD/svg11.dtd\">\n<!-- Generated by graphviz version 2.43.0 (0)\n -->\n<!-- Title: %3 Pages: 1 -->\n<svg width=\"5737pt\" height=\"980pt\"\n viewBox=\"0.00 0.00 5737.00 980.00\" xmlns=\"http://www.w3.org/2000/svg\" xmlns:xlink=\"http://www.w3.org/1999/xlink\">\n<g id=\"graph0\" class=\"graph\" transform=\"scale(1 1) rotate(0) translate(4 976)\">\n<title>%3</title>\n<polygon fill=\"white\" stroke=\"transparent\" points=\"-4,4 -4,-976 5733,-976 5733,4 -4,4\"/>\n<!-- 140046568390720 -->\n<g id=\"node1\" class=\"node\">\n<title>140046568390720</title>\n<polygon fill=\"none\" stroke=\"black\" points=\"2181,-605.5 2181,-641.5 2368,-641.5 2368,-605.5 2181,-605.5\"/>\n<text text-anchor=\"middle\" x=\"2191\" y=\"-619.8\" font-family=\"Times,serif\" font-size=\"14.00\"> </text>\n<polyline fill=\"none\" stroke=\"black\" points=\"2201,-605.5 2201,-641.5 \"/>\n<text text-anchor=\"middle\" x=\"2243.5\" y=\"-619.8\" font-family=\"Times,serif\" font-size=\"14.00\">data &#45;0.7529</text>\n<polyline fill=\"none\" stroke=\"black\" points=\"2286,-605.5 2286,-641.5 \"/>\n<text text-anchor=\"middle\" x=\"2327\" y=\"-619.8\" font-family=\"Times,serif\" font-size=\"14.00\">grad 0.0000</text>\n</g>\n<!-- 140044156937984* -->\n<g id=\"node35\" class=\"node\">\n<title>140044156937984*</title>\n<ellipse fill=\"none\" stroke=\"black\" cx=\"2431\" cy=\"-598.5\" rx=\"27\" ry=\"18\"/>\n<text text-anchor=\"middle\" x=\"2431\" y=\"-594.8\" font-family=\"Times,serif\" font-size=\"14.00\">*</text>\n</g>\n<!-- 140046568390720&#45;&gt;140044156937984* -->\n<g id=\"edge102\" class=\"edge\">\n<title>140046568390720&#45;&gt;140044156937984*</title>\n<path fill=\"none\" stroke=\"black\" d=\"M2368.05,-608.52C2377.34,-607.02 2386.33,-605.57 2394.44,-604.25\"/>\n<polygon fill=\"black\" stroke=\"black\" points=\"2395.24,-607.67 2404.55,-602.62 2394.12,-600.76 2395.24,-607.67\"/>\n</g>\n<!-- 140044166029424 -->\n<g id=\"node2\" class=\"node\">\n<title>140044166029424</title>\n<polygon fill=\"none\" stroke=\"black\" points=\"931.5,-770.5 931.5,-806.5 1113.5,-806.5 1113.5,-770.5 931.5,-770.5\"/>\n<text text-anchor=\"middle\" x=\"941.5\" y=\"-784.8\" font-family=\"Times,serif\" font-size=\"14.00\"> </text>\n<polyline fill=\"none\" stroke=\"black\" points=\"951.5,-770.5 951.5,-806.5 \"/>\n<text text-anchor=\"middle\" x=\"991.5\" y=\"-784.8\" font-family=\"Times,serif\" font-size=\"14.00\">data 0.8117</text>\n<polyline fill=\"none\" stroke=\"black\" points=\"1031.5,-770.5 1031.5,-806.5 \"/>\n<text text-anchor=\"middle\" x=\"1072.5\" y=\"-784.8\" font-family=\"Times,serif\" font-size=\"14.00\">grad 0.0000</text>\n</g>\n<!-- 140044166030768+ -->\n<g id=\"node25\" class=\"node\">\n<title>140044166030768+</title>\n<ellipse fill=\"none\" stroke=\"black\" cx=\"1179\" cy=\"-733.5\" rx=\"27\" ry=\"18\"/>\n<text text-anchor=\"middle\" x=\"1179\" y=\"-729.8\" font-family=\"Times,serif\" font-size=\"14.00\">+</text>\n</g>\n<!-- 140044166029424&#45;&gt;140044166030768+ -->\n<g id=\"edge115\" class=\"edge\">\n<title>140044166029424&#45;&gt;140044166030768+</title>\n<path fill=\"none\" stroke=\"black\" d=\"M1087.02,-770.35C1096.79,-767.24 1106.71,-763.92 1116,-760.5 1126.25,-756.73 1137.23,-752.14 1147.07,-747.82\"/>\n<polygon fill=\"black\" stroke=\"black\" points=\"1148.74,-750.9 1156.45,-743.63 1145.89,-744.51 1148.74,-750.9\"/>\n</g>\n<!-- 140044166029424* -->\n<g id=\"node3\" class=\"node\">\n<title>140044166029424*</title>\n<ellipse fill=\"none\" stroke=\"black\" cx=\"866\" cy=\"-788.5\" rx=\"27\" ry=\"18\"/>\n<text text-anchor=\"middle\" x=\"866\" y=\"-784.8\" font-family=\"Times,serif\" font-size=\"14.00\">*</text>\n</g>\n<!-- 140044166029424*&#45;&gt;140044166029424 -->\n<g id=\"edge1\" class=\"edge\">\n<title>140044166029424*&#45;&gt;140044166029424</title>\n<path fill=\"none\" stroke=\"black\" d=\"M893.21,-788.5C901.34,-788.5 910.85,-788.5 920.94,-788.5\"/>\n<polygon fill=\"black\" stroke=\"black\" points=\"921.19,-792 931.19,-788.5 921.19,-785 921.19,-792\"/>\n</g>\n<!-- 140044165980272 -->\n<g id=\"node4\" class=\"node\">\n<title>140044165980272</title>\n<polygon fill=\"none\" stroke=\"black\" points=\"2494,-498.5 2494,-534.5 2681,-534.5 2681,-498.5 2494,-498.5\"/>\n<text text-anchor=\"middle\" x=\"2504\" y=\"-512.8\" font-family=\"Times,serif\" font-size=\"14.00\"> </text>\n<polyline fill=\"none\" stroke=\"black\" points=\"2514,-498.5 2514,-534.5 \"/>\n<text text-anchor=\"middle\" x=\"2556.5\" y=\"-512.8\" font-family=\"Times,serif\" font-size=\"14.00\">data &#45;2.4968</text>\n<polyline fill=\"none\" stroke=\"black\" points=\"2599,-498.5 2599,-534.5 \"/>\n<text text-anchor=\"middle\" x=\"2640\" y=\"-512.8\" font-family=\"Times,serif\" font-size=\"14.00\">grad 0.0000</text>\n</g>\n<!-- 140046804232128+ -->\n<g id=\"node44\" class=\"node\">\n<title>140046804232128+</title>\n<ellipse fill=\"none\" stroke=\"black\" cx=\"2744\" cy=\"-406.5\" rx=\"27\" ry=\"18\"/>\n<text text-anchor=\"middle\" x=\"2744\" y=\"-402.8\" font-family=\"Times,serif\" font-size=\"14.00\">+</text>\n</g>\n<!-- 140044165980272&#45;&gt;140046804232128+ -->\n<g id=\"edge178\" class=\"edge\">\n<title>140044165980272&#45;&gt;140046804232128+</title>\n<path fill=\"none\" stroke=\"black\" d=\"M2664.35,-498.43C2670.24,-495.59 2675.88,-492.3 2681,-488.5 2704.16,-471.31 2699.13,-457.14 2717,-434.5 2718.4,-432.72 2719.89,-430.92 2721.42,-429.14\"/>\n<polygon fill=\"black\" stroke=\"black\" points=\"2724.18,-431.3 2728.24,-421.51 2718.96,-426.64 2724.18,-431.3\"/>\n</g>\n<!-- 140044165980272+ -->\n<g id=\"node5\" class=\"node\">\n<title>140044165980272+</title>\n<ellipse fill=\"none\" stroke=\"black\" cx=\"2431\" cy=\"-516.5\" rx=\"27\" ry=\"18\"/>\n<text text-anchor=\"middle\" x=\"2431\" y=\"-512.8\" font-family=\"Times,serif\" font-size=\"14.00\">+</text>\n</g>\n<!-- 140044165980272+&#45;&gt;140044165980272 -->\n<g id=\"edge2\" class=\"edge\">\n<title>140044165980272+&#45;&gt;140044165980272</title>\n<path fill=\"none\" stroke=\"black\" d=\"M2458.21,-516.5C2465.73,-516.5 2474.43,-516.5 2483.67,-516.5\"/>\n<polygon fill=\"black\" stroke=\"black\" points=\"2483.89,-520 2493.89,-516.5 2483.89,-513 2483.89,-520\"/>\n</g>\n<!-- 140046568390768 -->\n<g id=\"node6\" class=\"node\">\n<title>140046568390768</title>\n<polygon fill=\"none\" stroke=\"black\" points=\"1868,-440.5 1868,-476.5 2055,-476.5 2055,-440.5 1868,-440.5\"/>\n<text text-anchor=\"middle\" x=\"1878\" y=\"-454.8\" font-family=\"Times,serif\" font-size=\"14.00\"> </text>\n<polyline fill=\"none\" stroke=\"black\" points=\"1888,-440.5 1888,-476.5 \"/>\n<text text-anchor=\"middle\" x=\"1930.5\" y=\"-454.8\" font-family=\"Times,serif\" font-size=\"14.00\">data &#45;0.9505</text>\n<polyline fill=\"none\" stroke=\"black\" points=\"1973,-440.5 1973,-476.5 \"/>\n<text text-anchor=\"middle\" x=\"2014\" y=\"-454.8\" font-family=\"Times,serif\" font-size=\"14.00\">grad 0.0000</text>\n</g>\n<!-- 140044165981808+ -->\n<g id=\"node30\" class=\"node\">\n<title>140044165981808+</title>\n<ellipse fill=\"none\" stroke=\"black\" cx=\"2118\" cy=\"-513.5\" rx=\"27\" ry=\"18\"/>\n<text text-anchor=\"middle\" x=\"2118\" y=\"-509.8\" font-family=\"Times,serif\" font-size=\"14.00\">+</text>\n</g>\n<!-- 140046568390768&#45;&gt;140044165981808+ -->\n<g id=\"edge109\" class=\"edge\">\n<title>140046568390768&#45;&gt;140044165981808+</title>\n<path fill=\"none\" stroke=\"black\" d=\"M2028.56,-476.55C2037.51,-479.36 2046.53,-482.37 2055,-485.5 2065.49,-489.38 2076.71,-494.22 2086.68,-498.78\"/>\n<polygon fill=\"black\" stroke=\"black\" points=\"2085.25,-501.98 2095.79,-503.03 2088.2,-495.63 2085.25,-501.98\"/>\n</g>\n<!-- 140044135047328 -->\n<g id=\"node7\" class=\"node\">\n<title>140044135047328</title>\n<polygon fill=\"none\" stroke=\"black\" points=\"5239,-380.5 5239,-416.5 5421,-416.5 5421,-380.5 5239,-380.5\"/>\n<text text-anchor=\"middle\" x=\"5249\" y=\"-394.8\" font-family=\"Times,serif\" font-size=\"14.00\"> </text>\n<polyline fill=\"none\" stroke=\"black\" points=\"5259,-380.5 5259,-416.5 \"/>\n<text text-anchor=\"middle\" x=\"5299\" y=\"-394.8\" font-family=\"Times,serif\" font-size=\"14.00\">data 2.5518</text>\n<polyline fill=\"none\" stroke=\"black\" points=\"5339,-380.5 5339,-416.5 \"/>\n<text text-anchor=\"middle\" x=\"5380\" y=\"-394.8\" font-family=\"Times,serif\" font-size=\"14.00\">grad 0.0000</text>\n</g>\n<!-- 140044135047424tanh -->\n<g id=\"node11\" class=\"node\">\n<title>140044135047424tanh</title>\n<ellipse fill=\"none\" stroke=\"black\" cx=\"5484\" cy=\"-398.5\" rx=\"27\" ry=\"18\"/>\n<text text-anchor=\"middle\" x=\"5484\" y=\"-394.8\" font-family=\"Times,serif\" font-size=\"14.00\">tanh</text>\n</g>\n<!-- 140044135047328&#45;&gt;140044135047424tanh -->\n<g id=\"edge143\" class=\"edge\">\n<title>140044135047328&#45;&gt;140044135047424tanh</title>\n<path fill=\"none\" stroke=\"black\" d=\"M5421.18,-398.5C5430.14,-398.5 5438.83,-398.5 5446.73,-398.5\"/>\n<polygon fill=\"black\" stroke=\"black\" points=\"5446.96,-402 5456.96,-398.5 5446.96,-395 5446.96,-402\"/>\n</g>\n<!-- 140044135047328+ -->\n<g id=\"node8\" class=\"node\">\n<title>140044135047328+</title>\n<ellipse fill=\"none\" stroke=\"black\" cx=\"5176\" cy=\"-398.5\" rx=\"27\" ry=\"18\"/>\n<text text-anchor=\"middle\" x=\"5176\" y=\"-394.8\" font-family=\"Times,serif\" font-size=\"14.00\">+</text>\n</g>\n<!-- 140044135047328+&#45;&gt;140044135047328 -->\n<g id=\"edge3\" class=\"edge\">\n<title>140044135047328+&#45;&gt;140044135047328</title>\n<path fill=\"none\" stroke=\"black\" d=\"M5203.13,-398.5C5210.67,-398.5 5219.39,-398.5 5228.64,-398.5\"/>\n<polygon fill=\"black\" stroke=\"black\" points=\"5228.87,-402 5238.87,-398.5 5228.87,-395 5228.87,-402\"/>\n</g>\n<!-- 140046568390816 -->\n<g id=\"node9\" class=\"node\">\n<title>140046568390816</title>\n<polygon fill=\"none\" stroke=\"black\" points=\"2496.5,-278.5 2496.5,-314.5 2678.5,-314.5 2678.5,-278.5 2496.5,-278.5\"/>\n<text text-anchor=\"middle\" x=\"2506.5\" y=\"-292.8\" font-family=\"Times,serif\" font-size=\"14.00\"> </text>\n<polyline fill=\"none\" stroke=\"black\" points=\"2516.5,-278.5 2516.5,-314.5 \"/>\n<text text-anchor=\"middle\" x=\"2556.5\" y=\"-292.8\" font-family=\"Times,serif\" font-size=\"14.00\">data 0.8210</text>\n<polyline fill=\"none\" stroke=\"black\" points=\"2596.5,-278.5 2596.5,-314.5 \"/>\n<text text-anchor=\"middle\" x=\"2637.5\" y=\"-292.8\" font-family=\"Times,serif\" font-size=\"14.00\">grad 0.0000</text>\n</g>\n<!-- 140044166377136* -->\n<g id=\"node95\" class=\"node\">\n<title>140044166377136*</title>\n<ellipse fill=\"none\" stroke=\"black\" cx=\"2744\" cy=\"-296.5\" rx=\"27\" ry=\"18\"/>\n<text text-anchor=\"middle\" x=\"2744\" y=\"-292.8\" font-family=\"Times,serif\" font-size=\"14.00\">*</text>\n</g>\n<!-- 140046568390816&#45;&gt;140044166377136* -->\n<g id=\"edge77\" class=\"edge\">\n<title>140046568390816&#45;&gt;140044166377136*</title>\n<path fill=\"none\" stroke=\"black\" d=\"M2678.82,-296.5C2688.57,-296.5 2698.04,-296.5 2706.57,-296.5\"/>\n<polygon fill=\"black\" stroke=\"black\" points=\"2706.83,-300 2716.83,-296.5 2706.83,-293 2706.83,-300\"/>\n</g>\n<!-- 140044135047424 -->\n<g id=\"node10\" class=\"node\">\n<title>140044135047424</title>\n<polygon fill=\"none\" stroke=\"black\" points=\"5547,-380.5 5547,-416.5 5729,-416.5 5729,-380.5 5547,-380.5\"/>\n<text text-anchor=\"middle\" x=\"5557\" y=\"-394.8\" font-family=\"Times,serif\" font-size=\"14.00\"> </text>\n<polyline fill=\"none\" stroke=\"black\" points=\"5567,-380.5 5567,-416.5 \"/>\n<text text-anchor=\"middle\" x=\"5607\" y=\"-394.8\" font-family=\"Times,serif\" font-size=\"14.00\">data 0.9879</text>\n<polyline fill=\"none\" stroke=\"black\" points=\"5647,-380.5 5647,-416.5 \"/>\n<text text-anchor=\"middle\" x=\"5688\" y=\"-394.8\" font-family=\"Times,serif\" font-size=\"14.00\">grad 0.0000</text>\n</g>\n<!-- 140044135047424tanh&#45;&gt;140044135047424 -->\n<g id=\"edge4\" class=\"edge\">\n<title>140044135047424tanh&#45;&gt;140044135047424</title>\n<path fill=\"none\" stroke=\"black\" d=\"M5511.13,-398.5C5518.67,-398.5 5527.39,-398.5 5536.64,-398.5\"/>\n<polygon fill=\"black\" stroke=\"black\" points=\"5536.87,-402 5546.87,-398.5 5536.87,-395 5536.87,-402\"/>\n</g>\n<!-- 140046568390960 -->\n<g id=\"node12\" class=\"node\">\n<title>140046568390960</title>\n<polygon fill=\"none\" stroke=\"black\" points=\"1244.5,-55.5 1244.5,-91.5 1426.5,-91.5 1426.5,-55.5 1244.5,-55.5\"/>\n<text text-anchor=\"middle\" x=\"1254.5\" y=\"-69.8\" font-family=\"Times,serif\" font-size=\"14.00\"> </text>\n<polyline fill=\"none\" stroke=\"black\" points=\"1264.5,-55.5 1264.5,-91.5 \"/>\n<text text-anchor=\"middle\" x=\"1304.5\" y=\"-69.8\" font-family=\"Times,serif\" font-size=\"14.00\">data 0.2350</text>\n<polyline fill=\"none\" stroke=\"black\" points=\"1344.5,-55.5 1344.5,-91.5 \"/>\n<text text-anchor=\"middle\" x=\"1385.5\" y=\"-69.8\" font-family=\"Times,serif\" font-size=\"14.00\">grad 0.0000</text>\n</g>\n<!-- 140046568699360+ -->\n<g id=\"node141\" class=\"node\">\n<title>140046568699360+</title>\n<ellipse fill=\"none\" stroke=\"black\" cx=\"1492\" cy=\"-128.5\" rx=\"27\" ry=\"18\"/>\n<text text-anchor=\"middle\" x=\"1492\" y=\"-124.8\" font-family=\"Times,serif\" font-size=\"14.00\">+</text>\n</g>\n<!-- 140046568390960&#45;&gt;140046568699360+ -->\n<g id=\"edge84\" class=\"edge\">\n<title>140046568390960&#45;&gt;140046568699360+</title>\n<path fill=\"none\" stroke=\"black\" d=\"M1402.56,-91.55C1411.51,-94.36 1420.53,-97.37 1429,-100.5 1439.49,-104.38 1450.71,-109.22 1460.68,-113.78\"/>\n<polygon fill=\"black\" stroke=\"black\" points=\"1459.25,-116.98 1469.79,-118.03 1462.2,-110.63 1459.25,-116.98\"/>\n</g>\n<!-- 140044166029808 -->\n<g id=\"node13\" class=\"node\">\n<title>140044166029808</title>\n<polygon fill=\"none\" stroke=\"black\" points=\"618.5,-715.5 618.5,-751.5 800.5,-751.5 800.5,-715.5 618.5,-715.5\"/>\n<text text-anchor=\"middle\" x=\"628.5\" y=\"-729.8\" font-family=\"Times,serif\" font-size=\"14.00\"> </text>\n<polyline fill=\"none\" stroke=\"black\" points=\"638.5,-715.5 638.5,-751.5 \"/>\n<text text-anchor=\"middle\" x=\"678.5\" y=\"-729.8\" font-family=\"Times,serif\" font-size=\"14.00\">data 2.0226</text>\n<polyline fill=\"none\" stroke=\"black\" points=\"718.5,-715.5 718.5,-751.5 \"/>\n<text text-anchor=\"middle\" x=\"759.5\" y=\"-729.8\" font-family=\"Times,serif\" font-size=\"14.00\">grad 0.0000</text>\n</g>\n<!-- 140044166030048+ -->\n<g id=\"node17\" class=\"node\">\n<title>140044166030048+</title>\n<ellipse fill=\"none\" stroke=\"black\" cx=\"866\" cy=\"-733.5\" rx=\"27\" ry=\"18\"/>\n<text text-anchor=\"middle\" x=\"866\" y=\"-729.8\" font-family=\"Times,serif\" font-size=\"14.00\">+</text>\n</g>\n<!-- 140044166029808&#45;&gt;140044166030048+ -->\n<g id=\"edge79\" class=\"edge\">\n<title>140044166029808&#45;&gt;140044166030048+</title>\n<path fill=\"none\" stroke=\"black\" d=\"M800.82,-733.5C810.57,-733.5 820.04,-733.5 828.57,-733.5\"/>\n<polygon fill=\"black\" stroke=\"black\" points=\"828.83,-737 838.83,-733.5 828.83,-730 828.83,-737\"/>\n</g>\n<!-- 140044166029808* -->\n<g id=\"node14\" class=\"node\">\n<title>140044166029808*</title>\n<ellipse fill=\"none\" stroke=\"black\" cx=\"553\" cy=\"-733.5\" rx=\"27\" ry=\"18\"/>\n<text text-anchor=\"middle\" x=\"553\" y=\"-729.8\" font-family=\"Times,serif\" font-size=\"14.00\">*</text>\n</g>\n<!-- 140044166029808*&#45;&gt;140044166029808 -->\n<g id=\"edge5\" class=\"edge\">\n<title>140044166029808*&#45;&gt;140044166029808</title>\n<path fill=\"none\" stroke=\"black\" d=\"M580.21,-733.5C588.34,-733.5 597.85,-733.5 607.94,-733.5\"/>\n<polygon fill=\"black\" stroke=\"black\" points=\"608.19,-737 618.19,-733.5 608.19,-730 608.19,-737\"/>\n</g>\n<!-- 140046568391296 -->\n<g id=\"node15\" class=\"node\">\n<title>140046568391296</title>\n<polygon fill=\"none\" stroke=\"black\" points=\"1557.5,-55.5 1557.5,-91.5 1739.5,-91.5 1739.5,-55.5 1557.5,-55.5\"/>\n<text text-anchor=\"middle\" x=\"1567.5\" y=\"-69.8\" font-family=\"Times,serif\" font-size=\"14.00\"> </text>\n<polyline fill=\"none\" stroke=\"black\" points=\"1577.5,-55.5 1577.5,-91.5 \"/>\n<text text-anchor=\"middle\" x=\"1617.5\" y=\"-69.8\" font-family=\"Times,serif\" font-size=\"14.00\">data 0.1962</text>\n<polyline fill=\"none\" stroke=\"black\" points=\"1657.5,-55.5 1657.5,-91.5 \"/>\n<text text-anchor=\"middle\" x=\"1698.5\" y=\"-69.8\" font-family=\"Times,serif\" font-size=\"14.00\">grad 0.0000</text>\n</g>\n<!-- 140044165994384* -->\n<g id=\"node155\" class=\"node\">\n<title>140044165994384*</title>\n<ellipse fill=\"none\" stroke=\"black\" cx=\"1805\" cy=\"-73.5\" rx=\"27\" ry=\"18\"/>\n<text text-anchor=\"middle\" x=\"1805\" y=\"-69.8\" font-family=\"Times,serif\" font-size=\"14.00\">*</text>\n</g>\n<!-- 140046568391296&#45;&gt;140044165994384* -->\n<g id=\"edge198\" class=\"edge\">\n<title>140046568391296&#45;&gt;140044165994384*</title>\n<path fill=\"none\" stroke=\"black\" d=\"M1739.82,-73.5C1749.57,-73.5 1759.04,-73.5 1767.57,-73.5\"/>\n<polygon fill=\"black\" stroke=\"black\" points=\"1767.83,-77 1777.83,-73.5 1767.83,-70 1767.83,-77\"/>\n</g>\n<!-- 140044166030048 -->\n<g id=\"node16\" class=\"node\">\n<title>140044166030048</title>\n<polygon fill=\"none\" stroke=\"black\" points=\"931.5,-715.5 931.5,-751.5 1113.5,-751.5 1113.5,-715.5 931.5,-715.5\"/>\n<text text-anchor=\"middle\" x=\"941.5\" y=\"-729.8\" font-family=\"Times,serif\" font-size=\"14.00\"> </text>\n<polyline fill=\"none\" stroke=\"black\" points=\"951.5,-715.5 951.5,-751.5 \"/>\n<text text-anchor=\"middle\" x=\"991.5\" y=\"-729.8\" font-family=\"Times,serif\" font-size=\"14.00\">data 2.7345</text>\n<polyline fill=\"none\" stroke=\"black\" points=\"1031.5,-715.5 1031.5,-751.5 \"/>\n<text text-anchor=\"middle\" x=\"1072.5\" y=\"-729.8\" font-family=\"Times,serif\" font-size=\"14.00\">grad 0.0000</text>\n</g>\n<!-- 140044166030048&#45;&gt;140044166030768+ -->\n<g id=\"edge163\" class=\"edge\">\n<title>140044166030048&#45;&gt;140044166030768+</title>\n<path fill=\"none\" stroke=\"black\" d=\"M1113.82,-733.5C1123.57,-733.5 1133.04,-733.5 1141.57,-733.5\"/>\n<polygon fill=\"black\" stroke=\"black\" points=\"1141.83,-737 1151.83,-733.5 1141.83,-730 1141.83,-737\"/>\n</g>\n<!-- 140044166030048+&#45;&gt;140044166030048 -->\n<g id=\"edge6\" class=\"edge\">\n<title>140044166030048+&#45;&gt;140044166030048</title>\n<path fill=\"none\" stroke=\"black\" d=\"M893.21,-733.5C901.34,-733.5 910.85,-733.5 920.94,-733.5\"/>\n<polygon fill=\"black\" stroke=\"black\" points=\"921.19,-737 931.19,-733.5 921.19,-730 921.19,-737\"/>\n</g>\n<!-- 140046568391392 -->\n<g id=\"node18\" class=\"node\">\n<title>140046568391392</title>\n<polygon fill=\"none\" stroke=\"black\" points=\"1868,-660.5 1868,-696.5 2055,-696.5 2055,-660.5 1868,-660.5\"/>\n<text text-anchor=\"middle\" x=\"1878\" y=\"-674.8\" font-family=\"Times,serif\" font-size=\"14.00\"> </text>\n<polyline fill=\"none\" stroke=\"black\" points=\"1888,-660.5 1888,-696.5 \"/>\n<text text-anchor=\"middle\" x=\"1930.5\" y=\"-674.8\" font-family=\"Times,serif\" font-size=\"14.00\">data &#45;0.9559</text>\n<polyline fill=\"none\" stroke=\"black\" points=\"1973,-660.5 1973,-696.5 \"/>\n<text text-anchor=\"middle\" x=\"2014\" y=\"-674.8\" font-family=\"Times,serif\" font-size=\"14.00\">grad 0.0000</text>\n</g>\n<!-- 140044156669760* -->\n<g id=\"node111\" class=\"node\">\n<title>140044156669760*</title>\n<ellipse fill=\"none\" stroke=\"black\" cx=\"2118\" cy=\"-678.5\" rx=\"27\" ry=\"18\"/>\n<text text-anchor=\"middle\" x=\"2118\" y=\"-674.8\" font-family=\"Times,serif\" font-size=\"14.00\">*</text>\n</g>\n<!-- 140046568391392&#45;&gt;140044156669760* -->\n<g id=\"edge190\" class=\"edge\">\n<title>140046568391392&#45;&gt;140044156669760*</title>\n<path fill=\"none\" stroke=\"black\" d=\"M2055.05,-678.5C2064.06,-678.5 2072.79,-678.5 2080.7,-678.5\"/>\n<polygon fill=\"black\" stroke=\"black\" points=\"2080.95,-682 2090.95,-678.5 2080.95,-675 2080.95,-682\"/>\n</g>\n<!-- 140044166030528 -->\n<g id=\"node19\" class=\"node\">\n<title>140044166030528</title>\n<polygon fill=\"none\" stroke=\"black\" points=\"308,-770.5 308,-806.5 490,-806.5 490,-770.5 308,-770.5\"/>\n<text text-anchor=\"middle\" x=\"318\" y=\"-784.8\" font-family=\"Times,serif\" font-size=\"14.00\"> </text>\n<polyline fill=\"none\" stroke=\"black\" points=\"328,-770.5 328,-806.5 \"/>\n<text text-anchor=\"middle\" x=\"368\" y=\"-784.8\" font-family=\"Times,serif\" font-size=\"14.00\">data 3.0000</text>\n<polyline fill=\"none\" stroke=\"black\" points=\"408,-770.5 408,-806.5 \"/>\n<text text-anchor=\"middle\" x=\"449\" y=\"-784.8\" font-family=\"Times,serif\" font-size=\"14.00\">grad 0.0000</text>\n</g>\n<!-- 140044166030528&#45;&gt;140044166029808* -->\n<g id=\"edge195\" class=\"edge\">\n<title>140044166030528&#45;&gt;140044166029808*</title>\n<path fill=\"none\" stroke=\"black\" d=\"M461.3,-770.41C470.97,-767.28 480.8,-763.92 490,-760.5 500.23,-756.69 511.21,-752.09 521.05,-747.77\"/>\n<polygon fill=\"black\" stroke=\"black\" points=\"522.72,-750.85 530.43,-743.58 519.87,-744.46 522.72,-750.85\"/>\n</g>\n<!-- 140046568391920 -->\n<g id=\"node20\" class=\"node\">\n<title>140046568391920</title>\n<polygon fill=\"none\" stroke=\"black\" points=\"2494,-333.5 2494,-369.5 2681,-369.5 2681,-333.5 2494,-333.5\"/>\n<text text-anchor=\"middle\" x=\"2504\" y=\"-347.8\" font-family=\"Times,serif\" font-size=\"14.00\"> </text>\n<polyline fill=\"none\" stroke=\"black\" points=\"2514,-333.5 2514,-369.5 \"/>\n<text text-anchor=\"middle\" x=\"2556.5\" y=\"-347.8\" font-family=\"Times,serif\" font-size=\"14.00\">data &#45;0.9700</text>\n<polyline fill=\"none\" stroke=\"black\" points=\"2599,-333.5 2599,-369.5 \"/>\n<text text-anchor=\"middle\" x=\"2640\" y=\"-347.8\" font-family=\"Times,serif\" font-size=\"14.00\">grad 0.0000</text>\n</g>\n<!-- 140044135008384* -->\n<g id=\"node47\" class=\"node\">\n<title>140044135008384*</title>\n<ellipse fill=\"none\" stroke=\"black\" cx=\"2744\" cy=\"-351.5\" rx=\"27\" ry=\"18\"/>\n<text text-anchor=\"middle\" x=\"2744\" y=\"-347.8\" font-family=\"Times,serif\" font-size=\"14.00\">*</text>\n</g>\n<!-- 140046568391920&#45;&gt;140044135008384* -->\n<g id=\"edge120\" class=\"edge\">\n<title>140046568391920&#45;&gt;140044135008384*</title>\n<path fill=\"none\" stroke=\"black\" d=\"M2681.05,-351.5C2690.06,-351.5 2698.79,-351.5 2706.7,-351.5\"/>\n<polygon fill=\"black\" stroke=\"black\" points=\"2706.95,-355 2716.95,-351.5 2706.95,-348 2706.95,-355\"/>\n</g>\n<!-- 140046568391968 -->\n<g id=\"node21\" class=\"node\">\n<title>140046568391968</title>\n<polygon fill=\"none\" stroke=\"black\" points=\"2181,-275.5 2181,-311.5 2368,-311.5 2368,-275.5 2181,-275.5\"/>\n<text text-anchor=\"middle\" x=\"2191\" y=\"-289.8\" font-family=\"Times,serif\" font-size=\"14.00\"> </text>\n<polyline fill=\"none\" stroke=\"black\" points=\"2201,-275.5 2201,-311.5 \"/>\n<text text-anchor=\"middle\" x=\"2243.5\" y=\"-289.8\" font-family=\"Times,serif\" font-size=\"14.00\">data &#45;0.3866</text>\n<polyline fill=\"none\" stroke=\"black\" points=\"2286,-275.5 2286,-311.5 \"/>\n<text text-anchor=\"middle\" x=\"2327\" y=\"-289.8\" font-family=\"Times,serif\" font-size=\"14.00\">grad 0.0000</text>\n</g>\n<!-- 140044157095744* -->\n<g id=\"node109\" class=\"node\">\n<title>140044157095744*</title>\n<ellipse fill=\"none\" stroke=\"black\" cx=\"2431\" cy=\"-293.5\" rx=\"27\" ry=\"18\"/>\n<text text-anchor=\"middle\" x=\"2431\" y=\"-289.8\" font-family=\"Times,serif\" font-size=\"14.00\">*</text>\n</g>\n<!-- 140046568391968&#45;&gt;140044157095744* -->\n<g id=\"edge91\" class=\"edge\">\n<title>140046568391968&#45;&gt;140044157095744*</title>\n<path fill=\"none\" stroke=\"black\" d=\"M2368.05,-293.5C2377.06,-293.5 2385.79,-293.5 2393.7,-293.5\"/>\n<polygon fill=\"black\" stroke=\"black\" points=\"2393.95,-297 2403.95,-293.5 2393.95,-290 2393.95,-297\"/>\n</g>\n<!-- 140046568392016 -->\n<g id=\"node22\" class=\"node\">\n<title>140046568392016</title>\n<polygon fill=\"none\" stroke=\"black\" points=\"1870.5,-550.5 1870.5,-586.5 2052.5,-586.5 2052.5,-550.5 1870.5,-550.5\"/>\n<text text-anchor=\"middle\" x=\"1880.5\" y=\"-564.8\" font-family=\"Times,serif\" font-size=\"14.00\"> </text>\n<polyline fill=\"none\" stroke=\"black\" points=\"1890.5,-550.5 1890.5,-586.5 \"/>\n<text text-anchor=\"middle\" x=\"1930.5\" y=\"-564.8\" font-family=\"Times,serif\" font-size=\"14.00\">data 0.9127</text>\n<polyline fill=\"none\" stroke=\"black\" points=\"1970.5,-550.5 1970.5,-586.5 \"/>\n<text text-anchor=\"middle\" x=\"2011.5\" y=\"-564.8\" font-family=\"Times,serif\" font-size=\"14.00\">grad 0.0000</text>\n</g>\n<!-- 140044165982576* -->\n<g id=\"node55\" class=\"node\">\n<title>140044165982576*</title>\n<ellipse fill=\"none\" stroke=\"black\" cx=\"2118\" cy=\"-568.5\" rx=\"27\" ry=\"18\"/>\n<text text-anchor=\"middle\" x=\"2118\" y=\"-564.8\" font-family=\"Times,serif\" font-size=\"14.00\">*</text>\n</g>\n<!-- 140046568392016&#45;&gt;140044165982576* -->\n<g id=\"edge171\" class=\"edge\">\n<title>140046568392016&#45;&gt;140044165982576*</title>\n<path fill=\"none\" stroke=\"black\" d=\"M2052.82,-568.5C2062.57,-568.5 2072.04,-568.5 2080.57,-568.5\"/>\n<polygon fill=\"black\" stroke=\"black\" points=\"2080.83,-572 2090.83,-568.5 2080.83,-565 2080.83,-572\"/>\n</g>\n<!-- 140044166030720 -->\n<g id=\"node23\" class=\"node\">\n<title>140044166030720</title>\n<polygon fill=\"none\" stroke=\"black\" points=\"616,-825.5 616,-861.5 803,-861.5 803,-825.5 616,-825.5\"/>\n<text text-anchor=\"middle\" x=\"626\" y=\"-839.8\" font-family=\"Times,serif\" font-size=\"14.00\"> </text>\n<polyline fill=\"none\" stroke=\"black\" points=\"636,-825.5 636,-861.5 \"/>\n<text text-anchor=\"middle\" x=\"678.5\" y=\"-839.8\" font-family=\"Times,serif\" font-size=\"14.00\">data &#45;1.0000</text>\n<polyline fill=\"none\" stroke=\"black\" points=\"721,-825.5 721,-861.5 \"/>\n<text text-anchor=\"middle\" x=\"762\" y=\"-839.8\" font-family=\"Times,serif\" font-size=\"14.00\">grad 0.0000</text>\n</g>\n<!-- 140044166030720&#45;&gt;140044166029424* -->\n<g id=\"edge82\" class=\"edge\">\n<title>140044166030720&#45;&gt;140044166029424*</title>\n<path fill=\"none\" stroke=\"black\" d=\"M774.02,-825.35C783.79,-822.24 793.71,-818.92 803,-815.5 813.25,-811.73 824.23,-807.14 834.07,-802.82\"/>\n<polygon fill=\"black\" stroke=\"black\" points=\"835.74,-805.9 843.45,-798.63 832.89,-799.51 835.74,-805.9\"/>\n</g>\n<!-- 140044166030768 -->\n<g id=\"node24\" class=\"node\">\n<title>140044166030768</title>\n<polygon fill=\"none\" stroke=\"black\" points=\"1244.5,-715.5 1244.5,-751.5 1426.5,-751.5 1426.5,-715.5 1244.5,-715.5\"/>\n<text text-anchor=\"middle\" x=\"1254.5\" y=\"-729.8\" font-family=\"Times,serif\" font-size=\"14.00\"> </text>\n<polyline fill=\"none\" stroke=\"black\" points=\"1264.5,-715.5 1264.5,-751.5 \"/>\n<text text-anchor=\"middle\" x=\"1304.5\" y=\"-729.8\" font-family=\"Times,serif\" font-size=\"14.00\">data 3.5462</text>\n<polyline fill=\"none\" stroke=\"black\" points=\"1344.5,-715.5 1344.5,-751.5 \"/>\n<text text-anchor=\"middle\" x=\"1385.5\" y=\"-729.8\" font-family=\"Times,serif\" font-size=\"14.00\">grad 0.0000</text>\n</g>\n<!-- 140044156731104tanh -->\n<g id=\"node193\" class=\"node\">\n<title>140044156731104tanh</title>\n<ellipse fill=\"none\" stroke=\"black\" cx=\"1492\" cy=\"-733.5\" rx=\"27\" ry=\"18\"/>\n<text text-anchor=\"middle\" x=\"1492\" y=\"-729.8\" font-family=\"Times,serif\" font-size=\"14.00\">tanh</text>\n</g>\n<!-- 140044166030768&#45;&gt;140044156731104tanh -->\n<g id=\"edge160\" class=\"edge\">\n<title>140044166030768&#45;&gt;140044156731104tanh</title>\n<path fill=\"none\" stroke=\"black\" d=\"M1426.82,-733.5C1436.57,-733.5 1446.04,-733.5 1454.57,-733.5\"/>\n<polygon fill=\"black\" stroke=\"black\" points=\"1454.83,-737 1464.83,-733.5 1454.83,-730 1454.83,-737\"/>\n</g>\n<!-- 140044166030768+&#45;&gt;140044166030768 -->\n<g id=\"edge7\" class=\"edge\">\n<title>140044166030768+&#45;&gt;140044166030768</title>\n<path fill=\"none\" stroke=\"black\" d=\"M1206.21,-733.5C1214.34,-733.5 1223.85,-733.5 1233.94,-733.5\"/>\n<polygon fill=\"black\" stroke=\"black\" points=\"1234.19,-737 1244.19,-733.5 1234.19,-730 1234.19,-737\"/>\n</g>\n<!-- 140046568392112 -->\n<g id=\"node26\" class=\"node\">\n<title>140046568392112</title>\n<polygon fill=\"none\" stroke=\"black\" points=\"2494,-58.5 2494,-94.5 2681,-94.5 2681,-58.5 2494,-58.5\"/>\n<text text-anchor=\"middle\" x=\"2504\" y=\"-72.8\" font-family=\"Times,serif\" font-size=\"14.00\"> </text>\n<polyline fill=\"none\" stroke=\"black\" points=\"2514,-58.5 2514,-94.5 \"/>\n<text text-anchor=\"middle\" x=\"2556.5\" y=\"-72.8\" font-family=\"Times,serif\" font-size=\"14.00\">data &#45;0.4760</text>\n<polyline fill=\"none\" stroke=\"black\" points=\"2599,-58.5 2599,-94.5 \"/>\n<text text-anchor=\"middle\" x=\"2640\" y=\"-72.8\" font-family=\"Times,serif\" font-size=\"14.00\">grad 0.0000</text>\n</g>\n<!-- 140046804232368* -->\n<g id=\"node49\" class=\"node\">\n<title>140046804232368*</title>\n<ellipse fill=\"none\" stroke=\"black\" cx=\"2744\" cy=\"-131.5\" rx=\"27\" ry=\"18\"/>\n<text text-anchor=\"middle\" x=\"2744\" y=\"-127.8\" font-family=\"Times,serif\" font-size=\"14.00\">*</text>\n</g>\n<!-- 140046568392112&#45;&gt;140046804232368* -->\n<g id=\"edge106\" class=\"edge\">\n<title>140046568392112&#45;&gt;140046804232368*</title>\n<path fill=\"none\" stroke=\"black\" d=\"M2654.56,-94.55C2663.51,-97.36 2672.53,-100.37 2681,-103.5 2691.49,-107.38 2702.71,-112.22 2712.68,-116.78\"/>\n<polygon fill=\"black\" stroke=\"black\" points=\"2711.25,-119.98 2721.79,-121.03 2714.2,-113.63 2711.25,-119.98\"/>\n</g>\n<!-- 140046568392256 -->\n<g id=\"node27\" class=\"node\">\n<title>140046568392256</title>\n<polygon fill=\"none\" stroke=\"black\" points=\"1868,-880.5 1868,-916.5 2055,-916.5 2055,-880.5 1868,-880.5\"/>\n<text text-anchor=\"middle\" x=\"1878\" y=\"-894.8\" font-family=\"Times,serif\" font-size=\"14.00\"> </text>\n<polyline fill=\"none\" stroke=\"black\" points=\"1888,-880.5 1888,-916.5 \"/>\n<text text-anchor=\"middle\" x=\"1930.5\" y=\"-894.8\" font-family=\"Times,serif\" font-size=\"14.00\">data &#45;0.6680</text>\n<polyline fill=\"none\" stroke=\"black\" points=\"1973,-880.5 1973,-916.5 \"/>\n<text text-anchor=\"middle\" x=\"2014\" y=\"-894.8\" font-family=\"Times,serif\" font-size=\"14.00\">grad 0.0000</text>\n</g>\n<!-- 140046568433984+ -->\n<g id=\"node52\" class=\"node\">\n<title>140046568433984+</title>\n<ellipse fill=\"none\" stroke=\"black\" cx=\"2118\" cy=\"-898.5\" rx=\"27\" ry=\"18\"/>\n<text text-anchor=\"middle\" x=\"2118\" y=\"-894.8\" font-family=\"Times,serif\" font-size=\"14.00\">+</text>\n</g>\n<!-- 140046568392256&#45;&gt;140046568433984+ -->\n<g id=\"edge140\" class=\"edge\">\n<title>140046568392256&#45;&gt;140046568433984+</title>\n<path fill=\"none\" stroke=\"black\" d=\"M2055.05,-898.5C2064.06,-898.5 2072.79,-898.5 2080.7,-898.5\"/>\n<polygon fill=\"black\" stroke=\"black\" points=\"2080.95,-902 2090.95,-898.5 2080.95,-895 2080.95,-902\"/>\n</g>\n<!-- 140046568392304 -->\n<g id=\"node28\" class=\"node\">\n<title>140046568392304</title>\n<polygon fill=\"none\" stroke=\"black\" points=\"1870.5,-825.5 1870.5,-861.5 2052.5,-861.5 2052.5,-825.5 1870.5,-825.5\"/>\n<text text-anchor=\"middle\" x=\"1880.5\" y=\"-839.8\" font-family=\"Times,serif\" font-size=\"14.00\"> </text>\n<polyline fill=\"none\" stroke=\"black\" points=\"1890.5,-825.5 1890.5,-861.5 \"/>\n<text text-anchor=\"middle\" x=\"1930.5\" y=\"-839.8\" font-family=\"Times,serif\" font-size=\"14.00\">data 0.1394</text>\n<polyline fill=\"none\" stroke=\"black\" points=\"1970.5,-825.5 1970.5,-861.5 \"/>\n<text text-anchor=\"middle\" x=\"2011.5\" y=\"-839.8\" font-family=\"Times,serif\" font-size=\"14.00\">grad 0.0000</text>\n</g>\n<!-- 140044157056720+ -->\n<g id=\"node146\" class=\"node\">\n<title>140044157056720+</title>\n<ellipse fill=\"none\" stroke=\"black\" cx=\"2118\" cy=\"-788.5\" rx=\"27\" ry=\"18\"/>\n<text text-anchor=\"middle\" x=\"2118\" y=\"-784.8\" font-family=\"Times,serif\" font-size=\"14.00\">+</text>\n</g>\n<!-- 140046568392304&#45;&gt;140044157056720+ -->\n<g id=\"edge87\" class=\"edge\">\n<title>140046568392304&#45;&gt;140044157056720+</title>\n<path fill=\"none\" stroke=\"black\" d=\"M2026.02,-825.35C2035.79,-822.24 2045.71,-818.92 2055,-815.5 2065.25,-811.73 2076.23,-807.14 2086.07,-802.82\"/>\n<polygon fill=\"black\" stroke=\"black\" points=\"2087.74,-805.9 2095.45,-798.63 2084.89,-799.51 2087.74,-805.9\"/>\n</g>\n<!-- 140044165981808 -->\n<g id=\"node29\" class=\"node\">\n<title>140044165981808</title>\n<polygon fill=\"none\" stroke=\"black\" points=\"2181,-495.5 2181,-531.5 2368,-531.5 2368,-495.5 2181,-495.5\"/>\n<text text-anchor=\"middle\" x=\"2191\" y=\"-509.8\" font-family=\"Times,serif\" font-size=\"14.00\"> </text>\n<polyline fill=\"none\" stroke=\"black\" points=\"2201,-495.5 2201,-531.5 \"/>\n<text text-anchor=\"middle\" x=\"2243.5\" y=\"-509.8\" font-family=\"Times,serif\" font-size=\"14.00\">data &#45;1.5977</text>\n<polyline fill=\"none\" stroke=\"black\" points=\"2286,-495.5 2286,-531.5 \"/>\n<text text-anchor=\"middle\" x=\"2327\" y=\"-509.8\" font-family=\"Times,serif\" font-size=\"14.00\">grad 0.0000</text>\n</g>\n<!-- 140044165981808&#45;&gt;140044165980272+ -->\n<g id=\"edge81\" class=\"edge\">\n<title>140044165981808&#45;&gt;140044165980272+</title>\n<path fill=\"none\" stroke=\"black\" d=\"M2368.05,-515.3C2377.06,-515.47 2385.79,-515.64 2393.7,-515.8\"/>\n<polygon fill=\"black\" stroke=\"black\" points=\"2393.88,-519.3 2403.95,-515.99 2394.02,-512.3 2393.88,-519.3\"/>\n</g>\n<!-- 140044165981808+&#45;&gt;140044165981808 -->\n<g id=\"edge8\" class=\"edge\">\n<title>140044165981808+&#45;&gt;140044165981808</title>\n<path fill=\"none\" stroke=\"black\" d=\"M2145.21,-513.5C2152.73,-513.5 2161.43,-513.5 2170.67,-513.5\"/>\n<polygon fill=\"black\" stroke=\"black\" points=\"2170.89,-517 2180.89,-513.5 2170.89,-510 2170.89,-517\"/>\n</g>\n<!-- 140046824670880 -->\n<g id=\"node31\" class=\"node\">\n<title>140046824670880</title>\n<polygon fill=\"none\" stroke=\"black\" points=\"1242,-110.5 1242,-146.5 1429,-146.5 1429,-110.5 1242,-110.5\"/>\n<text text-anchor=\"middle\" x=\"1252\" y=\"-124.8\" font-family=\"Times,serif\" font-size=\"14.00\"> </text>\n<polyline fill=\"none\" stroke=\"black\" points=\"1262,-110.5 1262,-146.5 \"/>\n<text text-anchor=\"middle\" x=\"1304.5\" y=\"-124.8\" font-family=\"Times,serif\" font-size=\"14.00\">data &#45;1.7383</text>\n<polyline fill=\"none\" stroke=\"black\" points=\"1347,-110.5 1347,-146.5 \"/>\n<text text-anchor=\"middle\" x=\"1388\" y=\"-124.8\" font-family=\"Times,serif\" font-size=\"14.00\">grad 0.0000</text>\n</g>\n<!-- 140046824670880&#45;&gt;140046568699360+ -->\n<g id=\"edge123\" class=\"edge\">\n<title>140046824670880&#45;&gt;140046568699360+</title>\n<path fill=\"none\" stroke=\"black\" d=\"M1429.05,-128.5C1438.06,-128.5 1446.79,-128.5 1454.7,-128.5\"/>\n<polygon fill=\"black\" stroke=\"black\" points=\"1454.95,-132 1464.95,-128.5 1454.95,-125 1454.95,-132\"/>\n</g>\n<!-- 140046824670880* -->\n<g id=\"node32\" class=\"node\">\n<title>140046824670880*</title>\n<ellipse fill=\"none\" stroke=\"black\" cx=\"1179\" cy=\"-128.5\" rx=\"27\" ry=\"18\"/>\n<text text-anchor=\"middle\" x=\"1179\" y=\"-124.8\" font-family=\"Times,serif\" font-size=\"14.00\">*</text>\n</g>\n<!-- 140046824670880*&#45;&gt;140046824670880 -->\n<g id=\"edge9\" class=\"edge\">\n<title>140046824670880*&#45;&gt;140046824670880</title>\n<path fill=\"none\" stroke=\"black\" d=\"M1206.21,-128.5C1213.73,-128.5 1222.43,-128.5 1231.67,-128.5\"/>\n<polygon fill=\"black\" stroke=\"black\" points=\"1231.89,-132 1241.89,-128.5 1231.89,-125 1231.89,-132\"/>\n</g>\n<!-- 140046568392400 -->\n<g id=\"node33\" class=\"node\">\n<title>140046568392400</title>\n<polygon fill=\"none\" stroke=\"black\" points=\"1555,-522.5 1555,-558.5 1742,-558.5 1742,-522.5 1555,-522.5\"/>\n<text text-anchor=\"middle\" x=\"1565\" y=\"-536.8\" font-family=\"Times,serif\" font-size=\"14.00\"> </text>\n<polyline fill=\"none\" stroke=\"black\" points=\"1575,-522.5 1575,-558.5 \"/>\n<text text-anchor=\"middle\" x=\"1617.5\" y=\"-536.8\" font-family=\"Times,serif\" font-size=\"14.00\">data &#45;0.6483</text>\n<polyline fill=\"none\" stroke=\"black\" points=\"1660,-522.5 1660,-558.5 \"/>\n<text text-anchor=\"middle\" x=\"1701\" y=\"-536.8\" font-family=\"Times,serif\" font-size=\"14.00\">grad 0.0000</text>\n</g>\n<!-- 140044165995920* -->\n<g id=\"node187\" class=\"node\">\n<title>140044165995920*</title>\n<ellipse fill=\"none\" stroke=\"black\" cx=\"1805\" cy=\"-540.5\" rx=\"27\" ry=\"18\"/>\n<text text-anchor=\"middle\" x=\"1805\" y=\"-536.8\" font-family=\"Times,serif\" font-size=\"14.00\">*</text>\n</g>\n<!-- 140046568392400&#45;&gt;140044165995920* -->\n<g id=\"edge95\" class=\"edge\">\n<title>140046568392400&#45;&gt;140044165995920*</title>\n<path fill=\"none\" stroke=\"black\" d=\"M1742.05,-540.5C1751.06,-540.5 1759.79,-540.5 1767.7,-540.5\"/>\n<polygon fill=\"black\" stroke=\"black\" points=\"1767.95,-544 1777.95,-540.5 1767.95,-537 1767.95,-544\"/>\n</g>\n<!-- 140044156937984 -->\n<g id=\"node34\" class=\"node\">\n<title>140044156937984</title>\n<polygon fill=\"none\" stroke=\"black\" points=\"2496.5,-580.5 2496.5,-616.5 2678.5,-616.5 2678.5,-580.5 2496.5,-580.5\"/>\n<text text-anchor=\"middle\" x=\"2506.5\" y=\"-594.8\" font-family=\"Times,serif\" font-size=\"14.00\"> </text>\n<polyline fill=\"none\" stroke=\"black\" points=\"2516.5,-580.5 2516.5,-616.5 \"/>\n<text text-anchor=\"middle\" x=\"2556.5\" y=\"-594.8\" font-family=\"Times,serif\" font-size=\"14.00\">data 0.6191</text>\n<polyline fill=\"none\" stroke=\"black\" points=\"2596.5,-580.5 2596.5,-616.5 \"/>\n<text text-anchor=\"middle\" x=\"2637.5\" y=\"-594.8\" font-family=\"Times,serif\" font-size=\"14.00\">grad 0.0000</text>\n</g>\n<!-- 140047322372032+ -->\n<g id=\"node159\" class=\"node\">\n<title>140047322372032+</title>\n<ellipse fill=\"none\" stroke=\"black\" cx=\"2744\" cy=\"-598.5\" rx=\"27\" ry=\"18\"/>\n<text text-anchor=\"middle\" x=\"2744\" y=\"-594.8\" font-family=\"Times,serif\" font-size=\"14.00\">+</text>\n</g>\n<!-- 140044156937984&#45;&gt;140047322372032+ -->\n<g id=\"edge121\" class=\"edge\">\n<title>140044156937984&#45;&gt;140047322372032+</title>\n<path fill=\"none\" stroke=\"black\" d=\"M2678.82,-598.5C2688.57,-598.5 2698.04,-598.5 2706.57,-598.5\"/>\n<polygon fill=\"black\" stroke=\"black\" points=\"2706.83,-602 2716.83,-598.5 2706.83,-595 2706.83,-602\"/>\n</g>\n<!-- 140044156937984*&#45;&gt;140044156937984 -->\n<g id=\"edge10\" class=\"edge\">\n<title>140044156937984*&#45;&gt;140044156937984</title>\n<path fill=\"none\" stroke=\"black\" d=\"M2458.21,-598.5C2466.34,-598.5 2475.85,-598.5 2485.94,-598.5\"/>\n<polygon fill=\"black\" stroke=\"black\" points=\"2486.19,-602 2496.19,-598.5 2486.19,-595 2486.19,-602\"/>\n</g>\n<!-- 140046568392448 -->\n<g id=\"node36\" class=\"node\">\n<title>140046568392448</title>\n<polygon fill=\"none\" stroke=\"black\" points=\"1557.5,-880.5 1557.5,-916.5 1739.5,-916.5 1739.5,-880.5 1557.5,-880.5\"/>\n<text text-anchor=\"middle\" x=\"1567.5\" y=\"-894.8\" font-family=\"Times,serif\" font-size=\"14.00\"> </text>\n<polyline fill=\"none\" stroke=\"black\" points=\"1577.5,-880.5 1577.5,-916.5 \"/>\n<text text-anchor=\"middle\" x=\"1617.5\" y=\"-894.8\" font-family=\"Times,serif\" font-size=\"14.00\">data 0.0233</text>\n<polyline fill=\"none\" stroke=\"black\" points=\"1657.5,-880.5 1657.5,-916.5 \"/>\n<text text-anchor=\"middle\" x=\"1698.5\" y=\"-894.8\" font-family=\"Times,serif\" font-size=\"14.00\">grad 0.0000</text>\n</g>\n<!-- 140044157094304* -->\n<g id=\"node59\" class=\"node\">\n<title>140044157094304*</title>\n<ellipse fill=\"none\" stroke=\"black\" cx=\"1805\" cy=\"-898.5\" rx=\"27\" ry=\"18\"/>\n<text text-anchor=\"middle\" x=\"1805\" y=\"-894.8\" font-family=\"Times,serif\" font-size=\"14.00\">*</text>\n</g>\n<!-- 140046568392448&#45;&gt;140044157094304* -->\n<g id=\"edge187\" class=\"edge\">\n<title>140046568392448&#45;&gt;140044157094304*</title>\n<path fill=\"none\" stroke=\"black\" d=\"M1739.82,-898.5C1749.57,-898.5 1759.04,-898.5 1767.57,-898.5\"/>\n<polygon fill=\"black\" stroke=\"black\" points=\"1767.83,-902 1777.83,-898.5 1767.83,-895 1767.83,-902\"/>\n</g>\n<!-- 140044157093632 -->\n<g id=\"node37\" class=\"node\">\n<title>140044157093632</title>\n<polygon fill=\"none\" stroke=\"black\" points=\"3122.5,-141.5 3122.5,-177.5 3304.5,-177.5 3304.5,-141.5 3122.5,-141.5\"/>\n<text text-anchor=\"middle\" x=\"3132.5\" y=\"-155.8\" font-family=\"Times,serif\" font-size=\"14.00\"> </text>\n<polyline fill=\"none\" stroke=\"black\" points=\"3142.5,-141.5 3142.5,-177.5 \"/>\n<text text-anchor=\"middle\" x=\"3182.5\" y=\"-155.8\" font-family=\"Times,serif\" font-size=\"14.00\">data 1.1082</text>\n<polyline fill=\"none\" stroke=\"black\" points=\"3222.5,-141.5 3222.5,-177.5 \"/>\n<text text-anchor=\"middle\" x=\"3263.5\" y=\"-155.8\" font-family=\"Times,serif\" font-size=\"14.00\">grad 0.0000</text>\n</g>\n<!-- 140044157095120tanh -->\n<g id=\"node82\" class=\"node\">\n<title>140044157095120tanh</title>\n<ellipse fill=\"none\" stroke=\"black\" cx=\"3370\" cy=\"-159.5\" rx=\"27\" ry=\"18\"/>\n<text text-anchor=\"middle\" x=\"3370\" y=\"-155.8\" font-family=\"Times,serif\" font-size=\"14.00\">tanh</text>\n</g>\n<!-- 140044157093632&#45;&gt;140044157095120tanh -->\n<g id=\"edge125\" class=\"edge\">\n<title>140044157093632&#45;&gt;140044157095120tanh</title>\n<path fill=\"none\" stroke=\"black\" d=\"M3304.82,-159.5C3314.57,-159.5 3324.04,-159.5 3332.57,-159.5\"/>\n<polygon fill=\"black\" stroke=\"black\" points=\"3332.83,-163 3342.83,-159.5 3332.83,-156 3332.83,-163\"/>\n</g>\n<!-- 140044157093632+ -->\n<g id=\"node38\" class=\"node\">\n<title>140044157093632+</title>\n<ellipse fill=\"none\" stroke=\"black\" cx=\"3057\" cy=\"-159.5\" rx=\"27\" ry=\"18\"/>\n<text text-anchor=\"middle\" x=\"3057\" y=\"-155.8\" font-family=\"Times,serif\" font-size=\"14.00\">+</text>\n</g>\n<!-- 140044157093632+&#45;&gt;140044157093632 -->\n<g id=\"edge11\" class=\"edge\">\n<title>140044157093632+&#45;&gt;140044157093632</title>\n<path fill=\"none\" stroke=\"black\" d=\"M3084.21,-159.5C3092.34,-159.5 3101.85,-159.5 3111.94,-159.5\"/>\n<polygon fill=\"black\" stroke=\"black\" points=\"3112.19,-163 3122.19,-159.5 3112.19,-156 3112.19,-163\"/>\n</g>\n<!-- 140046568392544 -->\n<g id=\"node39\" class=\"node\">\n<title>140046568392544</title>\n<polygon fill=\"none\" stroke=\"black\" points=\"1868,-317.5 1868,-353.5 2055,-353.5 2055,-317.5 1868,-317.5\"/>\n<text text-anchor=\"middle\" x=\"1878\" y=\"-331.8\" font-family=\"Times,serif\" font-size=\"14.00\"> </text>\n<polyline fill=\"none\" stroke=\"black\" points=\"1888,-317.5 1888,-353.5 \"/>\n<text text-anchor=\"middle\" x=\"1930.5\" y=\"-331.8\" font-family=\"Times,serif\" font-size=\"14.00\">data &#45;0.3601</text>\n<polyline fill=\"none\" stroke=\"black\" points=\"1973,-317.5 1973,-353.5 \"/>\n<text text-anchor=\"middle\" x=\"2014\" y=\"-331.8\" font-family=\"Times,serif\" font-size=\"14.00\">grad 0.0000</text>\n</g>\n<!-- 140046568591952* -->\n<g id=\"node130\" class=\"node\">\n<title>140046568591952*</title>\n<ellipse fill=\"none\" stroke=\"black\" cx=\"2118\" cy=\"-335.5\" rx=\"27\" ry=\"18\"/>\n<text text-anchor=\"middle\" x=\"2118\" y=\"-331.8\" font-family=\"Times,serif\" font-size=\"14.00\">*</text>\n</g>\n<!-- 140046568392544&#45;&gt;140046568591952* -->\n<g id=\"edge131\" class=\"edge\">\n<title>140046568392544&#45;&gt;140046568591952*</title>\n<path fill=\"none\" stroke=\"black\" d=\"M2055.05,-335.5C2064.06,-335.5 2072.79,-335.5 2080.7,-335.5\"/>\n<polygon fill=\"black\" stroke=\"black\" points=\"2080.95,-339 2090.95,-335.5 2080.95,-332 2080.95,-339\"/>\n</g>\n<!-- 140044157093776 -->\n<g id=\"node40\" class=\"node\">\n<title>140044157093776</title>\n<polygon fill=\"none\" stroke=\"black\" points=\"2494,-168.5 2494,-204.5 2681,-204.5 2681,-168.5 2494,-168.5\"/>\n<text text-anchor=\"middle\" x=\"2504\" y=\"-182.8\" font-family=\"Times,serif\" font-size=\"14.00\"> </text>\n<polyline fill=\"none\" stroke=\"black\" points=\"2514,-168.5 2514,-204.5 \"/>\n<text text-anchor=\"middle\" x=\"2556.5\" y=\"-182.8\" font-family=\"Times,serif\" font-size=\"14.00\">data &#45;0.1137</text>\n<polyline fill=\"none\" stroke=\"black\" points=\"2599,-168.5 2599,-204.5 \"/>\n<text text-anchor=\"middle\" x=\"2640\" y=\"-182.8\" font-family=\"Times,serif\" font-size=\"14.00\">grad 0.0000</text>\n</g>\n<!-- 140044157095600+ -->\n<g id=\"node93\" class=\"node\">\n<title>140044157095600+</title>\n<ellipse fill=\"none\" stroke=\"black\" cx=\"2744\" cy=\"-187.5\" rx=\"27\" ry=\"18\"/>\n<text text-anchor=\"middle\" x=\"2744\" y=\"-183.8\" font-family=\"Times,serif\" font-size=\"14.00\">+</text>\n</g>\n<!-- 140044157093776&#45;&gt;140044157095600+ -->\n<g id=\"edge133\" class=\"edge\">\n<title>140044157093776&#45;&gt;140044157095600+</title>\n<path fill=\"none\" stroke=\"black\" d=\"M2681.05,-187.1C2690.06,-187.16 2698.79,-187.21 2706.7,-187.27\"/>\n<polygon fill=\"black\" stroke=\"black\" points=\"2706.93,-190.77 2716.95,-187.33 2706.97,-183.77 2706.93,-190.77\"/>\n</g>\n<!-- 140044157093776+ -->\n<g id=\"node41\" class=\"node\">\n<title>140044157093776+</title>\n<ellipse fill=\"none\" stroke=\"black\" cx=\"2431\" cy=\"-186.5\" rx=\"27\" ry=\"18\"/>\n<text text-anchor=\"middle\" x=\"2431\" y=\"-182.8\" font-family=\"Times,serif\" font-size=\"14.00\">+</text>\n</g>\n<!-- 140044157093776+&#45;&gt;140044157093776 -->\n<g id=\"edge12\" class=\"edge\">\n<title>140044157093776+&#45;&gt;140044157093776</title>\n<path fill=\"none\" stroke=\"black\" d=\"M2458.21,-186.5C2465.73,-186.5 2474.43,-186.5 2483.67,-186.5\"/>\n<polygon fill=\"black\" stroke=\"black\" points=\"2483.89,-190 2493.89,-186.5 2483.89,-183 2483.89,-190\"/>\n</g>\n<!-- 140046568392592 -->\n<g id=\"node42\" class=\"node\">\n<title>140046568392592</title>\n<polygon fill=\"none\" stroke=\"black\" points=\"2494,-3.5 2494,-39.5 2681,-39.5 2681,-3.5 2494,-3.5\"/>\n<text text-anchor=\"middle\" x=\"2504\" y=\"-17.8\" font-family=\"Times,serif\" font-size=\"14.00\"> </text>\n<polyline fill=\"none\" stroke=\"black\" points=\"2514,-3.5 2514,-39.5 \"/>\n<text text-anchor=\"middle\" x=\"2556.5\" y=\"-17.8\" font-family=\"Times,serif\" font-size=\"14.00\">data &#45;0.9059</text>\n<polyline fill=\"none\" stroke=\"black\" points=\"2599,-3.5 2599,-39.5 \"/>\n<text text-anchor=\"middle\" x=\"2640\" y=\"-17.8\" font-family=\"Times,serif\" font-size=\"14.00\">grad 0.0000</text>\n</g>\n<!-- 140044157095648* -->\n<g id=\"node99\" class=\"node\">\n<title>140044157095648*</title>\n<ellipse fill=\"none\" stroke=\"black\" cx=\"2744\" cy=\"-77.5\" rx=\"27\" ry=\"18\"/>\n<text text-anchor=\"middle\" x=\"2744\" y=\"-73.8\" font-family=\"Times,serif\" font-size=\"14.00\">*</text>\n</g>\n<!-- 140046568392592&#45;&gt;140044157095648* -->\n<g id=\"edge99\" class=\"edge\">\n<title>140046568392592&#45;&gt;140044157095648*</title>\n<path fill=\"none\" stroke=\"black\" d=\"M2655.1,-39.6C2663.88,-42.38 2672.7,-45.37 2681,-48.5 2691.62,-52.51 2702.94,-57.56 2712.96,-62.32\"/>\n<polygon fill=\"black\" stroke=\"black\" points=\"2711.59,-65.54 2722.11,-66.75 2714.64,-59.24 2711.59,-65.54\"/>\n</g>\n<!-- 140046804232128 -->\n<g id=\"node43\" class=\"node\">\n<title>140046804232128</title>\n<polygon fill=\"none\" stroke=\"black\" points=\"2807,-388.5 2807,-424.5 2994,-424.5 2994,-388.5 2807,-388.5\"/>\n<text text-anchor=\"middle\" x=\"2817\" y=\"-402.8\" font-family=\"Times,serif\" font-size=\"14.00\"> </text>\n<polyline fill=\"none\" stroke=\"black\" points=\"2827,-388.5 2827,-424.5 \"/>\n<text text-anchor=\"middle\" x=\"2869.5\" y=\"-402.8\" font-family=\"Times,serif\" font-size=\"14.00\">data &#45;2.6934</text>\n<polyline fill=\"none\" stroke=\"black\" points=\"2912,-388.5 2912,-424.5 \"/>\n<text text-anchor=\"middle\" x=\"2953\" y=\"-402.8\" font-family=\"Times,serif\" font-size=\"14.00\">grad 0.0000</text>\n</g>\n<!-- 140044157057728+ -->\n<g id=\"node169\" class=\"node\">\n<title>140044157057728+</title>\n<ellipse fill=\"none\" stroke=\"black\" cx=\"3057\" cy=\"-269.5\" rx=\"27\" ry=\"18\"/>\n<text text-anchor=\"middle\" x=\"3057\" y=\"-265.8\" font-family=\"Times,serif\" font-size=\"14.00\">+</text>\n</g>\n<!-- 140046804232128&#45;&gt;140044157057728+ -->\n<g id=\"edge134\" class=\"edge\">\n<title>140046804232128&#45;&gt;140044157057728+</title>\n<path fill=\"none\" stroke=\"black\" d=\"M2979.89,-388.37C2984.95,-385.54 2989.72,-382.28 2994,-378.5 3023.53,-352.43 3008.3,-330.38 3030,-297.5 3031.25,-295.61 3032.62,-293.73 3034.07,-291.88\"/>\n<polygon fill=\"black\" stroke=\"black\" points=\"3036.86,-294 3040.72,-284.14 3031.55,-289.45 3036.86,-294\"/>\n</g>\n<!-- 140046804232128+&#45;&gt;140046804232128 -->\n<g id=\"edge13\" class=\"edge\">\n<title>140046804232128+&#45;&gt;140046804232128</title>\n<path fill=\"none\" stroke=\"black\" d=\"M2771.21,-406.5C2778.73,-406.5 2787.43,-406.5 2796.67,-406.5\"/>\n<polygon fill=\"black\" stroke=\"black\" points=\"2796.89,-410 2806.89,-406.5 2796.89,-403 2796.89,-410\"/>\n</g>\n<!-- 140046568392688 -->\n<g id=\"node45\" class=\"node\">\n<title>140046568392688</title>\n<polygon fill=\"none\" stroke=\"black\" points=\"2183.5,-330.5 2183.5,-366.5 2365.5,-366.5 2365.5,-330.5 2183.5,-330.5\"/>\n<text text-anchor=\"middle\" x=\"2193.5\" y=\"-344.8\" font-family=\"Times,serif\" font-size=\"14.00\"> </text>\n<polyline fill=\"none\" stroke=\"black\" points=\"2203.5,-330.5 2203.5,-366.5 \"/>\n<text text-anchor=\"middle\" x=\"2243.5\" y=\"-344.8\" font-family=\"Times,serif\" font-size=\"14.00\">data 0.2392</text>\n<polyline fill=\"none\" stroke=\"black\" points=\"2283.5,-330.5 2283.5,-366.5 \"/>\n<text text-anchor=\"middle\" x=\"2324.5\" y=\"-344.8\" font-family=\"Times,serif\" font-size=\"14.00\">grad 0.0000</text>\n</g>\n<!-- 140044165983824* -->\n<g id=\"node91\" class=\"node\">\n<title>140044165983824*</title>\n<ellipse fill=\"none\" stroke=\"black\" cx=\"2431\" cy=\"-403.5\" rx=\"27\" ry=\"18\"/>\n<text text-anchor=\"middle\" x=\"2431\" y=\"-399.8\" font-family=\"Times,serif\" font-size=\"14.00\">*</text>\n</g>\n<!-- 140046568392688&#45;&gt;140044165983824* -->\n<g id=\"edge116\" class=\"edge\">\n<title>140046568392688&#45;&gt;140044165983824*</title>\n<path fill=\"none\" stroke=\"black\" d=\"M2341.56,-366.55C2350.51,-369.36 2359.53,-372.37 2368,-375.5 2378.49,-379.38 2389.71,-384.22 2399.68,-388.78\"/>\n<polygon fill=\"black\" stroke=\"black\" points=\"2398.25,-391.98 2408.79,-393.03 2401.2,-385.63 2398.25,-391.98\"/>\n</g>\n<!-- 140044135008384 -->\n<g id=\"node46\" class=\"node\">\n<title>140044135008384</title>\n<polygon fill=\"none\" stroke=\"black\" points=\"2809.5,-333.5 2809.5,-369.5 2991.5,-369.5 2991.5,-333.5 2809.5,-333.5\"/>\n<text text-anchor=\"middle\" x=\"2819.5\" y=\"-347.8\" font-family=\"Times,serif\" font-size=\"14.00\"> </text>\n<polyline fill=\"none\" stroke=\"black\" points=\"2829.5,-333.5 2829.5,-369.5 \"/>\n<text text-anchor=\"middle\" x=\"2869.5\" y=\"-347.8\" font-family=\"Times,serif\" font-size=\"14.00\">data 0.9680</text>\n<polyline fill=\"none\" stroke=\"black\" points=\"2909.5,-333.5 2909.5,-369.5 \"/>\n<text text-anchor=\"middle\" x=\"2950.5\" y=\"-347.8\" font-family=\"Times,serif\" font-size=\"14.00\">grad 0.0000</text>\n</g>\n<!-- 140044135008672+ -->\n<g id=\"node57\" class=\"node\">\n<title>140044135008672+</title>\n<ellipse fill=\"none\" stroke=\"black\" cx=\"3057\" cy=\"-434.5\" rx=\"27\" ry=\"18\"/>\n<text text-anchor=\"middle\" x=\"3057\" y=\"-430.8\" font-family=\"Times,serif\" font-size=\"14.00\">+</text>\n</g>\n<!-- 140044135008384&#45;&gt;140044135008672+ -->\n<g id=\"edge203\" class=\"edge\">\n<title>140044135008384&#45;&gt;140044135008672+</title>\n<path fill=\"none\" stroke=\"black\" d=\"M2974.97,-369.57C2981.57,-372.19 2988.01,-375.16 2994,-378.5 3009.43,-387.12 3024.22,-400.22 3035.49,-411.59\"/>\n<polygon fill=\"black\" stroke=\"black\" points=\"3033.24,-414.3 3042.68,-419.1 3038.29,-409.46 3033.24,-414.3\"/>\n</g>\n<!-- 140044135008384*&#45;&gt;140044135008384 -->\n<g id=\"edge14\" class=\"edge\">\n<title>140044135008384*&#45;&gt;140044135008384</title>\n<path fill=\"none\" stroke=\"black\" d=\"M2771.21,-351.5C2779.34,-351.5 2788.85,-351.5 2798.94,-351.5\"/>\n<polygon fill=\"black\" stroke=\"black\" points=\"2799.19,-355 2809.19,-351.5 2799.19,-348 2799.19,-355\"/>\n</g>\n<!-- 140046804232368 -->\n<g id=\"node48\" class=\"node\">\n<title>140046804232368</title>\n<polygon fill=\"none\" stroke=\"black\" points=\"2809.5,-114.5 2809.5,-150.5 2991.5,-150.5 2991.5,-114.5 2809.5,-114.5\"/>\n<text text-anchor=\"middle\" x=\"2819.5\" y=\"-128.8\" font-family=\"Times,serif\" font-size=\"14.00\"> </text>\n<polyline fill=\"none\" stroke=\"black\" points=\"2829.5,-114.5 2829.5,-150.5 \"/>\n<text text-anchor=\"middle\" x=\"2869.5\" y=\"-128.8\" font-family=\"Times,serif\" font-size=\"14.00\">data 0.4750</text>\n<polyline fill=\"none\" stroke=\"black\" points=\"2909.5,-114.5 2909.5,-150.5 \"/>\n<text text-anchor=\"middle\" x=\"2950.5\" y=\"-128.8\" font-family=\"Times,serif\" font-size=\"14.00\">grad 0.0000</text>\n</g>\n<!-- 140046804232368&#45;&gt;140044157057728+ -->\n<g id=\"edge96\" class=\"edge\">\n<title>140046804232368&#45;&gt;140044157057728+</title>\n<path fill=\"none\" stroke=\"black\" d=\"M2980.39,-150.7C2985.22,-153.25 2989.81,-156.17 2994,-159.5 3020.87,-180.82 3038.05,-217.16 3047.35,-242.2\"/>\n<polygon fill=\"black\" stroke=\"black\" points=\"3044.13,-243.58 3050.75,-251.84 3050.73,-241.25 3044.13,-243.58\"/>\n</g>\n<!-- 140046804232368*&#45;&gt;140046804232368 -->\n<g id=\"edge15\" class=\"edge\">\n<title>140046804232368*&#45;&gt;140046804232368</title>\n<path fill=\"none\" stroke=\"black\" d=\"M2771.21,-131.67C2779.34,-131.72 2788.85,-131.78 2798.94,-131.85\"/>\n<polygon fill=\"black\" stroke=\"black\" points=\"2799.17,-135.35 2809.19,-131.92 2799.21,-128.35 2799.17,-135.35\"/>\n</g>\n<!-- 140046568392928 -->\n<g id=\"node50\" class=\"node\">\n<title>140046568392928</title>\n<polygon fill=\"none\" stroke=\"black\" points=\"1868,-715.5 1868,-751.5 2055,-751.5 2055,-715.5 1868,-715.5\"/>\n<text text-anchor=\"middle\" x=\"1878\" y=\"-729.8\" font-family=\"Times,serif\" font-size=\"14.00\"> </text>\n<polyline fill=\"none\" stroke=\"black\" points=\"1888,-715.5 1888,-751.5 \"/>\n<text text-anchor=\"middle\" x=\"1930.5\" y=\"-729.8\" font-family=\"Times,serif\" font-size=\"14.00\">data &#45;0.7639</text>\n<polyline fill=\"none\" stroke=\"black\" points=\"1973,-715.5 1973,-751.5 \"/>\n<text text-anchor=\"middle\" x=\"2014\" y=\"-729.8\" font-family=\"Times,serif\" font-size=\"14.00\">grad 0.0000</text>\n</g>\n<!-- 140046568434512* -->\n<g id=\"node70\" class=\"node\">\n<title>140046568434512*</title>\n<ellipse fill=\"none\" stroke=\"black\" cx=\"2118\" cy=\"-733.5\" rx=\"27\" ry=\"18\"/>\n<text text-anchor=\"middle\" x=\"2118\" y=\"-729.8\" font-family=\"Times,serif\" font-size=\"14.00\">*</text>\n</g>\n<!-- 140046568392928&#45;&gt;140046568434512* -->\n<g id=\"edge177\" class=\"edge\">\n<title>140046568392928&#45;&gt;140046568434512*</title>\n<path fill=\"none\" stroke=\"black\" d=\"M2055.05,-733.5C2064.06,-733.5 2072.79,-733.5 2080.7,-733.5\"/>\n<polygon fill=\"black\" stroke=\"black\" points=\"2080.95,-737 2090.95,-733.5 2080.95,-730 2080.95,-737\"/>\n</g>\n<!-- 140046568433984 -->\n<g id=\"node51\" class=\"node\">\n<title>140046568433984</title>\n<polygon fill=\"none\" stroke=\"black\" points=\"2181,-852.5 2181,-888.5 2368,-888.5 2368,-852.5 2181,-852.5\"/>\n<text text-anchor=\"middle\" x=\"2191\" y=\"-866.8\" font-family=\"Times,serif\" font-size=\"14.00\"> </text>\n<polyline fill=\"none\" stroke=\"black\" points=\"2201,-852.5 2201,-888.5 \"/>\n<text text-anchor=\"middle\" x=\"2243.5\" y=\"-866.8\" font-family=\"Times,serif\" font-size=\"14.00\">data &#45;0.6448</text>\n<polyline fill=\"none\" stroke=\"black\" points=\"2286,-852.5 2286,-888.5 \"/>\n<text text-anchor=\"middle\" x=\"2327\" y=\"-866.8\" font-family=\"Times,serif\" font-size=\"14.00\">grad 0.0000</text>\n</g>\n<!-- 140046568434416+ -->\n<g id=\"node66\" class=\"node\">\n<title>140046568434416+</title>\n<ellipse fill=\"none\" stroke=\"black\" cx=\"2431\" cy=\"-733.5\" rx=\"27\" ry=\"18\"/>\n<text text-anchor=\"middle\" x=\"2431\" y=\"-729.8\" font-family=\"Times,serif\" font-size=\"14.00\">+</text>\n</g>\n<!-- 140046568433984&#45;&gt;140046568434416+ -->\n<g id=\"edge176\" class=\"edge\">\n<title>140046568433984&#45;&gt;140046568434416+</title>\n<path fill=\"none\" stroke=\"black\" d=\"M2313.29,-852.36C2330.99,-842.82 2351.71,-830.08 2368,-815.5 2386.57,-798.88 2403.33,-775.99 2414.73,-758.62\"/>\n<polygon fill=\"black\" stroke=\"black\" points=\"2417.74,-760.41 2420.18,-750.1 2411.85,-756.63 2417.74,-760.41\"/>\n</g>\n<!-- 140046568433984+&#45;&gt;140046568433984 -->\n<g id=\"edge16\" class=\"edge\">\n<title>140046568433984+&#45;&gt;140046568433984</title>\n<path fill=\"none\" stroke=\"black\" d=\"M2144.17,-893.94C2151.99,-892.52 2161.15,-890.86 2170.91,-889.09\"/>\n<polygon fill=\"black\" stroke=\"black\" points=\"2171.64,-892.52 2180.86,-887.29 2170.39,-885.63 2171.64,-892.52\"/>\n</g>\n<!-- 140046568663360 -->\n<g id=\"node53\" class=\"node\">\n<title>140046568663360</title>\n<polygon fill=\"none\" stroke=\"black\" points=\"3435.5,-471.5 3435.5,-507.5 3617.5,-507.5 3617.5,-471.5 3435.5,-471.5\"/>\n<text text-anchor=\"middle\" x=\"3445.5\" y=\"-485.8\" font-family=\"Times,serif\" font-size=\"14.00\"> </text>\n<polyline fill=\"none\" stroke=\"black\" points=\"3455.5,-471.5 3455.5,-507.5 \"/>\n<text text-anchor=\"middle\" x=\"3495.5\" y=\"-485.8\" font-family=\"Times,serif\" font-size=\"14.00\">data 0.9574</text>\n<polyline fill=\"none\" stroke=\"black\" points=\"3535.5,-471.5 3535.5,-507.5 \"/>\n<text text-anchor=\"middle\" x=\"3576.5\" y=\"-485.8\" font-family=\"Times,serif\" font-size=\"14.00\">grad 0.0000</text>\n</g>\n<!-- 140044135010208* -->\n<g id=\"node115\" class=\"node\">\n<title>140044135010208*</title>\n<ellipse fill=\"none\" stroke=\"black\" cx=\"3683\" cy=\"-434.5\" rx=\"27\" ry=\"18\"/>\n<text text-anchor=\"middle\" x=\"3683\" y=\"-430.8\" font-family=\"Times,serif\" font-size=\"14.00\">*</text>\n</g>\n<!-- 140046568663360&#45;&gt;140044135010208* -->\n<g id=\"edge170\" class=\"edge\">\n<title>140046568663360&#45;&gt;140044135010208*</title>\n<path fill=\"none\" stroke=\"black\" d=\"M3591.02,-471.35C3600.79,-468.24 3610.71,-464.92 3620,-461.5 3630.25,-457.73 3641.23,-453.14 3651.07,-448.82\"/>\n<polygon fill=\"black\" stroke=\"black\" points=\"3652.74,-451.9 3660.45,-444.63 3649.89,-445.51 3652.74,-451.9\"/>\n</g>\n<!-- 140044165982576 -->\n<g id=\"node54\" class=\"node\">\n<title>140044165982576</title>\n<polygon fill=\"none\" stroke=\"black\" points=\"2181,-550.5 2181,-586.5 2368,-586.5 2368,-550.5 2181,-550.5\"/>\n<text text-anchor=\"middle\" x=\"2191\" y=\"-564.8\" font-family=\"Times,serif\" font-size=\"14.00\"> </text>\n<polyline fill=\"none\" stroke=\"black\" points=\"2201,-550.5 2201,-586.5 \"/>\n<text text-anchor=\"middle\" x=\"2243.5\" y=\"-564.8\" font-family=\"Times,serif\" font-size=\"14.00\">data &#45;0.8990</text>\n<polyline fill=\"none\" stroke=\"black\" points=\"2286,-550.5 2286,-586.5 \"/>\n<text text-anchor=\"middle\" x=\"2327\" y=\"-564.8\" font-family=\"Times,serif\" font-size=\"14.00\">grad 0.0000</text>\n</g>\n<!-- 140044165982576&#45;&gt;140044165980272+ -->\n<g id=\"edge108\" class=\"edge\">\n<title>140044165982576&#45;&gt;140044165980272+</title>\n<path fill=\"none\" stroke=\"black\" d=\"M2337.41,-550.47C2347.67,-547.28 2358.16,-543.89 2368,-540.5 2377.8,-537.13 2388.35,-533.16 2397.93,-529.44\"/>\n<polygon fill=\"black\" stroke=\"black\" points=\"2399.45,-532.61 2407.48,-525.69 2396.89,-526.09 2399.45,-532.61\"/>\n</g>\n<!-- 140044165982576*&#45;&gt;140044165982576 -->\n<g id=\"edge17\" class=\"edge\">\n<title>140044165982576*&#45;&gt;140044165982576</title>\n<path fill=\"none\" stroke=\"black\" d=\"M2145.21,-568.5C2152.73,-568.5 2161.43,-568.5 2170.67,-568.5\"/>\n<polygon fill=\"black\" stroke=\"black\" points=\"2170.89,-572 2180.89,-568.5 2170.89,-565 2170.89,-572\"/>\n</g>\n<!-- 140044135008672 -->\n<g id=\"node56\" class=\"node\">\n<title>140044135008672</title>\n<polygon fill=\"none\" stroke=\"black\" points=\"3122.5,-416.5 3122.5,-452.5 3304.5,-452.5 3304.5,-416.5 3122.5,-416.5\"/>\n<text text-anchor=\"middle\" x=\"3132.5\" y=\"-430.8\" font-family=\"Times,serif\" font-size=\"14.00\"> </text>\n<polyline fill=\"none\" stroke=\"black\" points=\"3142.5,-416.5 3142.5,-452.5 \"/>\n<text text-anchor=\"middle\" x=\"3182.5\" y=\"-430.8\" font-family=\"Times,serif\" font-size=\"14.00\">data 1.6948</text>\n<polyline fill=\"none\" stroke=\"black\" points=\"3222.5,-416.5 3222.5,-452.5 \"/>\n<text text-anchor=\"middle\" x=\"3263.5\" y=\"-430.8\" font-family=\"Times,serif\" font-size=\"14.00\">grad 0.0000</text>\n</g>\n<!-- 140044135008768tanh -->\n<g id=\"node62\" class=\"node\">\n<title>140044135008768tanh</title>\n<ellipse fill=\"none\" stroke=\"black\" cx=\"3370\" cy=\"-434.5\" rx=\"27\" ry=\"18\"/>\n<text text-anchor=\"middle\" x=\"3370\" y=\"-430.8\" font-family=\"Times,serif\" font-size=\"14.00\">tanh</text>\n</g>\n<!-- 140044135008672&#45;&gt;140044135008768tanh -->\n<g id=\"edge126\" class=\"edge\">\n<title>140044135008672&#45;&gt;140044135008768tanh</title>\n<path fill=\"none\" stroke=\"black\" d=\"M3304.82,-434.5C3314.57,-434.5 3324.04,-434.5 3332.57,-434.5\"/>\n<polygon fill=\"black\" stroke=\"black\" points=\"3332.83,-438 3342.83,-434.5 3332.83,-431 3332.83,-438\"/>\n</g>\n<!-- 140044135008672+&#45;&gt;140044135008672 -->\n<g id=\"edge18\" class=\"edge\">\n<title>140044135008672+&#45;&gt;140044135008672</title>\n<path fill=\"none\" stroke=\"black\" d=\"M3084.21,-434.5C3092.34,-434.5 3101.85,-434.5 3111.94,-434.5\"/>\n<polygon fill=\"black\" stroke=\"black\" points=\"3112.19,-438 3122.19,-434.5 3112.19,-431 3112.19,-438\"/>\n</g>\n<!-- 140044157094304 -->\n<g id=\"node58\" class=\"node\">\n<title>140044157094304</title>\n<polygon fill=\"none\" stroke=\"black\" points=\"1870.5,-935.5 1870.5,-971.5 2052.5,-971.5 2052.5,-935.5 1870.5,-935.5\"/>\n<text text-anchor=\"middle\" x=\"1880.5\" y=\"-949.8\" font-family=\"Times,serif\" font-size=\"14.00\"> </text>\n<polyline fill=\"none\" stroke=\"black\" points=\"1890.5,-935.5 1890.5,-971.5 \"/>\n<text text-anchor=\"middle\" x=\"1930.5\" y=\"-949.8\" font-family=\"Times,serif\" font-size=\"14.00\">data 0.0233</text>\n<polyline fill=\"none\" stroke=\"black\" points=\"1970.5,-935.5 1970.5,-971.5 \"/>\n<text text-anchor=\"middle\" x=\"2011.5\" y=\"-949.8\" font-family=\"Times,serif\" font-size=\"14.00\">grad 0.0000</text>\n</g>\n<!-- 140044157094304&#45;&gt;140046568433984+ -->\n<g id=\"edge192\" class=\"edge\">\n<title>140044157094304&#45;&gt;140046568433984+</title>\n<path fill=\"none\" stroke=\"black\" d=\"M2026.02,-935.35C2035.79,-932.24 2045.71,-928.92 2055,-925.5 2065.25,-921.73 2076.23,-917.14 2086.07,-912.82\"/>\n<polygon fill=\"black\" stroke=\"black\" points=\"2087.74,-915.9 2095.45,-908.63 2084.89,-909.51 2087.74,-915.9\"/>\n</g>\n<!-- 140044157094304*&#45;&gt;140044157094304 -->\n<g id=\"edge19\" class=\"edge\">\n<title>140044157094304*&#45;&gt;140044157094304</title>\n<path fill=\"none\" stroke=\"black\" d=\"M1827.55,-908.63C1839.36,-913.98 1854.34,-920.48 1868,-925.5 1874.24,-927.8 1880.77,-930.05 1887.34,-932.22\"/>\n<polygon fill=\"black\" stroke=\"black\" points=\"1886.39,-935.59 1896.98,-935.35 1888.55,-928.93 1886.39,-935.59\"/>\n</g>\n<!-- 140046568393168 -->\n<g id=\"node60\" class=\"node\">\n<title>140046568393168</title>\n<polygon fill=\"none\" stroke=\"black\" points=\"2181,-440.5 2181,-476.5 2368,-476.5 2368,-440.5 2181,-440.5\"/>\n<text text-anchor=\"middle\" x=\"2191\" y=\"-454.8\" font-family=\"Times,serif\" font-size=\"14.00\"> </text>\n<polyline fill=\"none\" stroke=\"black\" points=\"2201,-440.5 2201,-476.5 \"/>\n<text text-anchor=\"middle\" x=\"2243.5\" y=\"-454.8\" font-family=\"Times,serif\" font-size=\"14.00\">data &#45;0.2697</text>\n<polyline fill=\"none\" stroke=\"black\" points=\"2286,-440.5 2286,-476.5 \"/>\n<text text-anchor=\"middle\" x=\"2327\" y=\"-454.8\" font-family=\"Times,serif\" font-size=\"14.00\">grad 0.0000</text>\n</g>\n<!-- 140044166377232* -->\n<g id=\"node106\" class=\"node\">\n<title>140044166377232*</title>\n<ellipse fill=\"none\" stroke=\"black\" cx=\"2431\" cy=\"-458.5\" rx=\"27\" ry=\"18\"/>\n<text text-anchor=\"middle\" x=\"2431\" y=\"-454.8\" font-family=\"Times,serif\" font-size=\"14.00\">*</text>\n</g>\n<!-- 140046568393168&#45;&gt;140044166377232* -->\n<g id=\"edge152\" class=\"edge\">\n<title>140046568393168&#45;&gt;140044166377232*</title>\n<path fill=\"none\" stroke=\"black\" d=\"M2368.05,-458.5C2377.06,-458.5 2385.79,-458.5 2393.7,-458.5\"/>\n<polygon fill=\"black\" stroke=\"black\" points=\"2393.95,-462 2403.95,-458.5 2393.95,-455 2393.95,-462\"/>\n</g>\n<!-- 140044135008768 -->\n<g id=\"node61\" class=\"node\">\n<title>140044135008768</title>\n<polygon fill=\"none\" stroke=\"black\" points=\"3435.5,-416.5 3435.5,-452.5 3617.5,-452.5 3617.5,-416.5 3435.5,-416.5\"/>\n<text text-anchor=\"middle\" x=\"3445.5\" y=\"-430.8\" font-family=\"Times,serif\" font-size=\"14.00\"> </text>\n<polyline fill=\"none\" stroke=\"black\" points=\"3455.5,-416.5 3455.5,-452.5 \"/>\n<text text-anchor=\"middle\" x=\"3495.5\" y=\"-430.8\" font-family=\"Times,serif\" font-size=\"14.00\">data 0.9348</text>\n<polyline fill=\"none\" stroke=\"black\" points=\"3535.5,-416.5 3535.5,-452.5 \"/>\n<text text-anchor=\"middle\" x=\"3576.5\" y=\"-430.8\" font-family=\"Times,serif\" font-size=\"14.00\">grad 0.0000</text>\n</g>\n<!-- 140044135008768&#45;&gt;140044135010208* -->\n<g id=\"edge193\" class=\"edge\">\n<title>140044135008768&#45;&gt;140044135010208*</title>\n<path fill=\"none\" stroke=\"black\" d=\"M3617.82,-434.5C3627.57,-434.5 3637.04,-434.5 3645.57,-434.5\"/>\n<polygon fill=\"black\" stroke=\"black\" points=\"3645.83,-438 3655.83,-434.5 3645.83,-431 3645.83,-438\"/>\n</g>\n<!-- 140044135008768tanh&#45;&gt;140044135008768 -->\n<g id=\"edge20\" class=\"edge\">\n<title>140044135008768tanh&#45;&gt;140044135008768</title>\n<path fill=\"none\" stroke=\"black\" d=\"M3397.21,-434.5C3405.34,-434.5 3414.85,-434.5 3424.94,-434.5\"/>\n<polygon fill=\"black\" stroke=\"black\" points=\"3425.19,-438 3435.19,-434.5 3425.19,-431 3425.19,-438\"/>\n</g>\n<!-- 140044156783152 -->\n<g id=\"node63\" class=\"node\">\n<title>140044156783152</title>\n<polygon fill=\"none\" stroke=\"black\" points=\"931.5,-385.5 931.5,-421.5 1113.5,-421.5 1113.5,-385.5 931.5,-385.5\"/>\n<text text-anchor=\"middle\" x=\"941.5\" y=\"-399.8\" font-family=\"Times,serif\" font-size=\"14.00\"> </text>\n<polyline fill=\"none\" stroke=\"black\" points=\"951.5,-385.5 951.5,-421.5 \"/>\n<text text-anchor=\"middle\" x=\"991.5\" y=\"-399.8\" font-family=\"Times,serif\" font-size=\"14.00\">data 1.4200</text>\n<polyline fill=\"none\" stroke=\"black\" points=\"1031.5,-385.5 1031.5,-421.5 \"/>\n<text text-anchor=\"middle\" x=\"1072.5\" y=\"-399.8\" font-family=\"Times,serif\" font-size=\"14.00\">grad 0.0000</text>\n</g>\n<!-- 140046568896880+ -->\n<g id=\"node164\" class=\"node\">\n<title>140046568896880+</title>\n<ellipse fill=\"none\" stroke=\"black\" cx=\"1179\" cy=\"-348.5\" rx=\"27\" ry=\"18\"/>\n<text text-anchor=\"middle\" x=\"1179\" y=\"-344.8\" font-family=\"Times,serif\" font-size=\"14.00\">+</text>\n</g>\n<!-- 140044156783152&#45;&gt;140046568896880+ -->\n<g id=\"edge114\" class=\"edge\">\n<title>140044156783152&#45;&gt;140046568896880+</title>\n<path fill=\"none\" stroke=\"black\" d=\"M1087.02,-385.35C1096.79,-382.24 1106.71,-378.92 1116,-375.5 1126.25,-371.73 1137.23,-367.14 1147.07,-362.82\"/>\n<polygon fill=\"black\" stroke=\"black\" points=\"1148.74,-365.9 1156.45,-358.63 1145.89,-359.51 1148.74,-365.9\"/>\n</g>\n<!-- 140044156783152* -->\n<g id=\"node64\" class=\"node\">\n<title>140044156783152*</title>\n<ellipse fill=\"none\" stroke=\"black\" cx=\"866\" cy=\"-403.5\" rx=\"27\" ry=\"18\"/>\n<text text-anchor=\"middle\" x=\"866\" y=\"-399.8\" font-family=\"Times,serif\" font-size=\"14.00\">*</text>\n</g>\n<!-- 140044156783152*&#45;&gt;140044156783152 -->\n<g id=\"edge21\" class=\"edge\">\n<title>140044156783152*&#45;&gt;140044156783152</title>\n<path fill=\"none\" stroke=\"black\" d=\"M893.21,-403.5C901.34,-403.5 910.85,-403.5 920.94,-403.5\"/>\n<polygon fill=\"black\" stroke=\"black\" points=\"921.19,-407 931.19,-403.5 921.19,-400 921.19,-407\"/>\n</g>\n<!-- 140046568434416 -->\n<g id=\"node65\" class=\"node\">\n<title>140046568434416</title>\n<polygon fill=\"none\" stroke=\"black\" points=\"2496.5,-711.5 2496.5,-747.5 2678.5,-747.5 2678.5,-711.5 2496.5,-711.5\"/>\n<text text-anchor=\"middle\" x=\"2506.5\" y=\"-725.8\" font-family=\"Times,serif\" font-size=\"14.00\"> </text>\n<polyline fill=\"none\" stroke=\"black\" points=\"2516.5,-711.5 2516.5,-747.5 \"/>\n<text text-anchor=\"middle\" x=\"2556.5\" y=\"-725.8\" font-family=\"Times,serif\" font-size=\"14.00\">data 0.1077</text>\n<polyline fill=\"none\" stroke=\"black\" points=\"2596.5,-711.5 2596.5,-747.5 \"/>\n<text text-anchor=\"middle\" x=\"2637.5\" y=\"-725.8\" font-family=\"Times,serif\" font-size=\"14.00\">grad 0.0000</text>\n</g>\n<!-- 140046568434416&#45;&gt;140047322372032+ -->\n<g id=\"edge75\" class=\"edge\">\n<title>140046568434416&#45;&gt;140047322372032+</title>\n<path fill=\"none\" stroke=\"black\" d=\"M2652.6,-711.41C2662.71,-706.87 2672.59,-701.3 2681,-694.5 2704.02,-675.9 2721.26,-646.39 2731.64,-624.99\"/>\n<polygon fill=\"black\" stroke=\"black\" points=\"2734.88,-626.34 2735.93,-615.8 2728.53,-623.38 2734.88,-626.34\"/>\n</g>\n<!-- 140046568434416+&#45;&gt;140046568434416 -->\n<g id=\"edge22\" class=\"edge\">\n<title>140046568434416+&#45;&gt;140046568434416</title>\n<path fill=\"none\" stroke=\"black\" d=\"M2458.21,-732.82C2466.34,-732.61 2475.85,-732.36 2485.94,-732.1\"/>\n<polygon fill=\"black\" stroke=\"black\" points=\"2486.28,-735.6 2496.19,-731.84 2486.1,-728.6 2486.28,-735.6\"/>\n</g>\n<!-- 140044135009056 -->\n<g id=\"node67\" class=\"node\">\n<title>140044135009056</title>\n<polygon fill=\"none\" stroke=\"black\" points=\"3746,-249.5 3746,-285.5 3928,-285.5 3928,-249.5 3746,-249.5\"/>\n<text text-anchor=\"middle\" x=\"3756\" y=\"-263.8\" font-family=\"Times,serif\" font-size=\"14.00\"> </text>\n<polyline fill=\"none\" stroke=\"black\" points=\"3766,-249.5 3766,-285.5 \"/>\n<text text-anchor=\"middle\" x=\"3806\" y=\"-263.8\" font-family=\"Times,serif\" font-size=\"14.00\">data 0.3185</text>\n<polyline fill=\"none\" stroke=\"black\" points=\"3846,-249.5 3846,-285.5 \"/>\n<text text-anchor=\"middle\" x=\"3887\" y=\"-263.8\" font-family=\"Times,serif\" font-size=\"14.00\">grad 0.0000</text>\n</g>\n<!-- 140044135009248+ -->\n<g id=\"node77\" class=\"node\">\n<title>140044135009248+</title>\n<ellipse fill=\"none\" stroke=\"black\" cx=\"4055\" cy=\"-320.5\" rx=\"27\" ry=\"18\"/>\n<text text-anchor=\"middle\" x=\"4055\" y=\"-316.8\" font-family=\"Times,serif\" font-size=\"14.00\">+</text>\n</g>\n<!-- 140044135009056&#45;&gt;140044135009248+ -->\n<g id=\"edge168\" class=\"edge\">\n<title>140044135009056&#45;&gt;140044135009248+</title>\n<path fill=\"none\" stroke=\"black\" d=\"M3911.43,-285.52C3947.92,-294.47 3990.3,-304.87 4019.31,-311.99\"/>\n<polygon fill=\"black\" stroke=\"black\" points=\"4018.81,-315.47 4029.35,-314.45 4020.48,-308.67 4018.81,-315.47\"/>\n</g>\n<!-- 140044135009056* -->\n<g id=\"node68\" class=\"node\">\n<title>140044135009056*</title>\n<ellipse fill=\"none\" stroke=\"black\" cx=\"3683\" cy=\"-267.5\" rx=\"27\" ry=\"18\"/>\n<text text-anchor=\"middle\" x=\"3683\" y=\"-263.8\" font-family=\"Times,serif\" font-size=\"14.00\">*</text>\n</g>\n<!-- 140044135009056*&#45;&gt;140044135009056 -->\n<g id=\"edge23\" class=\"edge\">\n<title>140044135009056*&#45;&gt;140044135009056</title>\n<path fill=\"none\" stroke=\"black\" d=\"M3710.13,-267.5C3717.67,-267.5 3726.39,-267.5 3735.64,-267.5\"/>\n<polygon fill=\"black\" stroke=\"black\" points=\"3735.87,-271 3745.87,-267.5 3735.87,-264 3735.87,-271\"/>\n</g>\n<!-- 140046568434512 -->\n<g id=\"node69\" class=\"node\">\n<title>140046568434512</title>\n<polygon fill=\"none\" stroke=\"black\" points=\"2183.5,-715.5 2183.5,-751.5 2365.5,-751.5 2365.5,-715.5 2183.5,-715.5\"/>\n<text text-anchor=\"middle\" x=\"2193.5\" y=\"-729.8\" font-family=\"Times,serif\" font-size=\"14.00\"> </text>\n<polyline fill=\"none\" stroke=\"black\" points=\"2203.5,-715.5 2203.5,-751.5 \"/>\n<text text-anchor=\"middle\" x=\"2243.5\" y=\"-729.8\" font-family=\"Times,serif\" font-size=\"14.00\">data 0.7524</text>\n<polyline fill=\"none\" stroke=\"black\" points=\"2283.5,-715.5 2283.5,-751.5 \"/>\n<text text-anchor=\"middle\" x=\"2324.5\" y=\"-729.8\" font-family=\"Times,serif\" font-size=\"14.00\">grad 0.0000</text>\n</g>\n<!-- 140046568434512&#45;&gt;140046568434416+ -->\n<g id=\"edge80\" class=\"edge\">\n<title>140046568434512&#45;&gt;140046568434416+</title>\n<path fill=\"none\" stroke=\"black\" d=\"M2365.82,-733.5C2375.57,-733.5 2385.04,-733.5 2393.57,-733.5\"/>\n<polygon fill=\"black\" stroke=\"black\" points=\"2393.83,-737 2403.83,-733.5 2393.83,-730 2393.83,-737\"/>\n</g>\n<!-- 140046568434512*&#45;&gt;140046568434512 -->\n<g id=\"edge24\" class=\"edge\">\n<title>140046568434512*&#45;&gt;140046568434512</title>\n<path fill=\"none\" stroke=\"black\" d=\"M2145.21,-733.5C2153.34,-733.5 2162.85,-733.5 2172.94,-733.5\"/>\n<polygon fill=\"black\" stroke=\"black\" points=\"2173.19,-737 2183.19,-733.5 2173.19,-730 2173.19,-737\"/>\n</g>\n<!-- 140044166376272 -->\n<g id=\"node71\" class=\"node\">\n<title>140044166376272</title>\n<polygon fill=\"none\" stroke=\"black\" points=\"2809.5,-443.5 2809.5,-479.5 2991.5,-479.5 2991.5,-443.5 2809.5,-443.5\"/>\n<text text-anchor=\"middle\" x=\"2819.5\" y=\"-457.8\" font-family=\"Times,serif\" font-size=\"14.00\"> </text>\n<polyline fill=\"none\" stroke=\"black\" points=\"2829.5,-443.5 2829.5,-479.5 \"/>\n<text text-anchor=\"middle\" x=\"2869.5\" y=\"-457.8\" font-family=\"Times,serif\" font-size=\"14.00\">data 1.1331</text>\n<polyline fill=\"none\" stroke=\"black\" points=\"2909.5,-443.5 2909.5,-479.5 \"/>\n<text text-anchor=\"middle\" x=\"2950.5\" y=\"-457.8\" font-family=\"Times,serif\" font-size=\"14.00\">grad 0.0000</text>\n</g>\n<!-- 140044166376416+ -->\n<g id=\"node75\" class=\"node\">\n<title>140044166376416+</title>\n<ellipse fill=\"none\" stroke=\"black\" cx=\"3057\" cy=\"-324.5\" rx=\"27\" ry=\"18\"/>\n<text text-anchor=\"middle\" x=\"3057\" y=\"-320.8\" font-family=\"Times,serif\" font-size=\"14.00\">+</text>\n</g>\n<!-- 140044166376272&#45;&gt;140044166376416+ -->\n<g id=\"edge104\" class=\"edge\">\n<title>140044166376272&#45;&gt;140044166376416+</title>\n<path fill=\"none\" stroke=\"black\" d=\"M2978.57,-443.36C2984.06,-440.53 2989.28,-437.27 2994,-433.5 3020.47,-412.37 3037.66,-376.67 3047.08,-351.91\"/>\n<polygon fill=\"black\" stroke=\"black\" points=\"3050.42,-352.96 3050.53,-342.36 3043.84,-350.58 3050.42,-352.96\"/>\n</g>\n<!-- 140044166376272+ -->\n<g id=\"node72\" class=\"node\">\n<title>140044166376272+</title>\n<ellipse fill=\"none\" stroke=\"black\" cx=\"2744\" cy=\"-461.5\" rx=\"27\" ry=\"18\"/>\n<text text-anchor=\"middle\" x=\"2744\" y=\"-457.8\" font-family=\"Times,serif\" font-size=\"14.00\">+</text>\n</g>\n<!-- 140044166376272+&#45;&gt;140044166376272 -->\n<g id=\"edge25\" class=\"edge\">\n<title>140044166376272+&#45;&gt;140044166376272</title>\n<path fill=\"none\" stroke=\"black\" d=\"M2771.21,-461.5C2779.34,-461.5 2788.85,-461.5 2798.94,-461.5\"/>\n<polygon fill=\"black\" stroke=\"black\" points=\"2799.19,-465 2809.19,-461.5 2799.19,-458 2799.19,-465\"/>\n</g>\n<!-- 140044166032352 -->\n<g id=\"node73\" class=\"node\">\n<title>140044166032352</title>\n<polygon fill=\"none\" stroke=\"black\" points=\"0,-688.5 0,-724.5 182,-724.5 182,-688.5 0,-688.5\"/>\n<text text-anchor=\"middle\" x=\"10\" y=\"-702.8\" font-family=\"Times,serif\" font-size=\"14.00\"> </text>\n<polyline fill=\"none\" stroke=\"black\" points=\"20,-688.5 20,-724.5 \"/>\n<text text-anchor=\"middle\" x=\"60\" y=\"-702.8\" font-family=\"Times,serif\" font-size=\"14.00\">data 2.0000</text>\n<polyline fill=\"none\" stroke=\"black\" points=\"100,-688.5 100,-724.5 \"/>\n<text text-anchor=\"middle\" x=\"141\" y=\"-702.8\" font-family=\"Times,serif\" font-size=\"14.00\">grad 0.0000</text>\n</g>\n<!-- 140044166032640* -->\n<g id=\"node84\" class=\"node\">\n<title>140044166032640*</title>\n<ellipse fill=\"none\" stroke=\"black\" cx=\"245\" cy=\"-678.5\" rx=\"27\" ry=\"18\"/>\n<text text-anchor=\"middle\" x=\"245\" y=\"-674.8\" font-family=\"Times,serif\" font-size=\"14.00\">*</text>\n</g>\n<!-- 140044166032352&#45;&gt;140044166032640* -->\n<g id=\"edge209\" class=\"edge\">\n<title>140044166032352&#45;&gt;140044166032640*</title>\n<path fill=\"none\" stroke=\"black\" d=\"M182.18,-689.89C191.61,-688.15 200.75,-686.47 208.98,-684.95\"/>\n<polygon fill=\"black\" stroke=\"black\" points=\"209.66,-688.39 218.86,-683.13 208.39,-681.5 209.66,-688.39\"/>\n</g>\n<!-- 140044166376416 -->\n<g id=\"node74\" class=\"node\">\n<title>140044166376416</title>\n<polygon fill=\"none\" stroke=\"black\" points=\"3122.5,-306.5 3122.5,-342.5 3304.5,-342.5 3304.5,-306.5 3122.5,-306.5\"/>\n<text text-anchor=\"middle\" x=\"3132.5\" y=\"-320.8\" font-family=\"Times,serif\" font-size=\"14.00\"> </text>\n<polyline fill=\"none\" stroke=\"black\" points=\"3142.5,-306.5 3142.5,-342.5 \"/>\n<text text-anchor=\"middle\" x=\"3182.5\" y=\"-320.8\" font-family=\"Times,serif\" font-size=\"14.00\">data 0.3138</text>\n<polyline fill=\"none\" stroke=\"black\" points=\"3222.5,-306.5 3222.5,-342.5 \"/>\n<text text-anchor=\"middle\" x=\"3263.5\" y=\"-320.8\" font-family=\"Times,serif\" font-size=\"14.00\">grad 0.0000</text>\n</g>\n<!-- 140044156992912tanh -->\n<g id=\"node185\" class=\"node\">\n<title>140044156992912tanh</title>\n<ellipse fill=\"none\" stroke=\"black\" cx=\"3370\" cy=\"-324.5\" rx=\"27\" ry=\"18\"/>\n<text text-anchor=\"middle\" x=\"3370\" y=\"-320.8\" font-family=\"Times,serif\" font-size=\"14.00\">tanh</text>\n</g>\n<!-- 140044166376416&#45;&gt;140044156992912tanh -->\n<g id=\"edge166\" class=\"edge\">\n<title>140044166376416&#45;&gt;140044156992912tanh</title>\n<path fill=\"none\" stroke=\"black\" d=\"M3304.82,-324.5C3314.57,-324.5 3324.04,-324.5 3332.57,-324.5\"/>\n<polygon fill=\"black\" stroke=\"black\" points=\"3332.83,-328 3342.83,-324.5 3332.83,-321 3332.83,-328\"/>\n</g>\n<!-- 140044166376416+&#45;&gt;140044166376416 -->\n<g id=\"edge26\" class=\"edge\">\n<title>140044166376416+&#45;&gt;140044166376416</title>\n<path fill=\"none\" stroke=\"black\" d=\"M3084.21,-324.5C3092.34,-324.5 3101.85,-324.5 3111.94,-324.5\"/>\n<polygon fill=\"black\" stroke=\"black\" points=\"3112.19,-328 3122.19,-324.5 3112.19,-321 3112.19,-328\"/>\n</g>\n<!-- 140044135009248 -->\n<g id=\"node76\" class=\"node\">\n<title>140044135009248</title>\n<polygon fill=\"none\" stroke=\"black\" points=\"4184.5,-302.5 4184.5,-338.5 4366.5,-338.5 4366.5,-302.5 4184.5,-302.5\"/>\n<text text-anchor=\"middle\" x=\"4194.5\" y=\"-316.8\" font-family=\"Times,serif\" font-size=\"14.00\"> </text>\n<polyline fill=\"none\" stroke=\"black\" points=\"4204.5,-302.5 4204.5,-338.5 \"/>\n<text text-anchor=\"middle\" x=\"4244.5\" y=\"-316.8\" font-family=\"Times,serif\" font-size=\"14.00\">data 1.1712</text>\n<polyline fill=\"none\" stroke=\"black\" points=\"4284.5,-302.5 4284.5,-338.5 \"/>\n<text text-anchor=\"middle\" x=\"4325.5\" y=\"-316.8\" font-family=\"Times,serif\" font-size=\"14.00\">grad 0.0000</text>\n</g>\n<!-- 140044135009632+ -->\n<g id=\"node87\" class=\"node\">\n<title>140044135009632+</title>\n<ellipse fill=\"none\" stroke=\"black\" cx=\"4496\" cy=\"-360.5\" rx=\"27\" ry=\"18\"/>\n<text text-anchor=\"middle\" x=\"4496\" y=\"-356.8\" font-family=\"Times,serif\" font-size=\"14.00\">+</text>\n</g>\n<!-- 140044135009248&#45;&gt;140044135009632+ -->\n<g id=\"edge197\" class=\"edge\">\n<title>140044135009248&#45;&gt;140044135009632+</title>\n<path fill=\"none\" stroke=\"black\" d=\"M4366.63,-337C4399.34,-342.99 4434.41,-349.41 4459.62,-354.02\"/>\n<polygon fill=\"black\" stroke=\"black\" points=\"4459.31,-357.52 4469.78,-355.88 4460.57,-350.64 4459.31,-357.52\"/>\n</g>\n<!-- 140044135009248+&#45;&gt;140044135009248 -->\n<g id=\"edge27\" class=\"edge\">\n<title>140044135009248+&#45;&gt;140044135009248</title>\n<path fill=\"none\" stroke=\"black\" d=\"M4082.36,-320.5C4105.29,-320.5 4140.06,-320.5 4173.74,-320.5\"/>\n<polygon fill=\"black\" stroke=\"black\" points=\"4174.15,-324 4184.15,-320.5 4174.15,-317 4174.15,-324\"/>\n</g>\n<!-- 140046568393744 -->\n<g id=\"node78\" class=\"node\">\n<title>140046568393744</title>\n<polygon fill=\"none\" stroke=\"black\" points=\"1555,-770.5 1555,-806.5 1742,-806.5 1742,-770.5 1555,-770.5\"/>\n<text text-anchor=\"middle\" x=\"1565\" y=\"-784.8\" font-family=\"Times,serif\" font-size=\"14.00\"> </text>\n<polyline fill=\"none\" stroke=\"black\" points=\"1575,-770.5 1575,-806.5 \"/>\n<text text-anchor=\"middle\" x=\"1617.5\" y=\"-784.8\" font-family=\"Times,serif\" font-size=\"14.00\">data &#45;0.1699</text>\n<polyline fill=\"none\" stroke=\"black\" points=\"1660,-770.5 1660,-806.5 \"/>\n<text text-anchor=\"middle\" x=\"1701\" y=\"-784.8\" font-family=\"Times,serif\" font-size=\"14.00\">grad 0.0000</text>\n</g>\n<!-- 140044157057488* -->\n<g id=\"node167\" class=\"node\">\n<title>140044157057488*</title>\n<ellipse fill=\"none\" stroke=\"black\" cx=\"1805\" cy=\"-788.5\" rx=\"27\" ry=\"18\"/>\n<text text-anchor=\"middle\" x=\"1805\" y=\"-784.8\" font-family=\"Times,serif\" font-size=\"14.00\">*</text>\n</g>\n<!-- 140046568393744&#45;&gt;140044157057488* -->\n<g id=\"edge129\" class=\"edge\">\n<title>140046568393744&#45;&gt;140044157057488*</title>\n<path fill=\"none\" stroke=\"black\" d=\"M1742.05,-788.5C1751.06,-788.5 1759.79,-788.5 1767.7,-788.5\"/>\n<polygon fill=\"black\" stroke=\"black\" points=\"1767.95,-792 1777.95,-788.5 1767.95,-785 1767.95,-792\"/>\n</g>\n<!-- 140044135009440 -->\n<g id=\"node79\" class=\"node\">\n<title>140044135009440</title>\n<polygon fill=\"none\" stroke=\"black\" points=\"4182,-357.5 4182,-393.5 4369,-393.5 4369,-357.5 4182,-357.5\"/>\n<text text-anchor=\"middle\" x=\"4192\" y=\"-371.8\" font-family=\"Times,serif\" font-size=\"14.00\"> </text>\n<polyline fill=\"none\" stroke=\"black\" points=\"4202,-357.5 4202,-393.5 \"/>\n<text text-anchor=\"middle\" x=\"4244.5\" y=\"-371.8\" font-family=\"Times,serif\" font-size=\"14.00\">data &#45;0.0690</text>\n<polyline fill=\"none\" stroke=\"black\" points=\"4287,-357.5 4287,-393.5 \"/>\n<text text-anchor=\"middle\" x=\"4328\" y=\"-371.8\" font-family=\"Times,serif\" font-size=\"14.00\">grad 0.0000</text>\n</g>\n<!-- 140044135009440&#45;&gt;140044135009632+ -->\n<g id=\"edge145\" class=\"edge\">\n<title>140044135009440&#45;&gt;140044135009632+</title>\n<path fill=\"none\" stroke=\"black\" d=\"M4369.16,-369.14C4400.78,-366.97 4434.28,-364.67 4458.77,-362.99\"/>\n<polygon fill=\"black\" stroke=\"black\" points=\"4459.27,-366.46 4469.01,-362.28 4458.79,-359.48 4459.27,-366.46\"/>\n</g>\n<!-- 140044135009440* -->\n<g id=\"node80\" class=\"node\">\n<title>140044135009440*</title>\n<ellipse fill=\"none\" stroke=\"black\" cx=\"3683\" cy=\"-375.5\" rx=\"27\" ry=\"18\"/>\n<text text-anchor=\"middle\" x=\"3683\" y=\"-371.8\" font-family=\"Times,serif\" font-size=\"14.00\">*</text>\n</g>\n<!-- 140044135009440*&#45;&gt;140044135009440 -->\n<g id=\"edge28\" class=\"edge\">\n<title>140044135009440*&#45;&gt;140044135009440</title>\n<path fill=\"none\" stroke=\"black\" d=\"M3710.13,-375.5C3789.61,-375.5 4031.52,-375.5 4171.48,-375.5\"/>\n<polygon fill=\"black\" stroke=\"black\" points=\"4171.8,-379 4181.8,-375.5 4171.8,-372 4171.8,-379\"/>\n</g>\n<!-- 140044157095120 -->\n<g id=\"node81\" class=\"node\">\n<title>140044157095120</title>\n<polygon fill=\"none\" stroke=\"black\" points=\"3435.5,-141.5 3435.5,-177.5 3617.5,-177.5 3617.5,-141.5 3435.5,-141.5\"/>\n<text text-anchor=\"middle\" x=\"3445.5\" y=\"-155.8\" font-family=\"Times,serif\" font-size=\"14.00\"> </text>\n<polyline fill=\"none\" stroke=\"black\" points=\"3455.5,-141.5 3455.5,-177.5 \"/>\n<text text-anchor=\"middle\" x=\"3495.5\" y=\"-155.8\" font-family=\"Times,serif\" font-size=\"14.00\">data 0.8034</text>\n<polyline fill=\"none\" stroke=\"black\" points=\"3535.5,-141.5 3535.5,-177.5 \"/>\n<text text-anchor=\"middle\" x=\"3576.5\" y=\"-155.8\" font-family=\"Times,serif\" font-size=\"14.00\">grad 0.0000</text>\n</g>\n<!-- 140044135009824* -->\n<g id=\"node89\" class=\"node\">\n<title>140044135009824*</title>\n<ellipse fill=\"none\" stroke=\"black\" cx=\"3683\" cy=\"-159.5\" rx=\"27\" ry=\"18\"/>\n<text text-anchor=\"middle\" x=\"3683\" y=\"-155.8\" font-family=\"Times,serif\" font-size=\"14.00\">*</text>\n</g>\n<!-- 140044157095120&#45;&gt;140044135009824* -->\n<g id=\"edge98\" class=\"edge\">\n<title>140044157095120&#45;&gt;140044135009824*</title>\n<path fill=\"none\" stroke=\"black\" d=\"M3617.82,-159.5C3627.57,-159.5 3637.04,-159.5 3645.57,-159.5\"/>\n<polygon fill=\"black\" stroke=\"black\" points=\"3645.83,-163 3655.83,-159.5 3645.83,-156 3645.83,-163\"/>\n</g>\n<!-- 140044157095120tanh&#45;&gt;140044157095120 -->\n<g id=\"edge29\" class=\"edge\">\n<title>140044157095120tanh&#45;&gt;140044157095120</title>\n<path fill=\"none\" stroke=\"black\" d=\"M3397.21,-159.5C3405.34,-159.5 3414.85,-159.5 3424.94,-159.5\"/>\n<polygon fill=\"black\" stroke=\"black\" points=\"3425.19,-163 3435.19,-159.5 3425.19,-156 3425.19,-163\"/>\n</g>\n<!-- 140044166032640 -->\n<g id=\"node83\" class=\"node\">\n<title>140044166032640</title>\n<polygon fill=\"none\" stroke=\"black\" points=\"308,-660.5 308,-696.5 490,-696.5 490,-660.5 308,-660.5\"/>\n<text text-anchor=\"middle\" x=\"318\" y=\"-674.8\" font-family=\"Times,serif\" font-size=\"14.00\"> </text>\n<polyline fill=\"none\" stroke=\"black\" points=\"328,-660.5 328,-696.5 \"/>\n<text text-anchor=\"middle\" x=\"368\" y=\"-674.8\" font-family=\"Times,serif\" font-size=\"14.00\">data 0.0737</text>\n<polyline fill=\"none\" stroke=\"black\" points=\"408,-660.5 408,-696.5 \"/>\n<text text-anchor=\"middle\" x=\"449\" y=\"-674.8\" font-family=\"Times,serif\" font-size=\"14.00\">grad 0.0000</text>\n</g>\n<!-- 140044166033168+ -->\n<g id=\"node104\" class=\"node\">\n<title>140044166033168+</title>\n<ellipse fill=\"none\" stroke=\"black\" cx=\"553\" cy=\"-678.5\" rx=\"27\" ry=\"18\"/>\n<text text-anchor=\"middle\" x=\"553\" y=\"-674.8\" font-family=\"Times,serif\" font-size=\"14.00\">+</text>\n</g>\n<!-- 140044166032640&#45;&gt;140044166033168+ -->\n<g id=\"edge103\" class=\"edge\">\n<title>140044166032640&#45;&gt;140044166033168+</title>\n<path fill=\"none\" stroke=\"black\" d=\"M490.18,-678.5C499.14,-678.5 507.83,-678.5 515.73,-678.5\"/>\n<polygon fill=\"black\" stroke=\"black\" points=\"515.96,-682 525.96,-678.5 515.96,-675 515.96,-682\"/>\n</g>\n<!-- 140044166032640*&#45;&gt;140044166032640 -->\n<g id=\"edge30\" class=\"edge\">\n<title>140044166032640*&#45;&gt;140044166032640</title>\n<path fill=\"none\" stroke=\"black\" d=\"M272.13,-678.5C279.67,-678.5 288.39,-678.5 297.64,-678.5\"/>\n<polygon fill=\"black\" stroke=\"black\" points=\"297.87,-682 307.87,-678.5 297.87,-675 297.87,-682\"/>\n</g>\n<!-- 140046824672560 -->\n<g id=\"node85\" class=\"node\">\n<title>140046824672560</title>\n<polygon fill=\"none\" stroke=\"black\" points=\"931.5,-165.5 931.5,-201.5 1113.5,-201.5 1113.5,-165.5 931.5,-165.5\"/>\n<text text-anchor=\"middle\" x=\"941.5\" y=\"-179.8\" font-family=\"Times,serif\" font-size=\"14.00\"> </text>\n<polyline fill=\"none\" stroke=\"black\" points=\"951.5,-165.5 951.5,-201.5 \"/>\n<text text-anchor=\"middle\" x=\"991.5\" y=\"-179.8\" font-family=\"Times,serif\" font-size=\"14.00\">data 2.0000</text>\n<polyline fill=\"none\" stroke=\"black\" points=\"1031.5,-165.5 1031.5,-201.5 \"/>\n<text text-anchor=\"middle\" x=\"1072.5\" y=\"-179.8\" font-family=\"Times,serif\" font-size=\"14.00\">grad 0.0000</text>\n</g>\n<!-- 140046824672560&#45;&gt;140046824670880* -->\n<g id=\"edge181\" class=\"edge\">\n<title>140046824672560&#45;&gt;140046824670880*</title>\n<path fill=\"none\" stroke=\"black\" d=\"M1087.02,-165.35C1096.79,-162.24 1106.71,-158.92 1116,-155.5 1126.25,-151.73 1137.23,-147.14 1147.07,-142.82\"/>\n<polygon fill=\"black\" stroke=\"black\" points=\"1148.74,-145.9 1156.45,-138.63 1145.89,-139.51 1148.74,-145.9\"/>\n</g>\n<!-- 140044135009632 -->\n<g id=\"node86\" class=\"node\">\n<title>140044135009632</title>\n<polygon fill=\"none\" stroke=\"black\" points=\"4623,-342.5 4623,-378.5 4805,-378.5 4805,-342.5 4623,-342.5\"/>\n<text text-anchor=\"middle\" x=\"4633\" y=\"-356.8\" font-family=\"Times,serif\" font-size=\"14.00\"> </text>\n<polyline fill=\"none\" stroke=\"black\" points=\"4643,-342.5 4643,-378.5 \"/>\n<text text-anchor=\"middle\" x=\"4683\" y=\"-356.8\" font-family=\"Times,serif\" font-size=\"14.00\">data 1.1022</text>\n<polyline fill=\"none\" stroke=\"black\" points=\"4723,-342.5 4723,-378.5 \"/>\n<text text-anchor=\"middle\" x=\"4764\" y=\"-356.8\" font-family=\"Times,serif\" font-size=\"14.00\">grad 0.0000</text>\n</g>\n<!-- 140044135010016+ -->\n<g id=\"node97\" class=\"node\">\n<title>140044135010016+</title>\n<ellipse fill=\"none\" stroke=\"black\" cx=\"4868\" cy=\"-360.5\" rx=\"27\" ry=\"18\"/>\n<text text-anchor=\"middle\" x=\"4868\" y=\"-356.8\" font-family=\"Times,serif\" font-size=\"14.00\">+</text>\n</g>\n<!-- 140044135009632&#45;&gt;140044135010016+ -->\n<g id=\"edge164\" class=\"edge\">\n<title>140044135009632&#45;&gt;140044135010016+</title>\n<path fill=\"none\" stroke=\"black\" d=\"M4805.18,-360.5C4814.14,-360.5 4822.83,-360.5 4830.73,-360.5\"/>\n<polygon fill=\"black\" stroke=\"black\" points=\"4830.96,-364 4840.96,-360.5 4830.96,-357 4830.96,-364\"/>\n</g>\n<!-- 140044135009632+&#45;&gt;140044135009632 -->\n<g id=\"edge31\" class=\"edge\">\n<title>140044135009632+&#45;&gt;140044135009632</title>\n<path fill=\"none\" stroke=\"black\" d=\"M4523.05,-360.5C4545.53,-360.5 4579.48,-360.5 4612.5,-360.5\"/>\n<polygon fill=\"black\" stroke=\"black\" points=\"4612.7,-364 4622.7,-360.5 4612.7,-357 4612.7,-364\"/>\n</g>\n<!-- 140044135009824 -->\n<g id=\"node88\" class=\"node\">\n<title>140044135009824</title>\n<polygon fill=\"none\" stroke=\"black\" points=\"4405,-222.5 4405,-258.5 4587,-258.5 4587,-222.5 4405,-222.5\"/>\n<text text-anchor=\"middle\" x=\"4415\" y=\"-236.8\" font-family=\"Times,serif\" font-size=\"14.00\"> </text>\n<polyline fill=\"none\" stroke=\"black\" points=\"4425,-222.5 4425,-258.5 \"/>\n<text text-anchor=\"middle\" x=\"4465\" y=\"-236.8\" font-family=\"Times,serif\" font-size=\"14.00\">data 0.5547</text>\n<polyline fill=\"none\" stroke=\"black\" points=\"4505,-222.5 4505,-258.5 \"/>\n<text text-anchor=\"middle\" x=\"4546\" y=\"-236.8\" font-family=\"Times,serif\" font-size=\"14.00\">grad 0.0000</text>\n</g>\n<!-- 140044135009824&#45;&gt;140044135010016+ -->\n<g id=\"edge112\" class=\"edge\">\n<title>140044135009824&#45;&gt;140044135010016+</title>\n<path fill=\"none\" stroke=\"black\" d=\"M4566.99,-258.53C4630,-275.44 4724.74,-302.55 4805,-332.5 4815.48,-336.41 4826.7,-341.26 4836.66,-345.82\"/>\n<polygon fill=\"black\" stroke=\"black\" points=\"4835.23,-349.02 4845.78,-350.06 4838.19,-342.67 4835.23,-349.02\"/>\n</g>\n<!-- 140044135009824*&#45;&gt;140044135009824 -->\n<g id=\"edge32\" class=\"edge\">\n<title>140044135009824*&#45;&gt;140044135009824</title>\n<path fill=\"none\" stroke=\"black\" d=\"M3710.06,-162.1C3814.69,-172.55 4207.51,-211.79 4394.65,-230.48\"/>\n<polygon fill=\"black\" stroke=\"black\" points=\"4394.47,-233.98 4404.77,-231.49 4395.17,-227.01 4394.47,-233.98\"/>\n</g>\n<!-- 140044165983824 -->\n<g id=\"node90\" class=\"node\">\n<title>140044165983824</title>\n<polygon fill=\"none\" stroke=\"black\" points=\"2494,-388.5 2494,-424.5 2681,-424.5 2681,-388.5 2494,-388.5\"/>\n<text text-anchor=\"middle\" x=\"2504\" y=\"-402.8\" font-family=\"Times,serif\" font-size=\"14.00\"> </text>\n<polyline fill=\"none\" stroke=\"black\" points=\"2514,-388.5 2514,-424.5 \"/>\n<text text-anchor=\"middle\" x=\"2556.5\" y=\"-402.8\" font-family=\"Times,serif\" font-size=\"14.00\">data &#45;0.1967</text>\n<polyline fill=\"none\" stroke=\"black\" points=\"2599,-388.5 2599,-424.5 \"/>\n<text text-anchor=\"middle\" x=\"2640\" y=\"-402.8\" font-family=\"Times,serif\" font-size=\"14.00\">grad 0.0000</text>\n</g>\n<!-- 140044165983824&#45;&gt;140046804232128+ -->\n<g id=\"edge180\" class=\"edge\">\n<title>140044165983824&#45;&gt;140046804232128+</title>\n<path fill=\"none\" stroke=\"black\" d=\"M2681.05,-406.5C2690.06,-406.5 2698.79,-406.5 2706.7,-406.5\"/>\n<polygon fill=\"black\" stroke=\"black\" points=\"2706.95,-410 2716.95,-406.5 2706.95,-403 2706.95,-410\"/>\n</g>\n<!-- 140044165983824*&#45;&gt;140044165983824 -->\n<g id=\"edge33\" class=\"edge\">\n<title>140044165983824*&#45;&gt;140044165983824</title>\n<path fill=\"none\" stroke=\"black\" d=\"M2458.21,-404.01C2465.73,-404.16 2474.43,-404.32 2483.67,-404.5\"/>\n<polygon fill=\"black\" stroke=\"black\" points=\"2483.82,-408.01 2493.89,-404.7 2483.96,-401.01 2483.82,-408.01\"/>\n</g>\n<!-- 140044157095600 -->\n<g id=\"node92\" class=\"node\">\n<title>140044157095600</title>\n<polygon fill=\"none\" stroke=\"black\" points=\"2809.5,-169.5 2809.5,-205.5 2991.5,-205.5 2991.5,-169.5 2809.5,-169.5\"/>\n<text text-anchor=\"middle\" x=\"2819.5\" y=\"-183.8\" font-family=\"Times,serif\" font-size=\"14.00\"> </text>\n<polyline fill=\"none\" stroke=\"black\" points=\"2829.5,-169.5 2829.5,-205.5 \"/>\n<text text-anchor=\"middle\" x=\"2869.5\" y=\"-183.8\" font-family=\"Times,serif\" font-size=\"14.00\">data 0.2042</text>\n<polyline fill=\"none\" stroke=\"black\" points=\"2909.5,-169.5 2909.5,-205.5 \"/>\n<text text-anchor=\"middle\" x=\"2950.5\" y=\"-183.8\" font-family=\"Times,serif\" font-size=\"14.00\">grad 0.0000</text>\n</g>\n<!-- 140044157095600&#45;&gt;140044157093632+ -->\n<g id=\"edge173\" class=\"edge\">\n<title>140044157095600&#45;&gt;140044157093632+</title>\n<path fill=\"none\" stroke=\"black\" d=\"M2991.82,-171.13C3002.07,-169.27 3012.01,-167.47 3020.88,-165.87\"/>\n<polygon fill=\"black\" stroke=\"black\" points=\"3021.54,-169.3 3030.75,-164.08 3020.29,-162.42 3021.54,-169.3\"/>\n</g>\n<!-- 140044157095600+&#45;&gt;140044157095600 -->\n<g id=\"edge34\" class=\"edge\">\n<title>140044157095600+&#45;&gt;140044157095600</title>\n<path fill=\"none\" stroke=\"black\" d=\"M2771.21,-187.5C2779.34,-187.5 2788.85,-187.5 2798.94,-187.5\"/>\n<polygon fill=\"black\" stroke=\"black\" points=\"2799.19,-191 2809.19,-187.5 2799.19,-184 2799.19,-191\"/>\n</g>\n<!-- 140044166377136 -->\n<g id=\"node94\" class=\"node\">\n<title>140044166377136</title>\n<polygon fill=\"none\" stroke=\"black\" points=\"2807,-278.5 2807,-314.5 2994,-314.5 2994,-278.5 2807,-278.5\"/>\n<text text-anchor=\"middle\" x=\"2817\" y=\"-292.8\" font-family=\"Times,serif\" font-size=\"14.00\"> </text>\n<polyline fill=\"none\" stroke=\"black\" points=\"2827,-278.5 2827,-314.5 \"/>\n<text text-anchor=\"middle\" x=\"2869.5\" y=\"-292.8\" font-family=\"Times,serif\" font-size=\"14.00\">data &#45;0.8192</text>\n<polyline fill=\"none\" stroke=\"black\" points=\"2912,-278.5 2912,-314.5 \"/>\n<text text-anchor=\"middle\" x=\"2953\" y=\"-292.8\" font-family=\"Times,serif\" font-size=\"14.00\">grad 0.0000</text>\n</g>\n<!-- 140044166377136&#45;&gt;140044166376416+ -->\n<g id=\"edge155\" class=\"edge\">\n<title>140044166377136&#45;&gt;140044166376416+</title>\n<path fill=\"none\" stroke=\"black\" d=\"M2994.05,-313.27C3003.54,-314.99 3012.71,-316.65 3020.95,-318.15\"/>\n<polygon fill=\"black\" stroke=\"black\" points=\"3020.39,-321.6 3030.85,-319.94 3021.64,-314.72 3020.39,-321.6\"/>\n</g>\n<!-- 140044166377136*&#45;&gt;140044166377136 -->\n<g id=\"edge35\" class=\"edge\">\n<title>140044166377136*&#45;&gt;140044166377136</title>\n<path fill=\"none\" stroke=\"black\" d=\"M2771.21,-296.5C2778.73,-296.5 2787.43,-296.5 2796.67,-296.5\"/>\n<polygon fill=\"black\" stroke=\"black\" points=\"2796.89,-300 2806.89,-296.5 2796.89,-293 2796.89,-300\"/>\n</g>\n<!-- 140044135010016 -->\n<g id=\"node96\" class=\"node\">\n<title>140044135010016</title>\n<polygon fill=\"none\" stroke=\"black\" points=\"4931,-357.5 4931,-393.5 5113,-393.5 5113,-357.5 4931,-357.5\"/>\n<text text-anchor=\"middle\" x=\"4941\" y=\"-371.8\" font-family=\"Times,serif\" font-size=\"14.00\"> </text>\n<polyline fill=\"none\" stroke=\"black\" points=\"4951,-357.5 4951,-393.5 \"/>\n<text text-anchor=\"middle\" x=\"4991\" y=\"-371.8\" font-family=\"Times,serif\" font-size=\"14.00\">data 1.6569</text>\n<polyline fill=\"none\" stroke=\"black\" points=\"5031,-357.5 5031,-393.5 \"/>\n<text text-anchor=\"middle\" x=\"5072\" y=\"-371.8\" font-family=\"Times,serif\" font-size=\"14.00\">grad 0.0000</text>\n</g>\n<!-- 140044135010016&#45;&gt;140044135047328+ -->\n<g id=\"edge122\" class=\"edge\">\n<title>140044135010016&#45;&gt;140044135047328+</title>\n<path fill=\"none\" stroke=\"black\" d=\"M5113.18,-389.15C5122.42,-390.54 5131.38,-391.9 5139.47,-393.12\"/>\n<polygon fill=\"black\" stroke=\"black\" points=\"5139.15,-396.61 5149.56,-394.65 5140.19,-389.69 5139.15,-396.61\"/>\n</g>\n<!-- 140044135010016+&#45;&gt;140044135010016 -->\n<g id=\"edge36\" class=\"edge\">\n<title>140044135010016+&#45;&gt;140044135010016</title>\n<path fill=\"none\" stroke=\"black\" d=\"M4894.78,-363.04C4902.45,-363.8 4911.36,-364.68 4920.82,-365.61\"/>\n<polygon fill=\"black\" stroke=\"black\" points=\"4920.56,-369.11 4930.86,-366.6 4921.25,-362.14 4920.56,-369.11\"/>\n</g>\n<!-- 140044157095648 -->\n<g id=\"node98\" class=\"node\">\n<title>140044157095648</title>\n<polygon fill=\"none\" stroke=\"black\" points=\"2809.5,-59.5 2809.5,-95.5 2991.5,-95.5 2991.5,-59.5 2809.5,-59.5\"/>\n<text text-anchor=\"middle\" x=\"2819.5\" y=\"-73.8\" font-family=\"Times,serif\" font-size=\"14.00\"> </text>\n<polyline fill=\"none\" stroke=\"black\" points=\"2829.5,-59.5 2829.5,-95.5 \"/>\n<text text-anchor=\"middle\" x=\"2869.5\" y=\"-73.8\" font-family=\"Times,serif\" font-size=\"14.00\">data 0.9040</text>\n<polyline fill=\"none\" stroke=\"black\" points=\"2909.5,-59.5 2909.5,-95.5 \"/>\n<text text-anchor=\"middle\" x=\"2950.5\" y=\"-73.8\" font-family=\"Times,serif\" font-size=\"14.00\">grad 0.0000</text>\n</g>\n<!-- 140044157095648&#45;&gt;140044157093632+ -->\n<g id=\"edge137\" class=\"edge\">\n<title>140044157095648&#45;&gt;140044157093632+</title>\n<path fill=\"none\" stroke=\"black\" d=\"M2974.94,-95.62C2981.54,-98.24 2988,-101.18 2994,-104.5 3009.14,-112.87 3023.74,-125.51 3034.96,-136.56\"/>\n<polygon fill=\"black\" stroke=\"black\" points=\"3032.65,-139.21 3042.16,-143.89 3037.65,-134.3 3032.65,-139.21\"/>\n</g>\n<!-- 140044157095648*&#45;&gt;140044157095648 -->\n<g id=\"edge37\" class=\"edge\">\n<title>140044157095648*&#45;&gt;140044157095648</title>\n<path fill=\"none\" stroke=\"black\" d=\"M2771.21,-77.5C2779.34,-77.5 2788.85,-77.5 2798.94,-77.5\"/>\n<polygon fill=\"black\" stroke=\"black\" points=\"2799.19,-81 2809.19,-77.5 2799.19,-74 2799.19,-81\"/>\n</g>\n<!-- 140046568664800 -->\n<g id=\"node100\" class=\"node\">\n<title>140046568664800</title>\n<polygon fill=\"none\" stroke=\"black\" points=\"3746,-304.5 3746,-340.5 3928,-340.5 3928,-304.5 3746,-304.5\"/>\n<text text-anchor=\"middle\" x=\"3756\" y=\"-318.8\" font-family=\"Times,serif\" font-size=\"14.00\"> </text>\n<polyline fill=\"none\" stroke=\"black\" points=\"3766,-304.5 3766,-340.5 \"/>\n<text text-anchor=\"middle\" x=\"3806\" y=\"-318.8\" font-family=\"Times,serif\" font-size=\"14.00\">data 0.8527</text>\n<polyline fill=\"none\" stroke=\"black\" points=\"3846,-304.5 3846,-340.5 \"/>\n<text text-anchor=\"middle\" x=\"3887\" y=\"-318.8\" font-family=\"Times,serif\" font-size=\"14.00\">grad 0.0000</text>\n</g>\n<!-- 140046568664800&#45;&gt;140044135009248+ -->\n<g id=\"edge167\" class=\"edge\">\n<title>140046568664800&#45;&gt;140044135009248+</title>\n<path fill=\"none\" stroke=\"black\" d=\"M3928.04,-321.67C3959.5,-321.37 3993.05,-321.06 4017.61,-320.84\"/>\n<polygon fill=\"black\" stroke=\"black\" points=\"4017.92,-324.33 4027.89,-320.74 4017.86,-317.33 4017.92,-324.33\"/>\n</g>\n<!-- 140046804250384 -->\n<g id=\"node101\" class=\"node\">\n<title>140046804250384</title>\n<polygon fill=\"none\" stroke=\"black\" points=\"1868,-385.5 1868,-421.5 2055,-421.5 2055,-385.5 1868,-385.5\"/>\n<text text-anchor=\"middle\" x=\"1878\" y=\"-399.8\" font-family=\"Times,serif\" font-size=\"14.00\"> </text>\n<polyline fill=\"none\" stroke=\"black\" points=\"1888,-385.5 1888,-421.5 \"/>\n<text text-anchor=\"middle\" x=\"1930.5\" y=\"-399.8\" font-family=\"Times,serif\" font-size=\"14.00\">data &#45;1.1637</text>\n<polyline fill=\"none\" stroke=\"black\" points=\"1973,-385.5 1973,-421.5 \"/>\n<text text-anchor=\"middle\" x=\"2014\" y=\"-399.8\" font-family=\"Times,serif\" font-size=\"14.00\">grad 0.0000</text>\n</g>\n<!-- 140046804250528tanh -->\n<g id=\"node113\" class=\"node\">\n<title>140046804250528tanh</title>\n<ellipse fill=\"none\" stroke=\"black\" cx=\"2118\" cy=\"-403.5\" rx=\"27\" ry=\"18\"/>\n<text text-anchor=\"middle\" x=\"2118\" y=\"-399.8\" font-family=\"Times,serif\" font-size=\"14.00\">tanh</text>\n</g>\n<!-- 140046804250384&#45;&gt;140046804250528tanh -->\n<g id=\"edge76\" class=\"edge\">\n<title>140046804250384&#45;&gt;140046804250528tanh</title>\n<path fill=\"none\" stroke=\"black\" d=\"M2055.05,-403.5C2064.06,-403.5 2072.79,-403.5 2080.7,-403.5\"/>\n<polygon fill=\"black\" stroke=\"black\" points=\"2080.95,-407 2090.95,-403.5 2080.95,-400 2080.95,-407\"/>\n</g>\n<!-- 140046804250384+ -->\n<g id=\"node102\" class=\"node\">\n<title>140046804250384+</title>\n<ellipse fill=\"none\" stroke=\"black\" cx=\"1805\" cy=\"-403.5\" rx=\"27\" ry=\"18\"/>\n<text text-anchor=\"middle\" x=\"1805\" y=\"-399.8\" font-family=\"Times,serif\" font-size=\"14.00\">+</text>\n</g>\n<!-- 140046804250384+&#45;&gt;140046804250384 -->\n<g id=\"edge38\" class=\"edge\">\n<title>140046804250384+&#45;&gt;140046804250384</title>\n<path fill=\"none\" stroke=\"black\" d=\"M1832.21,-403.5C1839.73,-403.5 1848.43,-403.5 1857.67,-403.5\"/>\n<polygon fill=\"black\" stroke=\"black\" points=\"1857.89,-407 1867.89,-403.5 1857.89,-400 1857.89,-407\"/>\n</g>\n<!-- 140044166033168 -->\n<g id=\"node103\" class=\"node\">\n<title>140044166033168</title>\n<polygon fill=\"none\" stroke=\"black\" points=\"618.5,-660.5 618.5,-696.5 800.5,-696.5 800.5,-660.5 618.5,-660.5\"/>\n<text text-anchor=\"middle\" x=\"628.5\" y=\"-674.8\" font-family=\"Times,serif\" font-size=\"14.00\"> </text>\n<polyline fill=\"none\" stroke=\"black\" points=\"638.5,-660.5 638.5,-696.5 \"/>\n<text text-anchor=\"middle\" x=\"678.5\" y=\"-674.8\" font-family=\"Times,serif\" font-size=\"14.00\">data 0.7119</text>\n<polyline fill=\"none\" stroke=\"black\" points=\"718.5,-660.5 718.5,-696.5 \"/>\n<text text-anchor=\"middle\" x=\"759.5\" y=\"-674.8\" font-family=\"Times,serif\" font-size=\"14.00\">grad 0.0000</text>\n</g>\n<!-- 140044166033168&#45;&gt;140044166030048+ -->\n<g id=\"edge204\" class=\"edge\">\n<title>140044166033168&#45;&gt;140044166030048+</title>\n<path fill=\"none\" stroke=\"black\" d=\"M776.56,-696.55C785.51,-699.36 794.53,-702.37 803,-705.5 813.49,-709.38 824.71,-714.22 834.68,-718.78\"/>\n<polygon fill=\"black\" stroke=\"black\" points=\"833.25,-721.98 843.79,-723.03 836.2,-715.63 833.25,-721.98\"/>\n</g>\n<!-- 140044166033168+&#45;&gt;140044166033168 -->\n<g id=\"edge39\" class=\"edge\">\n<title>140044166033168+&#45;&gt;140044166033168</title>\n<path fill=\"none\" stroke=\"black\" d=\"M580.21,-678.5C588.34,-678.5 597.85,-678.5 607.94,-678.5\"/>\n<polygon fill=\"black\" stroke=\"black\" points=\"608.19,-682 618.19,-678.5 608.19,-675 608.19,-682\"/>\n</g>\n<!-- 140044166377232 -->\n<g id=\"node105\" class=\"node\">\n<title>140044166377232</title>\n<polygon fill=\"none\" stroke=\"black\" points=\"2496.5,-443.5 2496.5,-479.5 2678.5,-479.5 2678.5,-443.5 2496.5,-443.5\"/>\n<text text-anchor=\"middle\" x=\"2506.5\" y=\"-457.8\" font-family=\"Times,serif\" font-size=\"14.00\"> </text>\n<polyline fill=\"none\" stroke=\"black\" points=\"2516.5,-443.5 2516.5,-479.5 \"/>\n<text text-anchor=\"middle\" x=\"2556.5\" y=\"-457.8\" font-family=\"Times,serif\" font-size=\"14.00\">data 0.2218</text>\n<polyline fill=\"none\" stroke=\"black\" points=\"2596.5,-443.5 2596.5,-479.5 \"/>\n<text text-anchor=\"middle\" x=\"2637.5\" y=\"-457.8\" font-family=\"Times,serif\" font-size=\"14.00\">grad 0.0000</text>\n</g>\n<!-- 140044166377232&#45;&gt;140044166376272+ -->\n<g id=\"edge161\" class=\"edge\">\n<title>140044166377232&#45;&gt;140044166376272+</title>\n<path fill=\"none\" stroke=\"black\" d=\"M2678.82,-461.5C2688.57,-461.5 2698.04,-461.5 2706.57,-461.5\"/>\n<polygon fill=\"black\" stroke=\"black\" points=\"2706.83,-465 2716.83,-461.5 2706.83,-458 2706.83,-465\"/>\n</g>\n<!-- 140044166377232*&#45;&gt;140044166377232 -->\n<g id=\"edge40\" class=\"edge\">\n<title>140044166377232*&#45;&gt;140044166377232</title>\n<path fill=\"none\" stroke=\"black\" d=\"M2458.21,-459.01C2466.34,-459.17 2475.85,-459.35 2485.94,-459.55\"/>\n<polygon fill=\"black\" stroke=\"black\" points=\"2486.12,-463.05 2496.19,-459.75 2486.26,-456.05 2486.12,-463.05\"/>\n</g>\n<!-- 140046568394560 -->\n<g id=\"node107\" class=\"node\">\n<title>140046568394560</title>\n<polygon fill=\"none\" stroke=\"black\" points=\"1870.5,-179.5 1870.5,-215.5 2052.5,-215.5 2052.5,-179.5 1870.5,-179.5\"/>\n<text text-anchor=\"middle\" x=\"1880.5\" y=\"-193.8\" font-family=\"Times,serif\" font-size=\"14.00\"> </text>\n<polyline fill=\"none\" stroke=\"black\" points=\"1890.5,-179.5 1890.5,-215.5 \"/>\n<text text-anchor=\"middle\" x=\"1930.5\" y=\"-193.8\" font-family=\"Times,serif\" font-size=\"14.00\">data 0.2509</text>\n<polyline fill=\"none\" stroke=\"black\" points=\"1970.5,-179.5 1970.5,-215.5 \"/>\n<text text-anchor=\"middle\" x=\"2011.5\" y=\"-193.8\" font-family=\"Times,serif\" font-size=\"14.00\">grad 0.0000</text>\n</g>\n<!-- 140046568591616+ -->\n<g id=\"node121\" class=\"node\">\n<title>140046568591616+</title>\n<ellipse fill=\"none\" stroke=\"black\" cx=\"2118\" cy=\"-197.5\" rx=\"27\" ry=\"18\"/>\n<text text-anchor=\"middle\" x=\"2118\" y=\"-193.8\" font-family=\"Times,serif\" font-size=\"14.00\">+</text>\n</g>\n<!-- 140046568394560&#45;&gt;140046568591616+ -->\n<g id=\"edge183\" class=\"edge\">\n<title>140046568394560&#45;&gt;140046568591616+</title>\n<path fill=\"none\" stroke=\"black\" d=\"M2052.82,-197.5C2062.57,-197.5 2072.04,-197.5 2080.57,-197.5\"/>\n<polygon fill=\"black\" stroke=\"black\" points=\"2080.83,-201 2090.83,-197.5 2080.83,-194 2080.83,-201\"/>\n</g>\n<!-- 140044157095744 -->\n<g id=\"node108\" class=\"node\">\n<title>140044157095744</title>\n<polygon fill=\"none\" stroke=\"black\" points=\"2496.5,-223.5 2496.5,-259.5 2678.5,-259.5 2678.5,-223.5 2496.5,-223.5\"/>\n<text text-anchor=\"middle\" x=\"2506.5\" y=\"-237.8\" font-family=\"Times,serif\" font-size=\"14.00\"> </text>\n<polyline fill=\"none\" stroke=\"black\" points=\"2516.5,-223.5 2516.5,-259.5 \"/>\n<text text-anchor=\"middle\" x=\"2556.5\" y=\"-237.8\" font-family=\"Times,serif\" font-size=\"14.00\">data 0.3179</text>\n<polyline fill=\"none\" stroke=\"black\" points=\"2596.5,-223.5 2596.5,-259.5 \"/>\n<text text-anchor=\"middle\" x=\"2637.5\" y=\"-237.8\" font-family=\"Times,serif\" font-size=\"14.00\">grad 0.0000</text>\n</g>\n<!-- 140044157095744&#45;&gt;140044157095600+ -->\n<g id=\"edge100\" class=\"edge\">\n<title>140044157095744&#45;&gt;140044157095600+</title>\n<path fill=\"none\" stroke=\"black\" d=\"M2651.48,-223.39C2661.41,-220.26 2671.53,-216.91 2681,-213.5 2691.13,-209.85 2702.01,-205.46 2711.79,-201.33\"/>\n<polygon fill=\"black\" stroke=\"black\" points=\"2713.31,-204.48 2721.12,-197.32 2710.55,-198.05 2713.31,-204.48\"/>\n</g>\n<!-- 140044157095744*&#45;&gt;140044157095744 -->\n<g id=\"edge41\" class=\"edge\">\n<title>140044157095744*&#45;&gt;140044157095744</title>\n<path fill=\"none\" stroke=\"black\" d=\"M2454.18,-283.93C2465.91,-279.03 2480.62,-273.14 2494,-268.5 2499.81,-266.49 2505.86,-264.49 2511.95,-262.56\"/>\n<polygon fill=\"black\" stroke=\"black\" points=\"2513.04,-265.89 2521.55,-259.57 2510.96,-259.2 2513.04,-265.89\"/>\n</g>\n<!-- 140044156669760 -->\n<g id=\"node110\" class=\"node\">\n<title>140044156669760</title>\n<polygon fill=\"none\" stroke=\"black\" points=\"2183.5,-660.5 2183.5,-696.5 2365.5,-696.5 2365.5,-660.5 2183.5,-660.5\"/>\n<text text-anchor=\"middle\" x=\"2193.5\" y=\"-674.8\" font-family=\"Times,serif\" font-size=\"14.00\"> </text>\n<polyline fill=\"none\" stroke=\"black\" points=\"2203.5,-660.5 2203.5,-696.5 \"/>\n<text text-anchor=\"middle\" x=\"2243.5\" y=\"-674.8\" font-family=\"Times,serif\" font-size=\"14.00\">data 0.9415</text>\n<polyline fill=\"none\" stroke=\"black\" points=\"2283.5,-660.5 2283.5,-696.5 \"/>\n<text text-anchor=\"middle\" x=\"2324.5\" y=\"-674.8\" font-family=\"Times,serif\" font-size=\"14.00\">grad 0.0000</text>\n</g>\n<!-- 140044156669904+ -->\n<g id=\"node118\" class=\"node\">\n<title>140044156669904+</title>\n<ellipse fill=\"none\" stroke=\"black\" cx=\"2431\" cy=\"-678.5\" rx=\"27\" ry=\"18\"/>\n<text text-anchor=\"middle\" x=\"2431\" y=\"-674.8\" font-family=\"Times,serif\" font-size=\"14.00\">+</text>\n</g>\n<!-- 140044156669760&#45;&gt;140044156669904+ -->\n<g id=\"edge188\" class=\"edge\">\n<title>140044156669760&#45;&gt;140044156669904+</title>\n<path fill=\"none\" stroke=\"black\" d=\"M2365.82,-678.5C2375.57,-678.5 2385.04,-678.5 2393.57,-678.5\"/>\n<polygon fill=\"black\" stroke=\"black\" points=\"2393.83,-682 2403.83,-678.5 2393.83,-675 2393.83,-682\"/>\n</g>\n<!-- 140044156669760*&#45;&gt;140044156669760 -->\n<g id=\"edge42\" class=\"edge\">\n<title>140044156669760*&#45;&gt;140044156669760</title>\n<path fill=\"none\" stroke=\"black\" d=\"M2145.21,-678.5C2153.34,-678.5 2162.85,-678.5 2172.94,-678.5\"/>\n<polygon fill=\"black\" stroke=\"black\" points=\"2173.19,-682 2183.19,-678.5 2173.19,-675 2173.19,-682\"/>\n</g>\n<!-- 140046804250528 -->\n<g id=\"node112\" class=\"node\">\n<title>140046804250528</title>\n<polygon fill=\"none\" stroke=\"black\" points=\"2181,-385.5 2181,-421.5 2368,-421.5 2368,-385.5 2181,-385.5\"/>\n<text text-anchor=\"middle\" x=\"2191\" y=\"-399.8\" font-family=\"Times,serif\" font-size=\"14.00\"> </text>\n<polyline fill=\"none\" stroke=\"black\" points=\"2201,-385.5 2201,-421.5 \"/>\n<text text-anchor=\"middle\" x=\"2243.5\" y=\"-399.8\" font-family=\"Times,serif\" font-size=\"14.00\">data &#45;0.8223</text>\n<polyline fill=\"none\" stroke=\"black\" points=\"2286,-385.5 2286,-421.5 \"/>\n<text text-anchor=\"middle\" x=\"2327\" y=\"-399.8\" font-family=\"Times,serif\" font-size=\"14.00\">grad 0.0000</text>\n</g>\n<!-- 140046804250528&#45;&gt;140044156937984* -->\n<g id=\"edge179\" class=\"edge\">\n<title>140046804250528&#45;&gt;140044156937984*</title>\n<path fill=\"none\" stroke=\"black\" d=\"M2356.52,-421.55C2360.66,-424.14 2364.53,-427.11 2368,-430.5 2405.72,-467.31 2384.69,-494.45 2404,-543.5 2407.75,-553.03 2412.39,-563.22 2416.7,-572.22\"/>\n<polygon fill=\"black\" stroke=\"black\" points=\"2413.67,-573.97 2421.2,-581.42 2419.95,-570.9 2413.67,-573.97\"/>\n</g>\n<!-- 140046804250528&#45;&gt;140044165983824* -->\n<g id=\"edge135\" class=\"edge\">\n<title>140046804250528&#45;&gt;140044165983824*</title>\n<path fill=\"none\" stroke=\"black\" d=\"M2368.05,-403.5C2377.06,-403.5 2385.79,-403.5 2393.7,-403.5\"/>\n<polygon fill=\"black\" stroke=\"black\" points=\"2393.95,-407 2403.95,-403.5 2393.95,-400 2393.95,-407\"/>\n</g>\n<!-- 140046804250528&#45;&gt;140044166377232* -->\n<g id=\"edge113\" class=\"edge\">\n<title>140046804250528&#45;&gt;140044166377232*</title>\n<path fill=\"none\" stroke=\"black\" d=\"M2341.56,-421.55C2350.51,-424.36 2359.53,-427.37 2368,-430.5 2378.49,-434.38 2389.71,-439.22 2399.68,-443.78\"/>\n<polygon fill=\"black\" stroke=\"black\" points=\"2398.25,-446.98 2408.79,-448.03 2401.2,-440.63 2398.25,-446.98\"/>\n</g>\n<!-- 140046804250528&#45;&gt;140044157095744* -->\n<g id=\"edge85\" class=\"edge\">\n<title>140046804250528&#45;&gt;140044157095744*</title>\n<path fill=\"none\" stroke=\"black\" d=\"M2350.64,-385.32C2356.75,-382.49 2362.63,-379.24 2368,-375.5 2388.7,-361.07 2405.44,-337.58 2416.29,-319.43\"/>\n<polygon fill=\"black\" stroke=\"black\" points=\"2419.47,-320.91 2421.41,-310.5 2413.4,-317.43 2419.47,-320.91\"/>\n</g>\n<!-- 140046804250528tanh&#45;&gt;140046804250528 -->\n<g id=\"edge43\" class=\"edge\">\n<title>140046804250528tanh&#45;&gt;140046804250528</title>\n<path fill=\"none\" stroke=\"black\" d=\"M2145.21,-403.5C2152.73,-403.5 2161.43,-403.5 2170.67,-403.5\"/>\n<polygon fill=\"black\" stroke=\"black\" points=\"2170.89,-407 2180.89,-403.5 2170.89,-400 2170.89,-407\"/>\n</g>\n<!-- 140044135010208 -->\n<g id=\"node114\" class=\"node\">\n<title>140044135010208</title>\n<polygon fill=\"none\" stroke=\"black\" points=\"3964,-408.5 3964,-444.5 4146,-444.5 4146,-408.5 3964,-408.5\"/>\n<text text-anchor=\"middle\" x=\"3974\" y=\"-422.8\" font-family=\"Times,serif\" font-size=\"14.00\"> </text>\n<polyline fill=\"none\" stroke=\"black\" points=\"3984,-408.5 3984,-444.5 \"/>\n<text text-anchor=\"middle\" x=\"4024\" y=\"-422.8\" font-family=\"Times,serif\" font-size=\"14.00\">data 0.8949</text>\n<polyline fill=\"none\" stroke=\"black\" points=\"4064,-408.5 4064,-444.5 \"/>\n<text text-anchor=\"middle\" x=\"4105\" y=\"-422.8\" font-family=\"Times,serif\" font-size=\"14.00\">grad 0.0000</text>\n</g>\n<!-- 140044135010208&#45;&gt;140044135047328+ -->\n<g id=\"edge78\" class=\"edge\">\n<title>140044135010208&#45;&gt;140044135047328+</title>\n<path fill=\"none\" stroke=\"black\" d=\"M4146.38,-425.2C4235.14,-424.03 4374.38,-422.5 4495,-422.5 4495,-422.5 4495,-422.5 4869,-422.5 4967.07,-422.5 5082.29,-410.1 5139.31,-403.12\"/>\n<polygon fill=\"black\" stroke=\"black\" points=\"5139.77,-406.59 5149.26,-401.89 5138.91,-399.65 5139.77,-406.59\"/>\n</g>\n<!-- 140044135010208*&#45;&gt;140044135010208 -->\n<g id=\"edge44\" class=\"edge\">\n<title>140044135010208*&#45;&gt;140044135010208</title>\n<path fill=\"none\" stroke=\"black\" d=\"M3710.02,-433.94C3759.84,-432.86 3871.08,-430.45 3953.65,-428.67\"/>\n<polygon fill=\"black\" stroke=\"black\" points=\"3953.9,-432.17 3963.82,-428.45 3953.75,-425.17 3953.9,-432.17\"/>\n</g>\n<!-- 140046568394656 -->\n<g id=\"node116\" class=\"node\">\n<title>140046568394656</title>\n<polygon fill=\"none\" stroke=\"black\" points=\"1555,-248.5 1555,-284.5 1742,-284.5 1742,-248.5 1555,-248.5\"/>\n<text text-anchor=\"middle\" x=\"1565\" y=\"-262.8\" font-family=\"Times,serif\" font-size=\"14.00\"> </text>\n<polyline fill=\"none\" stroke=\"black\" points=\"1575,-248.5 1575,-284.5 \"/>\n<text text-anchor=\"middle\" x=\"1617.5\" y=\"-262.8\" font-family=\"Times,serif\" font-size=\"14.00\">data &#45;0.7205</text>\n<polyline fill=\"none\" stroke=\"black\" points=\"1660,-248.5 1660,-284.5 \"/>\n<text text-anchor=\"middle\" x=\"1701\" y=\"-262.8\" font-family=\"Times,serif\" font-size=\"14.00\">grad 0.0000</text>\n</g>\n<!-- 140046568593248* -->\n<g id=\"node153\" class=\"node\">\n<title>140046568593248*</title>\n<ellipse fill=\"none\" stroke=\"black\" cx=\"1805\" cy=\"-266.5\" rx=\"27\" ry=\"18\"/>\n<text text-anchor=\"middle\" x=\"1805\" y=\"-262.8\" font-family=\"Times,serif\" font-size=\"14.00\">*</text>\n</g>\n<!-- 140046568394656&#45;&gt;140046568593248* -->\n<g id=\"edge107\" class=\"edge\">\n<title>140046568394656&#45;&gt;140046568593248*</title>\n<path fill=\"none\" stroke=\"black\" d=\"M1742.05,-266.5C1751.06,-266.5 1759.79,-266.5 1767.7,-266.5\"/>\n<polygon fill=\"black\" stroke=\"black\" points=\"1767.95,-270 1777.95,-266.5 1767.95,-263 1767.95,-270\"/>\n</g>\n<!-- 140044156669904 -->\n<g id=\"node117\" class=\"node\">\n<title>140044156669904</title>\n<polygon fill=\"none\" stroke=\"black\" points=\"2496.5,-649.5 2496.5,-685.5 2678.5,-685.5 2678.5,-649.5 2496.5,-649.5\"/>\n<text text-anchor=\"middle\" x=\"2506.5\" y=\"-663.8\" font-family=\"Times,serif\" font-size=\"14.00\"> </text>\n<polyline fill=\"none\" stroke=\"black\" points=\"2516.5,-649.5 2516.5,-685.5 \"/>\n<text text-anchor=\"middle\" x=\"2556.5\" y=\"-663.8\" font-family=\"Times,serif\" font-size=\"14.00\">data 0.9113</text>\n<polyline fill=\"none\" stroke=\"black\" points=\"2596.5,-649.5 2596.5,-685.5 \"/>\n<text text-anchor=\"middle\" x=\"2637.5\" y=\"-663.8\" font-family=\"Times,serif\" font-size=\"14.00\">grad 0.0000</text>\n</g>\n<!-- 140044156669904&#45;&gt;140044166376272+ -->\n<g id=\"edge147\" class=\"edge\">\n<title>140044156669904&#45;&gt;140044166376272+</title>\n<path fill=\"none\" stroke=\"black\" d=\"M2646.83,-649.38C2659.33,-643.36 2671.59,-635.54 2681,-625.5 2717.12,-586.96 2732.76,-525.3 2739.09,-489.58\"/>\n<polygon fill=\"black\" stroke=\"black\" points=\"2742.6,-489.82 2740.77,-479.39 2735.69,-488.69 2742.6,-489.82\"/>\n</g>\n<!-- 140044156669904+&#45;&gt;140044156669904 -->\n<g id=\"edge45\" class=\"edge\">\n<title>140044156669904+&#45;&gt;140044156669904</title>\n<path fill=\"none\" stroke=\"black\" d=\"M2457.86,-676.66C2466.13,-676.07 2475.83,-675.38 2486.14,-674.65\"/>\n<polygon fill=\"black\" stroke=\"black\" points=\"2486.46,-678.13 2496.18,-673.93 2485.96,-671.15 2486.46,-678.13\"/>\n</g>\n<!-- 140044156580096 -->\n<g id=\"node119\" class=\"node\">\n<title>140044156580096</title>\n<polygon fill=\"none\" stroke=\"black\" points=\"616,-495.5 616,-531.5 803,-531.5 803,-495.5 616,-495.5\"/>\n<text text-anchor=\"middle\" x=\"626\" y=\"-509.8\" font-family=\"Times,serif\" font-size=\"14.00\"> </text>\n<polyline fill=\"none\" stroke=\"black\" points=\"636,-495.5 636,-531.5 \"/>\n<text text-anchor=\"middle\" x=\"678.5\" y=\"-509.8\" font-family=\"Times,serif\" font-size=\"14.00\">data &#45;0.7038</text>\n<polyline fill=\"none\" stroke=\"black\" points=\"721,-495.5 721,-531.5 \"/>\n<text text-anchor=\"middle\" x=\"762\" y=\"-509.8\" font-family=\"Times,serif\" font-size=\"14.00\">grad 0.0000</text>\n</g>\n<!-- 140044156731248* -->\n<g id=\"node197\" class=\"node\">\n<title>140044156731248*</title>\n<ellipse fill=\"none\" stroke=\"black\" cx=\"866\" cy=\"-513.5\" rx=\"27\" ry=\"18\"/>\n<text text-anchor=\"middle\" x=\"866\" y=\"-509.8\" font-family=\"Times,serif\" font-size=\"14.00\">*</text>\n</g>\n<!-- 140044156580096&#45;&gt;140044156731248* -->\n<g id=\"edge208\" class=\"edge\">\n<title>140044156580096&#45;&gt;140044156731248*</title>\n<path fill=\"none\" stroke=\"black\" d=\"M803.05,-513.5C812.06,-513.5 820.79,-513.5 828.7,-513.5\"/>\n<polygon fill=\"black\" stroke=\"black\" points=\"828.95,-517 838.95,-513.5 828.95,-510 828.95,-517\"/>\n</g>\n<!-- 140046568591616 -->\n<g id=\"node120\" class=\"node\">\n<title>140046568591616</title>\n<polygon fill=\"none\" stroke=\"black\" points=\"2181,-165.5 2181,-201.5 2368,-201.5 2368,-165.5 2181,-165.5\"/>\n<text text-anchor=\"middle\" x=\"2191\" y=\"-179.8\" font-family=\"Times,serif\" font-size=\"14.00\"> </text>\n<polyline fill=\"none\" stroke=\"black\" points=\"2201,-165.5 2201,-201.5 \"/>\n<text text-anchor=\"middle\" x=\"2243.5\" y=\"-179.8\" font-family=\"Times,serif\" font-size=\"14.00\">data &#45;0.4684</text>\n<polyline fill=\"none\" stroke=\"black\" points=\"2286,-165.5 2286,-201.5 \"/>\n<text text-anchor=\"middle\" x=\"2327\" y=\"-179.8\" font-family=\"Times,serif\" font-size=\"14.00\">grad 0.0000</text>\n</g>\n<!-- 140046568591616&#45;&gt;140044157093776+ -->\n<g id=\"edge90\" class=\"edge\">\n<title>140046568591616&#45;&gt;140044157093776+</title>\n<path fill=\"none\" stroke=\"black\" d=\"M2368.05,-185.3C2377.06,-185.47 2385.79,-185.64 2393.7,-185.8\"/>\n<polygon fill=\"black\" stroke=\"black\" points=\"2393.88,-189.3 2403.95,-185.99 2394.02,-182.3 2393.88,-189.3\"/>\n</g>\n<!-- 140046568591616+&#45;&gt;140046568591616 -->\n<g id=\"edge46\" class=\"edge\">\n<title>140046568591616+&#45;&gt;140046568591616</title>\n<path fill=\"none\" stroke=\"black\" d=\"M2144.86,-195.16C2152.51,-194.46 2161.39,-193.66 2170.84,-192.8\"/>\n<polygon fill=\"black\" stroke=\"black\" points=\"2171.23,-196.28 2180.87,-191.89 2170.6,-189.31 2171.23,-196.28\"/>\n</g>\n<!-- 140046568894864 -->\n<g id=\"node122\" class=\"node\">\n<title>140046568894864</title>\n<polygon fill=\"none\" stroke=\"black\" points=\"931.5,-275.5 931.5,-311.5 1113.5,-311.5 1113.5,-275.5 931.5,-275.5\"/>\n<text text-anchor=\"middle\" x=\"941.5\" y=\"-289.8\" font-family=\"Times,serif\" font-size=\"14.00\"> </text>\n<polyline fill=\"none\" stroke=\"black\" points=\"951.5,-275.5 951.5,-311.5 \"/>\n<text text-anchor=\"middle\" x=\"991.5\" y=\"-289.8\" font-family=\"Times,serif\" font-size=\"14.00\">data 3.0000</text>\n<polyline fill=\"none\" stroke=\"black\" points=\"1031.5,-275.5 1031.5,-311.5 \"/>\n<text text-anchor=\"middle\" x=\"1072.5\" y=\"-289.8\" font-family=\"Times,serif\" font-size=\"14.00\">grad 0.0000</text>\n</g>\n<!-- 140046568896688* -->\n<g id=\"node162\" class=\"node\">\n<title>140046568896688*</title>\n<ellipse fill=\"none\" stroke=\"black\" cx=\"1179\" cy=\"-293.5\" rx=\"27\" ry=\"18\"/>\n<text text-anchor=\"middle\" x=\"1179\" y=\"-289.8\" font-family=\"Times,serif\" font-size=\"14.00\">*</text>\n</g>\n<!-- 140046568894864&#45;&gt;140046568896688* -->\n<g id=\"edge86\" class=\"edge\">\n<title>140046568894864&#45;&gt;140046568896688*</title>\n<path fill=\"none\" stroke=\"black\" d=\"M1113.82,-293.5C1123.57,-293.5 1133.04,-293.5 1141.57,-293.5\"/>\n<polygon fill=\"black\" stroke=\"black\" points=\"1141.83,-297 1151.83,-293.5 1141.83,-290 1141.83,-297\"/>\n</g>\n<!-- 140044156727696 -->\n<g id=\"node123\" class=\"node\">\n<title>140044156727696</title>\n<polygon fill=\"none\" stroke=\"black\" points=\"618.5,-385.5 618.5,-421.5 800.5,-421.5 800.5,-385.5 618.5,-385.5\"/>\n<text text-anchor=\"middle\" x=\"628.5\" y=\"-399.8\" font-family=\"Times,serif\" font-size=\"14.00\"> </text>\n<polyline fill=\"none\" stroke=\"black\" points=\"638.5,-385.5 638.5,-421.5 \"/>\n<text text-anchor=\"middle\" x=\"678.5\" y=\"-399.8\" font-family=\"Times,serif\" font-size=\"14.00\">data 2.0000</text>\n<polyline fill=\"none\" stroke=\"black\" points=\"718.5,-385.5 718.5,-421.5 \"/>\n<text text-anchor=\"middle\" x=\"759.5\" y=\"-399.8\" font-family=\"Times,serif\" font-size=\"14.00\">grad 0.0000</text>\n</g>\n<!-- 140044156727696&#45;&gt;140044156783152* -->\n<g id=\"edge146\" class=\"edge\">\n<title>140044156727696&#45;&gt;140044156783152*</title>\n<path fill=\"none\" stroke=\"black\" d=\"M800.82,-403.5C810.57,-403.5 820.04,-403.5 828.57,-403.5\"/>\n<polygon fill=\"black\" stroke=\"black\" points=\"828.83,-407 838.83,-403.5 828.83,-400 828.83,-407\"/>\n</g>\n<!-- 140044156580240 -->\n<g id=\"node124\" class=\"node\">\n<title>140044156580240</title>\n<polygon fill=\"none\" stroke=\"black\" points=\"616,-770.5 616,-806.5 803,-806.5 803,-770.5 616,-770.5\"/>\n<text text-anchor=\"middle\" x=\"626\" y=\"-784.8\" font-family=\"Times,serif\" font-size=\"14.00\"> </text>\n<polyline fill=\"none\" stroke=\"black\" points=\"636,-770.5 636,-806.5 \"/>\n<text text-anchor=\"middle\" x=\"678.5\" y=\"-784.8\" font-family=\"Times,serif\" font-size=\"14.00\">data &#45;0.8117</text>\n<polyline fill=\"none\" stroke=\"black\" points=\"721,-770.5 721,-806.5 \"/>\n<text text-anchor=\"middle\" x=\"762\" y=\"-784.8\" font-family=\"Times,serif\" font-size=\"14.00\">grad 0.0000</text>\n</g>\n<!-- 140044156580240&#45;&gt;140044166029424* -->\n<g id=\"edge165\" class=\"edge\">\n<title>140044156580240&#45;&gt;140044166029424*</title>\n<path fill=\"none\" stroke=\"black\" d=\"M803.05,-788.5C812.06,-788.5 820.79,-788.5 828.7,-788.5\"/>\n<polygon fill=\"black\" stroke=\"black\" points=\"828.95,-792 838.95,-788.5 828.95,-785 828.95,-792\"/>\n</g>\n<!-- 140044156727744 -->\n<g id=\"node125\" class=\"node\">\n<title>140044156727744</title>\n<polygon fill=\"none\" stroke=\"black\" points=\"1242,-550.5 1242,-586.5 1429,-586.5 1429,-550.5 1242,-550.5\"/>\n<text text-anchor=\"middle\" x=\"1252\" y=\"-564.8\" font-family=\"Times,serif\" font-size=\"14.00\"> </text>\n<polyline fill=\"none\" stroke=\"black\" points=\"1262,-550.5 1262,-586.5 \"/>\n<text text-anchor=\"middle\" x=\"1304.5\" y=\"-564.8\" font-family=\"Times,serif\" font-size=\"14.00\">data &#45;1.7101</text>\n<polyline fill=\"none\" stroke=\"black\" points=\"1347,-550.5 1347,-586.5 \"/>\n<text text-anchor=\"middle\" x=\"1388\" y=\"-564.8\" font-family=\"Times,serif\" font-size=\"14.00\">grad 0.0000</text>\n</g>\n<!-- 140044156728560+ -->\n<g id=\"node138\" class=\"node\">\n<title>140044156728560+</title>\n<ellipse fill=\"none\" stroke=\"black\" cx=\"1492\" cy=\"-623.5\" rx=\"27\" ry=\"18\"/>\n<text text-anchor=\"middle\" x=\"1492\" y=\"-619.8\" font-family=\"Times,serif\" font-size=\"14.00\">+</text>\n</g>\n<!-- 140044156727744&#45;&gt;140044156728560+ -->\n<g id=\"edge174\" class=\"edge\">\n<title>140044156727744&#45;&gt;140044156728560+</title>\n<path fill=\"none\" stroke=\"black\" d=\"M1402.56,-586.55C1411.51,-589.36 1420.53,-592.37 1429,-595.5 1439.49,-599.38 1450.71,-604.22 1460.68,-608.78\"/>\n<polygon fill=\"black\" stroke=\"black\" points=\"1459.25,-611.98 1469.79,-613.03 1462.2,-605.63 1459.25,-611.98\"/>\n</g>\n<!-- 140044156727744+ -->\n<g id=\"node126\" class=\"node\">\n<title>140044156727744+</title>\n<ellipse fill=\"none\" stroke=\"black\" cx=\"1179\" cy=\"-568.5\" rx=\"27\" ry=\"18\"/>\n<text text-anchor=\"middle\" x=\"1179\" y=\"-564.8\" font-family=\"Times,serif\" font-size=\"14.00\">+</text>\n</g>\n<!-- 140044156727744+&#45;&gt;140044156727744 -->\n<g id=\"edge47\" class=\"edge\">\n<title>140044156727744+&#45;&gt;140044156727744</title>\n<path fill=\"none\" stroke=\"black\" d=\"M1206.21,-568.5C1213.73,-568.5 1222.43,-568.5 1231.67,-568.5\"/>\n<polygon fill=\"black\" stroke=\"black\" points=\"1231.89,-572 1241.89,-568.5 1231.89,-565 1231.89,-572\"/>\n</g>\n<!-- 140044156580384 -->\n<g id=\"node127\" class=\"node\">\n<title>140044156580384</title>\n<polygon fill=\"none\" stroke=\"black\" points=\"1242,-165.5 1242,-201.5 1429,-201.5 1429,-165.5 1242,-165.5\"/>\n<text text-anchor=\"middle\" x=\"1252\" y=\"-179.8\" font-family=\"Times,serif\" font-size=\"14.00\"> </text>\n<polyline fill=\"none\" stroke=\"black\" points=\"1262,-165.5 1262,-201.5 \"/>\n<text text-anchor=\"middle\" x=\"1304.5\" y=\"-179.8\" font-family=\"Times,serif\" font-size=\"14.00\">data &#45;0.5755</text>\n<polyline fill=\"none\" stroke=\"black\" points=\"1347,-165.5 1347,-201.5 \"/>\n<text text-anchor=\"middle\" x=\"1388\" y=\"-179.8\" font-family=\"Times,serif\" font-size=\"14.00\">grad 0.0000</text>\n</g>\n<!-- 140046568701712* -->\n<g id=\"node195\" class=\"node\">\n<title>140046568701712*</title>\n<ellipse fill=\"none\" stroke=\"black\" cx=\"1492\" cy=\"-183.5\" rx=\"27\" ry=\"18\"/>\n<text text-anchor=\"middle\" x=\"1492\" y=\"-179.8\" font-family=\"Times,serif\" font-size=\"14.00\">*</text>\n</g>\n<!-- 140044156580384&#45;&gt;140046568701712* -->\n<g id=\"edge199\" class=\"edge\">\n<title>140044156580384&#45;&gt;140046568701712*</title>\n<path fill=\"none\" stroke=\"black\" d=\"M1429.05,-183.5C1438.06,-183.5 1446.79,-183.5 1454.7,-183.5\"/>\n<polygon fill=\"black\" stroke=\"black\" points=\"1454.95,-187 1464.95,-183.5 1454.95,-180 1454.95,-187\"/>\n</g>\n<!-- 140046568698400 -->\n<g id=\"node128\" class=\"node\">\n<title>140046568698400</title>\n<polygon fill=\"none\" stroke=\"black\" points=\"1244.5,-220.5 1244.5,-256.5 1426.5,-256.5 1426.5,-220.5 1244.5,-220.5\"/>\n<text text-anchor=\"middle\" x=\"1254.5\" y=\"-234.8\" font-family=\"Times,serif\" font-size=\"14.00\"> </text>\n<polyline fill=\"none\" stroke=\"black\" points=\"1264.5,-220.5 1264.5,-256.5 \"/>\n<text text-anchor=\"middle\" x=\"1304.5\" y=\"-234.8\" font-family=\"Times,serif\" font-size=\"14.00\">data 3.0000</text>\n<polyline fill=\"none\" stroke=\"black\" points=\"1344.5,-220.5 1344.5,-256.5 \"/>\n<text text-anchor=\"middle\" x=\"1385.5\" y=\"-234.8\" font-family=\"Times,serif\" font-size=\"14.00\">grad 0.0000</text>\n</g>\n<!-- 140046568698400&#45;&gt;140046568701712* -->\n<g id=\"edge101\" class=\"edge\">\n<title>140046568698400&#45;&gt;140046568701712*</title>\n<path fill=\"none\" stroke=\"black\" d=\"M1400.02,-220.35C1409.79,-217.24 1419.71,-213.92 1429,-210.5 1439.25,-206.73 1450.23,-202.14 1460.07,-197.82\"/>\n<polygon fill=\"black\" stroke=\"black\" points=\"1461.74,-200.9 1469.45,-193.63 1458.89,-194.51 1461.74,-200.9\"/>\n</g>\n<!-- 140046568591952 -->\n<g id=\"node129\" class=\"node\">\n<title>140046568591952</title>\n<polygon fill=\"none\" stroke=\"black\" points=\"2183.5,-220.5 2183.5,-256.5 2365.5,-256.5 2365.5,-220.5 2183.5,-220.5\"/>\n<text text-anchor=\"middle\" x=\"2193.5\" y=\"-234.8\" font-family=\"Times,serif\" font-size=\"14.00\"> </text>\n<polyline fill=\"none\" stroke=\"black\" points=\"2203.5,-220.5 2203.5,-256.5 \"/>\n<text text-anchor=\"middle\" x=\"2243.5\" y=\"-234.8\" font-family=\"Times,serif\" font-size=\"14.00\">data 0.3547</text>\n<polyline fill=\"none\" stroke=\"black\" points=\"2283.5,-220.5 2283.5,-256.5 \"/>\n<text text-anchor=\"middle\" x=\"2324.5\" y=\"-234.8\" font-family=\"Times,serif\" font-size=\"14.00\">grad 0.0000</text>\n</g>\n<!-- 140046568591952&#45;&gt;140044157093776+ -->\n<g id=\"edge207\" class=\"edge\">\n<title>140046568591952&#45;&gt;140044157093776+</title>\n<path fill=\"none\" stroke=\"black\" d=\"M2337.41,-220.47C2347.67,-217.28 2358.16,-213.89 2368,-210.5 2377.8,-207.13 2388.35,-203.16 2397.93,-199.44\"/>\n<polygon fill=\"black\" stroke=\"black\" points=\"2399.45,-202.61 2407.48,-195.69 2396.89,-196.09 2399.45,-202.61\"/>\n</g>\n<!-- 140046568591952*&#45;&gt;140046568591952 -->\n<g id=\"edge48\" class=\"edge\">\n<title>140046568591952*&#45;&gt;140046568591952</title>\n<path fill=\"none\" stroke=\"black\" d=\"M2129.57,-318.92C2140.56,-302.98 2159.2,-279.32 2181,-265.5 2183.45,-263.95 2185.99,-262.48 2188.61,-261.09\"/>\n<polygon fill=\"black\" stroke=\"black\" points=\"2190.23,-264.2 2197.72,-256.7 2187.19,-257.89 2190.23,-264.2\"/>\n</g>\n<!-- 140044156580624 -->\n<g id=\"node131\" class=\"node\">\n<title>140044156580624</title>\n<polygon fill=\"none\" stroke=\"black\" points=\"1244.5,-385.5 1244.5,-421.5 1426.5,-421.5 1426.5,-385.5 1244.5,-385.5\"/>\n<text text-anchor=\"middle\" x=\"1254.5\" y=\"-399.8\" font-family=\"Times,serif\" font-size=\"14.00\"> </text>\n<polyline fill=\"none\" stroke=\"black\" points=\"1264.5,-385.5 1264.5,-421.5 \"/>\n<text text-anchor=\"middle\" x=\"1304.5\" y=\"-399.8\" font-family=\"Times,serif\" font-size=\"14.00\">data 0.1965</text>\n<polyline fill=\"none\" stroke=\"black\" points=\"1344.5,-385.5 1344.5,-421.5 \"/>\n<text text-anchor=\"middle\" x=\"1385.5\" y=\"-399.8\" font-family=\"Times,serif\" font-size=\"14.00\">grad 0.0000</text>\n</g>\n<!-- 140046568897936* -->\n<g id=\"node182\" class=\"node\">\n<title>140046568897936*</title>\n<ellipse fill=\"none\" stroke=\"black\" cx=\"1492\" cy=\"-403.5\" rx=\"27\" ry=\"18\"/>\n<text text-anchor=\"middle\" x=\"1492\" y=\"-399.8\" font-family=\"Times,serif\" font-size=\"14.00\">*</text>\n</g>\n<!-- 140044156580624&#45;&gt;140046568897936* -->\n<g id=\"edge169\" class=\"edge\">\n<title>140044156580624&#45;&gt;140046568897936*</title>\n<path fill=\"none\" stroke=\"black\" d=\"M1426.82,-403.5C1436.57,-403.5 1446.04,-403.5 1454.57,-403.5\"/>\n<polygon fill=\"black\" stroke=\"black\" points=\"1454.83,-407 1464.83,-403.5 1454.83,-400 1454.83,-407\"/>\n</g>\n<!-- 140044156580672 -->\n<g id=\"node132\" class=\"node\">\n<title>140044156580672</title>\n<polygon fill=\"none\" stroke=\"black\" points=\"308,-715.5 308,-751.5 490,-751.5 490,-715.5 308,-715.5\"/>\n<text text-anchor=\"middle\" x=\"318\" y=\"-729.8\" font-family=\"Times,serif\" font-size=\"14.00\"> </text>\n<polyline fill=\"none\" stroke=\"black\" points=\"328,-715.5 328,-751.5 \"/>\n<text text-anchor=\"middle\" x=\"368\" y=\"-729.8\" font-family=\"Times,serif\" font-size=\"14.00\">data 0.6742</text>\n<polyline fill=\"none\" stroke=\"black\" points=\"408,-715.5 408,-751.5 \"/>\n<text text-anchor=\"middle\" x=\"449\" y=\"-729.8\" font-family=\"Times,serif\" font-size=\"14.00\">grad 0.0000</text>\n</g>\n<!-- 140044156580672&#45;&gt;140044166029808* -->\n<g id=\"edge94\" class=\"edge\">\n<title>140044156580672&#45;&gt;140044166029808*</title>\n<path fill=\"none\" stroke=\"black\" d=\"M490.18,-733.5C499.14,-733.5 507.83,-733.5 515.73,-733.5\"/>\n<polygon fill=\"black\" stroke=\"black\" points=\"515.96,-737 525.96,-733.5 515.96,-730 515.96,-737\"/>\n</g>\n<!-- 140044156580720 -->\n<g id=\"node133\" class=\"node\">\n<title>140044156580720</title>\n<polygon fill=\"none\" stroke=\"black\" points=\"931.5,-660.5 931.5,-696.5 1113.5,-696.5 1113.5,-660.5 931.5,-660.5\"/>\n<text text-anchor=\"middle\" x=\"941.5\" y=\"-674.8\" font-family=\"Times,serif\" font-size=\"14.00\"> </text>\n<polyline fill=\"none\" stroke=\"black\" points=\"951.5,-660.5 951.5,-696.5 \"/>\n<text text-anchor=\"middle\" x=\"991.5\" y=\"-674.8\" font-family=\"Times,serif\" font-size=\"14.00\">data 0.7318</text>\n<polyline fill=\"none\" stroke=\"black\" points=\"1031.5,-660.5 1031.5,-696.5 \"/>\n<text text-anchor=\"middle\" x=\"1072.5\" y=\"-674.8\" font-family=\"Times,serif\" font-size=\"14.00\">grad 0.0000</text>\n</g>\n<!-- 140044156730480* -->\n<g id=\"node175\" class=\"node\">\n<title>140044156730480*</title>\n<ellipse fill=\"none\" stroke=\"black\" cx=\"1179\" cy=\"-623.5\" rx=\"27\" ry=\"18\"/>\n<text text-anchor=\"middle\" x=\"1179\" y=\"-619.8\" font-family=\"Times,serif\" font-size=\"14.00\">*</text>\n</g>\n<!-- 140044156580720&#45;&gt;140044156730480* -->\n<g id=\"edge97\" class=\"edge\">\n<title>140044156580720&#45;&gt;140044156730480*</title>\n<path fill=\"none\" stroke=\"black\" d=\"M1087.02,-660.35C1096.79,-657.24 1106.71,-653.92 1116,-650.5 1126.25,-646.73 1137.23,-642.14 1147.07,-637.82\"/>\n<polygon fill=\"black\" stroke=\"black\" points=\"1148.74,-640.9 1156.45,-633.63 1145.89,-634.51 1148.74,-640.9\"/>\n</g>\n<!-- 140044156580816 -->\n<g id=\"node134\" class=\"node\">\n<title>140044156580816</title>\n<polygon fill=\"none\" stroke=\"black\" points=\"929,-220.5 929,-256.5 1116,-256.5 1116,-220.5 929,-220.5\"/>\n<text text-anchor=\"middle\" x=\"939\" y=\"-234.8\" font-family=\"Times,serif\" font-size=\"14.00\"> </text>\n<polyline fill=\"none\" stroke=\"black\" points=\"949,-220.5 949,-256.5 \"/>\n<text text-anchor=\"middle\" x=\"991.5\" y=\"-234.8\" font-family=\"Times,serif\" font-size=\"14.00\">data &#45;0.7518</text>\n<polyline fill=\"none\" stroke=\"black\" points=\"1034,-220.5 1034,-256.5 \"/>\n<text text-anchor=\"middle\" x=\"1075\" y=\"-234.8\" font-family=\"Times,serif\" font-size=\"14.00\">grad 0.0000</text>\n</g>\n<!-- 140044156580816&#45;&gt;140046568896688* -->\n<g id=\"edge144\" class=\"edge\">\n<title>140044156580816&#45;&gt;140046568896688*</title>\n<path fill=\"none\" stroke=\"black\" d=\"M1089.56,-256.55C1098.51,-259.36 1107.53,-262.37 1116,-265.5 1126.49,-269.38 1137.71,-274.22 1147.68,-278.78\"/>\n<polygon fill=\"black\" stroke=\"black\" points=\"1146.25,-281.98 1156.79,-283.03 1149.2,-275.63 1146.25,-281.98\"/>\n</g>\n<!-- 140044156580960 -->\n<g id=\"node135\" class=\"node\">\n<title>140044156580960</title>\n<polygon fill=\"none\" stroke=\"black\" points=\"616,-605.5 616,-641.5 803,-641.5 803,-605.5 616,-605.5\"/>\n<text text-anchor=\"middle\" x=\"626\" y=\"-619.8\" font-family=\"Times,serif\" font-size=\"14.00\"> </text>\n<polyline fill=\"none\" stroke=\"black\" points=\"636,-605.5 636,-641.5 \"/>\n<text text-anchor=\"middle\" x=\"678.5\" y=\"-619.8\" font-family=\"Times,serif\" font-size=\"14.00\">data &#45;0.8551</text>\n<polyline fill=\"none\" stroke=\"black\" points=\"721,-605.5 721,-641.5 \"/>\n<text text-anchor=\"middle\" x=\"762\" y=\"-619.8\" font-family=\"Times,serif\" font-size=\"14.00\">grad 0.0000</text>\n</g>\n<!-- 140044156731056+ -->\n<g id=\"node191\" class=\"node\">\n<title>140044156731056+</title>\n<ellipse fill=\"none\" stroke=\"black\" cx=\"866\" cy=\"-568.5\" rx=\"27\" ry=\"18\"/>\n<text text-anchor=\"middle\" x=\"866\" y=\"-564.8\" font-family=\"Times,serif\" font-size=\"14.00\">+</text>\n</g>\n<!-- 140044156580960&#45;&gt;140044156731056+ -->\n<g id=\"edge150\" class=\"edge\">\n<title>140044156580960&#45;&gt;140044156731056+</title>\n<path fill=\"none\" stroke=\"black\" d=\"M774.02,-605.35C783.79,-602.24 793.71,-598.92 803,-595.5 813.25,-591.73 824.23,-587.14 834.07,-582.82\"/>\n<polygon fill=\"black\" stroke=\"black\" points=\"835.74,-585.9 843.45,-578.63 832.89,-579.51 835.74,-585.9\"/>\n</g>\n<!-- 140044156581104 -->\n<g id=\"node136\" class=\"node\">\n<title>140044156581104</title>\n<polygon fill=\"none\" stroke=\"black\" points=\"618.5,-330.5 618.5,-366.5 800.5,-366.5 800.5,-330.5 618.5,-330.5\"/>\n<text text-anchor=\"middle\" x=\"628.5\" y=\"-344.8\" font-family=\"Times,serif\" font-size=\"14.00\"> </text>\n<polyline fill=\"none\" stroke=\"black\" points=\"638.5,-330.5 638.5,-366.5 \"/>\n<text text-anchor=\"middle\" x=\"678.5\" y=\"-344.8\" font-family=\"Times,serif\" font-size=\"14.00\">data 0.7100</text>\n<polyline fill=\"none\" stroke=\"black\" points=\"718.5,-330.5 718.5,-366.5 \"/>\n<text text-anchor=\"middle\" x=\"759.5\" y=\"-344.8\" font-family=\"Times,serif\" font-size=\"14.00\">grad 0.0000</text>\n</g>\n<!-- 140044156581104&#45;&gt;140044156783152* -->\n<g id=\"edge142\" class=\"edge\">\n<title>140044156581104&#45;&gt;140044156783152*</title>\n<path fill=\"none\" stroke=\"black\" d=\"M776.56,-366.55C785.51,-369.36 794.53,-372.37 803,-375.5 813.49,-379.38 824.71,-384.22 834.68,-388.78\"/>\n<polygon fill=\"black\" stroke=\"black\" points=\"833.25,-391.98 843.79,-393.03 836.2,-385.63 833.25,-391.98\"/>\n</g>\n<!-- 140044156728560 -->\n<g id=\"node137\" class=\"node\">\n<title>140044156728560</title>\n<polygon fill=\"none\" stroke=\"black\" points=\"1555,-605.5 1555,-641.5 1742,-641.5 1742,-605.5 1555,-605.5\"/>\n<text text-anchor=\"middle\" x=\"1565\" y=\"-619.8\" font-family=\"Times,serif\" font-size=\"14.00\"> </text>\n<polyline fill=\"none\" stroke=\"black\" points=\"1575,-605.5 1575,-641.5 \"/>\n<text text-anchor=\"middle\" x=\"1617.5\" y=\"-619.8\" font-family=\"Times,serif\" font-size=\"14.00\">data &#45;2.4419</text>\n<polyline fill=\"none\" stroke=\"black\" points=\"1660,-605.5 1660,-641.5 \"/>\n<text text-anchor=\"middle\" x=\"1701\" y=\"-619.8\" font-family=\"Times,serif\" font-size=\"14.00\">grad 0.0000</text>\n</g>\n<!-- 140044156731344tanh -->\n<g id=\"node199\" class=\"node\">\n<title>140044156731344tanh</title>\n<ellipse fill=\"none\" stroke=\"black\" cx=\"1805\" cy=\"-623.5\" rx=\"27\" ry=\"18\"/>\n<text text-anchor=\"middle\" x=\"1805\" y=\"-619.8\" font-family=\"Times,serif\" font-size=\"14.00\">tanh</text>\n</g>\n<!-- 140044156728560&#45;&gt;140044156731344tanh -->\n<g id=\"edge139\" class=\"edge\">\n<title>140044156728560&#45;&gt;140044156731344tanh</title>\n<path fill=\"none\" stroke=\"black\" d=\"M1742.05,-623.5C1751.06,-623.5 1759.79,-623.5 1767.7,-623.5\"/>\n<polygon fill=\"black\" stroke=\"black\" points=\"1767.95,-627 1777.95,-623.5 1767.95,-620 1767.95,-627\"/>\n</g>\n<!-- 140044156728560+&#45;&gt;140044156728560 -->\n<g id=\"edge49\" class=\"edge\">\n<title>140044156728560+&#45;&gt;140044156728560</title>\n<path fill=\"none\" stroke=\"black\" d=\"M1519.21,-623.5C1526.73,-623.5 1535.43,-623.5 1544.67,-623.5\"/>\n<polygon fill=\"black\" stroke=\"black\" points=\"1544.89,-627 1554.89,-623.5 1544.89,-620 1544.89,-627\"/>\n</g>\n<!-- 140044156581152 -->\n<g id=\"node139\" class=\"node\">\n<title>140044156581152</title>\n<polygon fill=\"none\" stroke=\"black\" points=\"308,-605.5 308,-641.5 490,-641.5 490,-605.5 308,-605.5\"/>\n<text text-anchor=\"middle\" x=\"318\" y=\"-619.8\" font-family=\"Times,serif\" font-size=\"14.00\"> </text>\n<polyline fill=\"none\" stroke=\"black\" points=\"328,-605.5 328,-641.5 \"/>\n<text text-anchor=\"middle\" x=\"368\" y=\"-619.8\" font-family=\"Times,serif\" font-size=\"14.00\">data 0.6382</text>\n<polyline fill=\"none\" stroke=\"black\" points=\"408,-605.5 408,-641.5 \"/>\n<text text-anchor=\"middle\" x=\"449\" y=\"-619.8\" font-family=\"Times,serif\" font-size=\"14.00\">grad 0.0000</text>\n</g>\n<!-- 140044156581152&#45;&gt;140044166033168+ -->\n<g id=\"edge111\" class=\"edge\">\n<title>140044156581152&#45;&gt;140044166033168+</title>\n<path fill=\"none\" stroke=\"black\" d=\"M464.26,-641.64C472.97,-644.43 481.75,-647.41 490,-650.5 500.48,-654.42 511.69,-659.27 521.66,-663.83\"/>\n<polygon fill=\"black\" stroke=\"black\" points=\"520.23,-667.02 530.77,-668.07 523.18,-660.68 520.23,-667.02\"/>\n</g>\n<!-- 140046568699360 -->\n<g id=\"node140\" class=\"node\">\n<title>140046568699360</title>\n<polygon fill=\"none\" stroke=\"black\" points=\"1555,-110.5 1555,-146.5 1742,-146.5 1742,-110.5 1555,-110.5\"/>\n<text text-anchor=\"middle\" x=\"1565\" y=\"-124.8\" font-family=\"Times,serif\" font-size=\"14.00\"> </text>\n<polyline fill=\"none\" stroke=\"black\" points=\"1575,-110.5 1575,-146.5 \"/>\n<text text-anchor=\"middle\" x=\"1617.5\" y=\"-124.8\" font-family=\"Times,serif\" font-size=\"14.00\">data &#45;1.5034</text>\n<polyline fill=\"none\" stroke=\"black\" points=\"1660,-110.5 1660,-146.5 \"/>\n<text text-anchor=\"middle\" x=\"1701\" y=\"-124.8\" font-family=\"Times,serif\" font-size=\"14.00\">grad 0.0000</text>\n</g>\n<!-- 140044165994336+ -->\n<g id=\"node151\" class=\"node\">\n<title>140044165994336+</title>\n<ellipse fill=\"none\" stroke=\"black\" cx=\"1805\" cy=\"-128.5\" rx=\"27\" ry=\"18\"/>\n<text text-anchor=\"middle\" x=\"1805\" y=\"-124.8\" font-family=\"Times,serif\" font-size=\"14.00\">+</text>\n</g>\n<!-- 140046568699360&#45;&gt;140044165994336+ -->\n<g id=\"edge189\" class=\"edge\">\n<title>140046568699360&#45;&gt;140044165994336+</title>\n<path fill=\"none\" stroke=\"black\" d=\"M1742.05,-128.5C1751.06,-128.5 1759.79,-128.5 1767.7,-128.5\"/>\n<polygon fill=\"black\" stroke=\"black\" points=\"1767.95,-132 1777.95,-128.5 1767.95,-125 1767.95,-132\"/>\n</g>\n<!-- 140046568699360+&#45;&gt;140046568699360 -->\n<g id=\"edge50\" class=\"edge\">\n<title>140046568699360+&#45;&gt;140046568699360</title>\n<path fill=\"none\" stroke=\"black\" d=\"M1519.21,-128.5C1526.73,-128.5 1535.43,-128.5 1544.67,-128.5\"/>\n<polygon fill=\"black\" stroke=\"black\" points=\"1544.89,-132 1554.89,-128.5 1544.89,-125 1544.89,-132\"/>\n</g>\n<!-- 140044156728848 -->\n<g id=\"node142\" class=\"node\">\n<title>140044156728848</title>\n<polygon fill=\"none\" stroke=\"black\" points=\"618.5,-440.5 618.5,-476.5 800.5,-476.5 800.5,-440.5 618.5,-440.5\"/>\n<text text-anchor=\"middle\" x=\"628.5\" y=\"-454.8\" font-family=\"Times,serif\" font-size=\"14.00\"> </text>\n<polyline fill=\"none\" stroke=\"black\" points=\"638.5,-440.5 638.5,-476.5 \"/>\n<text text-anchor=\"middle\" x=\"678.5\" y=\"-454.8\" font-family=\"Times,serif\" font-size=\"14.00\">data 3.0000</text>\n<polyline fill=\"none\" stroke=\"black\" points=\"718.5,-440.5 718.5,-476.5 \"/>\n<text text-anchor=\"middle\" x=\"759.5\" y=\"-454.8\" font-family=\"Times,serif\" font-size=\"14.00\">grad 0.0000</text>\n</g>\n<!-- 140044156728848&#45;&gt;140044156731248* -->\n<g id=\"edge124\" class=\"edge\">\n<title>140044156728848&#45;&gt;140044156731248*</title>\n<path fill=\"none\" stroke=\"black\" d=\"M776.56,-476.55C785.51,-479.36 794.53,-482.37 803,-485.5 813.49,-489.38 824.71,-494.22 834.68,-498.78\"/>\n<polygon fill=\"black\" stroke=\"black\" points=\"833.25,-501.98 843.79,-503.03 836.2,-495.63 833.25,-501.98\"/>\n</g>\n<!-- 140044166174320 -->\n<g id=\"node143\" class=\"node\">\n<title>140044166174320</title>\n<polygon fill=\"none\" stroke=\"black\" points=\"3433,-361.5 3433,-397.5 3620,-397.5 3620,-361.5 3433,-361.5\"/>\n<text text-anchor=\"middle\" x=\"3443\" y=\"-375.8\" font-family=\"Times,serif\" font-size=\"14.00\"> </text>\n<polyline fill=\"none\" stroke=\"black\" points=\"3453,-361.5 3453,-397.5 \"/>\n<text text-anchor=\"middle\" x=\"3495.5\" y=\"-375.8\" font-family=\"Times,serif\" font-size=\"14.00\">data &#45;0.2269</text>\n<polyline fill=\"none\" stroke=\"black\" points=\"3538,-361.5 3538,-397.5 \"/>\n<text text-anchor=\"middle\" x=\"3579\" y=\"-375.8\" font-family=\"Times,serif\" font-size=\"14.00\">grad 0.0000</text>\n</g>\n<!-- 140044166174320&#45;&gt;140044135009440* -->\n<g id=\"edge105\" class=\"edge\">\n<title>140044166174320&#45;&gt;140044135009440*</title>\n<path fill=\"none\" stroke=\"black\" d=\"M3620.05,-377.1C3629.06,-376.87 3637.79,-376.64 3645.7,-376.44\"/>\n<polygon fill=\"black\" stroke=\"black\" points=\"3646.04,-379.93 3655.95,-376.17 3645.86,-372.93 3646.04,-379.93\"/>\n</g>\n<!-- 140044166174368 -->\n<g id=\"node144\" class=\"node\">\n<title>140044166174368</title>\n<polygon fill=\"none\" stroke=\"black\" points=\"3433,-196.5 3433,-232.5 3620,-232.5 3620,-196.5 3433,-196.5\"/>\n<text text-anchor=\"middle\" x=\"3443\" y=\"-210.8\" font-family=\"Times,serif\" font-size=\"14.00\"> </text>\n<polyline fill=\"none\" stroke=\"black\" points=\"3453,-196.5 3453,-232.5 \"/>\n<text text-anchor=\"middle\" x=\"3495.5\" y=\"-210.8\" font-family=\"Times,serif\" font-size=\"14.00\">data &#45;0.3261</text>\n<polyline fill=\"none\" stroke=\"black\" points=\"3538,-196.5 3538,-232.5 \"/>\n<text text-anchor=\"middle\" x=\"3579\" y=\"-210.8\" font-family=\"Times,serif\" font-size=\"14.00\">grad 0.0000</text>\n</g>\n<!-- 140044166174368&#45;&gt;140044135009056* -->\n<g id=\"edge162\" class=\"edge\">\n<title>140044166174368&#45;&gt;140044135009056*</title>\n<path fill=\"none\" stroke=\"black\" d=\"M3592.99,-232.61C3602.11,-235.43 3611.33,-238.43 3620,-241.5 3630.15,-245.1 3641.03,-249.48 3650.81,-253.61\"/>\n<polygon fill=\"black\" stroke=\"black\" points=\"3649.57,-256.89 3660.14,-257.62 3652.34,-250.46 3649.57,-256.89\"/>\n</g>\n<!-- 140044157056720 -->\n<g id=\"node145\" class=\"node\">\n<title>140044157056720</title>\n<polygon fill=\"none\" stroke=\"black\" points=\"2181,-770.5 2181,-806.5 2368,-806.5 2368,-770.5 2181,-770.5\"/>\n<text text-anchor=\"middle\" x=\"2191\" y=\"-784.8\" font-family=\"Times,serif\" font-size=\"14.00\"> </text>\n<polyline fill=\"none\" stroke=\"black\" points=\"2201,-770.5 2201,-806.5 \"/>\n<text text-anchor=\"middle\" x=\"2243.5\" y=\"-784.8\" font-family=\"Times,serif\" font-size=\"14.00\">data &#45;0.0303</text>\n<polyline fill=\"none\" stroke=\"black\" points=\"2286,-770.5 2286,-806.5 \"/>\n<text text-anchor=\"middle\" x=\"2327\" y=\"-784.8\" font-family=\"Times,serif\" font-size=\"14.00\">grad 0.0000</text>\n</g>\n<!-- 140044157056720&#45;&gt;140044156669904+ -->\n<g id=\"edge132\" class=\"edge\">\n<title>140044157056720&#45;&gt;140044156669904+</title>\n<path fill=\"none\" stroke=\"black\" d=\"M2351.35,-770.43C2357.24,-767.59 2362.88,-764.3 2368,-760.5 2391.16,-743.31 2386.13,-729.14 2404,-706.5 2405.4,-704.72 2406.89,-702.92 2408.42,-701.14\"/>\n<polygon fill=\"black\" stroke=\"black\" points=\"2411.18,-703.3 2415.24,-693.51 2405.96,-698.64 2411.18,-703.3\"/>\n</g>\n<!-- 140044157056720+&#45;&gt;140044157056720 -->\n<g id=\"edge51\" class=\"edge\">\n<title>140044157056720+&#45;&gt;140044157056720</title>\n<path fill=\"none\" stroke=\"black\" d=\"M2145.21,-788.5C2152.73,-788.5 2161.43,-788.5 2170.67,-788.5\"/>\n<polygon fill=\"black\" stroke=\"black\" points=\"2170.89,-792 2180.89,-788.5 2170.89,-785 2170.89,-792\"/>\n</g>\n<!-- 140044156729088 -->\n<g id=\"node147\" class=\"node\">\n<title>140044156729088</title>\n<polygon fill=\"none\" stroke=\"black\" points=\"308,-550.5 308,-586.5 490,-586.5 490,-550.5 308,-550.5\"/>\n<text text-anchor=\"middle\" x=\"318\" y=\"-564.8\" font-family=\"Times,serif\" font-size=\"14.00\"> </text>\n<polyline fill=\"none\" stroke=\"black\" points=\"328,-550.5 328,-586.5 \"/>\n<text text-anchor=\"middle\" x=\"368\" y=\"-564.8\" font-family=\"Times,serif\" font-size=\"14.00\">data 2.0000</text>\n<polyline fill=\"none\" stroke=\"black\" points=\"408,-550.5 408,-586.5 \"/>\n<text text-anchor=\"middle\" x=\"449\" y=\"-564.8\" font-family=\"Times,serif\" font-size=\"14.00\">grad 0.0000</text>\n</g>\n<!-- 140044156729280* -->\n<g id=\"node157\" class=\"node\">\n<title>140044156729280*</title>\n<ellipse fill=\"none\" stroke=\"black\" cx=\"553\" cy=\"-568.5\" rx=\"27\" ry=\"18\"/>\n<text text-anchor=\"middle\" x=\"553\" y=\"-564.8\" font-family=\"Times,serif\" font-size=\"14.00\">*</text>\n</g>\n<!-- 140044156729088&#45;&gt;140044156729280* -->\n<g id=\"edge151\" class=\"edge\">\n<title>140044156729088&#45;&gt;140044156729280*</title>\n<path fill=\"none\" stroke=\"black\" d=\"M490.18,-568.5C499.14,-568.5 507.83,-568.5 515.73,-568.5\"/>\n<polygon fill=\"black\" stroke=\"black\" points=\"515.96,-572 525.96,-568.5 515.96,-565 515.96,-572\"/>\n</g>\n<!-- 140044157056768 -->\n<g id=\"node148\" class=\"node\">\n<title>140044157056768</title>\n<polygon fill=\"none\" stroke=\"black\" points=\"3433,-251.5 3433,-287.5 3620,-287.5 3620,-251.5 3433,-251.5\"/>\n<text text-anchor=\"middle\" x=\"3443\" y=\"-265.8\" font-family=\"Times,serif\" font-size=\"14.00\"> </text>\n<polyline fill=\"none\" stroke=\"black\" points=\"3453,-251.5 3453,-287.5 \"/>\n<text text-anchor=\"middle\" x=\"3495.5\" y=\"-265.8\" font-family=\"Times,serif\" font-size=\"14.00\">data &#45;0.9766</text>\n<polyline fill=\"none\" stroke=\"black\" points=\"3538,-251.5 3538,-287.5 \"/>\n<text text-anchor=\"middle\" x=\"3579\" y=\"-265.8\" font-family=\"Times,serif\" font-size=\"14.00\">grad 0.0000</text>\n</g>\n<!-- 140044157056768&#45;&gt;140044135009056* -->\n<g id=\"edge128\" class=\"edge\">\n<title>140044157056768&#45;&gt;140044135009056*</title>\n<path fill=\"none\" stroke=\"black\" d=\"M3620.05,-268.3C3629.06,-268.19 3637.79,-268.07 3645.7,-267.97\"/>\n<polygon fill=\"black\" stroke=\"black\" points=\"3646,-271.47 3655.95,-267.84 3645.91,-264.47 3646,-271.47\"/>\n</g>\n<!-- 140044157056768tanh -->\n<g id=\"node149\" class=\"node\">\n<title>140044157056768tanh</title>\n<ellipse fill=\"none\" stroke=\"black\" cx=\"3370\" cy=\"-269.5\" rx=\"27\" ry=\"18\"/>\n<text text-anchor=\"middle\" x=\"3370\" y=\"-265.8\" font-family=\"Times,serif\" font-size=\"14.00\">tanh</text>\n</g>\n<!-- 140044157056768tanh&#45;&gt;140044157056768 -->\n<g id=\"edge52\" class=\"edge\">\n<title>140044157056768tanh&#45;&gt;140044157056768</title>\n<path fill=\"none\" stroke=\"black\" d=\"M3397.21,-269.5C3404.73,-269.5 3413.43,-269.5 3422.67,-269.5\"/>\n<polygon fill=\"black\" stroke=\"black\" points=\"3422.89,-273 3432.89,-269.5 3422.89,-266 3422.89,-273\"/>\n</g>\n<!-- 140044165994336 -->\n<g id=\"node150\" class=\"node\">\n<title>140044165994336</title>\n<polygon fill=\"none\" stroke=\"black\" points=\"1868,-110.5 1868,-146.5 2055,-146.5 2055,-110.5 1868,-110.5\"/>\n<text text-anchor=\"middle\" x=\"1878\" y=\"-124.8\" font-family=\"Times,serif\" font-size=\"14.00\"> </text>\n<polyline fill=\"none\" stroke=\"black\" points=\"1888,-110.5 1888,-146.5 \"/>\n<text text-anchor=\"middle\" x=\"1930.5\" y=\"-124.8\" font-family=\"Times,serif\" font-size=\"14.00\">data &#45;3.2300</text>\n<polyline fill=\"none\" stroke=\"black\" points=\"1973,-110.5 1973,-146.5 \"/>\n<text text-anchor=\"middle\" x=\"2014\" y=\"-124.8\" font-family=\"Times,serif\" font-size=\"14.00\">grad 0.0000</text>\n</g>\n<!-- 140044165995776+ -->\n<g id=\"node177\" class=\"node\">\n<title>140044165995776+</title>\n<ellipse fill=\"none\" stroke=\"black\" cx=\"2118\" cy=\"-128.5\" rx=\"27\" ry=\"18\"/>\n<text text-anchor=\"middle\" x=\"2118\" y=\"-124.8\" font-family=\"Times,serif\" font-size=\"14.00\">+</text>\n</g>\n<!-- 140044165994336&#45;&gt;140044165995776+ -->\n<g id=\"edge92\" class=\"edge\">\n<title>140044165994336&#45;&gt;140044165995776+</title>\n<path fill=\"none\" stroke=\"black\" d=\"M2055.05,-128.5C2064.06,-128.5 2072.79,-128.5 2080.7,-128.5\"/>\n<polygon fill=\"black\" stroke=\"black\" points=\"2080.95,-132 2090.95,-128.5 2080.95,-125 2080.95,-132\"/>\n</g>\n<!-- 140044165994336+&#45;&gt;140044165994336 -->\n<g id=\"edge53\" class=\"edge\">\n<title>140044165994336+&#45;&gt;140044165994336</title>\n<path fill=\"none\" stroke=\"black\" d=\"M1832.21,-128.5C1839.73,-128.5 1848.43,-128.5 1857.67,-128.5\"/>\n<polygon fill=\"black\" stroke=\"black\" points=\"1857.89,-132 1867.89,-128.5 1857.89,-125 1857.89,-132\"/>\n</g>\n<!-- 140046568593248 -->\n<g id=\"node152\" class=\"node\">\n<title>140046568593248</title>\n<polygon fill=\"none\" stroke=\"black\" points=\"1868,-241.5 1868,-277.5 2055,-277.5 2055,-241.5 1868,-241.5\"/>\n<text text-anchor=\"middle\" x=\"1878\" y=\"-255.8\" font-family=\"Times,serif\" font-size=\"14.00\"> </text>\n<polyline fill=\"none\" stroke=\"black\" points=\"1888,-241.5 1888,-277.5 \"/>\n<text text-anchor=\"middle\" x=\"1930.5\" y=\"-255.8\" font-family=\"Times,serif\" font-size=\"14.00\">data &#45;0.7193</text>\n<polyline fill=\"none\" stroke=\"black\" points=\"1973,-241.5 1973,-277.5 \"/>\n<text text-anchor=\"middle\" x=\"2014\" y=\"-255.8\" font-family=\"Times,serif\" font-size=\"14.00\">grad 0.0000</text>\n</g>\n<!-- 140046568593248&#45;&gt;140046568591616+ -->\n<g id=\"edge141\" class=\"edge\">\n<title>140046568593248&#45;&gt;140046568591616+</title>\n<path fill=\"none\" stroke=\"black\" d=\"M2011.64,-241.42C2025.7,-236.11 2041,-230.19 2055,-224.5 2065.11,-220.39 2076.06,-215.7 2085.9,-211.4\"/>\n<polygon fill=\"black\" stroke=\"black\" points=\"2087.56,-214.49 2095.3,-207.26 2084.74,-208.08 2087.56,-214.49\"/>\n</g>\n<!-- 140046568593248*&#45;&gt;140046568593248 -->\n<g id=\"edge54\" class=\"edge\">\n<title>140046568593248*&#45;&gt;140046568593248</title>\n<path fill=\"none\" stroke=\"black\" d=\"M1832.21,-265.31C1839.73,-264.97 1848.43,-264.58 1857.67,-264.16\"/>\n<polygon fill=\"black\" stroke=\"black\" points=\"1858.06,-267.65 1867.89,-263.7 1857.74,-260.65 1858.06,-267.65\"/>\n</g>\n<!-- 140044165994384 -->\n<g id=\"node154\" class=\"node\">\n<title>140044165994384</title>\n<polygon fill=\"none\" stroke=\"black\" points=\"1868,-55.5 1868,-91.5 2055,-91.5 2055,-55.5 1868,-55.5\"/>\n<text text-anchor=\"middle\" x=\"1878\" y=\"-69.8\" font-family=\"Times,serif\" font-size=\"14.00\"> </text>\n<polyline fill=\"none\" stroke=\"black\" points=\"1888,-55.5 1888,-91.5 \"/>\n<text text-anchor=\"middle\" x=\"1930.5\" y=\"-69.8\" font-family=\"Times,serif\" font-size=\"14.00\">data &#45;0.1962</text>\n<polyline fill=\"none\" stroke=\"black\" points=\"1973,-55.5 1973,-91.5 \"/>\n<text text-anchor=\"middle\" x=\"2014\" y=\"-69.8\" font-family=\"Times,serif\" font-size=\"14.00\">grad 0.0000</text>\n</g>\n<!-- 140044165994384&#45;&gt;140044165995776+ -->\n<g id=\"edge110\" class=\"edge\">\n<title>140044165994384&#45;&gt;140044165995776+</title>\n<path fill=\"none\" stroke=\"black\" d=\"M2028.56,-91.55C2037.51,-94.36 2046.53,-97.37 2055,-100.5 2065.49,-104.38 2076.71,-109.22 2086.68,-113.78\"/>\n<polygon fill=\"black\" stroke=\"black\" points=\"2085.25,-116.98 2095.79,-118.03 2088.2,-110.63 2085.25,-116.98\"/>\n</g>\n<!-- 140044165994384*&#45;&gt;140044165994384 -->\n<g id=\"edge55\" class=\"edge\">\n<title>140044165994384*&#45;&gt;140044165994384</title>\n<path fill=\"none\" stroke=\"black\" d=\"M1832.21,-73.5C1839.73,-73.5 1848.43,-73.5 1857.67,-73.5\"/>\n<polygon fill=\"black\" stroke=\"black\" points=\"1857.89,-77 1867.89,-73.5 1857.89,-70 1857.89,-77\"/>\n</g>\n<!-- 140044156729280 -->\n<g id=\"node156\" class=\"node\">\n<title>140044156729280</title>\n<polygon fill=\"none\" stroke=\"black\" points=\"618.5,-550.5 618.5,-586.5 800.5,-586.5 800.5,-550.5 618.5,-550.5\"/>\n<text text-anchor=\"middle\" x=\"628.5\" y=\"-564.8\" font-family=\"Times,serif\" font-size=\"14.00\"> </text>\n<polyline fill=\"none\" stroke=\"black\" points=\"638.5,-550.5 638.5,-586.5 \"/>\n<text text-anchor=\"middle\" x=\"678.5\" y=\"-564.8\" font-family=\"Times,serif\" font-size=\"14.00\">data 1.2565</text>\n<polyline fill=\"none\" stroke=\"black\" points=\"718.5,-550.5 718.5,-586.5 \"/>\n<text text-anchor=\"middle\" x=\"759.5\" y=\"-564.8\" font-family=\"Times,serif\" font-size=\"14.00\">grad 0.0000</text>\n</g>\n<!-- 140044156729280&#45;&gt;140044156731056+ -->\n<g id=\"edge154\" class=\"edge\">\n<title>140044156729280&#45;&gt;140044156731056+</title>\n<path fill=\"none\" stroke=\"black\" d=\"M800.82,-568.5C810.57,-568.5 820.04,-568.5 828.57,-568.5\"/>\n<polygon fill=\"black\" stroke=\"black\" points=\"828.83,-572 838.83,-568.5 828.83,-565 828.83,-572\"/>\n</g>\n<!-- 140044156729280*&#45;&gt;140044156729280 -->\n<g id=\"edge56\" class=\"edge\">\n<title>140044156729280*&#45;&gt;140044156729280</title>\n<path fill=\"none\" stroke=\"black\" d=\"M580.21,-568.5C588.34,-568.5 597.85,-568.5 607.94,-568.5\"/>\n<polygon fill=\"black\" stroke=\"black\" points=\"608.19,-572 618.19,-568.5 608.19,-565 608.19,-572\"/>\n</g>\n<!-- 140047322372032 -->\n<g id=\"node158\" class=\"node\">\n<title>140047322372032</title>\n<polygon fill=\"none\" stroke=\"black\" points=\"2809.5,-539.5 2809.5,-575.5 2991.5,-575.5 2991.5,-539.5 2809.5,-539.5\"/>\n<text text-anchor=\"middle\" x=\"2819.5\" y=\"-553.8\" font-family=\"Times,serif\" font-size=\"14.00\"> </text>\n<polyline fill=\"none\" stroke=\"black\" points=\"2829.5,-539.5 2829.5,-575.5 \"/>\n<text text-anchor=\"middle\" x=\"2869.5\" y=\"-553.8\" font-family=\"Times,serif\" font-size=\"14.00\">data 0.7268</text>\n<polyline fill=\"none\" stroke=\"black\" points=\"2909.5,-539.5 2909.5,-575.5 \"/>\n<text text-anchor=\"middle\" x=\"2950.5\" y=\"-553.8\" font-family=\"Times,serif\" font-size=\"14.00\">grad 0.0000</text>\n</g>\n<!-- 140047322372032&#45;&gt;140044135008672+ -->\n<g id=\"edge149\" class=\"edge\">\n<title>140047322372032&#45;&gt;140044135008672+</title>\n<path fill=\"none\" stroke=\"black\" d=\"M2927.02,-539.26C2945.82,-525.64 2971.86,-506.36 2994,-488.5 3007.09,-477.94 3021.26,-465.67 3032.75,-455.49\"/>\n<polygon fill=\"black\" stroke=\"black\" points=\"3035.09,-458.09 3040.23,-448.82 3030.43,-452.86 3035.09,-458.09\"/>\n</g>\n<!-- 140047322372032+&#45;&gt;140047322372032 -->\n<g id=\"edge57\" class=\"edge\">\n<title>140047322372032+&#45;&gt;140047322372032</title>\n<path fill=\"none\" stroke=\"black\" d=\"M2769.48,-592C2783.76,-588.22 2802.63,-583.21 2821.57,-578.18\"/>\n<polygon fill=\"black\" stroke=\"black\" points=\"2822.68,-581.51 2831.45,-575.56 2820.89,-574.74 2822.68,-581.51\"/>\n</g>\n<!-- 140044156581872 -->\n<g id=\"node160\" class=\"node\">\n<title>140044156581872</title>\n<polygon fill=\"none\" stroke=\"black\" points=\"0,-633.5 0,-669.5 182,-669.5 182,-633.5 0,-633.5\"/>\n<text text-anchor=\"middle\" x=\"10\" y=\"-647.8\" font-family=\"Times,serif\" font-size=\"14.00\"> </text>\n<polyline fill=\"none\" stroke=\"black\" points=\"20,-633.5 20,-669.5 \"/>\n<text text-anchor=\"middle\" x=\"60\" y=\"-647.8\" font-family=\"Times,serif\" font-size=\"14.00\">data 0.0369</text>\n<polyline fill=\"none\" stroke=\"black\" points=\"100,-633.5 100,-669.5 \"/>\n<text text-anchor=\"middle\" x=\"141\" y=\"-647.8\" font-family=\"Times,serif\" font-size=\"14.00\">grad 0.0000</text>\n</g>\n<!-- 140044156581872&#45;&gt;140044166032640* -->\n<g id=\"edge200\" class=\"edge\">\n<title>140044156581872&#45;&gt;140044166032640*</title>\n<path fill=\"none\" stroke=\"black\" d=\"M182.18,-667.52C191.42,-669.16 200.38,-670.75 208.47,-672.19\"/>\n<polygon fill=\"black\" stroke=\"black\" points=\"208.1,-675.68 218.56,-673.98 209.32,-668.79 208.1,-675.68\"/>\n</g>\n<!-- 140046568896688 -->\n<g id=\"node161\" class=\"node\">\n<title>140046568896688</title>\n<polygon fill=\"none\" stroke=\"black\" points=\"1242,-275.5 1242,-311.5 1429,-311.5 1429,-275.5 1242,-275.5\"/>\n<text text-anchor=\"middle\" x=\"1252\" y=\"-289.8\" font-family=\"Times,serif\" font-size=\"14.00\"> </text>\n<polyline fill=\"none\" stroke=\"black\" points=\"1262,-275.5 1262,-311.5 \"/>\n<text text-anchor=\"middle\" x=\"1304.5\" y=\"-289.8\" font-family=\"Times,serif\" font-size=\"14.00\">data &#45;2.2554</text>\n<polyline fill=\"none\" stroke=\"black\" points=\"1347,-275.5 1347,-311.5 \"/>\n<text text-anchor=\"middle\" x=\"1388\" y=\"-289.8\" font-family=\"Times,serif\" font-size=\"14.00\">grad 0.0000</text>\n</g>\n<!-- 140046568897888+ -->\n<g id=\"node180\" class=\"node\">\n<title>140046568897888+</title>\n<ellipse fill=\"none\" stroke=\"black\" cx=\"1492\" cy=\"-348.5\" rx=\"27\" ry=\"18\"/>\n<text text-anchor=\"middle\" x=\"1492\" y=\"-344.8\" font-family=\"Times,serif\" font-size=\"14.00\">+</text>\n</g>\n<!-- 140046568896688&#45;&gt;140046568897888+ -->\n<g id=\"edge210\" class=\"edge\">\n<title>140046568896688&#45;&gt;140046568897888+</title>\n<path fill=\"none\" stroke=\"black\" d=\"M1402.56,-311.55C1411.51,-314.36 1420.53,-317.37 1429,-320.5 1439.49,-324.38 1450.71,-329.22 1460.68,-333.78\"/>\n<polygon fill=\"black\" stroke=\"black\" points=\"1459.25,-336.98 1469.79,-338.03 1462.2,-330.63 1459.25,-336.98\"/>\n</g>\n<!-- 140046568896688*&#45;&gt;140046568896688 -->\n<g id=\"edge58\" class=\"edge\">\n<title>140046568896688*&#45;&gt;140046568896688</title>\n<path fill=\"none\" stroke=\"black\" d=\"M1206.21,-293.5C1213.73,-293.5 1222.43,-293.5 1231.67,-293.5\"/>\n<polygon fill=\"black\" stroke=\"black\" points=\"1231.89,-297 1241.89,-293.5 1231.89,-290 1231.89,-297\"/>\n</g>\n<!-- 140046568896880 -->\n<g id=\"node163\" class=\"node\">\n<title>140046568896880</title>\n<polygon fill=\"none\" stroke=\"black\" points=\"1244.5,-330.5 1244.5,-366.5 1426.5,-366.5 1426.5,-330.5 1244.5,-330.5\"/>\n<text text-anchor=\"middle\" x=\"1254.5\" y=\"-344.8\" font-family=\"Times,serif\" font-size=\"14.00\"> </text>\n<polyline fill=\"none\" stroke=\"black\" points=\"1264.5,-330.5 1264.5,-366.5 \"/>\n<text text-anchor=\"middle\" x=\"1304.5\" y=\"-344.8\" font-family=\"Times,serif\" font-size=\"14.00\">data 1.2881</text>\n<polyline fill=\"none\" stroke=\"black\" points=\"1344.5,-330.5 1344.5,-366.5 \"/>\n<text text-anchor=\"middle\" x=\"1385.5\" y=\"-344.8\" font-family=\"Times,serif\" font-size=\"14.00\">grad 0.0000</text>\n</g>\n<!-- 140046568896880&#45;&gt;140046568897888+ -->\n<g id=\"edge156\" class=\"edge\">\n<title>140046568896880&#45;&gt;140046568897888+</title>\n<path fill=\"none\" stroke=\"black\" d=\"M1426.82,-348.5C1436.57,-348.5 1446.04,-348.5 1454.57,-348.5\"/>\n<polygon fill=\"black\" stroke=\"black\" points=\"1454.83,-352 1464.83,-348.5 1454.83,-345 1454.83,-352\"/>\n</g>\n<!-- 140046568896880+&#45;&gt;140046568896880 -->\n<g id=\"edge59\" class=\"edge\">\n<title>140046568896880+&#45;&gt;140046568896880</title>\n<path fill=\"none\" stroke=\"black\" d=\"M1206.21,-348.5C1214.34,-348.5 1223.85,-348.5 1233.94,-348.5\"/>\n<polygon fill=\"black\" stroke=\"black\" points=\"1234.19,-352 1244.19,-348.5 1234.19,-345 1234.19,-352\"/>\n</g>\n<!-- 140044156729712 -->\n<g id=\"node165\" class=\"node\">\n<title>140044156729712</title>\n<polygon fill=\"none\" stroke=\"black\" points=\"929,-605.5 929,-641.5 1116,-641.5 1116,-605.5 929,-605.5\"/>\n<text text-anchor=\"middle\" x=\"939\" y=\"-619.8\" font-family=\"Times,serif\" font-size=\"14.00\"> </text>\n<polyline fill=\"none\" stroke=\"black\" points=\"949,-605.5 949,-641.5 \"/>\n<text text-anchor=\"middle\" x=\"991.5\" y=\"-619.8\" font-family=\"Times,serif\" font-size=\"14.00\">data &#45;1.0000</text>\n<polyline fill=\"none\" stroke=\"black\" points=\"1034,-605.5 1034,-641.5 \"/>\n<text text-anchor=\"middle\" x=\"1075\" y=\"-619.8\" font-family=\"Times,serif\" font-size=\"14.00\">grad 0.0000</text>\n</g>\n<!-- 140044156729712&#45;&gt;140044156730480* -->\n<g id=\"edge205\" class=\"edge\">\n<title>140044156729712&#45;&gt;140044156730480*</title>\n<path fill=\"none\" stroke=\"black\" d=\"M1116.05,-623.5C1125.06,-623.5 1133.79,-623.5 1141.7,-623.5\"/>\n<polygon fill=\"black\" stroke=\"black\" points=\"1141.95,-627 1151.95,-623.5 1141.95,-620 1141.95,-627\"/>\n</g>\n<!-- 140044157057488 -->\n<g id=\"node166\" class=\"node\">\n<title>140044157057488</title>\n<polygon fill=\"none\" stroke=\"black\" points=\"1868,-770.5 1868,-806.5 2055,-806.5 2055,-770.5 1868,-770.5\"/>\n<text text-anchor=\"middle\" x=\"1878\" y=\"-784.8\" font-family=\"Times,serif\" font-size=\"14.00\"> </text>\n<polyline fill=\"none\" stroke=\"black\" points=\"1888,-770.5 1888,-806.5 \"/>\n<text text-anchor=\"middle\" x=\"1930.5\" y=\"-784.8\" font-family=\"Times,serif\" font-size=\"14.00\">data &#45;0.1696</text>\n<polyline fill=\"none\" stroke=\"black\" points=\"1973,-770.5 1973,-806.5 \"/>\n<text text-anchor=\"middle\" x=\"2014\" y=\"-784.8\" font-family=\"Times,serif\" font-size=\"14.00\">grad 0.0000</text>\n</g>\n<!-- 140044157057488&#45;&gt;140044157056720+ -->\n<g id=\"edge127\" class=\"edge\">\n<title>140044157057488&#45;&gt;140044157056720+</title>\n<path fill=\"none\" stroke=\"black\" d=\"M2055.05,-788.5C2064.06,-788.5 2072.79,-788.5 2080.7,-788.5\"/>\n<polygon fill=\"black\" stroke=\"black\" points=\"2080.95,-792 2090.95,-788.5 2080.95,-785 2080.95,-792\"/>\n</g>\n<!-- 140044157057488*&#45;&gt;140044157057488 -->\n<g id=\"edge60\" class=\"edge\">\n<title>140044157057488*&#45;&gt;140044157057488</title>\n<path fill=\"none\" stroke=\"black\" d=\"M1832.21,-788.5C1839.73,-788.5 1848.43,-788.5 1857.67,-788.5\"/>\n<polygon fill=\"black\" stroke=\"black\" points=\"1857.89,-792 1867.89,-788.5 1857.89,-785 1857.89,-792\"/>\n</g>\n<!-- 140044157057728 -->\n<g id=\"node168\" class=\"node\">\n<title>140044157057728</title>\n<polygon fill=\"none\" stroke=\"black\" points=\"3120,-251.5 3120,-287.5 3307,-287.5 3307,-251.5 3120,-251.5\"/>\n<text text-anchor=\"middle\" x=\"3130\" y=\"-265.8\" font-family=\"Times,serif\" font-size=\"14.00\"> </text>\n<polyline fill=\"none\" stroke=\"black\" points=\"3140,-251.5 3140,-287.5 \"/>\n<text text-anchor=\"middle\" x=\"3182.5\" y=\"-265.8\" font-family=\"Times,serif\" font-size=\"14.00\">data &#45;2.2184</text>\n<polyline fill=\"none\" stroke=\"black\" points=\"3225,-251.5 3225,-287.5 \"/>\n<text text-anchor=\"middle\" x=\"3266\" y=\"-265.8\" font-family=\"Times,serif\" font-size=\"14.00\">grad 0.0000</text>\n</g>\n<!-- 140044157057728&#45;&gt;140044157056768tanh -->\n<g id=\"edge206\" class=\"edge\">\n<title>140044157057728&#45;&gt;140044157056768tanh</title>\n<path fill=\"none\" stroke=\"black\" d=\"M3307.05,-269.5C3316.06,-269.5 3324.79,-269.5 3332.7,-269.5\"/>\n<polygon fill=\"black\" stroke=\"black\" points=\"3332.95,-273 3342.95,-269.5 3332.95,-266 3332.95,-273\"/>\n</g>\n<!-- 140044157057728+&#45;&gt;140044157057728 -->\n<g id=\"edge61\" class=\"edge\">\n<title>140044157057728+&#45;&gt;140044157057728</title>\n<path fill=\"none\" stroke=\"black\" d=\"M3084.21,-269.5C3091.73,-269.5 3100.43,-269.5 3109.67,-269.5\"/>\n<polygon fill=\"black\" stroke=\"black\" points=\"3109.89,-273 3119.89,-269.5 3109.89,-266 3109.89,-273\"/>\n</g>\n<!-- 140044166175760 -->\n<g id=\"node170\" class=\"node\">\n<title>140044166175760</title>\n<polygon fill=\"none\" stroke=\"black\" points=\"3435.5,-86.5 3435.5,-122.5 3617.5,-122.5 3617.5,-86.5 3435.5,-86.5\"/>\n<text text-anchor=\"middle\" x=\"3445.5\" y=\"-100.8\" font-family=\"Times,serif\" font-size=\"14.00\"> </text>\n<polyline fill=\"none\" stroke=\"black\" points=\"3455.5,-86.5 3455.5,-122.5 \"/>\n<text text-anchor=\"middle\" x=\"3495.5\" y=\"-100.8\" font-family=\"Times,serif\" font-size=\"14.00\">data 0.6904</text>\n<polyline fill=\"none\" stroke=\"black\" points=\"3535.5,-86.5 3535.5,-122.5 \"/>\n<text text-anchor=\"middle\" x=\"3576.5\" y=\"-100.8\" font-family=\"Times,serif\" font-size=\"14.00\">grad 0.0000</text>\n</g>\n<!-- 140044166175760&#45;&gt;140044135009824* -->\n<g id=\"edge117\" class=\"edge\">\n<title>140044166175760&#45;&gt;140044135009824*</title>\n<path fill=\"none\" stroke=\"black\" d=\"M3593.56,-122.55C3602.51,-125.36 3611.53,-128.37 3620,-131.5 3630.49,-135.38 3641.71,-140.22 3651.68,-144.78\"/>\n<polygon fill=\"black\" stroke=\"black\" points=\"3650.25,-147.98 3660.79,-149.03 3653.2,-141.63 3650.25,-147.98\"/>\n</g>\n<!-- 140044165995584 -->\n<g id=\"node171\" class=\"node\">\n<title>140044165995584</title>\n<polygon fill=\"none\" stroke=\"black\" points=\"2494,-113.5 2494,-149.5 2681,-149.5 2681,-113.5 2494,-113.5\"/>\n<text text-anchor=\"middle\" x=\"2504\" y=\"-127.8\" font-family=\"Times,serif\" font-size=\"14.00\"> </text>\n<polyline fill=\"none\" stroke=\"black\" points=\"2514,-113.5 2514,-149.5 \"/>\n<text text-anchor=\"middle\" x=\"2556.5\" y=\"-127.8\" font-family=\"Times,serif\" font-size=\"14.00\">data &#45;0.9979</text>\n<polyline fill=\"none\" stroke=\"black\" points=\"2599,-113.5 2599,-149.5 \"/>\n<text text-anchor=\"middle\" x=\"2640\" y=\"-127.8\" font-family=\"Times,serif\" font-size=\"14.00\">grad 0.0000</text>\n</g>\n<!-- 140044165995584&#45;&gt;140044135008384* -->\n<g id=\"edge148\" class=\"edge\">\n<title>140044165995584&#45;&gt;140044135008384*</title>\n<path fill=\"none\" stroke=\"black\" d=\"M2670.73,-149.73C2674.46,-152.29 2677.92,-155.2 2681,-158.5 2732.21,-213.38 2682.23,-256.98 2717,-323.5 2718.05,-325.51 2719.28,-327.48 2720.63,-329.38\"/>\n<polygon fill=\"black\" stroke=\"black\" points=\"2718.02,-331.72 2727.06,-337.25 2723.44,-327.29 2718.02,-331.72\"/>\n</g>\n<!-- 140044165995584&#45;&gt;140046804232368* -->\n<g id=\"edge185\" class=\"edge\">\n<title>140044165995584&#45;&gt;140046804232368*</title>\n<path fill=\"none\" stroke=\"black\" d=\"M2681.05,-131.5C2690.06,-131.5 2698.79,-131.5 2706.7,-131.5\"/>\n<polygon fill=\"black\" stroke=\"black\" points=\"2706.95,-135 2716.95,-131.5 2706.95,-128 2706.95,-135\"/>\n</g>\n<!-- 140044165995584&#45;&gt;140044166377136* -->\n<g id=\"edge194\" class=\"edge\">\n<title>140044165995584&#45;&gt;140044166377136*</title>\n<path fill=\"none\" stroke=\"black\" d=\"M2668.19,-149.52C2672.77,-152.12 2677.09,-155.09 2681,-158.5 2698.44,-173.69 2721.23,-233.29 2733.75,-269.01\"/>\n<polygon fill=\"black\" stroke=\"black\" points=\"2730.57,-270.52 2737.15,-278.82 2737.19,-268.23 2730.57,-270.52\"/>\n</g>\n<!-- 140044165995584&#45;&gt;140044157095648* -->\n<g id=\"edge157\" class=\"edge\">\n<title>140044165995584&#45;&gt;140044157095648*</title>\n<path fill=\"none\" stroke=\"black\" d=\"M2651.48,-113.39C2661.41,-110.26 2671.53,-106.91 2681,-103.5 2691.13,-99.85 2702.01,-95.46 2711.79,-91.33\"/>\n<polygon fill=\"black\" stroke=\"black\" points=\"2713.31,-94.48 2721.12,-87.32 2710.55,-88.05 2713.31,-94.48\"/>\n</g>\n<!-- 140044165995584tanh -->\n<g id=\"node172\" class=\"node\">\n<title>140044165995584tanh</title>\n<ellipse fill=\"none\" stroke=\"black\" cx=\"2431\" cy=\"-128.5\" rx=\"27\" ry=\"18\"/>\n<text text-anchor=\"middle\" x=\"2431\" y=\"-124.8\" font-family=\"Times,serif\" font-size=\"14.00\">tanh</text>\n</g>\n<!-- 140044165995584tanh&#45;&gt;140044165995584 -->\n<g id=\"edge62\" class=\"edge\">\n<title>140044165995584tanh&#45;&gt;140044165995584</title>\n<path fill=\"none\" stroke=\"black\" d=\"M2458.21,-129.01C2465.73,-129.16 2474.43,-129.32 2483.67,-129.5\"/>\n<polygon fill=\"black\" stroke=\"black\" points=\"2483.82,-133.01 2493.89,-129.7 2483.96,-126.01 2483.82,-133.01\"/>\n</g>\n<!-- 140044156583024 -->\n<g id=\"node173\" class=\"node\">\n<title>140044156583024</title>\n<polygon fill=\"none\" stroke=\"black\" points=\"929,-330.5 929,-366.5 1116,-366.5 1116,-330.5 929,-330.5\"/>\n<text text-anchor=\"middle\" x=\"939\" y=\"-344.8\" font-family=\"Times,serif\" font-size=\"14.00\"> </text>\n<polyline fill=\"none\" stroke=\"black\" points=\"949,-330.5 949,-366.5 \"/>\n<text text-anchor=\"middle\" x=\"991.5\" y=\"-344.8\" font-family=\"Times,serif\" font-size=\"14.00\">data &#45;0.1319</text>\n<polyline fill=\"none\" stroke=\"black\" points=\"1034,-330.5 1034,-366.5 \"/>\n<text text-anchor=\"middle\" x=\"1075\" y=\"-344.8\" font-family=\"Times,serif\" font-size=\"14.00\">grad 0.0000</text>\n</g>\n<!-- 140044156583024&#45;&gt;140046568896880+ -->\n<g id=\"edge89\" class=\"edge\">\n<title>140044156583024&#45;&gt;140046568896880+</title>\n<path fill=\"none\" stroke=\"black\" d=\"M1116.05,-348.5C1125.06,-348.5 1133.79,-348.5 1141.7,-348.5\"/>\n<polygon fill=\"black\" stroke=\"black\" points=\"1141.95,-352 1151.95,-348.5 1141.95,-345 1141.95,-352\"/>\n</g>\n<!-- 140044156730480 -->\n<g id=\"node174\" class=\"node\">\n<title>140044156730480</title>\n<polygon fill=\"none\" stroke=\"black\" points=\"1242,-605.5 1242,-641.5 1429,-641.5 1429,-605.5 1242,-605.5\"/>\n<text text-anchor=\"middle\" x=\"1252\" y=\"-619.8\" font-family=\"Times,serif\" font-size=\"14.00\"> </text>\n<polyline fill=\"none\" stroke=\"black\" points=\"1262,-605.5 1262,-641.5 \"/>\n<text text-anchor=\"middle\" x=\"1304.5\" y=\"-619.8\" font-family=\"Times,serif\" font-size=\"14.00\">data &#45;0.7318</text>\n<polyline fill=\"none\" stroke=\"black\" points=\"1347,-605.5 1347,-641.5 \"/>\n<text text-anchor=\"middle\" x=\"1388\" y=\"-619.8\" font-family=\"Times,serif\" font-size=\"14.00\">grad 0.0000</text>\n</g>\n<!-- 140044156730480&#45;&gt;140044156728560+ -->\n<g id=\"edge88\" class=\"edge\">\n<title>140044156730480&#45;&gt;140044156728560+</title>\n<path fill=\"none\" stroke=\"black\" d=\"M1429.05,-623.5C1438.06,-623.5 1446.79,-623.5 1454.7,-623.5\"/>\n<polygon fill=\"black\" stroke=\"black\" points=\"1454.95,-627 1464.95,-623.5 1454.95,-620 1454.95,-627\"/>\n</g>\n<!-- 140044156730480*&#45;&gt;140044156730480 -->\n<g id=\"edge63\" class=\"edge\">\n<title>140044156730480*&#45;&gt;140044156730480</title>\n<path fill=\"none\" stroke=\"black\" d=\"M1206.21,-623.5C1213.73,-623.5 1222.43,-623.5 1231.67,-623.5\"/>\n<polygon fill=\"black\" stroke=\"black\" points=\"1231.89,-627 1241.89,-623.5 1231.89,-620 1231.89,-627\"/>\n</g>\n<!-- 140044165995776 -->\n<g id=\"node176\" class=\"node\">\n<title>140044165995776</title>\n<polygon fill=\"none\" stroke=\"black\" points=\"2181,-110.5 2181,-146.5 2368,-146.5 2368,-110.5 2181,-110.5\"/>\n<text text-anchor=\"middle\" x=\"2191\" y=\"-124.8\" font-family=\"Times,serif\" font-size=\"14.00\"> </text>\n<polyline fill=\"none\" stroke=\"black\" points=\"2201,-110.5 2201,-146.5 \"/>\n<text text-anchor=\"middle\" x=\"2243.5\" y=\"-124.8\" font-family=\"Times,serif\" font-size=\"14.00\">data &#45;3.4262</text>\n<polyline fill=\"none\" stroke=\"black\" points=\"2286,-110.5 2286,-146.5 \"/>\n<text text-anchor=\"middle\" x=\"2327\" y=\"-124.8\" font-family=\"Times,serif\" font-size=\"14.00\">grad 0.0000</text>\n</g>\n<!-- 140044165995776&#45;&gt;140044165995584tanh -->\n<g id=\"edge201\" class=\"edge\">\n<title>140044165995776&#45;&gt;140044165995584tanh</title>\n<path fill=\"none\" stroke=\"black\" d=\"M2368.05,-128.5C2377.06,-128.5 2385.79,-128.5 2393.7,-128.5\"/>\n<polygon fill=\"black\" stroke=\"black\" points=\"2393.95,-132 2403.95,-128.5 2393.95,-125 2393.95,-132\"/>\n</g>\n<!-- 140044165995776+&#45;&gt;140044165995776 -->\n<g id=\"edge64\" class=\"edge\">\n<title>140044165995776+&#45;&gt;140044165995776</title>\n<path fill=\"none\" stroke=\"black\" d=\"M2145.21,-128.5C2152.73,-128.5 2161.43,-128.5 2170.67,-128.5\"/>\n<polygon fill=\"black\" stroke=\"black\" points=\"2170.89,-132 2180.89,-128.5 2170.89,-125 2170.89,-132\"/>\n</g>\n<!-- 140044156583264 -->\n<g id=\"node178\" class=\"node\">\n<title>140044156583264</title>\n<polygon fill=\"none\" stroke=\"black\" points=\"929,-110.5 929,-146.5 1116,-146.5 1116,-110.5 929,-110.5\"/>\n<text text-anchor=\"middle\" x=\"939\" y=\"-124.8\" font-family=\"Times,serif\" font-size=\"14.00\"> </text>\n<polyline fill=\"none\" stroke=\"black\" points=\"949,-110.5 949,-146.5 \"/>\n<text text-anchor=\"middle\" x=\"991.5\" y=\"-124.8\" font-family=\"Times,serif\" font-size=\"14.00\">data &#45;0.8692</text>\n<polyline fill=\"none\" stroke=\"black\" points=\"1034,-110.5 1034,-146.5 \"/>\n<text text-anchor=\"middle\" x=\"1075\" y=\"-124.8\" font-family=\"Times,serif\" font-size=\"14.00\">grad 0.0000</text>\n</g>\n<!-- 140044156583264&#45;&gt;140046824670880* -->\n<g id=\"edge182\" class=\"edge\">\n<title>140044156583264&#45;&gt;140046824670880*</title>\n<path fill=\"none\" stroke=\"black\" d=\"M1116.05,-128.5C1125.06,-128.5 1133.79,-128.5 1141.7,-128.5\"/>\n<polygon fill=\"black\" stroke=\"black\" points=\"1141.95,-132 1151.95,-128.5 1141.95,-125 1141.95,-132\"/>\n</g>\n<!-- 140046568897888 -->\n<g id=\"node179\" class=\"node\">\n<title>140046568897888</title>\n<polygon fill=\"none\" stroke=\"black\" points=\"1555,-330.5 1555,-366.5 1742,-366.5 1742,-330.5 1555,-330.5\"/>\n<text text-anchor=\"middle\" x=\"1565\" y=\"-344.8\" font-family=\"Times,serif\" font-size=\"14.00\"> </text>\n<polyline fill=\"none\" stroke=\"black\" points=\"1575,-330.5 1575,-366.5 \"/>\n<text text-anchor=\"middle\" x=\"1617.5\" y=\"-344.8\" font-family=\"Times,serif\" font-size=\"14.00\">data &#45;0.9672</text>\n<polyline fill=\"none\" stroke=\"black\" points=\"1660,-330.5 1660,-366.5 \"/>\n<text text-anchor=\"middle\" x=\"1701\" y=\"-344.8\" font-family=\"Times,serif\" font-size=\"14.00\">grad 0.0000</text>\n</g>\n<!-- 140046568897888&#45;&gt;140046804250384+ -->\n<g id=\"edge119\" class=\"edge\">\n<title>140046568897888&#45;&gt;140046804250384+</title>\n<path fill=\"none\" stroke=\"black\" d=\"M1715.56,-366.55C1724.51,-369.36 1733.53,-372.37 1742,-375.5 1752.49,-379.38 1763.71,-384.22 1773.68,-388.78\"/>\n<polygon fill=\"black\" stroke=\"black\" points=\"1772.25,-391.98 1782.79,-393.03 1775.2,-385.63 1772.25,-391.98\"/>\n</g>\n<!-- 140046568897888+&#45;&gt;140046568897888 -->\n<g id=\"edge65\" class=\"edge\">\n<title>140046568897888+&#45;&gt;140046568897888</title>\n<path fill=\"none\" stroke=\"black\" d=\"M1519.21,-348.5C1526.73,-348.5 1535.43,-348.5 1544.67,-348.5\"/>\n<polygon fill=\"black\" stroke=\"black\" points=\"1544.89,-352 1554.89,-348.5 1544.89,-345 1544.89,-352\"/>\n</g>\n<!-- 140046568897936 -->\n<g id=\"node181\" class=\"node\">\n<title>140046568897936</title>\n<polygon fill=\"none\" stroke=\"black\" points=\"1555,-385.5 1555,-421.5 1742,-421.5 1742,-385.5 1555,-385.5\"/>\n<text text-anchor=\"middle\" x=\"1565\" y=\"-399.8\" font-family=\"Times,serif\" font-size=\"14.00\"> </text>\n<polyline fill=\"none\" stroke=\"black\" points=\"1575,-385.5 1575,-421.5 \"/>\n<text text-anchor=\"middle\" x=\"1617.5\" y=\"-399.8\" font-family=\"Times,serif\" font-size=\"14.00\">data &#45;0.1965</text>\n<polyline fill=\"none\" stroke=\"black\" points=\"1660,-385.5 1660,-421.5 \"/>\n<text text-anchor=\"middle\" x=\"1701\" y=\"-399.8\" font-family=\"Times,serif\" font-size=\"14.00\">grad 0.0000</text>\n</g>\n<!-- 140046568897936&#45;&gt;140046804250384+ -->\n<g id=\"edge172\" class=\"edge\">\n<title>140046568897936&#45;&gt;140046804250384+</title>\n<path fill=\"none\" stroke=\"black\" d=\"M1742.05,-403.5C1751.06,-403.5 1759.79,-403.5 1767.7,-403.5\"/>\n<polygon fill=\"black\" stroke=\"black\" points=\"1767.95,-407 1777.95,-403.5 1767.95,-400 1767.95,-407\"/>\n</g>\n<!-- 140046568897936*&#45;&gt;140046568897936 -->\n<g id=\"edge66\" class=\"edge\">\n<title>140046568897936*&#45;&gt;140046568897936</title>\n<path fill=\"none\" stroke=\"black\" d=\"M1519.21,-403.5C1526.73,-403.5 1535.43,-403.5 1544.67,-403.5\"/>\n<polygon fill=\"black\" stroke=\"black\" points=\"1544.89,-407 1554.89,-403.5 1544.89,-400 1544.89,-407\"/>\n</g>\n<!-- 140044156583312 -->\n<g id=\"node183\" class=\"node\">\n<title>140044156583312</title>\n<polygon fill=\"none\" stroke=\"black\" points=\"308,-495.5 308,-531.5 490,-531.5 490,-495.5 308,-495.5\"/>\n<text text-anchor=\"middle\" x=\"318\" y=\"-509.8\" font-family=\"Times,serif\" font-size=\"14.00\"> </text>\n<polyline fill=\"none\" stroke=\"black\" points=\"328,-495.5 328,-531.5 \"/>\n<text text-anchor=\"middle\" x=\"368\" y=\"-509.8\" font-family=\"Times,serif\" font-size=\"14.00\">data 0.6282</text>\n<polyline fill=\"none\" stroke=\"black\" points=\"408,-495.5 408,-531.5 \"/>\n<text text-anchor=\"middle\" x=\"449\" y=\"-509.8\" font-family=\"Times,serif\" font-size=\"14.00\">grad 0.0000</text>\n</g>\n<!-- 140044156583312&#45;&gt;140044156729280* -->\n<g id=\"edge202\" class=\"edge\">\n<title>140044156583312&#45;&gt;140044156729280*</title>\n<path fill=\"none\" stroke=\"black\" d=\"M464.26,-531.64C472.97,-534.43 481.75,-537.41 490,-540.5 500.48,-544.42 511.69,-549.27 521.66,-553.83\"/>\n<polygon fill=\"black\" stroke=\"black\" points=\"520.23,-557.02 530.77,-558.07 523.18,-550.68 520.23,-557.02\"/>\n</g>\n<!-- 140044156992912 -->\n<g id=\"node184\" class=\"node\">\n<title>140044156992912</title>\n<polygon fill=\"none\" stroke=\"black\" points=\"3435.5,-306.5 3435.5,-342.5 3617.5,-342.5 3617.5,-306.5 3435.5,-306.5\"/>\n<text text-anchor=\"middle\" x=\"3445.5\" y=\"-320.8\" font-family=\"Times,serif\" font-size=\"14.00\"> </text>\n<polyline fill=\"none\" stroke=\"black\" points=\"3455.5,-306.5 3455.5,-342.5 \"/>\n<text text-anchor=\"middle\" x=\"3495.5\" y=\"-320.8\" font-family=\"Times,serif\" font-size=\"14.00\">data 0.3039</text>\n<polyline fill=\"none\" stroke=\"black\" points=\"3535.5,-306.5 3535.5,-342.5 \"/>\n<text text-anchor=\"middle\" x=\"3576.5\" y=\"-320.8\" font-family=\"Times,serif\" font-size=\"14.00\">grad 0.0000</text>\n</g>\n<!-- 140044156992912&#45;&gt;140044135009440* -->\n<g id=\"edge138\" class=\"edge\">\n<title>140044156992912&#45;&gt;140044135009440*</title>\n<path fill=\"none\" stroke=\"black\" d=\"M3591.91,-342.53C3601.37,-345.4 3610.97,-348.44 3620,-351.5 3629.82,-354.83 3640.38,-358.77 3649.95,-362.49\"/>\n<polygon fill=\"black\" stroke=\"black\" points=\"3648.91,-365.85 3659.49,-366.26 3651.47,-359.33 3648.91,-365.85\"/>\n</g>\n<!-- 140044156992912tanh&#45;&gt;140044156992912 -->\n<g id=\"edge67\" class=\"edge\">\n<title>140044156992912tanh&#45;&gt;140044156992912</title>\n<path fill=\"none\" stroke=\"black\" d=\"M3397.21,-324.5C3405.34,-324.5 3414.85,-324.5 3424.94,-324.5\"/>\n<polygon fill=\"black\" stroke=\"black\" points=\"3425.19,-328 3435.19,-324.5 3425.19,-321 3425.19,-328\"/>\n</g>\n<!-- 140044165995920 -->\n<g id=\"node186\" class=\"node\">\n<title>140044165995920</title>\n<polygon fill=\"none\" stroke=\"black\" points=\"1868,-495.5 1868,-531.5 2055,-531.5 2055,-495.5 1868,-495.5\"/>\n<text text-anchor=\"middle\" x=\"1878\" y=\"-509.8\" font-family=\"Times,serif\" font-size=\"14.00\"> </text>\n<polyline fill=\"none\" stroke=\"black\" points=\"1888,-495.5 1888,-531.5 \"/>\n<text text-anchor=\"middle\" x=\"1930.5\" y=\"-509.8\" font-family=\"Times,serif\" font-size=\"14.00\">data &#45;0.6472</text>\n<polyline fill=\"none\" stroke=\"black\" points=\"1973,-495.5 1973,-531.5 \"/>\n<text text-anchor=\"middle\" x=\"2014\" y=\"-509.8\" font-family=\"Times,serif\" font-size=\"14.00\">grad 0.0000</text>\n</g>\n<!-- 140044165995920&#45;&gt;140044165981808+ -->\n<g id=\"edge136\" class=\"edge\">\n<title>140044165995920&#45;&gt;140044165981808+</title>\n<path fill=\"none\" stroke=\"black\" d=\"M2055.05,-513.5C2064.06,-513.5 2072.79,-513.5 2080.7,-513.5\"/>\n<polygon fill=\"black\" stroke=\"black\" points=\"2080.95,-517 2090.95,-513.5 2080.95,-510 2080.95,-517\"/>\n</g>\n<!-- 140044165995920*&#45;&gt;140044165995920 -->\n<g id=\"edge68\" class=\"edge\">\n<title>140044165995920*&#45;&gt;140044165995920</title>\n<path fill=\"none\" stroke=\"black\" d=\"M1831.51,-536.04C1839.21,-534.7 1848.17,-533.13 1857.73,-531.46\"/>\n<polygon fill=\"black\" stroke=\"black\" points=\"1858.62,-534.86 1867.86,-529.69 1857.41,-527.96 1858.62,-534.86\"/>\n</g>\n<!-- 140044165996208 -->\n<g id=\"node188\" class=\"node\">\n<title>140044165996208</title>\n<polygon fill=\"none\" stroke=\"black\" points=\"1555,-0.5 1555,-36.5 1742,-36.5 1742,-0.5 1555,-0.5\"/>\n<text text-anchor=\"middle\" x=\"1565\" y=\"-14.8\" font-family=\"Times,serif\" font-size=\"14.00\"> </text>\n<polyline fill=\"none\" stroke=\"black\" points=\"1575,-0.5 1575,-36.5 \"/>\n<text text-anchor=\"middle\" x=\"1617.5\" y=\"-14.8\" font-family=\"Times,serif\" font-size=\"14.00\">data &#45;1.0000</text>\n<polyline fill=\"none\" stroke=\"black\" points=\"1660,-0.5 1660,-36.5 \"/>\n<text text-anchor=\"middle\" x=\"1701\" y=\"-14.8\" font-family=\"Times,serif\" font-size=\"14.00\">grad 0.0000</text>\n</g>\n<!-- 140044165996208&#45;&gt;140044165994384* -->\n<g id=\"edge74\" class=\"edge\">\n<title>140044165996208&#45;&gt;140044165994384*</title>\n<path fill=\"none\" stroke=\"black\" d=\"M1715.56,-36.55C1724.51,-39.36 1733.53,-42.37 1742,-45.5 1752.49,-49.38 1763.71,-54.22 1773.68,-58.78\"/>\n<polygon fill=\"black\" stroke=\"black\" points=\"1772.25,-61.98 1782.79,-63.03 1775.2,-55.63 1772.25,-61.98\"/>\n</g>\n<!-- 140046568898224 -->\n<g id=\"node189\" class=\"node\">\n<title>140046568898224</title>\n<polygon fill=\"none\" stroke=\"black\" points=\"1242,-440.5 1242,-476.5 1429,-476.5 1429,-440.5 1242,-440.5\"/>\n<text text-anchor=\"middle\" x=\"1252\" y=\"-454.8\" font-family=\"Times,serif\" font-size=\"14.00\"> </text>\n<polyline fill=\"none\" stroke=\"black\" points=\"1262,-440.5 1262,-476.5 \"/>\n<text text-anchor=\"middle\" x=\"1304.5\" y=\"-454.8\" font-family=\"Times,serif\" font-size=\"14.00\">data &#45;1.0000</text>\n<polyline fill=\"none\" stroke=\"black\" points=\"1347,-440.5 1347,-476.5 \"/>\n<text text-anchor=\"middle\" x=\"1388\" y=\"-454.8\" font-family=\"Times,serif\" font-size=\"14.00\">grad 0.0000</text>\n</g>\n<!-- 140046568898224&#45;&gt;140046568897936* -->\n<g id=\"edge191\" class=\"edge\">\n<title>140046568898224&#45;&gt;140046568897936*</title>\n<path fill=\"none\" stroke=\"black\" d=\"M1400.02,-440.35C1409.79,-437.24 1419.71,-433.92 1429,-430.5 1439.25,-426.73 1450.23,-422.14 1460.07,-417.82\"/>\n<polygon fill=\"black\" stroke=\"black\" points=\"1461.74,-420.9 1469.45,-413.63 1458.89,-414.51 1461.74,-420.9\"/>\n</g>\n<!-- 140044156731056 -->\n<g id=\"node190\" class=\"node\">\n<title>140044156731056</title>\n<polygon fill=\"none\" stroke=\"black\" points=\"931.5,-550.5 931.5,-586.5 1113.5,-586.5 1113.5,-550.5 931.5,-550.5\"/>\n<text text-anchor=\"middle\" x=\"941.5\" y=\"-564.8\" font-family=\"Times,serif\" font-size=\"14.00\"> </text>\n<polyline fill=\"none\" stroke=\"black\" points=\"951.5,-550.5 951.5,-586.5 \"/>\n<text text-anchor=\"middle\" x=\"991.5\" y=\"-564.8\" font-family=\"Times,serif\" font-size=\"14.00\">data 0.4013</text>\n<polyline fill=\"none\" stroke=\"black\" points=\"1031.5,-550.5 1031.5,-586.5 \"/>\n<text text-anchor=\"middle\" x=\"1072.5\" y=\"-564.8\" font-family=\"Times,serif\" font-size=\"14.00\">grad 0.0000</text>\n</g>\n<!-- 140044156731056&#45;&gt;140044156727744+ -->\n<g id=\"edge93\" class=\"edge\">\n<title>140044156731056&#45;&gt;140044156727744+</title>\n<path fill=\"none\" stroke=\"black\" d=\"M1113.82,-568.5C1123.57,-568.5 1133.04,-568.5 1141.57,-568.5\"/>\n<polygon fill=\"black\" stroke=\"black\" points=\"1141.83,-572 1151.83,-568.5 1141.83,-565 1141.83,-572\"/>\n</g>\n<!-- 140044156731056+&#45;&gt;140044156731056 -->\n<g id=\"edge69\" class=\"edge\">\n<title>140044156731056+&#45;&gt;140044156731056</title>\n<path fill=\"none\" stroke=\"black\" d=\"M893.21,-568.5C901.34,-568.5 910.85,-568.5 920.94,-568.5\"/>\n<polygon fill=\"black\" stroke=\"black\" points=\"921.19,-572 931.19,-568.5 921.19,-565 921.19,-572\"/>\n</g>\n<!-- 140044156731104 -->\n<g id=\"node192\" class=\"node\">\n<title>140044156731104</title>\n<polygon fill=\"none\" stroke=\"black\" points=\"1557.5,-715.5 1557.5,-751.5 1739.5,-751.5 1739.5,-715.5 1557.5,-715.5\"/>\n<text text-anchor=\"middle\" x=\"1567.5\" y=\"-729.8\" font-family=\"Times,serif\" font-size=\"14.00\"> </text>\n<polyline fill=\"none\" stroke=\"black\" points=\"1577.5,-715.5 1577.5,-751.5 \"/>\n<text text-anchor=\"middle\" x=\"1617.5\" y=\"-729.8\" font-family=\"Times,serif\" font-size=\"14.00\">data 0.9983</text>\n<polyline fill=\"none\" stroke=\"black\" points=\"1657.5,-715.5 1657.5,-751.5 \"/>\n<text text-anchor=\"middle\" x=\"1698.5\" y=\"-729.8\" font-family=\"Times,serif\" font-size=\"14.00\">grad 0.0000</text>\n</g>\n<!-- 140044156731104&#45;&gt;140044157094304* -->\n<g id=\"edge175\" class=\"edge\">\n<title>140044156731104&#45;&gt;140044157094304*</title>\n<path fill=\"none\" stroke=\"black\" d=\"M1729.19,-751.52C1733.77,-754.12 1738.09,-757.09 1742,-760.5 1759.44,-775.69 1782.23,-835.29 1794.75,-871.01\"/>\n<polygon fill=\"black\" stroke=\"black\" points=\"1791.57,-872.52 1798.15,-880.82 1798.19,-870.23 1791.57,-872.52\"/>\n</g>\n<!-- 140044156731104&#45;&gt;140046568593248* -->\n<g id=\"edge130\" class=\"edge\">\n<title>140044156731104&#45;&gt;140046568593248*</title>\n<path fill=\"none\" stroke=\"black\" d=\"M1679.25,-715.22C1700.44,-700.49 1727.61,-677.79 1742,-650.5 1799.27,-541.84 1755.85,-497.31 1778,-376.5 1783.19,-348.17 1790.98,-316.17 1796.67,-294.02\"/>\n<polygon fill=\"black\" stroke=\"black\" points=\"1800.08,-294.85 1799.21,-284.29 1793.3,-293.09 1800.08,-294.85\"/>\n</g>\n<!-- 140044156731104&#45;&gt;140044157057488* -->\n<g id=\"edge153\" class=\"edge\">\n<title>140044156731104&#45;&gt;140044157057488*</title>\n<path fill=\"none\" stroke=\"black\" d=\"M1715.56,-751.55C1724.51,-754.36 1733.53,-757.37 1742,-760.5 1752.49,-764.38 1763.71,-769.22 1773.68,-773.78\"/>\n<polygon fill=\"black\" stroke=\"black\" points=\"1772.25,-776.98 1782.79,-778.03 1775.2,-770.63 1772.25,-776.98\"/>\n</g>\n<!-- 140044156731104&#45;&gt;140044165995920* -->\n<g id=\"edge83\" class=\"edge\">\n<title>140044156731104&#45;&gt;140044165995920*</title>\n<path fill=\"none\" stroke=\"black\" d=\"M1673.92,-715.26C1693.84,-699.58 1721.88,-675.57 1742,-650.5 1762.89,-624.47 1780.86,-590.5 1792,-567.23\"/>\n<polygon fill=\"black\" stroke=\"black\" points=\"1795.26,-568.51 1796.34,-557.97 1788.93,-565.54 1795.26,-568.51\"/>\n</g>\n<!-- 140044156731104tanh&#45;&gt;140044156731104 -->\n<g id=\"edge70\" class=\"edge\">\n<title>140044156731104tanh&#45;&gt;140044156731104</title>\n<path fill=\"none\" stroke=\"black\" d=\"M1519.21,-733.5C1527.34,-733.5 1536.85,-733.5 1546.94,-733.5\"/>\n<polygon fill=\"black\" stroke=\"black\" points=\"1547.19,-737 1557.19,-733.5 1547.19,-730 1547.19,-737\"/>\n</g>\n<!-- 140046568701712 -->\n<g id=\"node194\" class=\"node\">\n<title>140046568701712</title>\n<polygon fill=\"none\" stroke=\"black\" points=\"1555,-165.5 1555,-201.5 1742,-201.5 1742,-165.5 1555,-165.5\"/>\n<text text-anchor=\"middle\" x=\"1565\" y=\"-179.8\" font-family=\"Times,serif\" font-size=\"14.00\"> </text>\n<polyline fill=\"none\" stroke=\"black\" points=\"1575,-165.5 1575,-201.5 \"/>\n<text text-anchor=\"middle\" x=\"1617.5\" y=\"-179.8\" font-family=\"Times,serif\" font-size=\"14.00\">data &#45;1.7266</text>\n<polyline fill=\"none\" stroke=\"black\" points=\"1660,-165.5 1660,-201.5 \"/>\n<text text-anchor=\"middle\" x=\"1701\" y=\"-179.8\" font-family=\"Times,serif\" font-size=\"14.00\">grad 0.0000</text>\n</g>\n<!-- 140046568701712&#45;&gt;140044165994336+ -->\n<g id=\"edge196\" class=\"edge\">\n<title>140046568701712&#45;&gt;140044165994336+</title>\n<path fill=\"none\" stroke=\"black\" d=\"M1713.02,-165.35C1722.79,-162.24 1732.71,-158.92 1742,-155.5 1752.25,-151.73 1763.23,-147.14 1773.07,-142.82\"/>\n<polygon fill=\"black\" stroke=\"black\" points=\"1774.74,-145.9 1782.45,-138.63 1771.89,-139.51 1774.74,-145.9\"/>\n</g>\n<!-- 140046568701712*&#45;&gt;140046568701712 -->\n<g id=\"edge71\" class=\"edge\">\n<title>140046568701712*&#45;&gt;140046568701712</title>\n<path fill=\"none\" stroke=\"black\" d=\"M1519.21,-183.5C1526.73,-183.5 1535.43,-183.5 1544.67,-183.5\"/>\n<polygon fill=\"black\" stroke=\"black\" points=\"1544.89,-187 1554.89,-183.5 1544.89,-180 1544.89,-187\"/>\n</g>\n<!-- 140044156731248 -->\n<g id=\"node196\" class=\"node\">\n<title>140044156731248</title>\n<polygon fill=\"none\" stroke=\"black\" points=\"929,-495.5 929,-531.5 1116,-531.5 1116,-495.5 929,-495.5\"/>\n<text text-anchor=\"middle\" x=\"939\" y=\"-509.8\" font-family=\"Times,serif\" font-size=\"14.00\"> </text>\n<polyline fill=\"none\" stroke=\"black\" points=\"949,-495.5 949,-531.5 \"/>\n<text text-anchor=\"middle\" x=\"991.5\" y=\"-509.8\" font-family=\"Times,serif\" font-size=\"14.00\">data &#45;2.1115</text>\n<polyline fill=\"none\" stroke=\"black\" points=\"1034,-495.5 1034,-531.5 \"/>\n<text text-anchor=\"middle\" x=\"1075\" y=\"-509.8\" font-family=\"Times,serif\" font-size=\"14.00\">grad 0.0000</text>\n</g>\n<!-- 140044156731248&#45;&gt;140044156727744+ -->\n<g id=\"edge186\" class=\"edge\">\n<title>140044156731248&#45;&gt;140044156727744+</title>\n<path fill=\"none\" stroke=\"black\" d=\"M1089.56,-531.55C1098.51,-534.36 1107.53,-537.37 1116,-540.5 1126.49,-544.38 1137.71,-549.22 1147.68,-553.78\"/>\n<polygon fill=\"black\" stroke=\"black\" points=\"1146.25,-556.98 1156.79,-558.03 1149.2,-550.63 1146.25,-556.98\"/>\n</g>\n<!-- 140044156731248*&#45;&gt;140044156731248 -->\n<g id=\"edge72\" class=\"edge\">\n<title>140044156731248*&#45;&gt;140044156731248</title>\n<path fill=\"none\" stroke=\"black\" d=\"M893.21,-513.5C900.73,-513.5 909.43,-513.5 918.67,-513.5\"/>\n<polygon fill=\"black\" stroke=\"black\" points=\"918.89,-517 928.89,-513.5 918.89,-510 918.89,-517\"/>\n</g>\n<!-- 140044156731344 -->\n<g id=\"node198\" class=\"node\">\n<title>140044156731344</title>\n<polygon fill=\"none\" stroke=\"black\" points=\"1868,-605.5 1868,-641.5 2055,-641.5 2055,-605.5 1868,-605.5\"/>\n<text text-anchor=\"middle\" x=\"1878\" y=\"-619.8\" font-family=\"Times,serif\" font-size=\"14.00\"> </text>\n<polyline fill=\"none\" stroke=\"black\" points=\"1888,-605.5 1888,-641.5 \"/>\n<text text-anchor=\"middle\" x=\"1930.5\" y=\"-619.8\" font-family=\"Times,serif\" font-size=\"14.00\">data &#45;0.9850</text>\n<polyline fill=\"none\" stroke=\"black\" points=\"1973,-605.5 1973,-641.5 \"/>\n<text text-anchor=\"middle\" x=\"2014\" y=\"-619.8\" font-family=\"Times,serif\" font-size=\"14.00\">grad 0.0000</text>\n</g>\n<!-- 140044156731344&#45;&gt;140044165982576* -->\n<g id=\"edge159\" class=\"edge\">\n<title>140044156731344&#45;&gt;140044165982576*</title>\n<path fill=\"none\" stroke=\"black\" d=\"M2026.02,-605.35C2035.79,-602.24 2045.71,-598.92 2055,-595.5 2065.25,-591.73 2076.23,-587.14 2086.07,-582.82\"/>\n<polygon fill=\"black\" stroke=\"black\" points=\"2087.74,-585.9 2095.45,-578.63 2084.89,-579.51 2087.74,-585.9\"/>\n</g>\n<!-- 140044156731344&#45;&gt;140046568434512* -->\n<g id=\"edge158\" class=\"edge\">\n<title>140044156731344&#45;&gt;140046568434512*</title>\n<path fill=\"none\" stroke=\"black\" d=\"M2040.23,-641.56C2045.44,-644.15 2050.43,-647.11 2055,-650.5 2078.47,-667.89 2073,-682.49 2091,-705.5 2092.4,-707.28 2093.88,-709.09 2095.41,-710.88\"/>\n<polygon fill=\"black\" stroke=\"black\" points=\"2092.94,-713.37 2102.21,-718.51 2098.17,-708.72 2092.94,-713.37\"/>\n</g>\n<!-- 140044156731344&#45;&gt;140044156669760* -->\n<g id=\"edge118\" class=\"edge\">\n<title>140044156731344&#45;&gt;140044156669760*</title>\n<path fill=\"none\" stroke=\"black\" d=\"M2028.56,-641.55C2037.51,-644.36 2046.53,-647.37 2055,-650.5 2065.49,-654.38 2076.71,-659.22 2086.68,-663.78\"/>\n<polygon fill=\"black\" stroke=\"black\" points=\"2085.25,-666.98 2095.79,-668.03 2088.2,-660.63 2085.25,-666.98\"/>\n</g>\n<!-- 140044156731344&#45;&gt;140046568591952* -->\n<g id=\"edge184\" class=\"edge\">\n<title>140044156731344&#45;&gt;140046568591952*</title>\n<path fill=\"none\" stroke=\"black\" d=\"M2043.73,-605.41C2047.87,-602.57 2051.68,-599.28 2055,-595.5 2120.03,-521.34 2055.88,-468.68 2091,-376.5 2093.15,-370.85 2096.14,-365.14 2099.33,-359.86\"/>\n<polygon fill=\"black\" stroke=\"black\" points=\"2102.28,-361.75 2104.77,-351.45 2096.4,-357.95 2102.28,-361.75\"/>\n</g>\n<!-- 140044156731344tanh&#45;&gt;140044156731344 -->\n<g id=\"edge73\" class=\"edge\">\n<title>140044156731344tanh&#45;&gt;140044156731344</title>\n<path fill=\"none\" stroke=\"black\" d=\"M1832.21,-623.5C1839.73,-623.5 1848.43,-623.5 1857.67,-623.5\"/>\n<polygon fill=\"black\" stroke=\"black\" points=\"1857.89,-627 1867.89,-623.5 1857.89,-620 1857.89,-627\"/>\n</g>\n</g>\n</svg>\n"
          },
          "metadata": {},
          "execution_count": 72
        }
      ]
    },
    {
      "cell_type": "code",
      "source": [
        "#woahhhhhhhhh....self_note : this is magic and so interesting"
      ],
      "metadata": {
        "id": "_heBQ5Qzr07W"
      },
      "execution_count": 73,
      "outputs": []
    },
    {
      "cell_type": "code",
      "source": [
        "xs = [\n",
        "  [2.0, 3.0, -1.0],\n",
        "  [3.0, -1.0, 0.5],\n",
        "  [0.5, 1.0, 1.0],\n",
        "  [1.0, 1.0, -1.0],\n",
        "]\n",
        "ys = [1.0, -1.0, -1.0, 1.0] # desired targets\n",
        "\n",
        "#binary classification mini problem"
      ],
      "metadata": {
        "id": "BP0uTja-r05p"
      },
      "execution_count": 97,
      "outputs": []
    },
    {
      "cell_type": "code",
      "source": [
        "ypred = [n(x) for x in xs]\n",
        "ypred"
      ],
      "metadata": {
        "colab": {
          "base_uri": "https://localhost:8080/"
        },
        "id": "lnNnJ8eiyoUN",
        "outputId": "e7f96676-1963-43fa-850f-2a7d10edabfd"
      },
      "execution_count": 98,
      "outputs": [
        {
          "output_type": "execute_result",
          "data": {
            "text/plain": [
              "[Value( data = 0.7800871807028732),\n",
              " Value( data = -0.21771486445555177),\n",
              " Value( data = 0.12461764901761574),\n",
              " Value( data = 0.6734380104506256)]"
            ]
          },
          "metadata": {},
          "execution_count": 98
        }
      ]
    },
    {
      "cell_type": "code",
      "source": [
        "# # [(x,y) for x,y in zip(ypred, ys)]\n",
        "# loss = sum[(yout - ygt)**2 for ygt, yout in zip(ys, ypred) , Value(0.0)]\n",
        "# loss"
      ],
      "metadata": {
        "id": "jVqvANI1yoQ5"
      },
      "execution_count": 99,
      "outputs": []
    },
    {
      "cell_type": "code",
      "source": [
        "#training the model\n",
        "\n",
        "for k in range(20):\n",
        "  #forward pass\n",
        "  ypred = [n(x) for x in xs]\n",
        "  loss = sum(((yout - ygt)**2 for ygt, yout in zip(ys, ypred)) , Value(0.0))\n",
        "\n",
        "  #backward and before it setting gradients to zero\n",
        "  for p in n.parameters():\n",
        "    p.grad = 0\n",
        "  loss.backward()\n",
        "\n",
        "  #nudgin the parameters\n",
        "  for p in n.parameters():\n",
        "    p.data += -0.05 * p.grad\n",
        "  \n",
        "  print(k , loss.data)"
      ],
      "metadata": {
        "colab": {
          "base_uri": "https://localhost:8080/"
        },
        "id": "mgj-GCzTK2rx",
        "outputId": "7b2d8706-addf-4fbf-bbbf-8228a449ba92"
      },
      "execution_count": 111,
      "outputs": [
        {
          "output_type": "stream",
          "name": "stdout",
          "text": [
            "0 0.028209198900313204\n",
            "1 0.026686158594838666\n",
            "2 0.025310815414184465\n",
            "3 0.024063165135748694\n",
            "4 0.022926612382775036\n",
            "5 0.021887280525574683\n",
            "6 0.02093348165672641\n",
            "7 0.020055305138699735\n",
            "8 0.019244295034497\n",
            "9 0.01849319490314601\n",
            "10 0.017795744174753145\n",
            "11 0.017146514394886507\n",
            "12 0.016540776560084146\n",
            "13 0.01597439289988198\n",
            "14 0.015443728029834828\n",
            "15 0.01494557556538502\n",
            "16 0.014477097160040149\n",
            "17 0.014035771591936513\n",
            "18 0.013619352026527566\n",
            "19 0.013225829970118872\n"
          ]
        }
      ]
    },
    {
      "cell_type": "code",
      "source": [
        "ypred #our predictions get so close"
      ],
      "metadata": {
        "colab": {
          "base_uri": "https://localhost:8080/"
        },
        "id": "4u9R3shOMtYm",
        "outputId": "a3ab4e25-bc18-4d28-a75f-21be4ddc7000"
      },
      "execution_count": 112,
      "outputs": [
        {
          "output_type": "execute_result",
          "data": {
            "text/plain": [
              "[Value( data = 0.9699757362864811),\n",
              " Value( data = -0.9544449007576903),\n",
              " Value( data = -0.9279783777448452),\n",
              " Value( data = 0.9288523196489229)]"
            ]
          },
          "metadata": {},
          "execution_count": 112
        }
      ]
    },
    {
      "cell_type": "code",
      "source": [
        "# loss = sum(((yout - ygt)**2 for ygt, yout in zip(ys, ypred)) , Value(0.0)) # sum(any value , int(0)) now this will give an error unless you make it sum([] , Value(0.0))\n",
        "# loss"
      ],
      "metadata": {
        "id": "UwapTQHzyoPB"
      },
      "execution_count": 101,
      "outputs": []
    },
    {
      "cell_type": "code",
      "source": [
        "# loss = sum(((yout - ygt)**2 for ygt, yout in zip(ys, ypred)) , Value(0.0)) # sum(any value , int(0)) now this will give an error unless you make it sum([] , Value(0.0))\n",
        "# loss"
      ],
      "metadata": {
        "id": "Yxi78Ae6IbYN"
      },
      "execution_count": 102,
      "outputs": []
    },
    {
      "cell_type": "code",
      "source": [
        "# draw_dot(loss)"
      ],
      "metadata": {
        "id": "8pK4i8fgyoM8"
      },
      "execution_count": 89,
      "outputs": []
    },
    {
      "cell_type": "code",
      "source": [
        "# loss.backward()"
      ],
      "metadata": {
        "id": "bUjLJngdyoJt"
      },
      "execution_count": 103,
      "outputs": []
    },
    {
      "cell_type": "code",
      "source": [
        "# n.layers[0].neurons[0].w[0].grad"
      ],
      "metadata": {
        "id": "RSH3XaqqGEIT"
      },
      "execution_count": 104,
      "outputs": []
    },
    {
      "cell_type": "code",
      "source": [
        "# n.layers[0].neurons[0].w[0].data"
      ],
      "metadata": {
        "id": "gNULeLBjIBd5"
      },
      "execution_count": 105,
      "outputs": []
    },
    {
      "cell_type": "code",
      "source": [
        "# n.parameters()"
      ],
      "metadata": {
        "id": "qELUI4S7GEW8"
      },
      "execution_count": 106,
      "outputs": []
    },
    {
      "cell_type": "code",
      "source": [
        "# for p in n.parameters():\n",
        "#   p.data += -0.01 * p.grad"
      ],
      "metadata": {
        "id": "209NX8GxGElq"
      },
      "execution_count": 107,
      "outputs": []
    },
    {
      "cell_type": "code",
      "source": [
        "# plt.plot(np.arange(-5,5,0.2), np.tanh(np.arange(-5,5,0.2))) ;  plt.grid()"
      ],
      "metadata": {
        "id": "hQIm64j8r01x"
      },
      "execution_count": 108,
      "outputs": []
    },
    {
      "cell_type": "code",
      "source": [],
      "metadata": {
        "id": "Hp2u3GzXr0zx"
      },
      "execution_count": 65,
      "outputs": []
    }
  ]
}